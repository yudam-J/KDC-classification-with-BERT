{
  "cells": [
    {
      "cell_type": "markdown",
      "metadata": {
        "id": "view-in-github",
        "colab_type": "text"
      },
      "source": [
        "<a href=\"https://colab.research.google.com/github/yudam-J/KDC-classification-with-BERT/blob/main/KDC_classification(KoBERT_%EC%B5%9C%EC%86%8C%EB%A0%88%EC%BD%94%EB%93%9C_25_2_13).ipynb\" target=\"_parent\"><img src=\"https://colab.research.google.com/assets/colab-badge.svg\" alt=\"Open In Colab\"/></a>"
      ]
    },
    {
      "cell_type": "markdown",
      "metadata": {
        "id": "Mu9IBgSsebW4"
      },
      "source": [
        "# 0. Functions & Module Import"
      ]
    },
    {
      "cell_type": "code",
      "execution_count": 1,
      "metadata": {
        "id": "u_wqE4EtdUB3"
      },
      "outputs": [],
      "source": [
        "import pandas as pd\n",
        "import os\n",
        "import sys\n",
        "import urllib.request\n",
        "import json\n",
        "import re\n",
        "import numpy as np\n",
        "from google.colab import drive\n",
        "from glob import glob\n",
        "\n",
        "# drive.mount('/content/drive/')\n",
        "# os.chdir('/content/drive/MyDrive/work_dir')\n",
        "\n",
        "pd.set_option('display.float_format', '{:.0f}'.format)"
      ]
    },
    {
      "cell_type": "code",
      "source": [
        "combined_df = pd.read_csv('/content/kdc_data.csv', low_memory=False)"
      ],
      "metadata": {
        "id": "Helaxx6eGK8T"
      },
      "execution_count": 4,
      "outputs": []
    },
    {
      "cell_type": "markdown",
      "metadata": {
        "id": "npJT05PkeYim"
      },
      "source": [
        "#Data Preprocessing"
      ]
    },
    {
      "cell_type": "markdown",
      "metadata": {
        "id": "OXl0KLBWfOAL"
      },
      "source": [
        "## (1) Data Load and Combine"
      ]
    },
    {
      "cell_type": "code",
      "execution_count": null,
      "metadata": {
        "colab": {
          "base_uri": "https://localhost:8080/"
        },
        "id": "blC7faRF9jNe",
        "outputId": "76e4b531-41d7-4774-d1f6-433849c00b9a"
      },
      "outputs": [
        {
          "output_type": "stream",
          "name": "stderr",
          "text": [
            "<ipython-input-4-15d402cc761f>:9: DtypeWarning: Columns (6,11,17) have mixed types. Specify dtype option on import or set low_memory=False.\n",
            "  df = pd.read_csv(file)\n",
            "<ipython-input-4-15d402cc761f>:9: DtypeWarning: Columns (7,11) have mixed types. Specify dtype option on import or set low_memory=False.\n",
            "  df = pd.read_csv(file)\n",
            "<ipython-input-4-15d402cc761f>:9: DtypeWarning: Columns (6,17) have mixed types. Specify dtype option on import or set low_memory=False.\n",
            "  df = pd.read_csv(file)\n",
            "<ipython-input-4-15d402cc761f>:9: DtypeWarning: Columns (11,17) have mixed types. Specify dtype option on import or set low_memory=False.\n",
            "  df = pd.read_csv(file)\n",
            "<ipython-input-4-15d402cc761f>:9: DtypeWarning: Columns (1,6,7,9,10,11,12,13,14,17) have mixed types. Specify dtype option on import or set low_memory=False.\n",
            "  df = pd.read_csv(file)\n",
            "<ipython-input-4-15d402cc761f>:9: DtypeWarning: Columns (1,7,10,11,12,13,17) have mixed types. Specify dtype option on import or set low_memory=False.\n",
            "  df = pd.read_csv(file)\n",
            "<ipython-input-4-15d402cc761f>:9: DtypeWarning: Columns (6,7,11,17) have mixed types. Specify dtype option on import or set low_memory=False.\n",
            "  df = pd.read_csv(file)\n",
            "<ipython-input-4-15d402cc761f>:9: DtypeWarning: Columns (6,7,11,17) have mixed types. Specify dtype option on import or set low_memory=False.\n",
            "  df = pd.read_csv(file)\n",
            "<ipython-input-4-15d402cc761f>:9: DtypeWarning: Columns (11) have mixed types. Specify dtype option on import or set low_memory=False.\n",
            "  df = pd.read_csv(file)\n",
            "<ipython-input-4-15d402cc761f>:9: DtypeWarning: Columns (2,6,7,9,10,11,14,17) have mixed types. Specify dtype option on import or set low_memory=False.\n",
            "  df = pd.read_csv(file)\n",
            "<ipython-input-4-15d402cc761f>:9: DtypeWarning: Columns (7,17) have mixed types. Specify dtype option on import or set low_memory=False.\n",
            "  df = pd.read_csv(file)\n",
            "<ipython-input-4-15d402cc761f>:9: DtypeWarning: Columns (7) have mixed types. Specify dtype option on import or set low_memory=False.\n",
            "  df = pd.read_csv(file)\n"
          ]
        }
      ],
      "source": [
        "\"\"\"\n",
        "지정된 경로의 파일을 불러와 하나의 데이터프레임으로 병합합니다.\n",
        "\"\"\"\n",
        "csv_files = glob(os.path.join('/content/drive/MyDrive/work_dir', \"NL_BO_SPECIES_MASTER_NEW*.csv\"))\n",
        "\n",
        "# 각 파일을 읽고 리스트에 추가하여 병합\n",
        "dataframes = []\n",
        "for file in csv_files:\n",
        "    df = pd.read_csv(file)\n",
        "    dataframes.append(df)\n",
        "\n",
        "# 모든 데이터를 하나의 데이터프레임으로 결합\n",
        "df_2 = pd.concat(dataframes, ignore_index=True)"
      ]
    },
    {
      "cell_type": "code",
      "execution_count": null,
      "metadata": {
        "colab": {
          "base_uri": "https://localhost:8080/"
        },
        "id": "Ta-2G18M_Sfg",
        "outputId": "3027e033-90b0-41e8-8334-382554e27346"
      },
      "outputs": [
        {
          "output_type": "execute_result",
          "data": {
            "text/plain": [
              "Index(['SEQ_NO', 'ISBN_THIRTEEN_NO', 'VLM_NM', 'TITLE_NM', 'AUTHR_NM',\n",
              "       'PUBLISHER_NM', 'PBLICTE_DE', 'ADTION_SMBL_NM', 'PRC_VALUE',\n",
              "       'IMAGE_URL', 'BOOK_INTRCN_CN', 'KDC_NM', 'TITLE_SBST_NM',\n",
              "       'AUTHR_SBST_NM', 'TWO_PBLICTE_DE', 'INTNT_BOOKST_BOOK_EXST_AT',\n",
              "       'PORTAL_SITE_BOOK_EXST_AT', 'ISBN_NO'],\n",
              "      dtype='object')"
            ]
          },
          "metadata": {},
          "execution_count": 5
        }
      ],
      "source": [
        "df_2.columns"
      ]
    },
    {
      "cell_type": "code",
      "execution_count": null,
      "metadata": {
        "id": "0KTEh97AAdz_"
      },
      "outputs": [],
      "source": [
        "df_2 = df_2[[\"TITLE_NM\", \"ISBN_THIRTEEN_NO\", \"BOOK_INTRCN_CN\", \"KDC_NM\"]]"
      ]
    },
    {
      "cell_type": "code",
      "execution_count": null,
      "metadata": {
        "colab": {
          "base_uri": "https://localhost:8080/"
        },
        "id": "06uYMduLAlbD",
        "outputId": "0545c6ec-e05a-4272-bf83-05208f6f81fa"
      },
      "outputs": [
        {
          "output_type": "stream",
          "name": "stdout",
          "text": [
            "TITLE_NM                  0\n",
            "ISBN_THIRTEEN_NO          0\n",
            "BOOK_INTRCN_CN      1392396\n",
            "KDC_NM                    0\n",
            "dtype: int64\n"
          ]
        }
      ],
      "source": [
        "df_2 = df_2.dropna(subset=['KDC_NM'])\n",
        "nan_count_per_column = df_2.isna().sum()\n",
        "print(nan_count_per_column)"
      ]
    },
    {
      "cell_type": "code",
      "execution_count": null,
      "metadata": {
        "colab": {
          "base_uri": "https://localhost:8080/"
        },
        "id": "gK-RK0FIAxaY",
        "outputId": "04c476ed-2692-49da-e054-0a65ab1f93d1"
      },
      "outputs": [
        {
          "output_type": "stream",
          "name": "stdout",
          "text": [
            "TITLE_NM            0\n",
            "ISBN_THIRTEEN_NO    0\n",
            "BOOK_INTRCN_CN      0\n",
            "KDC_NM              0\n",
            "dtype: int64\n"
          ]
        }
      ],
      "source": [
        "df_2 = df_2.dropna(subset=['BOOK_INTRCN_CN'])\n",
        "nan_count_per_column = df_2.isna().sum()\n",
        "print(nan_count_per_column)"
      ]
    },
    {
      "cell_type": "code",
      "execution_count": null,
      "metadata": {
        "colab": {
          "base_uri": "https://localhost:8080/"
        },
        "id": "vzwQuAzfA1ur",
        "outputId": "3eb4940c-314b-4fe2-a4ea-a4107abfd996"
      },
      "outputs": [
        {
          "output_type": "execute_result",
          "data": {
            "text/plain": [
              "(1050904, 4)"
            ]
          },
          "metadata": {},
          "execution_count": 9
        }
      ],
      "source": [
        "df_2.shape"
      ]
    },
    {
      "cell_type": "code",
      "execution_count": null,
      "metadata": {
        "colab": {
          "base_uri": "https://localhost:8080/"
        },
        "id": "VSASYbSCBYqS",
        "outputId": "2904386f-3102-4301-dab5-66af00374b16"
      },
      "outputs": [
        {
          "output_type": "execute_result",
          "data": {
            "text/plain": [
              "(860476, 4)"
            ]
          },
          "metadata": {},
          "execution_count": 10
        }
      ],
      "source": [
        "df_2 = df_2.drop_duplicates(subset=['ISBN_THIRTEEN_NO'])\n",
        "df_2.shape"
      ]
    },
    {
      "cell_type": "code",
      "execution_count": null,
      "metadata": {
        "colab": {
          "base_uri": "https://localhost:8080/"
        },
        "id": "3btFl_oBBooI",
        "outputId": "840afe01-4536-4a41-ff88-3bc56b3ad52f"
      },
      "outputs": [
        {
          "output_type": "stream",
          "name": "stdout",
          "text": [
            "BOOK_INTRCN_CN\n",
            "[해외주문원서] 고객님의 요청으로 수입 주문하는 도서이므로, 주문취소 및 반품이 불가합니다. (단, 재고부족인 경우는 가능)                                                                                                                 4966\n",
            "이 책은 해당 분야 전공자들을 위한 교재 겸 전문서이다.                                                                                                                                                        255\n",
            "▶ 이 책은 영어로 구성되어 있습니다.                                                                                                                                                                  208\n",
            "어린이들을 위한 음악교재이다. 어린이들이 쉽게 따라할 수 있도록 구성되어 있다.                                                                                                                                           199\n",
            "명문대 선정 세계문학 시리즈. 우리 나라의 대표적인 아동문학가들이 초등학교 아이들이 읽기에 알맞은 작품을 선정, 다듬어 실었다. 또 책 뒤에는 명문대학 국문과 교수들이 해설한 작가의 작품론과 철학과 교수들이 출제한 논술 길잡이를 수록했다.                                                  142\n",
            "                                                                                                                                                                                      ... \n",
            "대기과학, 환경과학, 지구과학을 공부하는 학생들과 이 분야에 관심을 가진 전문인 및 일반인들을 위한『환경대기과학』. 이 책은 일반 대기과학과 환경과학에 있는 주요 개념과 최근에 날로 관심이 증가하고 있는 기상ㆍ기후정보의 이용에 대한 내용을 기반으로 하여 짧은 시간에 대기과학의 주요 개념을 쉽게...                  2\n",
            "현대사회 속에서 파멸되는 인간현실을 원초적 의식으로 파헤치면서 인간성의 회복을 추구해온 작가 유익서의 장편소설. 작가의 예술가로서의 신념과 회의, 그리고 '세 발 까마귀'로 상징되는 궁극적 회복을 형상화한 소설이다.                                                                 2\n",
            "낮에는 중학교 미술선생님으로, 밤에는 만화가로서 고군분투해온 신의철의 &lt;스쿨홀릭&gt; 세 번째 이야기. 3권에서는 선생님들의 숨은 세계를 다룬 '선생님들의 세계'편과 신쌤의 학창시절을 다룬 '신 선생의 실체'편, 그리고 우리들에게 가장 많은 추억이 담긴 '시험 그리고 방학'편 등 총 66편의 에피소드를 담았다.       2\n",
            "무선설비.전파전자기사 시험에 대비, 기초이론과 문제.해설로 엮었다.                                                                                                                                                    2\n",
            "2013년 &lt;사이공 나이트&gt;로 제9회 세계문학상 우수상을 수상하며 무서운 신예로 떠오른 작가 정민의 두 번째 장편소설. 벤처 열풍이 불던 시기의 서울 강남을 배경으로 원대한 실험과 타락한 욕망이 교차하는 대한민국의 낮과 밤을 적나라하게 그리고 있다.                                        2\n",
            "Name: count, Length: 67071, dtype: int64\n"
          ]
        }
      ],
      "source": [
        "duplicate_counts = df_2['BOOK_INTRCN_CN'].value_counts()\n",
        "# 중복된 값만 필터링 (2번 이상 나타나는 값)\n",
        "duplicates = duplicate_counts[duplicate_counts > 1]\n",
        "\n",
        "print(duplicates)"
      ]
    },
    {
      "cell_type": "code",
      "execution_count": null,
      "metadata": {
        "colab": {
          "base_uri": "https://localhost:8080/"
        },
        "id": "vCbpGc-QFdem",
        "outputId": "43138a35-978f-4a89-d6ef-db45ea442fcf"
      },
      "outputs": [
        {
          "output_type": "execute_result",
          "data": {
            "text/plain": [
              "(855510, 4)"
            ]
          },
          "metadata": {},
          "execution_count": 12
        }
      ],
      "source": [
        "# 삭제할 행을 찾기 위한 조건 설정\n",
        "df_2 = df_2[df_2['BOOK_INTRCN_CN'] != \"[해외주문원서] 고객님의 요청으로 수입 주문하는 도서이므로, 주문취소 및 반품이 불가합니다. (단, 재고부족인 경우는 가능)\"]\n",
        "df_2.shape"
      ]
    },
    {
      "cell_type": "code",
      "execution_count": null,
      "metadata": {
        "id": "Q3C_cGgFGW54",
        "colab": {
          "base_uri": "https://localhost:8080/"
        },
        "outputId": "98a42e22-2a87-48c9-c2b0-4e5bd5ea000d"
      },
      "outputs": [
        {
          "output_type": "stream",
          "name": "stderr",
          "text": [
            "<ipython-input-13-64fb631bd86b>:1: SettingWithCopyWarning: \n",
            "A value is trying to be set on a copy of a slice from a DataFrame\n",
            "\n",
            "See the caveats in the documentation: https://pandas.pydata.org/pandas-docs/stable/user_guide/indexing.html#returning-a-view-versus-a-copy\n",
            "  df_2.rename(columns={\"BOOK_INTRCN_CN\": \"description\"}, inplace=True)\n"
          ]
        }
      ],
      "source": [
        "df_2.rename(columns={\"BOOK_INTRCN_CN\": \"description\"}, inplace=True)"
      ]
    },
    {
      "cell_type": "code",
      "execution_count": null,
      "metadata": {
        "colab": {
          "base_uri": "https://localhost:8080/"
        },
        "id": "u6kzhenzFJv6",
        "outputId": "09869a72-90f3-4c43-c47c-a8cd0625dcda"
      },
      "outputs": [
        {
          "output_type": "execute_result",
          "data": {
            "text/plain": [
              "Index(['TITLE_NM', 'ISBN_THIRTEEN_NO', 'description', 'KDC_NM'], dtype='object')"
            ]
          },
          "metadata": {},
          "execution_count": 14
        }
      ],
      "source": [
        "df_2.columns"
      ]
    },
    {
      "cell_type": "code",
      "execution_count": null,
      "metadata": {
        "colab": {
          "base_uri": "https://localhost:8080/"
        },
        "id": "0YX2yhOWFQPA",
        "outputId": "1f680846-81d8-490a-e755-61c41b37b2a3"
      },
      "outputs": [
        {
          "output_type": "execute_result",
          "data": {
            "text/plain": [
              "Index(['SEQ_NO', 'ISBN_THIRTEEN_NO', 'VLM_NM', 'TITLE_NM', 'AUTHR_NM',\n",
              "       'PUBLISHER_NM', 'PBLICTE_DE', 'ADTION_SMBL_NM', 'PRC_VALUE',\n",
              "       'IMAGE_URL', 'BOOK_INTRCN_CN', 'KDC_NM', 'TITLE_SBST_NM',\n",
              "       'AUTHR_SBST_NM', 'TWO_PBLICTE_DE', 'INTNT_BOOKST_BOOK_EXST_AT',\n",
              "       'PORTAL_SITE_BOOK_EXST_AT', 'ISBN_NO'],\n",
              "      dtype='object')"
            ]
          },
          "metadata": {},
          "execution_count": 15
        }
      ],
      "source": [
        "df.columns"
      ]
    },
    {
      "cell_type": "code",
      "execution_count": null,
      "metadata": {
        "colab": {
          "base_uri": "https://localhost:8080/"
        },
        "id": "NxT2mCbibWzN",
        "outputId": "473e0761-025a-4e7a-e8f7-eac3cda00a36"
      },
      "outputs": [
        {
          "output_type": "stream",
          "name": "stdout",
          "text": [
            "Requirement already satisfied: transformers in /usr/local/lib/python3.11/dist-packages (4.48.2)\n",
            "Requirement already satisfied: torch in /usr/local/lib/python3.11/dist-packages (2.1.0)\n",
            "Requirement already satisfied: filelock in /usr/local/lib/python3.11/dist-packages (from transformers) (3.17.0)\n",
            "Requirement already satisfied: huggingface-hub<1.0,>=0.24.0 in /usr/local/lib/python3.11/dist-packages (from transformers) (0.28.1)\n",
            "Requirement already satisfied: numpy>=1.17 in /usr/local/lib/python3.11/dist-packages (from transformers) (1.26.4)\n",
            "Requirement already satisfied: packaging>=20.0 in /usr/local/lib/python3.11/dist-packages (from transformers) (24.2)\n",
            "Requirement already satisfied: pyyaml>=5.1 in /usr/local/lib/python3.11/dist-packages (from transformers) (6.0.2)\n",
            "Requirement already satisfied: regex!=2019.12.17 in /usr/local/lib/python3.11/dist-packages (from transformers) (2024.11.6)\n",
            "Requirement already satisfied: requests in /usr/local/lib/python3.11/dist-packages (from transformers) (2.32.3)\n",
            "Requirement already satisfied: tokenizers<0.22,>=0.21 in /usr/local/lib/python3.11/dist-packages (from transformers) (0.21.0)\n",
            "Requirement already satisfied: safetensors>=0.4.1 in /usr/local/lib/python3.11/dist-packages (from transformers) (0.5.2)\n",
            "Requirement already satisfied: tqdm>=4.27 in /usr/local/lib/python3.11/dist-packages (from transformers) (4.67.1)\n",
            "Requirement already satisfied: typing-extensions in /usr/local/lib/python3.11/dist-packages (from torch) (4.12.2)\n",
            "Requirement already satisfied: sympy in /usr/local/lib/python3.11/dist-packages (from torch) (1.13.1)\n",
            "Requirement already satisfied: networkx in /usr/local/lib/python3.11/dist-packages (from torch) (3.4.2)\n",
            "Requirement already satisfied: jinja2 in /usr/local/lib/python3.11/dist-packages (from torch) (3.1.5)\n",
            "Requirement already satisfied: fsspec in /usr/local/lib/python3.11/dist-packages (from torch) (2024.10.0)\n",
            "Requirement already satisfied: nvidia-cuda-nvrtc-cu12==12.1.105 in /usr/local/lib/python3.11/dist-packages (from torch) (12.1.105)\n",
            "Requirement already satisfied: nvidia-cuda-runtime-cu12==12.1.105 in /usr/local/lib/python3.11/dist-packages (from torch) (12.1.105)\n",
            "Requirement already satisfied: nvidia-cuda-cupti-cu12==12.1.105 in /usr/local/lib/python3.11/dist-packages (from torch) (12.1.105)\n",
            "Requirement already satisfied: nvidia-cudnn-cu12==8.9.2.26 in /usr/local/lib/python3.11/dist-packages (from torch) (8.9.2.26)\n",
            "Requirement already satisfied: nvidia-cublas-cu12==12.1.3.1 in /usr/local/lib/python3.11/dist-packages (from torch) (12.1.3.1)\n",
            "Requirement already satisfied: nvidia-cufft-cu12==11.0.2.54 in /usr/local/lib/python3.11/dist-packages (from torch) (11.0.2.54)\n",
            "Requirement already satisfied: nvidia-curand-cu12==10.3.2.106 in /usr/local/lib/python3.11/dist-packages (from torch) (10.3.2.106)\n",
            "Requirement already satisfied: nvidia-cusolver-cu12==11.4.5.107 in /usr/local/lib/python3.11/dist-packages (from torch) (11.4.5.107)\n",
            "Requirement already satisfied: nvidia-cusparse-cu12==12.1.0.106 in /usr/local/lib/python3.11/dist-packages (from torch) (12.1.0.106)\n",
            "Requirement already satisfied: nvidia-nccl-cu12==2.18.1 in /usr/local/lib/python3.11/dist-packages (from torch) (2.18.1)\n",
            "Requirement already satisfied: nvidia-nvtx-cu12==12.1.105 in /usr/local/lib/python3.11/dist-packages (from torch) (12.1.105)\n",
            "Requirement already satisfied: triton==2.1.0 in /usr/local/lib/python3.11/dist-packages (from torch) (2.1.0)\n",
            "Requirement already satisfied: nvidia-nvjitlink-cu12 in /usr/local/lib/python3.11/dist-packages (from nvidia-cusolver-cu12==11.4.5.107->torch) (12.5.82)\n",
            "Requirement already satisfied: MarkupSafe>=2.0 in /usr/local/lib/python3.11/dist-packages (from jinja2->torch) (3.0.2)\n",
            "Requirement already satisfied: charset-normalizer<4,>=2 in /usr/local/lib/python3.11/dist-packages (from requests->transformers) (3.4.1)\n",
            "Requirement already satisfied: idna<4,>=2.5 in /usr/local/lib/python3.11/dist-packages (from requests->transformers) (3.10)\n",
            "Requirement already satisfied: urllib3<3,>=1.21.1 in /usr/local/lib/python3.11/dist-packages (from requests->transformers) (2.3.0)\n",
            "Requirement already satisfied: certifi>=2017.4.17 in /usr/local/lib/python3.11/dist-packages (from requests->transformers) (2025.1.31)\n",
            "Requirement already satisfied: mpmath<1.4,>=1.1.0 in /usr/local/lib/python3.11/dist-packages (from sympy->torch) (1.3.0)\n"
          ]
        }
      ],
      "source": [
        "!pip install transformers torch"
      ]
    },
    {
      "cell_type": "code",
      "execution_count": null,
      "metadata": {
        "id": "pTwvoM_3cbvM"
      },
      "outputs": [],
      "source": [
        "def load_and_combine_csv(directory_path):\n",
        "    \"\"\"\n",
        "    지정된 경로의 chunk*.csv 파일을 불러와 하나의 데이터프레임으로 병합합니다.\n",
        "    \"\"\"\n",
        "    csv_files = glob(os.path.join(directory_path, \"chunk*.csv\"))\n",
        "\n",
        "    # 각 파일을 읽고 리스트에 추가하여 병합\n",
        "    dataframes = []\n",
        "    for file in csv_files:\n",
        "        df = pd.read_csv(file)\n",
        "        dataframes.append(df)\n",
        "\n",
        "    # 모든 데이터를 하나의 데이터프레임으로 결합\n",
        "    combined_df = pd.concat(dataframes, ignore_index=True)\n",
        "    return combined_df"
      ]
    },
    {
      "cell_type": "code",
      "execution_count": null,
      "metadata": {
        "collapsed": true,
        "id": "y-vbPvArpI6E",
        "colab": {
          "base_uri": "https://localhost:8080/",
          "height": 423
        },
        "outputId": "c95aa342-61b8-4b82-c3c7-df6ff15443e3"
      },
      "outputs": [
        {
          "output_type": "execute_result",
          "data": {
            "text/plain": [
              "                                              TITLE_NM ISBN_THIRTEEN_NO  \\\n",
              "0                                   (청소년 지도사가 쓴)청소년복지론    9788991495227   \n",
              "1                                     펀드보다 안전한 가치 투자=:    9788957820285   \n",
              "2                                             지식의 발견=:    9788976829511   \n",
              "3       육경과 공자 인학=(The)six books and Confucius jenlogy    9788976461742   \n",
              "4                                       나노테크놀러지 최전선 기술    9788970442372   \n",
              "...                                                ...              ...   \n",
              "137695                                      생쥐 각시 시집가네    9788953515130   \n",
              "137696                                       산에 산에 가다가    9788953515154   \n",
              "137697                                      자장자장 잘도 잔다    9788953515161   \n",
              "137698                                         사또네 잔칫날    9788953515178   \n",
              "137699                      리더십 바이러스=Leadership virus:    9788991319301   \n",
              "\n",
              "       KDC_NM                                        description  \n",
              "0         338                           No description available  \n",
              "1         328                           No description available  \n",
              "2         309  『지식의 발견』은 출판 담당 기자 출신의 저자가 한국의 대표적 지식인들이 근대성과 ...  \n",
              "3         152                    이 책은 해당 분야 전공자들을 위한 교재 겸 전문서이다.  \n",
              "4         530  나노 과학과 기술에 관심이 있는 사람을 위해 나노과학의 첨단을 달리고 있는 일본의 ...  \n",
              "...       ...                                                ...  \n",
              "137695    375                           No description available  \n",
              "137696    375                           No description available  \n",
              "137697    375                           No description available  \n",
              "137698    375                           No description available  \n",
              "137699    331                           No description available  \n",
              "\n",
              "[137700 rows x 4 columns]"
            ],
            "text/html": [
              "\n",
              "  <div id=\"df-cbc04894-9c29-42cf-8b46-09aa68a0963c\" class=\"colab-df-container\">\n",
              "    <div>\n",
              "<style scoped>\n",
              "    .dataframe tbody tr th:only-of-type {\n",
              "        vertical-align: middle;\n",
              "    }\n",
              "\n",
              "    .dataframe tbody tr th {\n",
              "        vertical-align: top;\n",
              "    }\n",
              "\n",
              "    .dataframe thead th {\n",
              "        text-align: right;\n",
              "    }\n",
              "</style>\n",
              "<table border=\"1\" class=\"dataframe\">\n",
              "  <thead>\n",
              "    <tr style=\"text-align: right;\">\n",
              "      <th></th>\n",
              "      <th>TITLE_NM</th>\n",
              "      <th>ISBN_THIRTEEN_NO</th>\n",
              "      <th>KDC_NM</th>\n",
              "      <th>description</th>\n",
              "    </tr>\n",
              "  </thead>\n",
              "  <tbody>\n",
              "    <tr>\n",
              "      <th>0</th>\n",
              "      <td>(청소년 지도사가 쓴)청소년복지론</td>\n",
              "      <td>9788991495227</td>\n",
              "      <td>338</td>\n",
              "      <td>No description available</td>\n",
              "    </tr>\n",
              "    <tr>\n",
              "      <th>1</th>\n",
              "      <td>펀드보다 안전한 가치 투자=:</td>\n",
              "      <td>9788957820285</td>\n",
              "      <td>328</td>\n",
              "      <td>No description available</td>\n",
              "    </tr>\n",
              "    <tr>\n",
              "      <th>2</th>\n",
              "      <td>지식의 발견=:</td>\n",
              "      <td>9788976829511</td>\n",
              "      <td>309</td>\n",
              "      <td>『지식의 발견』은 출판 담당 기자 출신의 저자가 한국의 대표적 지식인들이 근대성과 ...</td>\n",
              "    </tr>\n",
              "    <tr>\n",
              "      <th>3</th>\n",
              "      <td>육경과 공자 인학=(The)six books and Confucius jenlogy</td>\n",
              "      <td>9788976461742</td>\n",
              "      <td>152</td>\n",
              "      <td>이 책은 해당 분야 전공자들을 위한 교재 겸 전문서이다.</td>\n",
              "    </tr>\n",
              "    <tr>\n",
              "      <th>4</th>\n",
              "      <td>나노테크놀러지 최전선 기술</td>\n",
              "      <td>9788970442372</td>\n",
              "      <td>530</td>\n",
              "      <td>나노 과학과 기술에 관심이 있는 사람을 위해 나노과학의 첨단을 달리고 있는 일본의 ...</td>\n",
              "    </tr>\n",
              "    <tr>\n",
              "      <th>...</th>\n",
              "      <td>...</td>\n",
              "      <td>...</td>\n",
              "      <td>...</td>\n",
              "      <td>...</td>\n",
              "    </tr>\n",
              "    <tr>\n",
              "      <th>137695</th>\n",
              "      <td>생쥐 각시 시집가네</td>\n",
              "      <td>9788953515130</td>\n",
              "      <td>375</td>\n",
              "      <td>No description available</td>\n",
              "    </tr>\n",
              "    <tr>\n",
              "      <th>137696</th>\n",
              "      <td>산에 산에 가다가</td>\n",
              "      <td>9788953515154</td>\n",
              "      <td>375</td>\n",
              "      <td>No description available</td>\n",
              "    </tr>\n",
              "    <tr>\n",
              "      <th>137697</th>\n",
              "      <td>자장자장 잘도 잔다</td>\n",
              "      <td>9788953515161</td>\n",
              "      <td>375</td>\n",
              "      <td>No description available</td>\n",
              "    </tr>\n",
              "    <tr>\n",
              "      <th>137698</th>\n",
              "      <td>사또네 잔칫날</td>\n",
              "      <td>9788953515178</td>\n",
              "      <td>375</td>\n",
              "      <td>No description available</td>\n",
              "    </tr>\n",
              "    <tr>\n",
              "      <th>137699</th>\n",
              "      <td>리더십 바이러스=Leadership virus:</td>\n",
              "      <td>9788991319301</td>\n",
              "      <td>331</td>\n",
              "      <td>No description available</td>\n",
              "    </tr>\n",
              "  </tbody>\n",
              "</table>\n",
              "<p>137700 rows × 4 columns</p>\n",
              "</div>\n",
              "    <div class=\"colab-df-buttons\">\n",
              "\n",
              "  <div class=\"colab-df-container\">\n",
              "    <button class=\"colab-df-convert\" onclick=\"convertToInteractive('df-cbc04894-9c29-42cf-8b46-09aa68a0963c')\"\n",
              "            title=\"Convert this dataframe to an interactive table.\"\n",
              "            style=\"display:none;\">\n",
              "\n",
              "  <svg xmlns=\"http://www.w3.org/2000/svg\" height=\"24px\" viewBox=\"0 -960 960 960\">\n",
              "    <path d=\"M120-120v-720h720v720H120Zm60-500h600v-160H180v160Zm220 220h160v-160H400v160Zm0 220h160v-160H400v160ZM180-400h160v-160H180v160Zm440 0h160v-160H620v160ZM180-180h160v-160H180v160Zm440 0h160v-160H620v160Z\"/>\n",
              "  </svg>\n",
              "    </button>\n",
              "\n",
              "  <style>\n",
              "    .colab-df-container {\n",
              "      display:flex;\n",
              "      gap: 12px;\n",
              "    }\n",
              "\n",
              "    .colab-df-convert {\n",
              "      background-color: #E8F0FE;\n",
              "      border: none;\n",
              "      border-radius: 50%;\n",
              "      cursor: pointer;\n",
              "      display: none;\n",
              "      fill: #1967D2;\n",
              "      height: 32px;\n",
              "      padding: 0 0 0 0;\n",
              "      width: 32px;\n",
              "    }\n",
              "\n",
              "    .colab-df-convert:hover {\n",
              "      background-color: #E2EBFA;\n",
              "      box-shadow: 0px 1px 2px rgba(60, 64, 67, 0.3), 0px 1px 3px 1px rgba(60, 64, 67, 0.15);\n",
              "      fill: #174EA6;\n",
              "    }\n",
              "\n",
              "    .colab-df-buttons div {\n",
              "      margin-bottom: 4px;\n",
              "    }\n",
              "\n",
              "    [theme=dark] .colab-df-convert {\n",
              "      background-color: #3B4455;\n",
              "      fill: #D2E3FC;\n",
              "    }\n",
              "\n",
              "    [theme=dark] .colab-df-convert:hover {\n",
              "      background-color: #434B5C;\n",
              "      box-shadow: 0px 1px 3px 1px rgba(0, 0, 0, 0.15);\n",
              "      filter: drop-shadow(0px 1px 2px rgba(0, 0, 0, 0.3));\n",
              "      fill: #FFFFFF;\n",
              "    }\n",
              "  </style>\n",
              "\n",
              "    <script>\n",
              "      const buttonEl =\n",
              "        document.querySelector('#df-cbc04894-9c29-42cf-8b46-09aa68a0963c button.colab-df-convert');\n",
              "      buttonEl.style.display =\n",
              "        google.colab.kernel.accessAllowed ? 'block' : 'none';\n",
              "\n",
              "      async function convertToInteractive(key) {\n",
              "        const element = document.querySelector('#df-cbc04894-9c29-42cf-8b46-09aa68a0963c');\n",
              "        const dataTable =\n",
              "          await google.colab.kernel.invokeFunction('convertToInteractive',\n",
              "                                                    [key], {});\n",
              "        if (!dataTable) return;\n",
              "\n",
              "        const docLinkHtml = 'Like what you see? Visit the ' +\n",
              "          '<a target=\"_blank\" href=https://colab.research.google.com/notebooks/data_table.ipynb>data table notebook</a>'\n",
              "          + ' to learn more about interactive tables.';\n",
              "        element.innerHTML = '';\n",
              "        dataTable['output_type'] = 'display_data';\n",
              "        await google.colab.output.renderOutput(dataTable, element);\n",
              "        const docLink = document.createElement('div');\n",
              "        docLink.innerHTML = docLinkHtml;\n",
              "        element.appendChild(docLink);\n",
              "      }\n",
              "    </script>\n",
              "  </div>\n",
              "\n",
              "\n",
              "<div id=\"df-a5d56261-8148-4b36-ae86-d289c69622ca\">\n",
              "  <button class=\"colab-df-quickchart\" onclick=\"quickchart('df-a5d56261-8148-4b36-ae86-d289c69622ca')\"\n",
              "            title=\"Suggest charts\"\n",
              "            style=\"display:none;\">\n",
              "\n",
              "<svg xmlns=\"http://www.w3.org/2000/svg\" height=\"24px\"viewBox=\"0 0 24 24\"\n",
              "     width=\"24px\">\n",
              "    <g>\n",
              "        <path d=\"M19 3H5c-1.1 0-2 .9-2 2v14c0 1.1.9 2 2 2h14c1.1 0 2-.9 2-2V5c0-1.1-.9-2-2-2zM9 17H7v-7h2v7zm4 0h-2V7h2v10zm4 0h-2v-4h2v4z\"/>\n",
              "    </g>\n",
              "</svg>\n",
              "  </button>\n",
              "\n",
              "<style>\n",
              "  .colab-df-quickchart {\n",
              "      --bg-color: #E8F0FE;\n",
              "      --fill-color: #1967D2;\n",
              "      --hover-bg-color: #E2EBFA;\n",
              "      --hover-fill-color: #174EA6;\n",
              "      --disabled-fill-color: #AAA;\n",
              "      --disabled-bg-color: #DDD;\n",
              "  }\n",
              "\n",
              "  [theme=dark] .colab-df-quickchart {\n",
              "      --bg-color: #3B4455;\n",
              "      --fill-color: #D2E3FC;\n",
              "      --hover-bg-color: #434B5C;\n",
              "      --hover-fill-color: #FFFFFF;\n",
              "      --disabled-bg-color: #3B4455;\n",
              "      --disabled-fill-color: #666;\n",
              "  }\n",
              "\n",
              "  .colab-df-quickchart {\n",
              "    background-color: var(--bg-color);\n",
              "    border: none;\n",
              "    border-radius: 50%;\n",
              "    cursor: pointer;\n",
              "    display: none;\n",
              "    fill: var(--fill-color);\n",
              "    height: 32px;\n",
              "    padding: 0;\n",
              "    width: 32px;\n",
              "  }\n",
              "\n",
              "  .colab-df-quickchart:hover {\n",
              "    background-color: var(--hover-bg-color);\n",
              "    box-shadow: 0 1px 2px rgba(60, 64, 67, 0.3), 0 1px 3px 1px rgba(60, 64, 67, 0.15);\n",
              "    fill: var(--button-hover-fill-color);\n",
              "  }\n",
              "\n",
              "  .colab-df-quickchart-complete:disabled,\n",
              "  .colab-df-quickchart-complete:disabled:hover {\n",
              "    background-color: var(--disabled-bg-color);\n",
              "    fill: var(--disabled-fill-color);\n",
              "    box-shadow: none;\n",
              "  }\n",
              "\n",
              "  .colab-df-spinner {\n",
              "    border: 2px solid var(--fill-color);\n",
              "    border-color: transparent;\n",
              "    border-bottom-color: var(--fill-color);\n",
              "    animation:\n",
              "      spin 1s steps(1) infinite;\n",
              "  }\n",
              "\n",
              "  @keyframes spin {\n",
              "    0% {\n",
              "      border-color: transparent;\n",
              "      border-bottom-color: var(--fill-color);\n",
              "      border-left-color: var(--fill-color);\n",
              "    }\n",
              "    20% {\n",
              "      border-color: transparent;\n",
              "      border-left-color: var(--fill-color);\n",
              "      border-top-color: var(--fill-color);\n",
              "    }\n",
              "    30% {\n",
              "      border-color: transparent;\n",
              "      border-left-color: var(--fill-color);\n",
              "      border-top-color: var(--fill-color);\n",
              "      border-right-color: var(--fill-color);\n",
              "    }\n",
              "    40% {\n",
              "      border-color: transparent;\n",
              "      border-right-color: var(--fill-color);\n",
              "      border-top-color: var(--fill-color);\n",
              "    }\n",
              "    60% {\n",
              "      border-color: transparent;\n",
              "      border-right-color: var(--fill-color);\n",
              "    }\n",
              "    80% {\n",
              "      border-color: transparent;\n",
              "      border-right-color: var(--fill-color);\n",
              "      border-bottom-color: var(--fill-color);\n",
              "    }\n",
              "    90% {\n",
              "      border-color: transparent;\n",
              "      border-bottom-color: var(--fill-color);\n",
              "    }\n",
              "  }\n",
              "</style>\n",
              "\n",
              "  <script>\n",
              "    async function quickchart(key) {\n",
              "      const quickchartButtonEl =\n",
              "        document.querySelector('#' + key + ' button');\n",
              "      quickchartButtonEl.disabled = true;  // To prevent multiple clicks.\n",
              "      quickchartButtonEl.classList.add('colab-df-spinner');\n",
              "      try {\n",
              "        const charts = await google.colab.kernel.invokeFunction(\n",
              "            'suggestCharts', [key], {});\n",
              "      } catch (error) {\n",
              "        console.error('Error during call to suggestCharts:', error);\n",
              "      }\n",
              "      quickchartButtonEl.classList.remove('colab-df-spinner');\n",
              "      quickchartButtonEl.classList.add('colab-df-quickchart-complete');\n",
              "    }\n",
              "    (() => {\n",
              "      let quickchartButtonEl =\n",
              "        document.querySelector('#df-a5d56261-8148-4b36-ae86-d289c69622ca button');\n",
              "      quickchartButtonEl.style.display =\n",
              "        google.colab.kernel.accessAllowed ? 'block' : 'none';\n",
              "    })();\n",
              "  </script>\n",
              "</div>\n",
              "\n",
              "  <div id=\"id_0ee5a08a-c0e1-4db5-a3a5-e76e55fedd71\">\n",
              "    <style>\n",
              "      .colab-df-generate {\n",
              "        background-color: #E8F0FE;\n",
              "        border: none;\n",
              "        border-radius: 50%;\n",
              "        cursor: pointer;\n",
              "        display: none;\n",
              "        fill: #1967D2;\n",
              "        height: 32px;\n",
              "        padding: 0 0 0 0;\n",
              "        width: 32px;\n",
              "      }\n",
              "\n",
              "      .colab-df-generate:hover {\n",
              "        background-color: #E2EBFA;\n",
              "        box-shadow: 0px 1px 2px rgba(60, 64, 67, 0.3), 0px 1px 3px 1px rgba(60, 64, 67, 0.15);\n",
              "        fill: #174EA6;\n",
              "      }\n",
              "\n",
              "      [theme=dark] .colab-df-generate {\n",
              "        background-color: #3B4455;\n",
              "        fill: #D2E3FC;\n",
              "      }\n",
              "\n",
              "      [theme=dark] .colab-df-generate:hover {\n",
              "        background-color: #434B5C;\n",
              "        box-shadow: 0px 1px 3px 1px rgba(0, 0, 0, 0.15);\n",
              "        filter: drop-shadow(0px 1px 2px rgba(0, 0, 0, 0.3));\n",
              "        fill: #FFFFFF;\n",
              "      }\n",
              "    </style>\n",
              "    <button class=\"colab-df-generate\" onclick=\"generateWithVariable('combined_df')\"\n",
              "            title=\"Generate code using this dataframe.\"\n",
              "            style=\"display:none;\">\n",
              "\n",
              "  <svg xmlns=\"http://www.w3.org/2000/svg\" height=\"24px\"viewBox=\"0 0 24 24\"\n",
              "       width=\"24px\">\n",
              "    <path d=\"M7,19H8.4L18.45,9,17,7.55,7,17.6ZM5,21V16.75L18.45,3.32a2,2,0,0,1,2.83,0l1.4,1.43a1.91,1.91,0,0,1,.58,1.4,1.91,1.91,0,0,1-.58,1.4L9.25,21ZM18.45,9,17,7.55Zm-12,3A5.31,5.31,0,0,0,4.9,8.1,5.31,5.31,0,0,0,1,6.5,5.31,5.31,0,0,0,4.9,4.9,5.31,5.31,0,0,0,6.5,1,5.31,5.31,0,0,0,8.1,4.9,5.31,5.31,0,0,0,12,6.5,5.46,5.46,0,0,0,6.5,12Z\"/>\n",
              "  </svg>\n",
              "    </button>\n",
              "    <script>\n",
              "      (() => {\n",
              "      const buttonEl =\n",
              "        document.querySelector('#id_0ee5a08a-c0e1-4db5-a3a5-e76e55fedd71 button.colab-df-generate');\n",
              "      buttonEl.style.display =\n",
              "        google.colab.kernel.accessAllowed ? 'block' : 'none';\n",
              "\n",
              "      buttonEl.onclick = () => {\n",
              "        google.colab.notebook.generateWithVariable('combined_df');\n",
              "      }\n",
              "      })();\n",
              "    </script>\n",
              "  </div>\n",
              "\n",
              "    </div>\n",
              "  </div>\n"
            ],
            "application/vnd.google.colaboratory.intrinsic+json": {
              "type": "dataframe",
              "variable_name": "combined_df"
            }
          },
          "metadata": {},
          "execution_count": 18
        }
      ],
      "source": [
        "combined_df = load_and_combine_csv(\"/content/drive/MyDrive/work_dir\")\n",
        "combined_df"
      ]
    },
    {
      "cell_type": "code",
      "execution_count": null,
      "metadata": {
        "id": "SwB46xxTpXXn",
        "colab": {
          "base_uri": "https://localhost:8080/",
          "height": 423
        },
        "outputId": "98c05b6e-15e3-41a8-c799-7028093faea5"
      },
      "outputs": [
        {
          "output_type": "execute_result",
          "data": {
            "text/plain": [
              "                                              TITLE_NM ISBN_THIRTEEN_NO  \\\n",
              "2                                             지식의 발견=:    9788976829511   \n",
              "3       육경과 공자 인학=(The)six books and Confucius jenlogy    9788976461742   \n",
              "4                                       나노테크놀러지 최전선 기술    9788970442372   \n",
              "17                                                고분미술    9788981337414   \n",
              "18                                                고분미술    9788981337421   \n",
              "...                                                ...              ...   \n",
              "137667                          (피라미드에서 우주선까지)세계의 불가사의    9788952738349   \n",
              "137671                                     달콤 쌉싸름한 초콜릿    9788937461088   \n",
              "137677                                         정부와 NGO    9788918021683   \n",
              "137680                                    응력해석 및 재료거동학    9788971416204   \n",
              "137681                        십대들의 뇌에서는 무슨 일이 벌어지고 있나?    9788989799399   \n",
              "\n",
              "       KDC_NM                                        description  \n",
              "2         309  『지식의 발견』은 출판 담당 기자 출신의 저자가 한국의 대표적 지식인들이 근대성과 ...  \n",
              "3         152                    이 책은 해당 분야 전공자들을 위한 교재 겸 전문서이다.  \n",
              "4         530  나노 과학과 기술에 관심이 있는 사람을 위해 나노과학의 첨단을 달리고 있는 일본의 ...  \n",
              "17        609  인간의 죽음에 대하여 의미를 부여하고, 또 죽음을 애도하는 과정에서 생겨난 상장례와...  \n",
              "18        609  옛 무덤에서 발견되는 유물은 단순한 유물이 아닌 당대의 문화의 산물입니다. 때문에 ...  \n",
              "...       ...                                                ...  \n",
              "137667     31  바빌론의 공중 정원은 왜 만들어졌을까? 콜로서스의 로도스 상은 언제 무너졌을까? 알...  \n",
              "137671    873  22년동안 이어진 애절한 사랑 이야기!\\n\\n멕시코의 소설가 라우라 에스키벨의 첫 ...  \n",
              "137677    339                                                NaN  \n",
              "137680    530                                                NaN  \n",
              "137681    334  질풍노도의 시기를 통과하는 십대들의 예측불가능한 행동의 예를 들자면 한이 없다. 이...  \n",
              "\n",
              "[87998 rows x 4 columns]"
            ],
            "text/html": [
              "\n",
              "  <div id=\"df-aaadb5e9-e66a-453d-a258-3f1dda4be2e4\" class=\"colab-df-container\">\n",
              "    <div>\n",
              "<style scoped>\n",
              "    .dataframe tbody tr th:only-of-type {\n",
              "        vertical-align: middle;\n",
              "    }\n",
              "\n",
              "    .dataframe tbody tr th {\n",
              "        vertical-align: top;\n",
              "    }\n",
              "\n",
              "    .dataframe thead th {\n",
              "        text-align: right;\n",
              "    }\n",
              "</style>\n",
              "<table border=\"1\" class=\"dataframe\">\n",
              "  <thead>\n",
              "    <tr style=\"text-align: right;\">\n",
              "      <th></th>\n",
              "      <th>TITLE_NM</th>\n",
              "      <th>ISBN_THIRTEEN_NO</th>\n",
              "      <th>KDC_NM</th>\n",
              "      <th>description</th>\n",
              "    </tr>\n",
              "  </thead>\n",
              "  <tbody>\n",
              "    <tr>\n",
              "      <th>2</th>\n",
              "      <td>지식의 발견=:</td>\n",
              "      <td>9788976829511</td>\n",
              "      <td>309</td>\n",
              "      <td>『지식의 발견』은 출판 담당 기자 출신의 저자가 한국의 대표적 지식인들이 근대성과 ...</td>\n",
              "    </tr>\n",
              "    <tr>\n",
              "      <th>3</th>\n",
              "      <td>육경과 공자 인학=(The)six books and Confucius jenlogy</td>\n",
              "      <td>9788976461742</td>\n",
              "      <td>152</td>\n",
              "      <td>이 책은 해당 분야 전공자들을 위한 교재 겸 전문서이다.</td>\n",
              "    </tr>\n",
              "    <tr>\n",
              "      <th>4</th>\n",
              "      <td>나노테크놀러지 최전선 기술</td>\n",
              "      <td>9788970442372</td>\n",
              "      <td>530</td>\n",
              "      <td>나노 과학과 기술에 관심이 있는 사람을 위해 나노과학의 첨단을 달리고 있는 일본의 ...</td>\n",
              "    </tr>\n",
              "    <tr>\n",
              "      <th>17</th>\n",
              "      <td>고분미술</td>\n",
              "      <td>9788981337414</td>\n",
              "      <td>609</td>\n",
              "      <td>인간의 죽음에 대하여 의미를 부여하고, 또 죽음을 애도하는 과정에서 생겨난 상장례와...</td>\n",
              "    </tr>\n",
              "    <tr>\n",
              "      <th>18</th>\n",
              "      <td>고분미술</td>\n",
              "      <td>9788981337421</td>\n",
              "      <td>609</td>\n",
              "      <td>옛 무덤에서 발견되는 유물은 단순한 유물이 아닌 당대의 문화의 산물입니다. 때문에 ...</td>\n",
              "    </tr>\n",
              "    <tr>\n",
              "      <th>...</th>\n",
              "      <td>...</td>\n",
              "      <td>...</td>\n",
              "      <td>...</td>\n",
              "      <td>...</td>\n",
              "    </tr>\n",
              "    <tr>\n",
              "      <th>137667</th>\n",
              "      <td>(피라미드에서 우주선까지)세계의 불가사의</td>\n",
              "      <td>9788952738349</td>\n",
              "      <td>31</td>\n",
              "      <td>바빌론의 공중 정원은 왜 만들어졌을까? 콜로서스의 로도스 상은 언제 무너졌을까? 알...</td>\n",
              "    </tr>\n",
              "    <tr>\n",
              "      <th>137671</th>\n",
              "      <td>달콤 쌉싸름한 초콜릿</td>\n",
              "      <td>9788937461088</td>\n",
              "      <td>873</td>\n",
              "      <td>22년동안 이어진 애절한 사랑 이야기!\\n\\n멕시코의 소설가 라우라 에스키벨의 첫 ...</td>\n",
              "    </tr>\n",
              "    <tr>\n",
              "      <th>137677</th>\n",
              "      <td>정부와 NGO</td>\n",
              "      <td>9788918021683</td>\n",
              "      <td>339</td>\n",
              "      <td>NaN</td>\n",
              "    </tr>\n",
              "    <tr>\n",
              "      <th>137680</th>\n",
              "      <td>응력해석 및 재료거동학</td>\n",
              "      <td>9788971416204</td>\n",
              "      <td>530</td>\n",
              "      <td>NaN</td>\n",
              "    </tr>\n",
              "    <tr>\n",
              "      <th>137681</th>\n",
              "      <td>십대들의 뇌에서는 무슨 일이 벌어지고 있나?</td>\n",
              "      <td>9788989799399</td>\n",
              "      <td>334</td>\n",
              "      <td>질풍노도의 시기를 통과하는 십대들의 예측불가능한 행동의 예를 들자면 한이 없다. 이...</td>\n",
              "    </tr>\n",
              "  </tbody>\n",
              "</table>\n",
              "<p>87998 rows × 4 columns</p>\n",
              "</div>\n",
              "    <div class=\"colab-df-buttons\">\n",
              "\n",
              "  <div class=\"colab-df-container\">\n",
              "    <button class=\"colab-df-convert\" onclick=\"convertToInteractive('df-aaadb5e9-e66a-453d-a258-3f1dda4be2e4')\"\n",
              "            title=\"Convert this dataframe to an interactive table.\"\n",
              "            style=\"display:none;\">\n",
              "\n",
              "  <svg xmlns=\"http://www.w3.org/2000/svg\" height=\"24px\" viewBox=\"0 -960 960 960\">\n",
              "    <path d=\"M120-120v-720h720v720H120Zm60-500h600v-160H180v160Zm220 220h160v-160H400v160Zm0 220h160v-160H400v160ZM180-400h160v-160H180v160Zm440 0h160v-160H620v160ZM180-180h160v-160H180v160Zm440 0h160v-160H620v160Z\"/>\n",
              "  </svg>\n",
              "    </button>\n",
              "\n",
              "  <style>\n",
              "    .colab-df-container {\n",
              "      display:flex;\n",
              "      gap: 12px;\n",
              "    }\n",
              "\n",
              "    .colab-df-convert {\n",
              "      background-color: #E8F0FE;\n",
              "      border: none;\n",
              "      border-radius: 50%;\n",
              "      cursor: pointer;\n",
              "      display: none;\n",
              "      fill: #1967D2;\n",
              "      height: 32px;\n",
              "      padding: 0 0 0 0;\n",
              "      width: 32px;\n",
              "    }\n",
              "\n",
              "    .colab-df-convert:hover {\n",
              "      background-color: #E2EBFA;\n",
              "      box-shadow: 0px 1px 2px rgba(60, 64, 67, 0.3), 0px 1px 3px 1px rgba(60, 64, 67, 0.15);\n",
              "      fill: #174EA6;\n",
              "    }\n",
              "\n",
              "    .colab-df-buttons div {\n",
              "      margin-bottom: 4px;\n",
              "    }\n",
              "\n",
              "    [theme=dark] .colab-df-convert {\n",
              "      background-color: #3B4455;\n",
              "      fill: #D2E3FC;\n",
              "    }\n",
              "\n",
              "    [theme=dark] .colab-df-convert:hover {\n",
              "      background-color: #434B5C;\n",
              "      box-shadow: 0px 1px 3px 1px rgba(0, 0, 0, 0.15);\n",
              "      filter: drop-shadow(0px 1px 2px rgba(0, 0, 0, 0.3));\n",
              "      fill: #FFFFFF;\n",
              "    }\n",
              "  </style>\n",
              "\n",
              "    <script>\n",
              "      const buttonEl =\n",
              "        document.querySelector('#df-aaadb5e9-e66a-453d-a258-3f1dda4be2e4 button.colab-df-convert');\n",
              "      buttonEl.style.display =\n",
              "        google.colab.kernel.accessAllowed ? 'block' : 'none';\n",
              "\n",
              "      async function convertToInteractive(key) {\n",
              "        const element = document.querySelector('#df-aaadb5e9-e66a-453d-a258-3f1dda4be2e4');\n",
              "        const dataTable =\n",
              "          await google.colab.kernel.invokeFunction('convertToInteractive',\n",
              "                                                    [key], {});\n",
              "        if (!dataTable) return;\n",
              "\n",
              "        const docLinkHtml = 'Like what you see? Visit the ' +\n",
              "          '<a target=\"_blank\" href=https://colab.research.google.com/notebooks/data_table.ipynb>data table notebook</a>'\n",
              "          + ' to learn more about interactive tables.';\n",
              "        element.innerHTML = '';\n",
              "        dataTable['output_type'] = 'display_data';\n",
              "        await google.colab.output.renderOutput(dataTable, element);\n",
              "        const docLink = document.createElement('div');\n",
              "        docLink.innerHTML = docLinkHtml;\n",
              "        element.appendChild(docLink);\n",
              "      }\n",
              "    </script>\n",
              "  </div>\n",
              "\n",
              "\n",
              "<div id=\"df-ab9cc361-fbad-4629-a97a-0be9bd705496\">\n",
              "  <button class=\"colab-df-quickchart\" onclick=\"quickchart('df-ab9cc361-fbad-4629-a97a-0be9bd705496')\"\n",
              "            title=\"Suggest charts\"\n",
              "            style=\"display:none;\">\n",
              "\n",
              "<svg xmlns=\"http://www.w3.org/2000/svg\" height=\"24px\"viewBox=\"0 0 24 24\"\n",
              "     width=\"24px\">\n",
              "    <g>\n",
              "        <path d=\"M19 3H5c-1.1 0-2 .9-2 2v14c0 1.1.9 2 2 2h14c1.1 0 2-.9 2-2V5c0-1.1-.9-2-2-2zM9 17H7v-7h2v7zm4 0h-2V7h2v10zm4 0h-2v-4h2v4z\"/>\n",
              "    </g>\n",
              "</svg>\n",
              "  </button>\n",
              "\n",
              "<style>\n",
              "  .colab-df-quickchart {\n",
              "      --bg-color: #E8F0FE;\n",
              "      --fill-color: #1967D2;\n",
              "      --hover-bg-color: #E2EBFA;\n",
              "      --hover-fill-color: #174EA6;\n",
              "      --disabled-fill-color: #AAA;\n",
              "      --disabled-bg-color: #DDD;\n",
              "  }\n",
              "\n",
              "  [theme=dark] .colab-df-quickchart {\n",
              "      --bg-color: #3B4455;\n",
              "      --fill-color: #D2E3FC;\n",
              "      --hover-bg-color: #434B5C;\n",
              "      --hover-fill-color: #FFFFFF;\n",
              "      --disabled-bg-color: #3B4455;\n",
              "      --disabled-fill-color: #666;\n",
              "  }\n",
              "\n",
              "  .colab-df-quickchart {\n",
              "    background-color: var(--bg-color);\n",
              "    border: none;\n",
              "    border-radius: 50%;\n",
              "    cursor: pointer;\n",
              "    display: none;\n",
              "    fill: var(--fill-color);\n",
              "    height: 32px;\n",
              "    padding: 0;\n",
              "    width: 32px;\n",
              "  }\n",
              "\n",
              "  .colab-df-quickchart:hover {\n",
              "    background-color: var(--hover-bg-color);\n",
              "    box-shadow: 0 1px 2px rgba(60, 64, 67, 0.3), 0 1px 3px 1px rgba(60, 64, 67, 0.15);\n",
              "    fill: var(--button-hover-fill-color);\n",
              "  }\n",
              "\n",
              "  .colab-df-quickchart-complete:disabled,\n",
              "  .colab-df-quickchart-complete:disabled:hover {\n",
              "    background-color: var(--disabled-bg-color);\n",
              "    fill: var(--disabled-fill-color);\n",
              "    box-shadow: none;\n",
              "  }\n",
              "\n",
              "  .colab-df-spinner {\n",
              "    border: 2px solid var(--fill-color);\n",
              "    border-color: transparent;\n",
              "    border-bottom-color: var(--fill-color);\n",
              "    animation:\n",
              "      spin 1s steps(1) infinite;\n",
              "  }\n",
              "\n",
              "  @keyframes spin {\n",
              "    0% {\n",
              "      border-color: transparent;\n",
              "      border-bottom-color: var(--fill-color);\n",
              "      border-left-color: var(--fill-color);\n",
              "    }\n",
              "    20% {\n",
              "      border-color: transparent;\n",
              "      border-left-color: var(--fill-color);\n",
              "      border-top-color: var(--fill-color);\n",
              "    }\n",
              "    30% {\n",
              "      border-color: transparent;\n",
              "      border-left-color: var(--fill-color);\n",
              "      border-top-color: var(--fill-color);\n",
              "      border-right-color: var(--fill-color);\n",
              "    }\n",
              "    40% {\n",
              "      border-color: transparent;\n",
              "      border-right-color: var(--fill-color);\n",
              "      border-top-color: var(--fill-color);\n",
              "    }\n",
              "    60% {\n",
              "      border-color: transparent;\n",
              "      border-right-color: var(--fill-color);\n",
              "    }\n",
              "    80% {\n",
              "      border-color: transparent;\n",
              "      border-right-color: var(--fill-color);\n",
              "      border-bottom-color: var(--fill-color);\n",
              "    }\n",
              "    90% {\n",
              "      border-color: transparent;\n",
              "      border-bottom-color: var(--fill-color);\n",
              "    }\n",
              "  }\n",
              "</style>\n",
              "\n",
              "  <script>\n",
              "    async function quickchart(key) {\n",
              "      const quickchartButtonEl =\n",
              "        document.querySelector('#' + key + ' button');\n",
              "      quickchartButtonEl.disabled = true;  // To prevent multiple clicks.\n",
              "      quickchartButtonEl.classList.add('colab-df-spinner');\n",
              "      try {\n",
              "        const charts = await google.colab.kernel.invokeFunction(\n",
              "            'suggestCharts', [key], {});\n",
              "      } catch (error) {\n",
              "        console.error('Error during call to suggestCharts:', error);\n",
              "      }\n",
              "      quickchartButtonEl.classList.remove('colab-df-spinner');\n",
              "      quickchartButtonEl.classList.add('colab-df-quickchart-complete');\n",
              "    }\n",
              "    (() => {\n",
              "      let quickchartButtonEl =\n",
              "        document.querySelector('#df-ab9cc361-fbad-4629-a97a-0be9bd705496 button');\n",
              "      quickchartButtonEl.style.display =\n",
              "        google.colab.kernel.accessAllowed ? 'block' : 'none';\n",
              "    })();\n",
              "  </script>\n",
              "</div>\n",
              "\n",
              "  <div id=\"id_e3b44865-2f4c-4740-8ee5-4a2a69cc398e\">\n",
              "    <style>\n",
              "      .colab-df-generate {\n",
              "        background-color: #E8F0FE;\n",
              "        border: none;\n",
              "        border-radius: 50%;\n",
              "        cursor: pointer;\n",
              "        display: none;\n",
              "        fill: #1967D2;\n",
              "        height: 32px;\n",
              "        padding: 0 0 0 0;\n",
              "        width: 32px;\n",
              "      }\n",
              "\n",
              "      .colab-df-generate:hover {\n",
              "        background-color: #E2EBFA;\n",
              "        box-shadow: 0px 1px 2px rgba(60, 64, 67, 0.3), 0px 1px 3px 1px rgba(60, 64, 67, 0.15);\n",
              "        fill: #174EA6;\n",
              "      }\n",
              "\n",
              "      [theme=dark] .colab-df-generate {\n",
              "        background-color: #3B4455;\n",
              "        fill: #D2E3FC;\n",
              "      }\n",
              "\n",
              "      [theme=dark] .colab-df-generate:hover {\n",
              "        background-color: #434B5C;\n",
              "        box-shadow: 0px 1px 3px 1px rgba(0, 0, 0, 0.15);\n",
              "        filter: drop-shadow(0px 1px 2px rgba(0, 0, 0, 0.3));\n",
              "        fill: #FFFFFF;\n",
              "      }\n",
              "    </style>\n",
              "    <button class=\"colab-df-generate\" onclick=\"generateWithVariable('combined_df')\"\n",
              "            title=\"Generate code using this dataframe.\"\n",
              "            style=\"display:none;\">\n",
              "\n",
              "  <svg xmlns=\"http://www.w3.org/2000/svg\" height=\"24px\"viewBox=\"0 0 24 24\"\n",
              "       width=\"24px\">\n",
              "    <path d=\"M7,19H8.4L18.45,9,17,7.55,7,17.6ZM5,21V16.75L18.45,3.32a2,2,0,0,1,2.83,0l1.4,1.43a1.91,1.91,0,0,1,.58,1.4,1.91,1.91,0,0,1-.58,1.4L9.25,21ZM18.45,9,17,7.55Zm-12,3A5.31,5.31,0,0,0,4.9,8.1,5.31,5.31,0,0,0,1,6.5,5.31,5.31,0,0,0,4.9,4.9,5.31,5.31,0,0,0,6.5,1,5.31,5.31,0,0,0,8.1,4.9,5.31,5.31,0,0,0,12,6.5,5.46,5.46,0,0,0,6.5,12Z\"/>\n",
              "  </svg>\n",
              "    </button>\n",
              "    <script>\n",
              "      (() => {\n",
              "      const buttonEl =\n",
              "        document.querySelector('#id_e3b44865-2f4c-4740-8ee5-4a2a69cc398e button.colab-df-generate');\n",
              "      buttonEl.style.display =\n",
              "        google.colab.kernel.accessAllowed ? 'block' : 'none';\n",
              "\n",
              "      buttonEl.onclick = () => {\n",
              "        google.colab.notebook.generateWithVariable('combined_df');\n",
              "      }\n",
              "      })();\n",
              "    </script>\n",
              "  </div>\n",
              "\n",
              "    </div>\n",
              "  </div>\n"
            ],
            "application/vnd.google.colaboratory.intrinsic+json": {
              "type": "dataframe",
              "variable_name": "combined_df",
              "summary": "{\n  \"name\": \"combined_df\",\n  \"rows\": 87998,\n  \"fields\": [\n    {\n      \"column\": \"TITLE_NM\",\n      \"properties\": {\n        \"dtype\": \"string\",\n        \"num_unique_values\": 80738,\n        \"samples\": [\n          \"\\ud5c8\\uc0bc\\uad00 \\ub9e4\\ud608\\uae30:\\uc704\\ud654 \\uc7a5\\ud3b8\\uc18c\\uc124\",\n          \"\\ud559\\uad50\\ub3c4\\uc11c\\uad00 \\ubb38\\ud654\\ub97c \\uafc8\\uafb8\\ub2e4\",\n          \"\\ud3ec\\ud1a0\\uc0f5\\uacfc \\uc77c\\ub7ec\\uc2a4\\ud2b8\\ub808\\uc774\\uc11c\\uac00 \\ub9cc\\ub0ac\\uc744\\ub54c:\"\n        ],\n        \"semantic_type\": \"\",\n        \"description\": \"\"\n      }\n    },\n    {\n      \"column\": \"ISBN_THIRTEEN_NO\",\n      \"properties\": {\n        \"dtype\": \"string\",\n        \"num_unique_values\": 87998,\n        \"samples\": [\n          9791138404341,\n          9788993985825,\n          9788966350292\n        ],\n        \"semantic_type\": \"\",\n        \"description\": \"\"\n      }\n    },\n    {\n      \"column\": \"KDC_NM\",\n      \"properties\": {\n        \"dtype\": \"category\",\n        \"num_unique_values\": 5645,\n        \"samples\": [\n          981.94,\n          512.0,\n          694.0\n        ],\n        \"semantic_type\": \"\",\n        \"description\": \"\"\n      }\n    },\n    {\n      \"column\": \"description\",\n      \"properties\": {\n        \"dtype\": \"string\",\n        \"num_unique_values\": 70361,\n        \"samples\": [\n          \"\\ubaa8\\ub4e0 \\uac83\\uc744 \\ub0b4\\ub824\\ub193\\uace0 \\uc0b6\\uc744 \\ud1b5\\ud574 \\uadf8\\ub9ac\\uc2a4\\ub3c4\\ub97c \\uc804\\ud55c \\n\\uc758\\uc0ac \\uc8fc\\ubcf4\\uc120\\uc744 \\uae30\\uc5b5\\ud558\\uba70 \\uae30\\ub85d\\ud558\\ub2e4!\\n\\n\\u201c\\uc774 \\ucc45\\uc740 \\ud3c9\\uc0dd \\uc18d\\uc774\\uc9c0 \\uc54a\\ub294 \\uac83\\uc5d0 \\uc18c\\ub9dd\\uc744 \\ub450\\uc5c8\\ub358 \\uadc0\\ud55c \\uc758\\ub8cc\\uc120\\uad50\\uc0ac\\uc758 \\uc0b6\\uc5d0 \\uad00\\ud55c \\uc774\\uc57c\\uae30\\ub2e4\\u201d \\n \\n\\uae40\\ucc3d\\ud658(\\uc778\\ud558\\ub300 \\uc758\\uacfc\\ub300\\ud559 \\uad50\\uc218), \\uae40\\ucca0\\uc2b9(\\uc608\\uc218\\ubcd1\\uc6d0 \\ubcd1\\uc6d0\\uc7a5), \\uc774\\ub300\\ud589(\\uc120\\uad50\\ud55c\\uad6d \\uc0ac\\ubb34\\ucd1d\\uc7a5), \\n\\uc870\\uacc4\\uc601(\\ud55c\\uad6d\\ub204\\uac00\\ud68c \\uc120\\uad50\\ubd80 \\uc0ac\\ubb34\\uad6d\\uc7a5), \\uc870\\uc0d8(\\uc778\\ud130\\uc11c\\ube0c\\ucf54\\ub9ac\\uc544 \\ub300\\ud45c), \\uc9c0\\uc131\\uadfc(\\uc77c\\uc0c1\\uc0dd\\ud65c\\uc0ac\\uc5ed\\uc5f0\\uad6c\\uc18c \\uc18c\\uc7a5) \\ucd94\\ucc9c!!\\n\\n\\uc774 \\ucc45\\uc740 \\uc6b0\\ub9ac\\uac00 \\uc798 \\uc54c\\uc9c0 \\ubabb\\ud558\\ub294 \\ud55c \\uc758\\ub8cc\\uc120\\uad50\\uc0ac\\uc758 \\uc0b6\\uacfc \\uc720\\uc0b0\\uc5d0 \\uad00\\ud55c \\uc774\\uc57c\\uae30\\ub2e4. \\uadf8\\uc758 \\uc774\\ub984\\uc740 \\uc8fc\\ubcf4\\uc120, \\uc911\\uad6d\\uc5d0\\uc11c \\ud0dc\\uc5b4\\ub098 \\ubbf8\\uad6d\\uc5d0\\uc11c \\uc758\\uc0ac\\uac00 \\ub418\\uc5c8\\uace0, 1967\\ub144\\ubd80\\ud130 1988\\ub144\\uae4c\\uc9c0 \\ud55c\\uad6d\\uc758 \\uc804\\uc8fc \\uc608\\uc218\\ubcd1\\uc6d0\\uc5d0\\uc11c \\uc120\\uad50\\uc758 \\uc0b6\\uc744 \\uc0b4\\uc558\\ub2e4. \\ub9ce\\uc740 \\uc138\\uc6d4\\uc774 \\ud750\\ub978 \\uc9c0\\uae08\\uae4c\\uc9c0 \\uadf8\\ub97c \\uae30\\uc5b5\\ud558\\ub294 \\uc81c\\uc790\\ub4e4\\uc774 \\uc788\\ub2e4. \\uadf8\\uc758 \\uc5b4\\ub5a4 \\ubaa8\\uc2b5\\uc774 \\uc81c\\uc790\\ub4e4\\uc758 \\uac00\\uc2b4\\uc5d0 \\uc794\\uc794\\ud558\\uba74\\uc11c\\ub3c4 \\ud3c9\\uc0dd \\uc9c0\\uc6cc\\uc9c0\\uc9c0 \\uc54a\\ub294 \\ud754\\uc801\\uc744 \\ub0a8\\uacbc\\uc744\\uae4c? \\uc774 \\ucc45\\uc740 \\uc8fc\\ubcf4\\uc120\\uc758 \\uc0b6\\uc758 \\uc870\\uac01\\ub4e4\\uc744 \\ucc3e\\uc544 \\ubaa8\\uc73c\\uace0 \\uc774\\uc5b4\\uc11c \\uadf8\\uc758 \\uc0dd\\uc560\\ub97c \\uadf8\\ub824 \\ubd04\\uc73c\\ub85c\\uc368, 1960\\ub144\\ub300 \\ud55c\\uad6d\\uc758 \\uc758\\ub8cc \\uc5ec\\uac74\\uc5d0 \\ub9de\\ucdb0 \\uac00\\ub974\\uce58\\uace0 \\uc804\\ud30c\\ud558\\uace0 \\uace0\\uce58\\ub294 \\uc77c\\uc744 \\ud558\\uba74\\uc11c \\u2018\\uc0b6\\uc73c\\ub85c\\uc11c\\uc758 \\uc120\\uad50\\u2019\\ub97c \\ubab8\\uc18c \\uc2e4\\ucc9c\\ud55c \\uadf8\\uc758 \\uc0b6\\uc744 \\ucd94\\ubaa8\\ud55c\\ub2e4.\\n\\u201c\\uac00\\uc2dc\\uc801 \\uc5c5\\uc801\\uc744 \\uc911\\uc2dc\\ud558\\uace0 \\uc601\\uc6c5\\uc801 \\uc120\\uad50\\ub97c \\uae30\\ub300\\ud558\\uba70 \\uc6b0\\ub7ec\\ub7ec\\ubcf4\\ub358 \\uc2dc\\ub300\\uc5d0 \\uc8fc\\ubcf4\\uc120\\uc740 \\uc544\\ubb34\\uac83\\ub3c4 \\ub0a8\\uae34 \\uac83\\uc774 \\uc5c6\\uc5b4 \\ubcf4\\uc600\\ub2e4. \\uadf8\\ub7ec\\ub098 \\uadf8\\ub294 \\uc774\\ubbf8 \\u2018\\uc0b6\\uc73c\\ub85c\\uc11c\\uc758 \\uc120\\uad50\\u2019 \\uac1c\\ub150\\uc774 \\ub4f1\\uc7a5\\ud55c \\ubbf8\\ub798\\ub97c \\uc0b4\\uc558\\ub358 \\uac83\\uc774\\ub2e4.\\u201d _\\uc11c\\ubb38\\uc5d0\\uc11c\",\n          \"\\ud06c\\ub9ac\\uc2a4\\ud2f0\\uc758 \\uc791\\ud488 \\uc911 \\uac00\\uc7a5 \\ub6f0\\uc5b4\\ub098\\ub2e4\\uace0 \\ud3c9\\uac00\\ubc1b\\ub294 \\uac78\\uc791!\\n\\n\\ucd94\\ub9ac\\uc18c\\uc124\\uc758 \\uc5ec\\uc655 \\uc560\\uac70\\uc11c \\ud06c\\ub9ac\\uc2a4\\ud2f0 \\uc7a5\\ud3b8\\uc18c\\uc124. \\ud06c\\ub9ac\\uc2a4\\ud2f0\\uc758 \\uc804\\uc791\\ud488 \\uc911\\uc5d0\\uc11c \\uc2a4\\ub9b4\\uacfc \\uc11c\\uc2a4\\ud39c\\uc2a4\\uac00 \\uac00\\uc7a5 \\ub6f0\\uc5b4\\ub098\\ub2e4\\uace0 \\uc778\\uc815\\ubc1b\\ub294 \\uac78\\uc791\\uc774\\ub2e4. \\uc774 \\uc791\\ud488\\uc740 \\uc601\\uad6d\\uc5d0\\uc11c\\ub294 \\u300a\\uc5f4 \\uac1c\\uc758 \\uc778\\ub514\\uc5b8 \\uc778\\ud615\\u300b\\uc73c\\ub85c \\ubc1c\\ud45c\\ub418\\uc5c8\\ub2e4. \\n\\n\\uc778\\ub514\\uc5b8 \\uc12c\\uc774\\ub77c\\ub294 \\ubb34\\uc778\\ub3c4\\uc5d0 \\uc5ec\\ub35f \\uba85\\uc758 \\ub0a8\\ub140\\uac00 \\uc815\\uccb4 \\ubd88\\uba85\\uc758 \\uc0ac\\ub78c\\uc5d0\\uac8c \\ucd08\\ub300\\ubc1b\\ub294\\ub2e4. \\uc5ec\\ub35f \\uba85\\uc758 \\uc190\\ub2d8\\uc774 \\uc12c\\uc5d0 \\uc640 \\ubcf4\\ub2c8 \\ucd08\\ub300\\ud55c \\uc0ac\\ub78c\\uc740 \\uc5c6\\uace0, \\ud558\\uc778 \\ubd80\\ubd80\\ub9cc\\uc774 \\uadf8\\ub4e4\\uc744 \\uae30\\ub2e4\\ub9ac\\uace0 \\uc788\\ub2e4. \\ub4a4\\uc774\\uc5b4 \\uc12c\\uc5d0 \\ubaa8\\uc778 \\uc5f4 \\uc0ac\\ub78c\\uc774 \\ucc28\\ub840\\ub85c \\uc8fd\\uc5b4\\uac04\\ub2e4. \\ud55c \\uc0ac\\ub78c\\uc774 \\uc8fd\\uc790, \\uc2dd\\ud0c1 \\uc704\\uc5d0 \\uc788\\ub358 \\uc5f4 \\uac1c\\uc758 \\uc778\\ub514\\uc5b8 \\uc778\\ud615 \\uc911\\uc5d0\\uc11c \\ud55c \\uac1c\\uac00 \\uc5c6\\uc5b4\\uc9c4\\ub2e4. \\uc778\\ub514\\uc5b8 \\ub3d9\\uc694\\uc758 \\uac00\\uc0ac\\uc5d0 \\ub9de\\ucdb0 \\ubb34\\uc778\\ub3c4\\uc5d0 \\uac07\\ud78c \\uc5f4 \\uc0ac\\ub78c\\uc740 \\ubaa8\\ub450 \\uc8fd\\uace0 \\ud55c \\uc0ac\\ub78c\\ub3c4 \\uc0b4\\uc544 \\ub0a8\\uc9c0 \\ubabb\\ud55c\\ub2e4. \\uc778\\ub514\\uc5b8 \\uc12c\\uc5d0\\ub294 \\uc774\\ub4e4 \\uc5f4 \\uba85 \\uc678\\uc5d4 \\uc544\\ubb34\\ub3c4 \\uc5c6\\ub2e4. \\uc12c\\uc5d0 \\uac07\\ud78c \\uc0ac\\ub78c\\uc774 \\ubaa8\\ub450 \\uc0b4\\ud574\\ub418\\uc5c8\\uc73c\\ub2c8 \\ubc94\\uc778\\uc740 \\ub3c4\\ub300\\uccb4 \\ub204\\uad6c\\uc77c\\uae4c?\\n\\n\\uc5f4 \\uba85\\uc758 \\uae30\\uc5b5 \\uc18d\\uc5d0 \\ubb3b\\ud600 \\uc788\\ub294 \\ubc94\\uc8c4\\uc758 \\uadf8\\ub9bc\\uc790, \\ub610 \\uadf8\\ub4e4\\uc758 \\ub2e4\\uc591\\ud55c \\uc9c1\\uc5c5\\uacfc \\uc131\\uaca9. \\uc560\\uac70\\uc11c \\ud06c\\ub9ac\\uc2a4\\ud2f0\\ub294 \\uc774\\ub7ec\\ud55c \\ubc30\\uacbd\\uc744 \\ud558\\ub098\\ub3c4 \\ub193\\uce58\\uc9c0 \\uc54a\\uace0 \\uce58\\ubc00\\ud558\\uac8c \\uc5f0\\uacb0\\uc2dc\\ucf1c\\uc11c \\uc5f4 \\uba85\\uc758 \\uc8fd\\uc74c\\uc744 \\uad50\\ubb18\\ud558\\uac8c \\uc774\\ub04c\\uc5b4 \\ub098\\uac04\\ub2e4. \\ud06c\\ub9ac\\uc2a4\\ud2f0 \\ud2b9\\uc720\\uc758 \\uc12c\\uc138\\ud558\\uace0 \\uce58\\ubc00\\ud55c \\uad6c\\uc131\\ub825\\uacfc \\ub300\\ub2f4\\ud55c \\ubb38\\uccb4\\uac00 \\ub3cb\\ubcf4\\uc774\\uba70, \\ub9c8\\uc9c0\\ub9c9 \\uba87 \\uc7a5\\uc744 \\ub118\\uae38 \\ub54c\\uae4c\\uc9c0 \\uae34\\uc7a5\\uc744 \\ub2a6\\ucd9c \\uc218 \\uc5c6\\ub294 \\uae30\\uad50 \\ub610\\ud55c \\ub3c5\\uc790\\ub4e4\\uc5d0\\uac8c \\ub180\\ub77c\\uc6c0\\uc744 \\uc804\\ud574 \\uc900\\ub2e4. \\ucc98\\uc74c\\ubd80\\ud130 \\ub05d\\uae4c\\uc9c0 \\uc0ac\\uac74\\uc744 \\ucad3\\uc544\\uac00\\ub2e4\\uac00 \\ubc94\\uc778\\uc744 \\uc54c\\uac8c \\ub418\\ub294 \\uc21c\\uac04 \\ub3c5\\uc790\\ub4e4\\uc740 \\ud53c\\uac00 \\uc5bc\\uc5b4\\ubd99\\ub294 \\ub4ef\\ud55c \\ub290\\ub08c\\uc744 \\ubc1b\\uac8c \\ub420 \\uac83\\uc774\\ub2e4.\",\n          \"\\uad6d\\ub0b4 \\ucd5c\\ucd08 \\uc644\\uacb0\\ud310 53\\ub144\\ub9cc\\uc758 \\ucd9c\\uac04!  \\ub3c5\\uc790\\ub4e4\\uc774 \\ubc88\\uc5ed\\uc744 \\uae30\\ub2e4\\ub824\\uc628 \\uadf8 \\uc18c\\uc124!\\n\\uc73c\\uc2a4\\ub7ec\\uc9c0\\ub294 \\uc778\\uac04\\uc131\\uc5d0 \\ub300\\ud55c \\ud5e4\\ubc0d\\uc6e8\\uc774\\uc758 \\ub728\\uac70\\uc6b4 \\uc9c8\\ubb38\\ub4e4!\\n\\n\\ud5e4\\ubbf8\\uc6e8\\uc774\\uc758 \\ub9c8\\uc9c0\\ub9c9 \\uc18c\\uc124 \\u3008\\ud574\\ub958\\uc18d\\uc758 \\uc12c\\ub4e4\\u3009\\uc740 1970\\ub144 \\ud55c\\uc790\\uac00 \\ub4a4 \\uc11e\\uc778 \\uc138\\ub85c\\uc77d\\uae30 \\ud310(\\ud604\\uc554\\uc0ac)\\uc73c\\ub85c \\ucd9c\\uac04\\ub41c \\uc774\\ud6c4, \\ubb34\\ub824 53\\ub144\\ub3d9\\uc548 \\ubc88\\uc5ed\\uc774 \\uc548\\ub41c \\ucc44 \\ubbf8\\ucd9c\\uac04 \\uc0c1\\ud0dc\\ub85c \\ub0a8\\uc544\\uc788\\uc5c8\\ub2e4. \\ud5e4\\ubc0d\\uc6e8\\uc774\\uc758 \\ub3c5\\uc790\\ub4e4\\uc774 \\uac00\\uc7a5 \\ubc88\\uc5ed\\uc744 \\uae30\\ub2e4\\ub824\\uc628 \\uadf8 \\uc791\\ud488\\uc774 \\u3008\\uace0\\uc720\\uba85\\uc0ac(\\ucd9c\\ud310\\uc0ac)\\u3009\\uc5d0\\uc11c \\uc644\\uacb0\\ubc88\\uc5ed \\ud615\\ud0dc\\ub85c \\ucd9c\\uac04\\ub418\\uc5c8\\ub2e4.\\n\\n\\ud5e4\\ubc0d\\uc6e8\\uc774\\uc758 \\uac00\\uc7a5 \\uc644\\uc219\\ud55c \\uc18c\\uc124. \\ub2e8\\uc5f0\\ucf54 \\uadf8\\uc758 \\ubb38\\ud559\\uc801 \\ucc9c\\uc7ac\\uc131\\uc744 \\uac00\\uc7a5 \\uc798 \\ubcf4\\uc5ec\\uc8fc\\ub294 \\uc791\\ud488!\\n\\u3008\\ud574\\ub958\\uc18d\\uc758 \\uc12c\\ub4e4\\u3009\\uc740 \\ud5e4\\ubc0d\\uc6e8\\uc774\\uc758 \\ubaa8\\ub4e0 \\ub3c5\\uc790\\ub4e4\\uc744 \\uc2e4\\ub9dd\\uc2dc\\ud0a4\\uc9c0 \\uc54a\\ub294\\ub2e4. \\ud5e4\\ubc0d\\uc6e8\\uc774\\uc758 \\ubaa8\\ub4e0 \\uc8fc\\uc778\\uacf5\\uc774 \\uadf8\\ub807\\ub4ef\\uc774 \\ud1a0\\ub9c8\\uc2a4 \\ud5c8\\ub4dc\\uc2a8\\uc740 \\uc774 \\uc18c\\uc124\\uc5d0\\uc11c\\ub3c4 \\ud328\\ubc30\\ud55c \\uc778\\uac04\\uc5d0 \\ub300\\ud55c \\ub728\\uac70\\uc6b4 \\uc9c8\\ubb38\\uc744 \\ub3c5\\uc790\\uc5d0\\uac8c \\ub358\\uc9c0\\uba70 \\uadf9\\ubcf5\\ud560 \\uc218 \\uc5c6\\ub294 \\ub3c4\\uc804\\uc744 \\uc548\\uace0 \\uae30\\uc5b4\\ucf54 \\uc2e4\\ud328\\ud55c\\ub2e4,\\n\\n\\u25a0 \\uc904\\uac70\\ub9ac\\n\\uc720\\uba85\\ud55c \\uc608\\uc220\\uac00\\uc778 \\ud1a0\\ub9c8\\uc2a4 \\ud5c8\\ub4dc\\uc2a8\\uc740 \\ud50c\\ub85c\\ub9ac\\ub2e4\\uc5d0\\uc11c 50\\ub9c8\\uc77c \\ub5a8\\uc5b4\\uc9c4 \\ubc14\\ud558\\ub9c8\\uc12c\\uc778 \\ube44\\ubbf8\\ub2c8\\uc5d0 \\uc0b4\\uace0 \\uc788\\ub2e4. \\ud5c8\\ub4dc\\uc2a8\\uc740 \\ub300\\ubd80\\ubd84\\uc758 \\uc0b6\\uc744 \\uce5c\\uad6c\\ub4e4\\uc778 \\uc5b4\\ubd80\\uc640 \\uc220\\uc744 \\ub9c8\\uc2dc\\uac70\\ub098 \\uace0\\uc591\\uc774\\uac00 \\ucda9\\ubd84\\ud788 \\uba39\\uace0 \\uc788\\ub294\\uc9c0\\ub97c \\uac71\\uc815\\ud558\\uba70 \\ubcf4\\ub0b8\\ub2e4. \\uacfc\\uac70\\uc5d4 \\ubc14\\ud558\\ub9c8\\uc5d0\\uc11c \\uac00\\uae4c\\uc6b4 \\ucfe0\\ubc14\\uc5d0\\uc11c \\uc218 \\uc2ed\\ub9c8\\ub9ac\\uc758 \\uace0\\uc591\\uc774\\ub97c \\uae30\\ub974\\uac70\\ub098 \\n\\uc790\\uc2e0\\uc758 \\ubcf4\\ud2b8\\ub97c \\ubbf8\\ud574\\uad70\\uc758 \\uce21\\ub7c9\\uc120\\ubc15\\uc73c\\ub85c \\uac1c\\uc870\\ud574 \\ub3c5\\uc77c U\\ubcf4\\ud2b8\\ub97c \\ucc3e\\uae30 \\uc704\\ud574 \\uce74\\ub9ac\\ube0c\\ud574 \\ud574\\uc548\\uc120\\uc744 \\ub4a4\\uc9c0\\uace0 \\ub2e4\\ub2c8\\uace4 \\ud588\\ub2e4. \\uadf8\\ub7ec\\ub358 \\uc911 \\uc5b4\\ub290\\ub0a0 \\uadf8\\uc758 \\uc544\\ub4e4\\ub4e4\\uc774 \\uac11\\uc790\\uae30 \\uadf8\\ub97c \\ucc3e\\uae30\\uc704\\ud574 \\ubc29\\ubb38\\ud558\\ub7ec \\uc628\\ub2e4\\ub294 \\uc18c\\uc2dd\\uc774 \\uc804\\ud574\\uc9c0\\uace0 \\ud1a0\\uba38\\uc2a4 \\ud5c8\\ub4dc\\uc2a8\\uc740 \\uc544\\ubc84\\uc9c0\\uc758 \\uc5ed\\ud560\\uacfc \\uac00\\uc871\\uc758 \\ub0af\\uc120\\uc694\\uad6c\\uc5d0 \\uace0\\ubbfc\\ud558\\uac8c \\ub41c\\ub2e4.\"\n        ],\n        \"semantic_type\": \"\",\n        \"description\": \"\"\n      }\n    }\n  ]\n}"
            }
          },
          "metadata": {},
          "execution_count": 19
        }
      ],
      "source": [
        "combined_df = combined_df[combined_df['description'] != \"No description available\"]\n",
        "combined_df"
      ]
    },
    {
      "cell_type": "code",
      "execution_count": null,
      "metadata": {
        "id": "crU9D0z0GFAy"
      },
      "outputs": [],
      "source": [
        "# 기존 구축 데이터 병합\n",
        "combined_df = pd.concat([combined_df, df_2], ignore_index=True)"
      ]
    },
    {
      "cell_type": "code",
      "execution_count": null,
      "metadata": {
        "id": "-y9yOnfAwG9B",
        "colab": {
          "base_uri": "https://localhost:8080/"
        },
        "outputId": "1decb191-b5a3-4f2a-f0ef-3b354341b776"
      },
      "outputs": [
        {
          "output_type": "execute_result",
          "data": {
            "text/plain": [
              "(943508, 4)"
            ]
          },
          "metadata": {},
          "execution_count": 21
        }
      ],
      "source": [
        "combined_df.shape"
      ]
    },
    {
      "cell_type": "code",
      "execution_count": null,
      "metadata": {
        "id": "lqWXByjev2-r"
      },
      "outputs": [],
      "source": [
        "combined_df = combined_df.drop_duplicates(subset='ISBN_THIRTEEN_NO', keep='first').reset_index(drop=True)"
      ]
    },
    {
      "cell_type": "code",
      "execution_count": null,
      "metadata": {
        "id": "60Gwbp_1wNm0",
        "colab": {
          "base_uri": "https://localhost:8080/"
        },
        "outputId": "edf90d1b-1578-4671-d5e5-fb7dbbc9104b"
      },
      "outputs": [
        {
          "output_type": "execute_result",
          "data": {
            "text/plain": [
              "(919595, 4)"
            ]
          },
          "metadata": {},
          "execution_count": 23
        }
      ],
      "source": [
        "combined_df.shape"
      ]
    },
    {
      "cell_type": "code",
      "execution_count": null,
      "metadata": {
        "id": "C7gKZ4icGoSK",
        "colab": {
          "base_uri": "https://localhost:8080/",
          "height": 209
        },
        "outputId": "4f512571-776a-4d6e-8cfd-a13ced937204"
      },
      "outputs": [
        {
          "output_type": "execute_result",
          "data": {
            "text/plain": [
              "TITLE_NM               0\n",
              "ISBN_THIRTEEN_NO       0\n",
              "KDC_NM                 0\n",
              "description         2515\n",
              "dtype: int64"
            ],
            "text/html": [
              "<div>\n",
              "<style scoped>\n",
              "    .dataframe tbody tr th:only-of-type {\n",
              "        vertical-align: middle;\n",
              "    }\n",
              "\n",
              "    .dataframe tbody tr th {\n",
              "        vertical-align: top;\n",
              "    }\n",
              "\n",
              "    .dataframe thead th {\n",
              "        text-align: right;\n",
              "    }\n",
              "</style>\n",
              "<table border=\"1\" class=\"dataframe\">\n",
              "  <thead>\n",
              "    <tr style=\"text-align: right;\">\n",
              "      <th></th>\n",
              "      <th>0</th>\n",
              "    </tr>\n",
              "  </thead>\n",
              "  <tbody>\n",
              "    <tr>\n",
              "      <th>TITLE_NM</th>\n",
              "      <td>0</td>\n",
              "    </tr>\n",
              "    <tr>\n",
              "      <th>ISBN_THIRTEEN_NO</th>\n",
              "      <td>0</td>\n",
              "    </tr>\n",
              "    <tr>\n",
              "      <th>KDC_NM</th>\n",
              "      <td>0</td>\n",
              "    </tr>\n",
              "    <tr>\n",
              "      <th>description</th>\n",
              "      <td>2515</td>\n",
              "    </tr>\n",
              "  </tbody>\n",
              "</table>\n",
              "</div><br><label><b>dtype:</b> int64</label>"
            ]
          },
          "metadata": {},
          "execution_count": 24
        }
      ],
      "source": [
        "combined_df.isna().sum()"
      ]
    },
    {
      "cell_type": "code",
      "execution_count": null,
      "metadata": {
        "id": "fT7lfKVAZLsA"
      },
      "outputs": [],
      "source": [
        "combined_df = combined_df.dropna(subset=['description'])"
      ]
    },
    {
      "cell_type": "code",
      "execution_count": null,
      "metadata": {
        "id": "W7SnHUHOBCHZ",
        "colab": {
          "base_uri": "https://localhost:8080/",
          "height": 209
        },
        "outputId": "1ec437c3-52e8-4798-c354-a15411394acf"
      },
      "outputs": [
        {
          "output_type": "execute_result",
          "data": {
            "text/plain": [
              "TITLE_NM            object\n",
              "ISBN_THIRTEEN_NO    object\n",
              "KDC_NM              object\n",
              "description         object\n",
              "dtype: object"
            ],
            "text/html": [
              "<div>\n",
              "<style scoped>\n",
              "    .dataframe tbody tr th:only-of-type {\n",
              "        vertical-align: middle;\n",
              "    }\n",
              "\n",
              "    .dataframe tbody tr th {\n",
              "        vertical-align: top;\n",
              "    }\n",
              "\n",
              "    .dataframe thead th {\n",
              "        text-align: right;\n",
              "    }\n",
              "</style>\n",
              "<table border=\"1\" class=\"dataframe\">\n",
              "  <thead>\n",
              "    <tr style=\"text-align: right;\">\n",
              "      <th></th>\n",
              "      <th>0</th>\n",
              "    </tr>\n",
              "  </thead>\n",
              "  <tbody>\n",
              "    <tr>\n",
              "      <th>TITLE_NM</th>\n",
              "      <td>object</td>\n",
              "    </tr>\n",
              "    <tr>\n",
              "      <th>ISBN_THIRTEEN_NO</th>\n",
              "      <td>object</td>\n",
              "    </tr>\n",
              "    <tr>\n",
              "      <th>KDC_NM</th>\n",
              "      <td>object</td>\n",
              "    </tr>\n",
              "    <tr>\n",
              "      <th>description</th>\n",
              "      <td>object</td>\n",
              "    </tr>\n",
              "  </tbody>\n",
              "</table>\n",
              "</div><br><label><b>dtype:</b> object</label>"
            ]
          },
          "metadata": {},
          "execution_count": 26
        }
      ],
      "source": [
        "combined_df.dtypes"
      ]
    },
    {
      "cell_type": "markdown",
      "metadata": {
        "id": "MBLy9LGn0ufn"
      },
      "source": [
        "## (2) 라벨 불균형 해결"
      ]
    },
    {
      "cell_type": "code",
      "source": [
        "from collections import Counter  # Counter 객체를 collections 모듈에서 임포트\n",
        "\n",
        "label_counts = Counter(combined_df['KDC_NM'])\n",
        "labels_over_500 = {label for label, count in label_counts.items() if count > 500}\n",
        "\n",
        "# 필터링하여 새로운 데이터프레임 생성\n",
        "combined_df = combined_df[combined_df['KDC_NM'].isin(labels_over_500)].copy()\n",
        "\n",
        "# 결과 확인\n",
        "print(combined_df.shape)\n",
        "print(combined_df['KDC_NM'].value_counts())\n",
        "print(len(combined_df['KDC_NM'].value_counts()))"
      ],
      "metadata": {
        "id": "Qg2WdlvCQVKV",
        "outputId": "8106090c-e4b6-4477-d7be-090def5ba418",
        "colab": {
          "base_uri": "https://localhost:8080/"
        }
      },
      "execution_count": 6,
      "outputs": [
        {
          "output_type": "stream",
          "name": "stdout",
          "text": [
            "(528843, 4)\n",
            "KDC_NM\n",
            "813.7    56540\n",
            "813.6    35035\n",
            "830.0    32274\n",
            "843.0    17811\n",
            "833.6    17427\n",
            "         ...  \n",
            "5.11       511\n",
            "235.7      510\n",
            "235.0      504\n",
            "892.8      501\n",
            "331.1      501\n",
            "Name: count, Length: 248, dtype: int64\n",
            "248\n"
          ]
        }
      ]
    },
    {
      "cell_type": "code",
      "execution_count": 7,
      "metadata": {
        "colab": {
          "base_uri": "https://localhost:8080/",
          "height": 607
        },
        "id": "SE2_f_Mt1RxR",
        "outputId": "90ed2ba5-7897-46c7-af73-f17c20ef3996"
      },
      "outputs": [
        {
          "output_type": "display_data",
          "data": {
            "text/plain": [
              "<Figure size 1200x600 with 1 Axes>"
            ],
            "image/png": "[encoded data removed]"
          },
          "metadata": {}
        }
      ],
      "source": [
        "from collections import Counter  # Counter 객체를 collections 모듈에서 임포트\n",
        "import matplotlib.pyplot as plt # Import matplotlib\n",
        "\n",
        "# 각 라벨의 빈도수 계산\n",
        "label_counts = Counter(combined_df['KDC_NM'])\n",
        "\n",
        "# 라벨의 빈도수 (x축에 해당)\n",
        "label_frequencies = list(label_counts.values())\n",
        "\n",
        "# 적절한 bin 개수 결정 (빈도수의 분포를 기준으로)\n",
        "n_bins = int(np.sqrt(len(label_frequencies)))  # 빈도수에 대해 제곱근 법칙 적용\n",
        "\n",
        "# 라벨 빈도수로 히스토그램 구간 설정\n",
        "plt.figure(figsize=(12, 6))\n",
        "\n",
        "# 히스토그램 그리기\n",
        "plt.hist(\n",
        "    label_frequencies,  # 라벨 빈도수 사용\n",
        "    bins=n_bins,  # 동적으로 계산된 bin 개수\n",
        "    edgecolor='black',\n",
        "    alpha=0.7\n",
        ")\n",
        "\n",
        "# x축 최대값을 label_frequencies의 최댓값으로 설정\n",
        "plt.xlim(0, max(label_frequencies))\n",
        "plt.ylim(0, 200)\n",
        "\n",
        "# 그래프 설정\n",
        "plt.title('Label Frequency Distribution')\n",
        "plt.xlabel('Number of Instances per Label (x-axis)')\n",
        "plt.ylabel('Number of Labels (y-axis)')\n",
        "\n",
        "# x축에 라벨 빈도수 표시, y축에는 레이블 개수 표시\n",
        "plt.grid(axis='y', linestyle='--', alpha=0.7)\n",
        "plt.tight_layout()  # 레이아웃 조정\n",
        "plt.show()"
      ]
    },
    {
      "cell_type": "markdown",
      "metadata": {
        "id": "etXJYSUrxhZJ"
      },
      "source": [
        "### Data Augmentation"
      ]
    },
    {
      "cell_type": "code",
      "execution_count": 8,
      "metadata": {
        "colab": {
          "base_uri": "https://localhost:8080/"
        },
        "id": "HR3iOlwaxgb-",
        "outputId": "f3836b06-213d-4373-a2be-50eff289cb06"
      },
      "outputs": [
        {
          "output_type": "stream",
          "name": "stdout",
          "text": [
            "Requirement already satisfied: nltk in /usr/local/lib/python3.11/dist-packages (3.9.1)\n",
            "Requirement already satisfied: click in /usr/local/lib/python3.11/dist-packages (from nltk) (8.2.1)\n",
            "Requirement already satisfied: joblib in /usr/local/lib/python3.11/dist-packages (from nltk) (1.5.1)\n",
            "Requirement already satisfied: regex>=2021.8.3 in /usr/local/lib/python3.11/dist-packages (from nltk) (2024.11.6)\n",
            "Requirement already satisfied: tqdm in /usr/local/lib/python3.11/dist-packages (from nltk) (4.67.1)\n"
          ]
        },
        {
          "output_type": "stream",
          "name": "stderr",
          "text": [
            "[nltk_data] Downloading package punkt_tab to /root/nltk_data...\n",
            "[nltk_data]   Unzipping tokenizers/punkt_tab.zip.\n",
            "[nltk_data] Downloading package wordnet to /root/nltk_data...\n",
            "[nltk_data] Downloading package omw-1.4 to /root/nltk_data...\n"
          ]
        }
      ],
      "source": [
        "# !pip install nltk\n",
        "# import nltk\n",
        "# nltk.download('punkt_tab')\n",
        "# nltk.download('wordnet')\n",
        "# nltk.download('omw-1.4')\n",
        "# import random\n",
        "# import pickle\n",
        "# import re"
      ]
    },
    {
      "cell_type": "code",
      "execution_count": 9,
      "metadata": {
        "id": "oUirigquwzK0"
      },
      "outputs": [],
      "source": [
        "# 한글만 남기고 나머지는 삭제\n",
        "def get_only_hangul(line):\n",
        "\tparseText= re.compile('/ ^[ㄱ-ㅎㅏ-ㅣ가-힣]*$/').sub('',line)\n",
        "\n",
        "\treturn parseText\n",
        "\n",
        "########################################################################\n",
        "# Synonym replacement\n",
        "# Replace n words in the sentence with synonyms from wordnet\n",
        "########################################################################\n",
        "\n",
        "def synonym_replacement(words, n):\n",
        "\tnew_words = words.copy()\n",
        "\trandom_word_list = list(set([word for word in words]))\n",
        "\trandom.shuffle(random_word_list)\n",
        "\tnum_replaced = 0\n",
        "\tfor random_word in random_word_list:\n",
        "\t\tsynonyms = get_synonyms(random_word)\n",
        "\t\tif len(synonyms) >= 1:\n",
        "\t\t\tsynonym = random.choice(list(synonyms))\n",
        "\t\t\tnew_words = [synonym if word == random_word else word for word in new_words]\n",
        "\t\t\tnum_replaced += 1\n",
        "\t\tif num_replaced >= n:\n",
        "\t\t\tbreak\n",
        "\n",
        "\tif len(new_words) != 0:\n",
        "\t\tsentence = ' '.join(new_words)\n",
        "\t\tnew_words = sentence.split(\" \")\n",
        "\n",
        "\telse:\n",
        "\t\tnew_words = \"\"\n",
        "\n",
        "\treturn new_words\n",
        "\n",
        "def get_synonyms(word):\n",
        "\tsynomyms = []\n",
        "\n",
        "\ttry:\n",
        "\t\tfor syn in wordnet[word]:\n",
        "\t\t\tfor s in syn:\n",
        "\t\t\t\tsynomyms.append(s)\n",
        "\texcept:\n",
        "\t\tpass\n",
        "\n",
        "\treturn synomyms\n",
        "\n",
        "########################################################################\n",
        "# Random deletion\n",
        "# Randomly delete words from the sentence with probability p\n",
        "########################################################################\n",
        "def random_deletion(words, p):\n",
        "\tif len(words) == 1:\n",
        "\t\treturn words\n",
        "\n",
        "\tnew_words = []\n",
        "\tfor word in words:\n",
        "\t\tr = random.uniform(0, 1)\n",
        "\t\tif r > p:\n",
        "\t\t\tnew_words.append(word)\n",
        "\n",
        "\tif len(new_words) == 0:\n",
        "\t\trand_int = random.randint(0, len(words)-1)\n",
        "\t\treturn [words[rand_int]]\n",
        "\n",
        "\treturn new_words\n",
        "\n",
        "########################################################################\n",
        "# Random swap\n",
        "# Randomly swap two words in the sentence n times\n",
        "########################################################################\n",
        "def random_swap(words, n):\n",
        "\tnew_words = words.copy()\n",
        "\tfor _ in range(n):\n",
        "\t\tnew_words = swap_word(new_words)\n",
        "\n",
        "\treturn new_words\n",
        "\n",
        "def swap_word(new_words):\n",
        "\trandom_idx_1 = random.randint(0, len(new_words)-1)\n",
        "\trandom_idx_2 = random_idx_1\n",
        "\tcounter = 0\n",
        "\n",
        "\twhile random_idx_2 == random_idx_1:\n",
        "\t\trandom_idx_2 = random.randint(0, len(new_words)-1)\n",
        "\t\tcounter += 1\n",
        "\t\tif counter > 3:\n",
        "\t\t\treturn new_words\n",
        "\n",
        "\tnew_words[random_idx_1], new_words[random_idx_2] = new_words[random_idx_2], new_words[random_idx_1]\n",
        "\treturn new_words\n",
        "\n",
        "########################################################################\n",
        "# Random insertion\n",
        "# Randomly insert n words into the sentence\n",
        "########################################################################\n",
        "def random_insertion(words, n):\n",
        "\tnew_words = words.copy()\n",
        "\tfor _ in range(n):\n",
        "\t\tadd_word(new_words)\n",
        "\n",
        "\treturn new_words\n",
        "\n",
        "def add_word(new_words):\n",
        "\tsynonyms = []\n",
        "\tcounter = 0\n",
        "\twhile len(synonyms) < 1:\n",
        "\t\tif len(new_words) >= 1:\n",
        "\t\t\trandom_word = new_words[random.randint(0, len(new_words)-1)]\n",
        "\t\t\tsynonyms = get_synonyms(random_word)\n",
        "\t\t\tcounter += 1\n",
        "\t\telse:\n",
        "\t\t\trandom_word = \"\"\n",
        "\n",
        "\t\tif counter >= 10:\n",
        "\t\t\treturn\n",
        "\n",
        "\trandom_synonym = synonyms[0]\n",
        "\trandom_idx = random.randint(0, len(new_words)-1)\n",
        "\tnew_words.insert(random_idx, random_synonym)"
      ]
    },
    {
      "cell_type": "code",
      "execution_count": 10,
      "metadata": {
        "id": "QUjf3farzmpv"
      },
      "outputs": [],
      "source": [
        "def augment_data(data, label_column, text_column, target_count):\n",
        "    \"\"\"\n",
        "    Args:\n",
        "        data (pd.DataFrame): 원본 데이터프레임\n",
        "        label_column (str): 라벨 컬럼명\n",
        "        text_column (str): 텍스트 컬럼명\n",
        "        target_count (int): 라벨별 최소 인스턴스 수\n",
        "\n",
        "    Returns:\n",
        "        pd.DataFrame: 증강된 데이터프레임\n",
        "    \"\"\"\n",
        "    augmented_data = []\n",
        "    label_counts = Counter(data[label_column])\n",
        "\n",
        "    for label, count in label_counts.items():\n",
        "        label_data = data[data[label_column] == label]\n",
        "        texts = label_data[text_column].tolist()\n",
        "\n",
        "        # 증강 대상 라벨 처리\n",
        "        if count < target_count:\n",
        "            needed = target_count - count\n",
        "\n",
        "            for _ in range(needed):\n",
        "                # 원본 데이터 중 하나 선택\n",
        "                original_text = random.choice(texts)\n",
        "                original_text = str(original_text)\n",
        "                words = original_text.split()\n",
        "\n",
        "                # 랜덤으로 증강 기법 선택\n",
        "                augmentation_methods = [\n",
        "                    lambda w: \" \".join(random_deletion(w, p=0.1)),\n",
        "                    lambda w: \" \".join(random_swap(w, n=2)),\n",
        "                    lambda w: \" \".join(random_insertion(w, n=2)),\n",
        "                    lambda w: \" \".join(synonym_replacement(w, n=2))\n",
        "                ]\n",
        "\n",
        "                augmented_text = random.choice(augmentation_methods)(words)\n",
        "\n",
        "                # 증강된 텍스트와 라벨 저장, 나머지 열은 원본에서 가져옴\n",
        "                augmented_row = {label_column: label, text_column: augmented_text}\n",
        "                for column in data.columns:\n",
        "                    if column not in [label_column, text_column]:\n",
        "                        augmented_row[column] = label_data[column].iloc[0]\n",
        "\n",
        "                augmented_data.append(augmented_row)\n",
        "\n",
        "    # 증강 데이터와 원본 데이터 병합\n",
        "    augmented_df = pd.DataFrame(augmented_data)\n",
        "    final_data = pd.concat([data, augmented_df], ignore_index=True)\n",
        "    return final_data"
      ]
    },
    {
      "cell_type": "code",
      "execution_count": 11,
      "metadata": {
        "id": "8_JfuFfcz4F7"
      },
      "outputs": [],
      "source": [
        "augmented_df = augment_data(combined_df, \"KDC_NM\", \"description\", 1000)"
      ]
    },
    {
      "cell_type": "code",
      "source": [
        "# 그래프 그리기\n",
        "plt.figure(figsize=(12, 6))\n",
        "augmented_df['KDC_NM'].value_counts().plot(kind='bar', color='skyblue', edgecolor='black')\n",
        "plt.title('Label Frequency Distribution for Labels with >1000 Instances')\n",
        "plt.xlabel('Labels')\n",
        "plt.ylabel('Number of Instances')\n",
        "plt.xticks(rotation=45, ha='right')\n",
        "plt.grid(axis='y', linestyle='--', alpha=0.7)\n",
        "plt.show()"
      ],
      "metadata": {
        "colab": {
          "base_uri": "https://localhost:8080/",
          "height": 619
        },
        "id": "YFiTdjtsy5Er",
        "outputId": "95856b4a-25b3-40ed-c2ab-f250489af734"
      },
      "execution_count": 25,
      "outputs": [
        {
          "output_type": "display_data",
          "data": {
            "text/plain": [
              "<Figure size 1200x600 with 1 Axes>"
            ],
            "image/png": "[encoded data removed]"
          },
          "metadata": {}
        }
      ]
    },
    {
      "cell_type": "code",
      "source": [
        "augmented_df.shape"
      ],
      "metadata": {
        "colab": {
          "base_uri": "https://localhost:8080/"
        },
        "id": "_M_XdLww1IVO",
        "outputId": "366bc1a7-a257-4171-cbbb-11b3528a730e"
      },
      "execution_count": 26,
      "outputs": [
        {
          "output_type": "execute_result",
          "data": {
            "text/plain": [
              "(571900, 4)"
            ]
          },
          "metadata": {},
          "execution_count": 26
        }
      ]
    },
    {
      "cell_type": "code",
      "execution_count": null,
      "metadata": {
        "colab": {
          "base_uri": "https://localhost:8080/"
        },
        "id": "mh-qO-wO22Vn",
        "outputId": "1adcf227-2e47-4943-b7ad-fd67777c6d7f"
      },
      "outputs": [
        {
          "output_type": "execute_result",
          "data": {
            "text/plain": [
              "24"
            ]
          },
          "metadata": {},
          "execution_count": 36
        }
      ],
      "source": [
        "len(augmented_df['KDC_NM'].value_counts())"
      ]
    },
    {
      "cell_type": "code",
      "source": [
        "augmented_df['KDC_NM'].value_counts()"
      ],
      "metadata": {
        "colab": {
          "base_uri": "https://localhost:8080/",
          "height": 489
        },
        "id": "vrH90Ej5xVIJ",
        "outputId": "2b581f9f-f918-4196-d15f-1d642acf2e40"
      },
      "execution_count": 27,
      "outputs": [
        {
          "output_type": "execute_result",
          "data": {
            "text/plain": [
              "KDC_NM\n",
              "813.7       56540\n",
              "813.6       35036\n",
              "830.0       32274\n",
              "843.0       17811\n",
              "833.6       17427\n",
              "            ...  \n",
              "367.4077     1000\n",
              "813.61       1000\n",
              "307.7        1000\n",
              "740          1000\n",
              "710          1000\n",
              "Name: count, Length: 248, dtype: int64"
            ],
            "text/html": [
              "<div>\n",
              "<style scoped>\n",
              "    .dataframe tbody tr th:only-of-type {\n",
              "        vertical-align: middle;\n",
              "    }\n",
              "\n",
              "    .dataframe tbody tr th {\n",
              "        vertical-align: top;\n",
              "    }\n",
              "\n",
              "    .dataframe thead th {\n",
              "        text-align: right;\n",
              "    }\n",
              "</style>\n",
              "<table border=\"1\" class=\"dataframe\">\n",
              "  <thead>\n",
              "    <tr style=\"text-align: right;\">\n",
              "      <th></th>\n",
              "      <th>count</th>\n",
              "    </tr>\n",
              "    <tr>\n",
              "      <th>KDC_NM</th>\n",
              "      <th></th>\n",
              "    </tr>\n",
              "  </thead>\n",
              "  <tbody>\n",
              "    <tr>\n",
              "      <th>813.7</th>\n",
              "      <td>56540</td>\n",
              "    </tr>\n",
              "    <tr>\n",
              "      <th>813.6</th>\n",
              "      <td>35036</td>\n",
              "    </tr>\n",
              "    <tr>\n",
              "      <th>830.0</th>\n",
              "      <td>32274</td>\n",
              "    </tr>\n",
              "    <tr>\n",
              "      <th>843.0</th>\n",
              "      <td>17811</td>\n",
              "    </tr>\n",
              "    <tr>\n",
              "      <th>833.6</th>\n",
              "      <td>17427</td>\n",
              "    </tr>\n",
              "    <tr>\n",
              "      <th>...</th>\n",
              "      <td>...</td>\n",
              "    </tr>\n",
              "    <tr>\n",
              "      <th>367.4077</th>\n",
              "      <td>1000</td>\n",
              "    </tr>\n",
              "    <tr>\n",
              "      <th>813.61</th>\n",
              "      <td>1000</td>\n",
              "    </tr>\n",
              "    <tr>\n",
              "      <th>307.7</th>\n",
              "      <td>1000</td>\n",
              "    </tr>\n",
              "    <tr>\n",
              "      <th>740</th>\n",
              "      <td>1000</td>\n",
              "    </tr>\n",
              "    <tr>\n",
              "      <th>710</th>\n",
              "      <td>1000</td>\n",
              "    </tr>\n",
              "  </tbody>\n",
              "</table>\n",
              "<p>248 rows × 1 columns</p>\n",
              "</div><br><label><b>dtype:</b> int64</label>"
            ]
          },
          "metadata": {},
          "execution_count": 27
        }
      ]
    },
    {
      "cell_type": "markdown",
      "metadata": {
        "id": "bBkKli2i7Y9c"
      },
      "source": [
        "### Random Under Sampling"
      ]
    },
    {
      "cell_type": "code",
      "execution_count": 12,
      "metadata": {
        "id": "HGlzUh066r4U"
      },
      "outputs": [],
      "source": [
        "from sklearn.utils import resample\n",
        "\n",
        "def random_undersample(data, label_column, target_count):\n",
        "    \"\"\"\n",
        "    지정된 target_count보다 많은 라벨의 데이터를 랜덤하게 줄이는 함수.\n",
        "\n",
        "    Args:\n",
        "        data (pd.DataFrame): 원본 데이터프레임\n",
        "        label_column (str): 라벨 컬럼명\n",
        "        target_count (int): 목표 라벨의 최소 인스턴스 수\n",
        "\n",
        "    Returns:\n",
        "        pd.DataFrame: 랜덤 언더샘플링 후의 데이터프레임\n",
        "    \"\"\"\n",
        "    undersampled_data = []\n",
        "\n",
        "    # 각 라벨별 인스턴스 개수 세기\n",
        "    label_counts = data[label_column].value_counts()\n",
        "\n",
        "    for label, count in label_counts.items():\n",
        "        label_data = data[data[label_column] == label]\n",
        "\n",
        "        # 라벨의 개수가 target_count보다 많을 경우 랜덤하게 줄이기\n",
        "        if count > target_count:\n",
        "            # target_count로 샘플링\n",
        "            label_data = resample(label_data,\n",
        "                                  replace=False,  # 샘플링은 중복 없이\n",
        "                                  n_samples=target_count,  # 지정된 개수만큼\n",
        "                                  random_state=42)\n",
        "\n",
        "        # 언더샘플링된 데이터 저장\n",
        "        undersampled_data.append(label_data)\n",
        "\n",
        "    # 리스트로 저장된 모든 데이터를 하나로 합침\n",
        "    final_data = pd.concat(undersampled_data, ignore_index=True)\n",
        "\n",
        "    return final_data"
      ]
    },
    {
      "cell_type": "code",
      "execution_count": 13,
      "metadata": {
        "id": "k31c1erO7nbY"
      },
      "outputs": [],
      "source": [
        "final_df = random_undersample(augmented_df, \"KDC_NM\", 10000)"
      ]
    },
    {
      "cell_type": "code",
      "execution_count": 30,
      "metadata": {
        "colab": {
          "base_uri": "https://localhost:8080/"
        },
        "id": "fW4lH7Ms72t8",
        "outputId": "7a2b5149-180d-4c8f-c612-e7402899373b"
      },
      "outputs": [
        {
          "output_type": "execute_result",
          "data": {
            "text/plain": [
              "(452541, 4)"
            ]
          },
          "metadata": {},
          "execution_count": 30
        }
      ],
      "source": [
        "final_df.shape"
      ]
    },
    {
      "cell_type": "code",
      "execution_count": null,
      "metadata": {
        "colab": {
          "base_uri": "https://localhost:8080/",
          "height": 209
        },
        "id": "i0_aEBIOWHmo",
        "outputId": "628cab42-9eb1-4895-dce0-5b4edcd76e6b"
      },
      "outputs": [
        {
          "output_type": "execute_result",
          "data": {
            "text/plain": [
              "TITLE_NM            0\n",
              "ISBN_THIRTEEN_NO    0\n",
              "KDC_NM              0\n",
              "description         0\n",
              "dtype: int64"
            ],
            "text/html": [
              "<div>\n",
              "<style scoped>\n",
              "    .dataframe tbody tr th:only-of-type {\n",
              "        vertical-align: middle;\n",
              "    }\n",
              "\n",
              "    .dataframe tbody tr th {\n",
              "        vertical-align: top;\n",
              "    }\n",
              "\n",
              "    .dataframe thead th {\n",
              "        text-align: right;\n",
              "    }\n",
              "</style>\n",
              "<table border=\"1\" class=\"dataframe\">\n",
              "  <thead>\n",
              "    <tr style=\"text-align: right;\">\n",
              "      <th></th>\n",
              "      <th>0</th>\n",
              "    </tr>\n",
              "  </thead>\n",
              "  <tbody>\n",
              "    <tr>\n",
              "      <th>TITLE_NM</th>\n",
              "      <td>0</td>\n",
              "    </tr>\n",
              "    <tr>\n",
              "      <th>ISBN_THIRTEEN_NO</th>\n",
              "      <td>0</td>\n",
              "    </tr>\n",
              "    <tr>\n",
              "      <th>KDC_NM</th>\n",
              "      <td>0</td>\n",
              "    </tr>\n",
              "    <tr>\n",
              "      <th>description</th>\n",
              "      <td>0</td>\n",
              "    </tr>\n",
              "  </tbody>\n",
              "</table>\n",
              "</div><br><label><b>dtype:</b> int64</label>"
            ]
          },
          "metadata": {},
          "execution_count": 43
        }
      ],
      "source": [
        "final_df.isna().sum()"
      ]
    },
    {
      "cell_type": "code",
      "execution_count": null,
      "metadata": {
        "id": "J-Ojbz2tXW9n"
      },
      "outputs": [],
      "source": [
        "final_df = final_df.dropna(subset=['description'])"
      ]
    },
    {
      "cell_type": "code",
      "source": [
        "# 그래프 그리기\n",
        "plt.figure(figsize=(12, 6))\n",
        "final_df['KDC_NM'].value_counts().plot(kind='bar', color='skyblue', edgecolor='black')\n",
        "plt.title('Label Frequency Distribution for Labels with <10000 Instances')\n",
        "plt.xlabel('Labels')\n",
        "plt.ylabel('Number of Instances')\n",
        "plt.xticks(rotation=45, ha='right')\n",
        "plt.grid(axis='y', linestyle='--', alpha=0.7)\n",
        "plt.show()"
      ],
      "metadata": {
        "colab": {
          "base_uri": "https://localhost:8080/",
          "height": 619
        },
        "id": "DpGuzMjizUja",
        "outputId": "680866d8-10f7-4968-fddf-adfb2387f487"
      },
      "execution_count": 32,
      "outputs": [
        {
          "output_type": "display_data",
          "data": {
            "text/plain": [
              "<Figure size 1200x600 with 1 Axes>"
            ],
            "image/png": "[encoded data removed]"
          },
          "metadata": {}
        }
      ]
    },
    {
      "cell_type": "code",
      "execution_count": null,
      "metadata": {
        "colab": {
          "base_uri": "https://localhost:8080/"
        },
        "id": "oF7m7dm895wC",
        "outputId": "ec3475bf-4be9-4066-89a7-b2596bdf0e46"
      },
      "outputs": [
        {
          "output_type": "execute_result",
          "data": {
            "text/plain": [
              "248"
            ]
          },
          "metadata": {},
          "execution_count": 46
        }
      ],
      "source": [
        "len(final_df['KDC_NM'].unique())"
      ]
    },
    {
      "cell_type": "markdown",
      "source": [
        "## 5000, 1000, 500 체크"
      ],
      "metadata": {
        "id": "suGawbE3POvH"
      }
    },
    {
      "cell_type": "code",
      "source": [
        "combined_df['KDC_NM'] = combined_df['KDC_NM'].astype(str).str.strip().str.replace(\" \", \"\", regex=True)\n",
        "combined_df['KDC_NM'] = combined_df['KDC_NM'].astype(str)"
      ],
      "metadata": {
        "id": "3JvR8aon4CdX"
      },
      "execution_count": 12,
      "outputs": []
    },
    {
      "cell_type": "code",
      "source": [
        "label_counts = Counter(combined_df['KDC_NM'])\n",
        "labels_over_5000 = {label for label, count in label_counts.items() if count > 500}\n",
        "\n",
        "# 필터링하여 새로운 데이터프레임 생성\n",
        "df_over5000 = combined_df[combined_df['KDC_NM'].isin(labels_over_5000)].copy()\n",
        "\n",
        "# 결과 확인\n",
        "print(df_over5000.shape)\n",
        "print(df_over5000['KDC_NM'].value_counts())\n",
        "print(len(df_over5000['KDC_NM'].value_counts()))"
      ],
      "metadata": {
        "colab": {
          "base_uri": "https://localhost:8080/"
        },
        "id": "w4RVTlvqhNmi",
        "outputId": "2f5fa040-8c49-48e6-c4b7-2c355887fbb3"
      },
      "execution_count": null,
      "outputs": [
        {
          "output_type": "stream",
          "name": "stdout",
          "text": [
            "(528845, 4)\n",
            "KDC_NM\n",
            "813.7    56540\n",
            "813.6    35036\n",
            "830.0    32274\n",
            "843.0    17811\n",
            "833.6    17427\n",
            "         ...  \n",
            "5.11       511\n",
            "235.7      510\n",
            "235.0      504\n",
            "892.8      501\n",
            "331.1      501\n",
            "Name: count, Length: 248, dtype: int64\n",
            "248\n"
          ]
        }
      ]
    },
    {
      "cell_type": "code",
      "execution_count": null,
      "metadata": {
        "colab": {
          "base_uri": "https://localhost:8080/",
          "height": 619
        },
        "id": "AiGRkgcfrC5W",
        "outputId": "b9699540-5712-4d4d-b194-dd07fc19ba48"
      },
      "outputs": [
        {
          "output_type": "display_data",
          "data": {
            "text/plain": [
              "<Figure size 1200x600 with 1 Axes>"
            ],
            "image/png": "[encoded data removed]"
          },
          "metadata": {}
        }
      ],
      "source": [
        "# 그래프 그리기\n",
        "plt.figure(figsize=(12, 6))\n",
        "df_over500['KDC_NM'].value_counts().plot(kind='bar', color='skyblue', edgecolor='black')\n",
        "plt.title('Label Frequency Distribution for Labels with >5000 Instances')\n",
        "plt.xlabel('Labels')\n",
        "plt.ylabel('Number of Instances')\n",
        "plt.xticks(rotation=45, ha='right')\n",
        "plt.grid(axis='y', linestyle='--', alpha=0.7)\n",
        "plt.show()"
      ]
    },
    {
      "cell_type": "markdown",
      "metadata": {
        "id": "3uI4Shc0FItO"
      },
      "source": [
        "# KoBERT Model"
      ]
    },
    {
      "cell_type": "code",
      "source": [
        "!pip install 'git+https://github.com/SKTBrain/KoBERT.git#egg=kobert_tokenizer&subdirectory=kobert_hf'"
      ],
      "metadata": {
        "id": "T3wQl_sSGUc0",
        "outputId": "4378545a-0a6b-4f24-f0d1-afbaaca4a9e9",
        "colab": {
          "base_uri": "https://localhost:8080/"
        }
      },
      "execution_count": 15,
      "outputs": [
        {
          "output_type": "stream",
          "name": "stdout",
          "text": [
            "Collecting kobert_tokenizer\n",
            "  Cloning https://github.com/SKTBrain/KoBERT.git to /tmp/pip-install-84_re4fw/kobert-tokenizer_daddfd061b1d42d19110adcc2ac15ed2\n",
            "  Running command git clone --filter=blob:none --quiet https://github.com/SKTBrain/KoBERT.git /tmp/pip-install-84_re4fw/kobert-tokenizer_daddfd061b1d42d19110adcc2ac15ed2\n",
            "  Resolved https://github.com/SKTBrain/KoBERT.git to commit fcd729f2f4b37858f333597c0782388ada51eb5f\n",
            "  Preparing metadata (setup.py) ... \u001b[?25l\u001b[?25hdone\n",
            "Building wheels for collected packages: kobert_tokenizer\n",
            "  Building wheel for kobert_tokenizer (setup.py) ... \u001b[?25l\u001b[?25hdone\n",
            "  Created wheel for kobert_tokenizer: filename=kobert_tokenizer-0.1-py3-none-any.whl size=4633 sha256=102157fed74dceac8ef81d9ed6946665261f16ff57f14e892ab4d32c4946912f\n",
            "  Stored in directory: /tmp/pip-ephem-wheel-cache-ypg3ru57/wheels/b7/95/7c/3f38b039ae9422cc4a51702b37e352d0585442cbe60285f1f2\n",
            "Successfully built kobert_tokenizer\n",
            "Installing collected packages: kobert_tokenizer\n",
            "Successfully installed kobert_tokenizer-0.1\n"
          ]
        }
      ]
    },
    {
      "cell_type": "code",
      "execution_count": null,
      "metadata": {
        "colab": {
          "base_uri": "https://localhost:8080/"
        },
        "id": "FVhaY3DGfs3y",
        "outputId": "249d93fb-66b8-481c-a195-69f28f5b7106"
      },
      "outputs": [
        {
          "output_type": "stream",
          "name": "stdout",
          "text": [
            "Collecting mxnet\n",
            "  Downloading mxnet-1.9.1-py3-none-manylinux2014_x86_64.whl.metadata (3.4 kB)\n",
            "Requirement already satisfied: numpy<2.0.0,>1.16.0 in /usr/local/lib/python3.11/dist-packages (from mxnet) (1.26.4)\n",
            "Requirement already satisfied: requests<3,>=2.20.0 in /usr/local/lib/python3.11/dist-packages (from mxnet) (2.32.3)\n",
            "Collecting graphviz<0.9.0,>=0.8.1 (from mxnet)\n",
            "  Downloading graphviz-0.8.4-py2.py3-none-any.whl.metadata (6.4 kB)\n",
            "Requirement already satisfied: charset-normalizer<4,>=2 in /usr/local/lib/python3.11/dist-packages (from requests<3,>=2.20.0->mxnet) (3.4.1)\n",
            "Requirement already satisfied: idna<4,>=2.5 in /usr/local/lib/python3.11/dist-packages (from requests<3,>=2.20.0->mxnet) (3.10)\n",
            "Requirement already satisfied: urllib3<3,>=1.21.1 in /usr/local/lib/python3.11/dist-packages (from requests<3,>=2.20.0->mxnet) (2.3.0)\n",
            "Requirement already satisfied: certifi>=2017.4.17 in /usr/local/lib/python3.11/dist-packages (from requests<3,>=2.20.0->mxnet) (2024.12.14)\n",
            "Downloading mxnet-1.9.1-py3-none-manylinux2014_x86_64.whl (49.1 MB)\n",
            "\u001b[2K   \u001b[90m━━━━━━━━━━━━━━━━━━━━━━━━━━━━━━━━━━━━━━━━\u001b[0m \u001b[32m49.1/49.1 MB\u001b[0m \u001b[31m48.0 MB/s\u001b[0m eta \u001b[36m0:00:00\u001b[0m\n",
            "\u001b[?25hDownloading graphviz-0.8.4-py2.py3-none-any.whl (16 kB)\n",
            "Installing collected packages: graphviz, mxnet\n",
            "  Attempting uninstall: graphviz\n",
            "    Found existing installation: graphviz 0.20.3\n",
            "    Uninstalling graphviz-0.20.3:\n",
            "      Successfully uninstalled graphviz-0.20.3\n",
            "Successfully installed graphviz-0.8.4 mxnet-1.9.1\n",
            "Collecting gluonnlp\n",
            "  Downloading gluonnlp-0.10.0.tar.gz (344 kB)\n",
            "\u001b[2K     \u001b[90m━━━━━━━━━━━━━━━━━━━━━━━━━━━━━━━━━━━━━━━━\u001b[0m \u001b[32m344.5/344.5 kB\u001b[0m \u001b[31m5.8 MB/s\u001b[0m eta \u001b[36m0:00:00\u001b[0m\n",
            "\u001b[?25h  Preparing metadata (setup.py) ... \u001b[?25l\u001b[?25hdone\n",
            "Requirement already satisfied: pandas in /usr/local/lib/python3.11/dist-packages (2.2.2)\n",
            "Requirement already satisfied: tqdm in /usr/local/lib/python3.11/dist-packages (4.67.1)\n",
            "Requirement already satisfied: numpy>=1.16.0 in /usr/local/lib/python3.11/dist-packages (from gluonnlp) (1.26.4)\n",
            "Requirement already satisfied: cython in /usr/local/lib/python3.11/dist-packages (from gluonnlp) (3.0.11)\n",
            "Requirement already satisfied: packaging in /usr/local/lib/python3.11/dist-packages (from gluonnlp) (24.2)\n",
            "Requirement already satisfied: python-dateutil>=2.8.2 in /usr/local/lib/python3.11/dist-packages (from pandas) (2.8.2)\n",
            "Requirement already satisfied: pytz>=2020.1 in /usr/local/lib/python3.11/dist-packages (from pandas) (2024.2)\n",
            "Requirement already satisfied: tzdata>=2022.7 in /usr/local/lib/python3.11/dist-packages (from pandas) (2025.1)\n",
            "Requirement already satisfied: six>=1.5 in /usr/local/lib/python3.11/dist-packages (from python-dateutil>=2.8.2->pandas) (1.17.0)\n",
            "Building wheels for collected packages: gluonnlp\n",
            "  Building wheel for gluonnlp (setup.py) ... \u001b[?25l\u001b[?25hdone\n",
            "  Created wheel for gluonnlp: filename=gluonnlp-0.10.0-cp311-cp311-linux_x86_64.whl size=679483 sha256=726da97a01f2812d1e67852164a11d2a2b6a9e15abf562de100932ad3bd0825a\n",
            "  Stored in directory: /root/.cache/pip/wheels/29/64/e3/047328bfc4a551696adc4a82dba3c980a1dad62198b8a3bb83\n",
            "Successfully built gluonnlp\n",
            "Installing collected packages: gluonnlp\n",
            "Successfully installed gluonnlp-0.10.0\n"
          ]
        }
      ],
      "source": [
        "# !pip install mxnet\n",
        "# !pip install gluonnlp pandas tqdm"
      ]
    },
    {
      "cell_type": "code",
      "execution_count": 16,
      "metadata": {
        "colab": {
          "base_uri": "https://localhost:8080/",
          "height": 684,
          "referenced_widgets": [
            "6b898dae7e83425ca29fa41360c7d745",
            "466c6aac6a474198aa567121a7657a20",
            "78ec45969f2c40c8bb64ab5e6f7b9ac6",
            "a7a763f456144b59beaee753c14736ac",
            "90afc36ebe7d421d80151bd653cd89b9",
            "b1276379ebce482390bcd5173faa9b26",
            "bba6f1b75d1f474d8563ae48119f9278",
            "a30fd0838819484d8e913db2c8008740",
            "312b6a78a2354cf78aed6b48f6b87399",
            "c2d5d53af5144012a7fd067325f321b6",
            "4b33c4f1785b4010be67f651526bab85",
            "4071b8dd6ad143339d267209ce004603",
            "45a5d922cded43b69195530678b6ef78",
            "31a705446fbf4a7ab1f4c50483e84163",
            "49dea6be2693436aaffa489be372ea6f",
            "7cd436937e734e0e94f3a46b8fab5e13",
            "0adfc25b8fab4f7a8a759e31af54f80a",
            "969d624fb78e462690d1f7f1f889b116",
            "445197ab59ed4637993e75c287cc9249",
            "3318905479744bd2a4ed093b89ae31e5",
            "e6e81c8735de4babace160d0ee189fb0",
            "624efd8f0ab74d4db69b9ddf36f8db8d",
            "2494521927c949699c42f6284677f7a2",
            "da6133dc8b744cb8af2caa1bded38906",
            "68fd8b160acc4b00ac86c8093519240f",
            "5413c0ffb8614de59fef2e6e5d17d199",
            "078b49c7c9834c65a3438709ddc3c33a",
            "8a10df70c7a34bc99c5f6da17ef01f29",
            "d68854e9ee8b47008218298e507fb1e0",
            "965d63bd3cf94690a889504be60a41f6",
            "a28b33e759f743018ce0adb75ed3dab4",
            "5ba64a96561d437f8a8b5197372a7e18",
            "6431146e8964446cb46d8917d9b7f906"
          ]
        },
        "collapsed": true,
        "id": "UaK5J-C_8yBI",
        "outputId": "29cfdf5d-9413-4f4a-f158-2120c00d8b9d"
      },
      "outputs": [
        {
          "output_type": "stream",
          "name": "stderr",
          "text": [
            "/usr/local/lib/python3.11/dist-packages/huggingface_hub/utils/_auth.py:94: UserWarning: \n",
            "The secret `HF_TOKEN` does not exist in your Colab secrets.\n",
            "To authenticate with the Hugging Face Hub, create a token in your settings tab (https://huggingface.co/settings/tokens), set it as secret in your Google Colab and restart your session.\n",
            "You will be able to reuse this secret in all of your notebooks.\n",
            "Please note that authentication is recommended but still optional to access public models or datasets.\n",
            "  warnings.warn(\n"
          ]
        },
        {
          "output_type": "display_data",
          "data": {
            "text/plain": [
              "tokenizer_config.json:   0%|          | 0.00/432 [00:00<?, ?B/s]"
            ],
            "application/vnd.jupyter.widget-view+json": {
              "version_major": 2,
              "version_minor": 0,
              "model_id": "6b898dae7e83425ca29fa41360c7d745"
            }
          },
          "metadata": {}
        },
        {
          "output_type": "display_data",
          "data": {
            "text/plain": [
              "spiece.model:   0%|          | 0.00/371k [00:00<?, ?B/s]"
            ],
            "application/vnd.jupyter.widget-view+json": {
              "version_major": 2,
              "version_minor": 0,
              "model_id": "4071b8dd6ad143339d267209ce004603"
            }
          },
          "metadata": {}
        },
        {
          "output_type": "display_data",
          "data": {
            "text/plain": [
              "special_tokens_map.json:   0%|          | 0.00/244 [00:00<?, ?B/s]"
            ],
            "application/vnd.jupyter.widget-view+json": {
              "version_major": 2,
              "version_minor": 0,
              "model_id": "2494521927c949699c42f6284677f7a2"
            }
          },
          "metadata": {}
        },
        {
          "output_type": "stream",
          "name": "stderr",
          "text": [
            "The tokenizer class you load from this checkpoint is not the same type as the class this function is called from. It may result in unexpected tokenization. \n",
            "The tokenizer class you load from this checkpoint is 'XLNetTokenizer'. \n",
            "The class this function is called from is 'KoBERTTokenizer'.\n"
          ]
        },
        {
          "output_type": "display_data",
          "data": {
            "text/plain": [
              "<Figure size 1200x400 with 3 Axes>"
            ],
            "image/png": "[encoded data removed]"
          },
          "metadata": {}
        },
        {
          "output_type": "stream",
          "name": "stdout",
          "text": [
            "248\n"
          ]
        }
      ],
      "source": [
        "import torch\n",
        "from torch import nn\n",
        "import torch.nn.functional as F\n",
        "import torch.optim as optim\n",
        "from tqdm import tqdm, tqdm_notebook\n",
        "from kobert_tokenizer import KoBERTTokenizer\n",
        "from torch.utils.data import Dataset, DataLoader, Subset\n",
        "from transformers import BertTokenizer, BertModel, get_scheduler\n",
        "from torch.optim import AdamW\n",
        "from sklearn.model_selection import train_test_split\n",
        "from torch.cuda.amp import GradScaler, autocast\n",
        "\n",
        "# 데이터셋 정의\n",
        "class BookDataset(Dataset):\n",
        "    def __init__(self, data, tokenizer, max_length):\n",
        "        self.data = data\n",
        "        self.tokenizer = tokenizer\n",
        "        self.max_length = max_length\n",
        "        self.label_to_index = {label: idx for idx, label in enumerate(sorted(data['KDC_NM'].dropna().astype(str).unique()))}\n",
        "\n",
        "    def __len__(self):\n",
        "        return len(self.data)\n",
        "\n",
        "    def __getitem__(self, idx):\n",
        "        item = self.data.iloc[idx]\n",
        "        title = item['TITLE_NM']\n",
        "        description = item['description']\n",
        "        label = str(item['KDC_NM'])\n",
        "\n",
        "        label_idx = self.label_to_index[label]\n",
        "\n",
        "        input_text = title + \" \" + description\n",
        "        encoding = self.tokenizer(\n",
        "            input_text,\n",
        "            max_length=self.max_length,\n",
        "            padding='max_length',\n",
        "            truncation=True,\n",
        "            return_tensors=\"pt\"\n",
        "        )\n",
        "\n",
        "        return {\n",
        "            'input_ids': encoding['input_ids'].squeeze(0),\n",
        "            'attention_mask': encoding['attention_mask'].squeeze(0),\n",
        "            'label': label_idx\n",
        "        }\n",
        "\n",
        "# 모델 정의\n",
        "class BERTClassifier(nn.Module):\n",
        "    def __init__(self, bert_model, num_classes):\n",
        "        super(BERTClassifier, self).__init__()\n",
        "        self.bert = bert_model\n",
        "        self.classifier = nn.Linear(self.bert.config.hidden_size, num_classes)\n",
        "\n",
        "        for param in self.bert.parameters():\n",
        "            param.requires_grad = True\n",
        "\n",
        "    def forward(self, input_ids, attention_mask):\n",
        "        outputs = self.bert(input_ids=input_ids, attention_mask=attention_mask)\n",
        "        cls_output = outputs.last_hidden_state[:, 0, :]\n",
        "        logits = self.classifier(cls_output)\n",
        "        return logits\n",
        "\n",
        "# 하이퍼파라미터\n",
        "MAX_LENGTH = 221\n",
        "BATCH_SIZE = 32\n",
        "LEARNING_RATE = 2e-5\n",
        "EPOCHS = 20\n",
        "GRAD_ACCUMULATION_STEPS = 4\n",
        "\n",
        "# 데이터 준비\n",
        "final_df['KDC_NM'] = final_df['KDC_NM'].astype(str)\n",
        "tokenizer = KoBERTTokenizer.from_pretrained('skt/kobert-base-v1')\n",
        "dataset = BookDataset(final_df, tokenizer, MAX_LENGTH)\n",
        "\n",
        "# 데이터셋 나누기\n",
        "labels = final_df['KDC_NM'].astype(str).values\n",
        "indices = list(range(len(final_df)))\n",
        "\n",
        "train_indices, temp_indices = train_test_split(\n",
        "    indices, test_size=0.2, stratify=labels, random_state=42\n",
        ")\n",
        "val_indices, test_indices = train_test_split(\n",
        "    temp_indices, test_size=0.5, stratify=[labels[i] for i in temp_indices], random_state=42\n",
        ")\n",
        "\n",
        "train_dataset = Subset(dataset, train_indices)\n",
        "val_dataset = Subset(dataset, val_indices)\n",
        "test_dataset = Subset(dataset, test_indices)\n",
        "\n",
        "# DataLoader 생성\n",
        "train_loader = DataLoader(train_dataset, batch_size=BATCH_SIZE, shuffle=True, num_workers=4, pin_memory=True, prefetch_factor=2)\n",
        "val_loader = DataLoader(val_dataset, batch_size=BATCH_SIZE, shuffle=False, num_workers=4, pin_memory=True, prefetch_factor=2)\n",
        "test_loader = DataLoader(test_dataset, batch_size=BATCH_SIZE, shuffle=False, num_workers=4, pin_memory=True, prefetch_factor=2)\n",
        "\n",
        "# 데이터셋에서 라벨 추출\n",
        "train_labels = [sample['label'] for sample in train_dataset]\n",
        "val_labels = [sample['label'] for sample in val_dataset]\n",
        "test_labels = [sample['label'] for sample in test_dataset]\n",
        "\n",
        "# 라벨 분포 시각화\n",
        "plt.figure(figsize=(12, 4))\n",
        "\n",
        "# Train 데이터셋 라벨 분포\n",
        "plt.subplot(1, 3, 1)\n",
        "plt.hist(train_labels, bins=np.arange(min(train_labels), max(train_labels)+1, 1), edgecolor='black', alpha=0.7)\n",
        "plt.title('Train Label Distribution')\n",
        "plt.xlabel('Label')\n",
        "plt.ylabel('Frequency')\n",
        "\n",
        "# Validation 데이터셋 라벨 분포\n",
        "plt.subplot(1, 3, 2)\n",
        "plt.hist(val_labels, bins=np.arange(min(val_labels), max(val_labels)+1, 1), edgecolor='black', alpha=0.7)\n",
        "plt.title('Validation Label Distribution')\n",
        "plt.xlabel('Label')\n",
        "plt.ylabel('Frequency')\n",
        "\n",
        "# Test 데이터셋 라벨 분포\n",
        "plt.subplot(1, 3, 3)\n",
        "plt.hist(test_labels, bins=np.arange(min(test_labels), max(test_labels)+1, 1), edgecolor='black', alpha=0.7)\n",
        "plt.title('Test Label Distribution')\n",
        "plt.xlabel('Label')\n",
        "plt.ylabel('Frequency')\n",
        "\n",
        "plt.tight_layout()\n",
        "plt.show()\n",
        "\n",
        "# 데이터셋에서 레이블별 샘플 개수 계산\n",
        "from collections import Counter\n",
        "\n",
        "# Extract labels from the dataset's data attribute\n",
        "labels = dataset.data['KDC_NM'].astype(str).tolist()\n",
        "label_counts = Counter([dataset.label_to_index[label] for label in labels])\n",
        "\n",
        "# 클래스 가중치 계산: 전체 샘플 수 / (클래스 수 * 해당 클래스 샘플 수)\n",
        "device = torch.device(\"cuda\" if torch.cuda.is_available() else \"cpu\")\n",
        "num_classes = len(dataset.label_to_index)  # Replace with your model's actual number of output classes\n",
        "total_samples = sum(label_counts.values())\n",
        "print(num_classes)\n",
        "\n",
        "# 가중치 리스트 초기화\n",
        "class_weights = [total_samples / (num_classes * label_counts.get(i, 1)) for i in range(num_classes)]\n",
        "\n",
        "# 가중치를 텐서로 변환\n",
        "class_weights_tensor = torch.tensor(class_weights, dtype=torch.float).to(device)"
      ]
    },
    {
      "cell_type": "code",
      "execution_count": 17,
      "metadata": {
        "colab": {
          "base_uri": "https://localhost:8080/"
        },
        "id": "6Z80nuua6Sy3",
        "outputId": "e3edf544-55f0-4764-a390-1931cb0a2622"
      },
      "outputs": [
        {
          "output_type": "stream",
          "name": "stdout",
          "text": [
            "데이터셋 고유 라벨 개수: 248\n",
            "매핑 테이블 크기: 248\n",
            "모든 라벨이 매핑되었습니다.\n"
          ]
        }
      ],
      "source": [
        "# 'KDC_NM' 열을 문자열로 변환\n",
        "final_df['KDC_NM'] = final_df['KDC_NM'].astype(str)\n",
        "\n",
        "# 데이터셋의 고유 라벨 확인\n",
        "unique_labels = final_df['KDC_NM'].unique()\n",
        "print(f\"데이터셋 고유 라벨 개수: {len(unique_labels)}\")\n",
        "\n",
        "# 매핑 테이블 확인\n",
        "print(f\"매핑 테이블 크기: {len(dataset.label_to_index)}\")  # 18141 출력 예상\n",
        "\n",
        "# 매핑 테이블에 데이터셋의 고유 라벨이 모두 포함되어 있는지 확인\n",
        "missing_labels = [label for label in unique_labels if label not in dataset.label_to_index]\n",
        "if missing_labels:\n",
        "    print(f\"매핑되지 않은 라벨: {missing_labels}\")\n",
        "else:\n",
        "    print(\"모든 라벨이 매핑되었습니다.\")"
      ]
    },
    {
      "cell_type": "markdown",
      "source": [
        "## 5000개 이상\n",
        "\n"
      ],
      "metadata": {
        "id": "nV63v4oyis9v"
      }
    },
    {
      "cell_type": "code",
      "execution_count": 18,
      "metadata": {
        "colab": {
          "base_uri": "https://localhost:8080/",
          "height": 1000,
          "referenced_widgets": [
            "d9ab54543b174052b13bcf4a7f26918b",
            "fdeb31bb6a1b4c9996b964dfa1090f49",
            "6654ae59ffc74e3ca6c0bf7676f1e2bf",
            "381f008e02e744dc88677a260705e033",
            "7df23d2432de435494cc4d5df94c1df4",
            "41d2d80f783741978f88e83ad39a39a9",
            "18585471108f46a4aef69b3918f48167",
            "12ec4505cb274a9783309d6f50f33f93",
            "5bd8fd211611418387efb505c0982dc5",
            "9f306062df8a4b0885acabf997d60280",
            "d5b19b74075e43cdb7e21020dfb9ff4a",
            "f492de8b62164f93aec56240d17d841d",
            "ba82b521c8064ea4af23eaa2c2037884",
            "34ca2b9cb1774e7284f0bd02aa2f5863",
            "aa1da11a48bb481d87d178585f931398",
            "a830034f8eaa45cdb55bffe7500b1ed2",
            "60b6f468fc824fbabba2f5b69ff3f526",
            "e6e33d6f23d94d1e9e93ca85f377186a",
            "2189ca36f5e043c9a631224a7549e7f1",
            "5fba562b89444a17b1d8b243d590e394",
            "11d54c79754845efa57df24e78ba95be",
            "8af7cc6f66c54c118272094e02f376fd"
          ]
        },
        "id": "5Idwudb5f00_",
        "outputId": "a39c4d36-0cbc-4d89-c2bf-4fd0ffe590f9",
        "collapsed": true
      },
      "outputs": [
        {
          "output_type": "display_data",
          "data": {
            "text/plain": [
              "config.json:   0%|          | 0.00/535 [00:00<?, ?B/s]"
            ],
            "application/vnd.jupyter.widget-view+json": {
              "version_major": 2,
              "version_minor": 0,
              "model_id": "d9ab54543b174052b13bcf4a7f26918b"
            }
          },
          "metadata": {}
        },
        {
          "output_type": "display_data",
          "data": {
            "text/plain": [
              "model.safetensors:   0%|          | 0.00/369M [00:00<?, ?B/s]"
            ],
            "application/vnd.jupyter.widget-view+json": {
              "version_major": 2,
              "version_minor": 0,
              "model_id": "f492de8b62164f93aec56240d17d841d"
            }
          },
          "metadata": {}
        },
        {
          "output_type": "stream",
          "name": "stderr",
          "text": [
            "/tmp/ipython-input-18-716834336.py:13: FutureWarning: `torch.cuda.amp.GradScaler(args...)` is deprecated. Please use `torch.amp.GradScaler('cuda', args...)` instead.\n",
            "  scaler = GradScaler()\n",
            "Epoch 1/20 [Training]:   0%|          | 0/11314 [00:00<?, ?it/s]/tmp/ipython-input-18-716834336.py:46: FutureWarning: `torch.cuda.amp.autocast(args...)` is deprecated. Please use `torch.amp.autocast('cuda', args...)` instead.\n",
            "  with autocast():\n",
            "Epoch 1/20 [Training]: 100%|██████████| 11314/11314 [09:32<00:00, 19.75it/s]\n",
            "Epoch 1/20 [Validation]:   0%|          | 0/1415 [00:00<?, ?it/s]/tmp/ipython-input-18-716834336.py:75: FutureWarning: `torch.cuda.amp.autocast(args...)` is deprecated. Please use `torch.amp.autocast('cuda', args...)` instead.\n",
            "  with autocast():\n",
            "Epoch 1/20 [Validation]: 100%|██████████| 1415/1415 [00:22<00:00, 63.95it/s]\n"
          ]
        },
        {
          "output_type": "stream",
          "name": "stdout",
          "text": [
            "Epoch 1/20\n",
            "Train Loss: 3.0957, Train Accuracy: 0.4443\n",
            "Val Loss: 1.6864, Val Accuracy: 0.5913\n"
          ]
        },
        {
          "output_type": "stream",
          "name": "stderr",
          "text": [
            "Epoch 2/20 [Training]: 100%|██████████| 11314/11314 [09:35<00:00, 19.66it/s]\n",
            "Epoch 2/20 [Validation]: 100%|██████████| 1415/1415 [00:22<00:00, 63.88it/s]\n"
          ]
        },
        {
          "output_type": "stream",
          "name": "stdout",
          "text": [
            "Epoch 2/20\n",
            "Train Loss: 1.4593, Train Accuracy: 0.5932\n",
            "Val Loss: 1.1702, Val Accuracy: 0.6199\n"
          ]
        },
        {
          "output_type": "stream",
          "name": "stderr",
          "text": [
            "Epoch 3/20 [Training]: 100%|██████████| 11314/11314 [09:33<00:00, 19.72it/s]\n",
            "Epoch 3/20 [Validation]: 100%|██████████| 1415/1415 [00:22<00:00, 62.91it/s]\n"
          ]
        },
        {
          "output_type": "stream",
          "name": "stdout",
          "text": [
            "Epoch 3/20\n",
            "Train Loss: 1.1177, Train Accuracy: 0.6276\n",
            "Val Loss: 1.0491, Val Accuracy: 0.6332\n"
          ]
        },
        {
          "output_type": "stream",
          "name": "stderr",
          "text": [
            "Epoch 4/20 [Training]: 100%|██████████| 11314/11314 [09:33<00:00, 19.71it/s]\n",
            "Epoch 4/20 [Validation]: 100%|██████████| 1415/1415 [00:22<00:00, 63.86it/s]\n"
          ]
        },
        {
          "output_type": "stream",
          "name": "stdout",
          "text": [
            "Epoch 4/20\n",
            "Train Loss: 0.9765, Train Accuracy: 0.6486\n",
            "Val Loss: 0.9616, Val Accuracy: 0.6649\n"
          ]
        },
        {
          "output_type": "stream",
          "name": "stderr",
          "text": [
            "Epoch 5/20 [Training]: 100%|██████████| 11314/11314 [09:34<00:00, 19.70it/s]\n",
            "Epoch 5/20 [Validation]: 100%|██████████| 1415/1415 [00:22<00:00, 62.56it/s]\n"
          ]
        },
        {
          "output_type": "stream",
          "name": "stdout",
          "text": [
            "Epoch 5/20\n",
            "Train Loss: 0.8900, Train Accuracy: 0.6650\n",
            "Val Loss: 0.9301, Val Accuracy: 0.6439\n"
          ]
        },
        {
          "output_type": "stream",
          "name": "stderr",
          "text": [
            "Epoch 6/20 [Training]: 100%|██████████| 11314/11314 [09:38<00:00, 19.55it/s]\n",
            "Epoch 6/20 [Validation]: 100%|██████████| 1415/1415 [00:22<00:00, 63.90it/s]\n"
          ]
        },
        {
          "output_type": "stream",
          "name": "stdout",
          "text": [
            "Epoch 6/20\n",
            "Train Loss: 0.8252, Train Accuracy: 0.6795\n",
            "Val Loss: 0.8868, Val Accuracy: 0.6624\n"
          ]
        },
        {
          "output_type": "stream",
          "name": "stderr",
          "text": [
            "Epoch 7/20 [Training]: 100%|██████████| 11314/11314 [09:39<00:00, 19.52it/s]\n",
            "Epoch 7/20 [Validation]: 100%|██████████| 1415/1415 [00:22<00:00, 63.97it/s]\n"
          ]
        },
        {
          "output_type": "stream",
          "name": "stdout",
          "text": [
            "Epoch 7/20\n",
            "Train Loss: 0.7691, Train Accuracy: 0.6940\n",
            "Val Loss: 0.8658, Val Accuracy: 0.6817\n"
          ]
        },
        {
          "output_type": "stream",
          "name": "stderr",
          "text": [
            "Epoch 8/20 [Training]: 100%|██████████| 11314/11314 [09:36<00:00, 19.61it/s]\n",
            "Epoch 8/20 [Validation]: 100%|██████████| 1415/1415 [00:22<00:00, 62.83it/s]\n"
          ]
        },
        {
          "output_type": "stream",
          "name": "stdout",
          "text": [
            "Epoch 8/20\n",
            "Train Loss: 0.7221, Train Accuracy: 0.7030\n",
            "Val Loss: 0.8445, Val Accuracy: 0.6773\n"
          ]
        },
        {
          "output_type": "stream",
          "name": "stderr",
          "text": [
            "Epoch 9/20 [Training]: 100%|██████████| 11314/11314 [09:35<00:00, 19.67it/s]\n",
            "Epoch 9/20 [Validation]: 100%|██████████| 1415/1415 [00:22<00:00, 63.79it/s]\n"
          ]
        },
        {
          "output_type": "stream",
          "name": "stdout",
          "text": [
            "Epoch 9/20\n",
            "Train Loss: 0.6806, Train Accuracy: 0.7160\n",
            "Val Loss: 0.8305, Val Accuracy: 0.6889\n"
          ]
        },
        {
          "output_type": "stream",
          "name": "stderr",
          "text": [
            "Epoch 10/20 [Training]: 100%|██████████| 11314/11314 [09:35<00:00, 19.65it/s]\n",
            "Epoch 10/20 [Validation]: 100%|██████████| 1415/1415 [00:22<00:00, 64.12it/s]\n"
          ]
        },
        {
          "output_type": "stream",
          "name": "stdout",
          "text": [
            "Epoch 10/20\n",
            "Train Loss: 0.6435, Train Accuracy: 0.7254\n",
            "Val Loss: 0.8256, Val Accuracy: 0.6927\n"
          ]
        },
        {
          "output_type": "stream",
          "name": "stderr",
          "text": [
            "Epoch 11/20 [Training]: 100%|██████████| 11314/11314 [09:35<00:00, 19.67it/s]\n",
            "Epoch 11/20 [Validation]: 100%|██████████| 1415/1415 [00:22<00:00, 62.21it/s]\n"
          ]
        },
        {
          "output_type": "stream",
          "name": "stdout",
          "text": [
            "Epoch 11/20\n",
            "Train Loss: 0.6062, Train Accuracy: 0.7351\n",
            "Val Loss: 0.8158, Val Accuracy: 0.7057\n"
          ]
        },
        {
          "output_type": "stream",
          "name": "stderr",
          "text": [
            "Epoch 12/20 [Training]: 100%|██████████| 11314/11314 [09:33<00:00, 19.74it/s]\n",
            "Epoch 12/20 [Validation]: 100%|██████████| 1415/1415 [00:21<00:00, 64.96it/s]\n"
          ]
        },
        {
          "output_type": "stream",
          "name": "stdout",
          "text": [
            "Epoch 12/20\n",
            "Train Loss: 0.5739, Train Accuracy: 0.7454\n",
            "Val Loss: 0.8069, Val Accuracy: 0.7086\n"
          ]
        },
        {
          "output_type": "stream",
          "name": "stderr",
          "text": [
            "Epoch 13/20 [Training]: 100%|██████████| 11314/11314 [09:33<00:00, 19.71it/s]\n",
            "Epoch 13/20 [Validation]: 100%|██████████| 1415/1415 [00:22<00:00, 63.07it/s]\n"
          ]
        },
        {
          "output_type": "stream",
          "name": "stdout",
          "text": [
            "Epoch 13/20\n",
            "Train Loss: 0.5447, Train Accuracy: 0.7553\n",
            "Val Loss: 0.8132, Val Accuracy: 0.7125\n"
          ]
        },
        {
          "output_type": "stream",
          "name": "stderr",
          "text": [
            "Epoch 14/20 [Training]: 100%|██████████| 11314/11314 [09:33<00:00, 19.71it/s]\n",
            "Epoch 14/20 [Validation]: 100%|██████████| 1415/1415 [00:22<00:00, 63.34it/s]\n"
          ]
        },
        {
          "output_type": "stream",
          "name": "stdout",
          "text": [
            "Epoch 14/20\n",
            "Train Loss: 0.5165, Train Accuracy: 0.7609\n",
            "Val Loss: 0.8096, Val Accuracy: 0.7186\n"
          ]
        },
        {
          "output_type": "stream",
          "name": "stderr",
          "text": [
            "Epoch 15/20 [Training]: 100%|██████████| 11314/11314 [09:35<00:00, 19.66it/s]\n",
            "Epoch 15/20 [Validation]: 100%|██████████| 1415/1415 [00:22<00:00, 63.76it/s]\n"
          ]
        },
        {
          "output_type": "stream",
          "name": "stdout",
          "text": [
            "Epoch 15/20\n",
            "Train Loss: 0.4896, Train Accuracy: 0.7688\n",
            "Val Loss: 0.8066, Val Accuracy: 0.7211\n"
          ]
        },
        {
          "output_type": "stream",
          "name": "stderr",
          "text": [
            "Epoch 16/20 [Training]: 100%|██████████| 11314/11314 [09:35<00:00, 19.67it/s]\n",
            "Epoch 16/20 [Validation]: 100%|██████████| 1415/1415 [00:21<00:00, 64.54it/s]\n"
          ]
        },
        {
          "output_type": "stream",
          "name": "stdout",
          "text": [
            "Epoch 16/20\n",
            "Train Loss: 0.4657, Train Accuracy: 0.7780\n",
            "Val Loss: 0.8132, Val Accuracy: 0.7159\n"
          ]
        },
        {
          "output_type": "stream",
          "name": "stderr",
          "text": [
            "Epoch 17/20 [Training]: 100%|██████████| 11314/11314 [09:36<00:00, 19.64it/s]\n",
            "Epoch 17/20 [Validation]: 100%|██████████| 1415/1415 [00:22<00:00, 64.00it/s]\n"
          ]
        },
        {
          "output_type": "stream",
          "name": "stdout",
          "text": [
            "Epoch 17/20\n",
            "Train Loss: 0.4433, Train Accuracy: 0.7834\n",
            "Val Loss: 0.8276, Val Accuracy: 0.7223\n"
          ]
        },
        {
          "output_type": "stream",
          "name": "stderr",
          "text": [
            "Epoch 18/20 [Training]: 100%|██████████| 11314/11314 [09:34<00:00, 19.69it/s]\n",
            "Epoch 18/20 [Validation]: 100%|██████████| 1415/1415 [00:22<00:00, 63.48it/s]\n"
          ]
        },
        {
          "output_type": "stream",
          "name": "stdout",
          "text": [
            "Epoch 18/20\n",
            "Train Loss: 0.4189, Train Accuracy: 0.7905\n",
            "Val Loss: 0.8146, Val Accuracy: 0.7233\n",
            "Early stopping at epoch 18 due to no improvement in validation loss.\n"
          ]
        },
        {
          "output_type": "stream",
          "name": "stderr",
          "text": [
            "Testing:   0%|          | 0/1415 [00:00<?, ?it/s]\n"
          ]
        },
        {
          "output_type": "error",
          "ename": "NameError",
          "evalue": "name 'test_probabilities' is not defined",
          "traceback": [
            "\u001b[0;31m---------------------------------------------------------------------------\u001b[0m",
            "\u001b[0;31mNameError\u001b[0m                                 Traceback (most recent call last)",
            "\u001b[0;32m/tmp/ipython-input-18-716834336.py\u001b[0m in \u001b[0;36m<cell line: 0>\u001b[0;34m()\u001b[0m\n\u001b[1;32m    129\u001b[0m         \u001b[0;31m# 확률값 저장 (softmax)\u001b[0m\u001b[0;34m\u001b[0m\u001b[0;34m\u001b[0m\u001b[0m\n\u001b[1;32m    130\u001b[0m         \u001b[0mprobabilities\u001b[0m \u001b[0;34m=\u001b[0m \u001b[0mF\u001b[0m\u001b[0;34m.\u001b[0m\u001b[0msoftmax\u001b[0m\u001b[0;34m(\u001b[0m\u001b[0mlogits\u001b[0m\u001b[0;34m,\u001b[0m \u001b[0mdim\u001b[0m\u001b[0;34m=\u001b[0m\u001b[0;36m1\u001b[0m\u001b[0;34m)\u001b[0m  \u001b[0;31m# 각 클래스에 대한 확률\u001b[0m\u001b[0;34m\u001b[0m\u001b[0;34m\u001b[0m\u001b[0m\n\u001b[0;32m--> 131\u001b[0;31m         \u001b[0mtest_probabilities\u001b[0m\u001b[0;34m.\u001b[0m\u001b[0mextend\u001b[0m\u001b[0;34m(\u001b[0m\u001b[0mprobabilities\u001b[0m\u001b[0;34m.\u001b[0m\u001b[0mcpu\u001b[0m\u001b[0;34m(\u001b[0m\u001b[0;34m)\u001b[0m\u001b[0;34m.\u001b[0m\u001b[0mnumpy\u001b[0m\u001b[0;34m(\u001b[0m\u001b[0;34m)\u001b[0m\u001b[0;34m)\u001b[0m\u001b[0;34m\u001b[0m\u001b[0;34m\u001b[0m\u001b[0m\n\u001b[0m\u001b[1;32m    132\u001b[0m \u001b[0;34m\u001b[0m\u001b[0m\n\u001b[1;32m    133\u001b[0m \u001b[0;31m# F1 Score, Recall, ROC AUC 계산 (테스트 세트에서)\u001b[0m\u001b[0;34m\u001b[0m\u001b[0;34m\u001b[0m\u001b[0m\n",
            "\u001b[0;31mNameError\u001b[0m: name 'test_probabilities' is not defined"
          ]
        }
      ],
      "source": [
        "from sklearn.metrics import precision_recall_fscore_support, roc_auc_score\n",
        "import numpy as np\n",
        "\n",
        "# 모델 준비\n",
        "bert_model = BertModel.from_pretrained('skt/kobert-base-v1', return_dict=True)\n",
        "model = BERTClassifier(bert_model, len(dataset.label_to_index))\n",
        "model.to(device)\n",
        "\n",
        "# 옵티마이저 및 스케줄러\n",
        "optimizer = AdamW(model.parameters(), lr=LEARNING_RATE)\n",
        "scheduler = get_scheduler(\"linear\", optimizer=optimizer, num_warmup_steps=0, num_training_steps=len(train_loader) * EPOCHS)\n",
        "criterion = nn.CrossEntropyLoss(weight=class_weights_tensor)\n",
        "scaler = GradScaler()\n",
        "\n",
        "# 정확도 계산 함수\n",
        "def calculate_accuracy(logits, labels):\n",
        "    preds = torch.argmax(logits, dim=1)\n",
        "    correct = (preds == labels).sum().item()\n",
        "    return correct / len(labels)\n",
        "\n",
        "# Early Stopping 설정\n",
        "best_val_loss = float('inf')\n",
        "patience = 3  # 성능 향상이 없는 epoch 수\n",
        "patience_counter = 0\n",
        "\n",
        "# 모델 저장 경로\n",
        "best_model_path = \"best_model.pth\"\n",
        "\n",
        "# 학습 및 검증 기록을 저장할 리스트\n",
        "train_losses, train_accuracies = [], []\n",
        "val_losses, val_accuracies = [], []\n",
        "\n",
        "# 학습 및 검증 루프\n",
        "for epoch in range(EPOCHS):\n",
        "    model.train()\n",
        "    total_loss = 0\n",
        "    total_acc = 0\n",
        "\n",
        "    for i, batch in enumerate(tqdm(train_loader, desc=f\"Epoch {epoch + 1}/{EPOCHS} [Training]\")):\n",
        "        input_ids = batch['input_ids'].to(device)\n",
        "        attention_mask = batch['attention_mask'].to(device)\n",
        "        labels = batch['label'].to(device)\n",
        "\n",
        "        optimizer.zero_grad()\n",
        "\n",
        "        with autocast():\n",
        "            logits = model(input_ids, attention_mask)\n",
        "            loss = criterion(logits, labels) / GRAD_ACCUMULATION_STEPS\n",
        "\n",
        "        scaler.scale(loss).backward()\n",
        "\n",
        "        if (i + 1) % GRAD_ACCUMULATION_STEPS == 0 or (i + 1) == len(train_loader):\n",
        "            scaler.step(optimizer)\n",
        "            scaler.update()\n",
        "            scheduler.step()\n",
        "            optimizer.zero_grad()\n",
        "\n",
        "        total_loss += loss.item() * GRAD_ACCUMULATION_STEPS\n",
        "        total_acc += calculate_accuracy(logits, labels)\n",
        "\n",
        "    avg_train_loss = total_loss / len(train_loader)\n",
        "    avg_train_acc = total_acc / len(train_loader)\n",
        "\n",
        "    # 검증 루프\n",
        "    model.eval()\n",
        "    val_loss = 0\n",
        "    val_acc = 0\n",
        "\n",
        "    with torch.no_grad():\n",
        "        for batch in tqdm(val_loader, desc=f\"Epoch {epoch + 1}/{EPOCHS} [Validation]\"):\n",
        "            input_ids = batch['input_ids'].to(device)\n",
        "            attention_mask = batch['attention_mask'].to(device)\n",
        "            labels = batch['label'].to(device)\n",
        "\n",
        "            with autocast():\n",
        "                logits = model(input_ids, attention_mask)\n",
        "                loss = criterion(logits, labels)\n",
        "\n",
        "            val_loss += loss.item()\n",
        "            val_acc += calculate_accuracy(logits, labels)\n",
        "\n",
        "    avg_val_loss = val_loss / len(val_loader)\n",
        "    avg_val_acc = val_acc / len(val_loader)\n",
        "\n",
        "    # 학습/검증 손실 및 정확도 출력\n",
        "    print(f\"Epoch {epoch + 1}/{EPOCHS}\")\n",
        "    print(f\"Train Loss: {avg_train_loss:.4f}, Train Accuracy: {avg_train_acc:.4f}\")\n",
        "    print(f\"Val Loss: {avg_val_loss:.4f}, Val Accuracy: {avg_val_acc:.4f}\")\n",
        "\n",
        "    # Early Stopping 체크\n",
        "    if avg_val_loss < best_val_loss:\n",
        "        best_val_loss = avg_val_loss\n",
        "        patience_counter = 0  # 성능 향상 시 카운터 초기화\n",
        "        torch.save(model.state_dict(), best_model_path)  # 가장 좋은 모델 저장\n",
        "    else:\n",
        "        patience_counter += 1\n",
        "\n",
        "    if patience_counter >= patience:\n",
        "        print(f\"Early stopping at epoch {epoch + 1} due to no improvement in validation loss.\")\n",
        "        break\n",
        "\n",
        "    # 리스트에 값 저장\n",
        "    train_losses.append(avg_train_loss)\n",
        "    train_accuracies.append(avg_train_acc)\n",
        "    val_losses.append(avg_val_loss)\n",
        "    val_accuracies.append(avg_val_acc)\n",
        "\n",
        "# 🔹 학습이 끝난 후, 가장 잘 나온 모델 불러오기\n",
        "model.load_state_dict(torch.load(best_model_path))\n",
        "\n",
        "# 🔹 학습이 끝난 후 테스트 세트에서 F1, Recall, ROC AUC 계산\n",
        "model.eval()\n",
        "test_preds = []\n",
        "test_labels = []\n",
        "\n",
        "with torch.no_grad():\n",
        "    for batch in tqdm(test_loader, desc=\"Testing\"):\n",
        "        input_ids = batch['input_ids'].to(device)\n",
        "        attention_mask = batch['attention_mask'].to(device)\n",
        "        labels = batch['label'].to(device)\n",
        "\n",
        "        logits = model(input_ids, attention_mask)\n",
        "\n",
        "        # 예측값 저장\n",
        "        preds = torch.argmax(logits, dim=1)\n",
        "        test_preds.extend(preds.cpu().numpy())\n",
        "        test_labels.extend(labels.cpu().numpy())\n",
        "\n",
        "        # 확률값 저장 (softmax)\n",
        "        probabilities = F.softmax(logits, dim=1)  # 각 클래스에 대한 확률\n",
        "        test_probabilities.extend(probabilities.cpu().numpy())\n",
        "\n",
        "# F1 Score, Recall, ROC AUC 계산 (테스트 세트에서)\n",
        "precision_micro, recall_micro, f1_micro, _ = precision_recall_fscore_support(test_labels, test_preds, average=\"micro\")\n",
        "precision_macro, recall_macro, f1_macro, _ = precision_recall_fscore_support(test_labels, test_preds, average=\"macro\")\n",
        "\n",
        "# 테스트 세트 성능 출력\n",
        "print(f\"\\nTest Set Performance:\")\n",
        "print(f\"Accuracy: {test_accuracy:.4f}\")\n",
        "print(f\"F1 Micro: {f1_micro:.4f}, F1 Macro: {f1_macro:.4f}\")\n",
        "print(f\"Recall Micro: {recall_micro:.4f}, Recall Macro: {recall_macro:.4f}, ROC AUC: {roc_auc:.4f}\")\n",
        "\n",
        "# 🔹 학습이 끝난 후 결과 시각화\n",
        "epochs_range = range(1, len(train_losses) + 1)\n",
        "\n",
        "plt.figure(figsize=(15, 7))\n",
        "\n",
        "# Loss 그래프\n",
        "plt.subplot(2, 2, 1)\n",
        "plt.plot(epochs_range, train_losses, label=\"Train Loss\", marker='o')\n",
        "plt.plot(epochs_range, val_losses, label=\"Validation Loss\", marker='o')\n",
        "plt.xlabel(\"Epochs\")\n",
        "plt.ylabel(\"Loss\")\n",
        "plt.title(\"Training & Validation Loss\")\n",
        "plt.legend()\n",
        "plt.grid()\n",
        "\n",
        "# Accuracy 그래프\n",
        "plt.subplot(2, 2, 2)\n",
        "plt.plot(epochs_range, train_accuracies, label=\"Train Accuracy\", marker='o')\n",
        "plt.plot(epochs_range, val_accuracies, label=\"Validation Accuracy\", marker='o')\n",
        "plt.xlabel(\"Epochs\")\n",
        "plt.ylabel(\"Accuracy\")\n",
        "plt.title(\"Training & Validation Accuracy\")\n",
        "plt.legend()\n",
        "plt.grid()\n",
        "\n",
        "plt.tight_layout()\n",
        "plt.show()"
      ]
    },
    {
      "cell_type": "code",
      "source": [
        "from sklearn.metrics import ConfusionMatrixDisplay\n",
        "import matplotlib.pyplot as plt\n",
        "\n",
        "# Confusion Matrix 시각화 - 숫자 제거 및 스타일 개선\n",
        "fig, ax = plt.subplots(figsize=(8, 6))  # 크기 조정 가능\n",
        "disp = ConfusionMatrixDisplay(confusion_matrix=conf_matrix, display_labels=class_names)\n",
        "disp.plot(\n",
        "    cmap=plt.cm.Blues,\n",
        "    values_format='',\n",
        "    include_values=False,  # 숫자 제거\n",
        "    ax=ax,\n",
        "    xticks_rotation=45\n",
        ")\n",
        "plt.title(\"Confusion Matrix\", fontsize=16)\n",
        "plt.xlabel(\"Predicted Label\", fontsize=12)\n",
        "plt.ylabel(\"True Label\", fontsize=12)\n",
        "plt.grid(False)\n",
        "plt.tight_layout()\n",
        "plt.show()\n"
      ],
      "metadata": {
        "colab": {
          "base_uri": "https://localhost:8080/",
          "height": 490
        },
        "id": "QgUmjHcs_HlY",
        "outputId": "de9fcbad-ae84-4767-9a87-529aeed5d40b"
      },
      "execution_count": null,
      "outputs": [
        {
          "output_type": "stream",
          "name": "stderr",
          "text": [
            "Testing for Confusion Matrix: 100%|██████████| 626/626 [00:15<00:00, 41.69it/s]\n"
          ]
        },
        {
          "output_type": "display_data",
          "data": {
            "text/plain": [
              "<Figure size 640x480 with 2 Axes>"
            ],
            "image/png": "[encoded data removed]"
          },
          "metadata": {}
        }
      ]
    },
    {
      "cell_type": "code",
      "source": [
        "# Confusion Matrix에서 가장 큰 오차를 가진 클래스 쌍 추출\n",
        "error_matrix = conf_matrix.copy()\n",
        "np.fill_diagonal(error_matrix, 0)  # 정확한 예측 제거\n",
        "top_misclassifications = np.unravel_index(np.argsort(error_matrix, axis=None)[-10:], error_matrix.shape)\n",
        "\n",
        "# 상위 혼동 클래스 출력\n",
        "for true_class, pred_class in zip(*top_misclassifications):\n",
        "    print(f\"True: {class_names[true_class]}, Predicted: {class_names[pred_class]}, Count: {error_matrix[true_class, pred_class]}\")"
      ],
      "metadata": {
        "colab": {
          "base_uri": "https://localhost:8080/"
        },
        "id": "JKgVYhuYBQbD",
        "outputId": "e093794a-0645-467e-e78a-7e7c6d687e47"
      },
      "execution_count": null,
      "outputs": [
        {
          "output_type": "stream",
          "name": "stdout",
          "text": [
            "True: 818.0, Predicted: 814.7, Count: 87\n",
            "True: 814.7, Predicted: 818.0, Count: 90\n",
            "True: 843.6, Predicted: 843, Count: 93\n",
            "True: 808.9, Predicted: 813.8, Count: 100\n",
            "True: 811.6, Predicted: 811.7, Count: 108\n",
            "True: 199.1, Predicted: 325.211, Count: 117\n",
            "True: 813.6, Predicted: 813.7, Count: 119\n",
            "True: 843.0, Predicted: 843.6, Count: 126\n",
            "True: 833.6, Predicted: 830.0, Count: 143\n",
            "True: 843.0, Predicted: 843, Count: 160\n"
          ]
        }
      ]
    },
    {
      "cell_type": "markdown",
      "source": [
        "## 1000개 이상"
      ],
      "metadata": {
        "id": "OyDoQrN1i96g"
      }
    },
    {
      "cell_type": "code",
      "source": [
        "from sklearn.metrics import precision_recall_fscore_support, roc_auc_score\n",
        "import numpy as np\n",
        "\n",
        "# 모델 준비\n",
        "bert_model = BertModel.from_pretrained('skt/kobert-base-v1', return_dict=True)\n",
        "model = BERTClassifier(bert_model, len(dataset.label_to_index))\n",
        "model.to(device)\n",
        "\n",
        "# 옵티마이저 및 스케줄러\n",
        "optimizer = AdamW(model.parameters(), lr=LEARNING_RATE)\n",
        "scheduler = get_scheduler(\"linear\", optimizer=optimizer, num_warmup_steps=0, num_training_steps=len(train_loader) * EPOCHS)\n",
        "criterion = nn.CrossEntropyLoss(weight=class_weights_tensor)\n",
        "scaler = GradScaler()\n",
        "\n",
        "# 정확도 계산 함수\n",
        "def calculate_accuracy(logits, labels):\n",
        "    preds = torch.argmax(logits, dim=1)\n",
        "    correct = (preds == labels).sum().item()\n",
        "    return correct / len(labels)\n",
        "\n",
        "# Early Stopping 설정\n",
        "best_val_loss = float('inf')\n",
        "patience = 3  # 성능 향상이 없는 epoch 수\n",
        "patience_counter = 0\n",
        "\n",
        "# 모델 저장 경로\n",
        "best_model_path = \"best_model.pth\"\n",
        "\n",
        "# 학습 및 검증 기록을 저장할 리스트\n",
        "train_losses, train_accuracies = [], []\n",
        "val_losses, val_accuracies = [], []\n",
        "\n",
        "# 학습 및 검증 루프\n",
        "for epoch in range(EPOCHS):\n",
        "    model.train()\n",
        "    total_loss = 0\n",
        "    total_acc = 0\n",
        "\n",
        "    for i, batch in enumerate(tqdm(train_loader, desc=f\"Epoch {epoch + 1}/{EPOCHS} [Training]\")):\n",
        "        input_ids = batch['input_ids'].to(device)\n",
        "        attention_mask = batch['attention_mask'].to(device)\n",
        "        labels = batch['label'].to(device)\n",
        "\n",
        "        optimizer.zero_grad()\n",
        "\n",
        "        with autocast():\n",
        "            logits = model(input_ids, attention_mask)\n",
        "            loss = criterion(logits, labels) / GRAD_ACCUMULATION_STEPS\n",
        "\n",
        "        scaler.scale(loss).backward()\n",
        "\n",
        "        if (i + 1) % GRAD_ACCUMULATION_STEPS == 0 or (i + 1) == len(train_loader):\n",
        "            scaler.step(optimizer)\n",
        "            scaler.update()\n",
        "            scheduler.step()\n",
        "            optimizer.zero_grad()\n",
        "\n",
        "        total_loss += loss.item() * GRAD_ACCUMULATION_STEPS\n",
        "        total_acc += calculate_accuracy(logits, labels)\n",
        "\n",
        "    avg_train_loss = total_loss / len(train_loader)\n",
        "    avg_train_acc = total_acc / len(train_loader)\n",
        "\n",
        "    # 검증 루프\n",
        "    model.eval()\n",
        "    val_loss = 0\n",
        "    val_acc = 0\n",
        "\n",
        "    with torch.no_grad():\n",
        "        for batch in tqdm(val_loader, desc=f\"Epoch {epoch + 1}/{EPOCHS} [Validation]\"):\n",
        "            input_ids = batch['input_ids'].to(device)\n",
        "            attention_mask = batch['attention_mask'].to(device)\n",
        "            labels = batch['label'].to(device)\n",
        "\n",
        "            with autocast():\n",
        "                logits = model(input_ids, attention_mask)\n",
        "                loss = criterion(logits, labels)\n",
        "\n",
        "            val_loss += loss.item()\n",
        "            val_acc += calculate_accuracy(logits, labels)\n",
        "\n",
        "    avg_val_loss = val_loss / len(val_loader)\n",
        "    avg_val_acc = val_acc / len(val_loader)\n",
        "\n",
        "    # 학습/검증 손실 및 정확도 출력\n",
        "    print(f\"Epoch {epoch + 1}/{EPOCHS}\")\n",
        "    print(f\"Train Loss: {avg_train_loss:.4f}, Train Accuracy: {avg_train_acc:.4f}\")\n",
        "    print(f\"Val Loss: {avg_val_loss:.4f}, Val Accuracy: {avg_val_acc:.4f}\")\n",
        "\n",
        "    # Early Stopping 체크\n",
        "    if avg_val_loss < best_val_loss:\n",
        "        best_val_loss = avg_val_loss\n",
        "        patience_counter = 0  # 성능 향상 시 카운터 초기화\n",
        "        torch.save(model.state_dict(), best_model_path)  # 가장 좋은 모델 저장\n",
        "    else:\n",
        "        patience_counter += 1\n",
        "\n",
        "    if patience_counter >= patience:\n",
        "        print(f\"Early stopping at epoch {epoch + 1} due to no improvement in validation loss.\")\n",
        "        break\n",
        "\n",
        "    # 리스트에 값 저장\n",
        "    train_losses.append(avg_train_loss)\n",
        "    train_accuracies.append(avg_train_acc)\n",
        "    val_losses.append(avg_val_loss)\n",
        "    val_accuracies.append(avg_val_acc)\n",
        "\n",
        "# 🔹 학습이 끝난 후, 가장 잘 나온 모델 불러오기\n",
        "model.load_state_dict(torch.load(best_model_path))\n",
        "\n",
        "# 🔹 학습이 끝난 후 테스트 세트에서 F1, Recall, ROC AUC 계산\n",
        "model.eval()\n",
        "test_preds = []\n",
        "test_labels = []\n",
        "\n",
        "with torch.no_grad():\n",
        "    for batch in tqdm(test_loader, desc=\"Testing\"):\n",
        "        input_ids = batch['input_ids'].to(device)\n",
        "        attention_mask = batch['attention_mask'].to(device)\n",
        "        labels = batch['label'].to(device)\n",
        "\n",
        "        logits = model(input_ids, attention_mask)\n",
        "\n",
        "        # 예측값 저장\n",
        "        preds = torch.argmax(logits, dim=1)\n",
        "        test_preds.extend(preds.cpu().numpy())\n",
        "        test_labels.extend(labels.cpu().numpy())\n",
        "\n",
        "        # 확률값 저장 (softmax)\n",
        "        probabilities = F.softmax(logits, dim=1)  # 각 클래스에 대한 확률\n",
        "        test_probabilities.extend(probabilities.cpu().numpy())\n",
        "\n",
        "# F1 Score, Recall, ROC AUC 계산 (테스트 세트에서)\n",
        "f1_micro = precision_recall_fscore_support(test_labels, test_preds, average=\"micro\")[2]\n",
        "f1_macro = precision_recall_fscore_support(test_labels, test_preds, average=\"macro\")[2]\n",
        "\n",
        "recall_micro = precision_recall_fscore_support(test_labels, test_preds, average=\"micro\")[1]\n",
        "recall_macro = precision_recall_fscore_support(test_labels, test_preds, average=\"macro\")[1]\n",
        "\n",
        "try:\n",
        "    roc_auc = roc_auc_score(test_labels, test_probabilities, multi_class=\"ovr\")\n",
        "except ValueError:\n",
        "    roc_auc = 0  # 예외 처리 (ROC AUC 계산 불가할 경우 0으로 설정)\n",
        "\n",
        "# Accuracy 계산\n",
        "test_accuracy = calculate_accuracy(np.array(test_preds), np.array(test_labels))\n",
        "\n",
        "# 테스트 세트 성능 출력\n",
        "print(f\"\\nTest Set Performance:\")\n",
        "print(f\"Accuracy: {test_accuracy:.4f}\")\n",
        "print(f\"F1 Micro: {f1_micro:.4f}, F1 Macro: {f1_macro:.4f}\")\n",
        "print(f\"Recall Micro: {recall_micro:.4f}, Recall Macro: {recall_macro:.4f}, ROC AUC: {roc_auc:.4f}\")\n",
        "\n",
        "# 🔹 학습이 끝난 후 결과 시각화\n",
        "epochs_range = range(1, len(train_losses) + 1)\n",
        "\n",
        "plt.figure(figsize=(15, 7))\n",
        "\n",
        "# Loss 그래프\n",
        "plt.subplot(2, 2, 1)\n",
        "plt.plot(epochs_range, train_losses, label=\"Train Loss\", marker='o')\n",
        "plt.plot(epochs_range, val_losses, label=\"Validation Loss\", marker='o')\n",
        "plt.xlabel(\"Epochs\")\n",
        "plt.ylabel(\"Loss\")\n",
        "plt.title(\"Training & Validation Loss\")\n",
        "plt.legend()\n",
        "plt.grid()\n",
        "\n",
        "# Accuracy 그래프\n",
        "plt.subplot(2, 2, 2)\n",
        "plt.plot(epochs_range, train_accuracies, label=\"Train Accuracy\", marker='o')\n",
        "plt.plot(epochs_range, val_accuracies, label=\"Validation Accuracy\", marker='o')\n",
        "plt.xlabel(\"Epochs\")\n",
        "plt.ylabel(\"Accuracy\")\n",
        "plt.title(\"Training & Validation Accuracy\")\n",
        "plt.legend()\n",
        "plt.grid()\n",
        "\n",
        "plt.tight_layout()\n",
        "plt.show()"
      ],
      "metadata": {
        "id": "sUtm3qa-hqUC",
        "colab": {
          "base_uri": "https://localhost:8080/",
          "height": 922,
          "referenced_widgets": [
            "406fffa88447455ab21d83b8a5477419",
            "da7d7d14099e4dc28b8dd47a9f137e6a",
            "7854fbbfe3234fee84e957208a139154",
            "dab994d1b6c14c9187e109572c544039",
            "37747213b17e49608158746bb51af344",
            "779fb2e2a79047fd969c95a7c174b209",
            "efeefa0e84944400a0d2703eb88c73e5",
            "69e2167d1e794c7b890f50bb371bcf93",
            "d2d194e8e599476c942b82257af0f3e0",
            "8705575d5a86467690d026bcff043ef5",
            "bc0d79418b48418390760008362cc098",
            "0a6771c98ad7407490fc0ec5cb29dab6",
            "68c2cf0b70e64b5dae3437d958d6a7b1",
            "a9129c8f0b704e2497b5b6eff8721ef1",
            "c74546c1d86644b9af5c4056331082fa",
            "4b467666ba094f5bb9c9e6c45ced9806",
            "469dec2a1f4a41dd8397046244595221",
            "21ae51812a6b4a51b555f76edf72ec30",
            "42849e994d874b4a97e615e5e2a3ffab",
            "54cce018016d408a9428ddc37af24602",
            "8ed8e47bb7d340bc928eda405ec23045",
            "044b0bfc775f40b8be3a2cf08cdae928"
          ]
        },
        "outputId": "6dbf6044-7eae-46fb-a15f-6275c5dff925"
      },
      "execution_count": null,
      "outputs": [
        {
          "output_type": "display_data",
          "data": {
            "text/plain": [
              "config.json:   0%|          | 0.00/535 [00:00<?, ?B/s]"
            ],
            "application/vnd.jupyter.widget-view+json": {
              "version_major": 2,
              "version_minor": 0,
              "model_id": "406fffa88447455ab21d83b8a5477419"
            }
          },
          "metadata": {}
        },
        {
          "output_type": "display_data",
          "data": {
            "text/plain": [
              "pytorch_model.bin:   0%|          | 0.00/369M [00:00<?, ?B/s]"
            ],
            "application/vnd.jupyter.widget-view+json": {
              "version_major": 2,
              "version_minor": 0,
              "model_id": "0a6771c98ad7407490fc0ec5cb29dab6"
            }
          },
          "metadata": {}
        },
        {
          "output_type": "stream",
          "name": "stderr",
          "text": [
            "/usr/local/lib/python3.11/dist-packages/torch/_utils.py:831: UserWarning: TypedStorage is deprecated. It will be removed in the future and UntypedStorage will be the only storage class. This should only matter to you if you are using storages directly.  To access UntypedStorage directly, use tensor.untyped_storage() instead of tensor.storage()\n",
            "  return self.fget.__get__(instance, owner)()\n",
            "/usr/local/lib/python3.11/dist-packages/transformers/optimization.py:591: FutureWarning: This implementation of AdamW is deprecated and will be removed in a future version. Use the PyTorch implementation torch.optim.AdamW instead, or set `no_deprecation_warning=True` to disable this warning\n",
            "  warnings.warn(\n",
            "Epoch 1/40 [Training]: 100%|██████████| 11314/11314 [1:12:32<00:00,  2.60it/s]\n",
            "Epoch 1/40 [Validation]: 100%|██████████| 1415/1415 [03:11<00:00,  7.39it/s]\n"
          ]
        },
        {
          "output_type": "stream",
          "name": "stdout",
          "text": [
            "Epoch 1/40\n",
            "Train Loss: 3.1544, Train Accuracy: 0.4286\n",
            "Val Loss: 1.7286, Val Accuracy: 0.5808\n"
          ]
        },
        {
          "output_type": "stream",
          "name": "stderr",
          "text": [
            "Epoch 2/40 [Training]: 100%|██████████| 11314/11314 [1:12:40<00:00,  2.59it/s]\n",
            "Epoch 2/40 [Validation]: 100%|██████████| 1415/1415 [03:11<00:00,  7.40it/s]\n"
          ]
        },
        {
          "output_type": "stream",
          "name": "stdout",
          "text": [
            "Epoch 2/40\n",
            "Train Loss: 1.4802, Train Accuracy: 0.5899\n",
            "Val Loss: 1.2283, Val Accuracy: 0.5920\n"
          ]
        },
        {
          "output_type": "stream",
          "name": "stderr",
          "text": [
            "Epoch 3/40 [Training]: 100%|██████████| 11314/11314 [1:12:27<00:00,  2.60it/s]\n",
            "Epoch 3/40 [Validation]: 100%|██████████| 1415/1415 [03:11<00:00,  7.41it/s]\n"
          ]
        },
        {
          "output_type": "stream",
          "name": "stdout",
          "text": [
            "Epoch 3/40\n",
            "Train Loss: 1.1236, Train Accuracy: 0.6218\n",
            "Val Loss: 1.0831, Val Accuracy: 0.6320\n"
          ]
        },
        {
          "output_type": "stream",
          "name": "stderr",
          "text": [
            "Epoch 4/40 [Training]: 100%|██████████| 11314/11314 [1:12:30<00:00,  2.60it/s]\n",
            "Epoch 4/40 [Validation]: 100%|██████████| 1415/1415 [03:11<00:00,  7.38it/s]\n"
          ]
        },
        {
          "output_type": "stream",
          "name": "stdout",
          "text": [
            "Epoch 4/40\n",
            "Train Loss: 0.9842, Train Accuracy: 0.6436\n",
            "Val Loss: 0.9994, Val Accuracy: 0.6586\n"
          ]
        },
        {
          "output_type": "stream",
          "name": "stderr",
          "text": [
            "Epoch 5/40 [Training]: 100%|██████████| 11314/11314 [1:12:40<00:00,  2.59it/s]\n",
            "Epoch 5/40 [Validation]: 100%|██████████| 1415/1415 [03:11<00:00,  7.38it/s]\n"
          ]
        },
        {
          "output_type": "stream",
          "name": "stdout",
          "text": [
            "Epoch 5/40\n",
            "Train Loss: 0.8961, Train Accuracy: 0.6618\n",
            "Val Loss: 0.9680, Val Accuracy: 0.6740\n"
          ]
        },
        {
          "output_type": "stream",
          "name": "stderr",
          "text": [
            "Epoch 6/40 [Training]: 100%|██████████| 11314/11314 [1:12:38<00:00,  2.60it/s]\n",
            "Epoch 6/40 [Validation]: 100%|██████████| 1415/1415 [03:12<00:00,  7.36it/s]\n"
          ]
        },
        {
          "output_type": "stream",
          "name": "stdout",
          "text": [
            "Epoch 6/40\n",
            "Train Loss: 0.8352, Train Accuracy: 0.6784\n",
            "Val Loss: 0.9349, Val Accuracy: 0.6783\n"
          ]
        },
        {
          "output_type": "stream",
          "name": "stderr",
          "text": [
            "Epoch 7/40 [Training]: 100%|██████████| 11314/11314 [1:12:33<00:00,  2.60it/s]\n",
            "Epoch 7/40 [Validation]: 100%|██████████| 1415/1415 [03:12<00:00,  7.34it/s]\n"
          ]
        },
        {
          "output_type": "stream",
          "name": "stdout",
          "text": [
            "Epoch 7/40\n",
            "Train Loss: 0.7810, Train Accuracy: 0.6909\n",
            "Val Loss: 0.9149, Val Accuracy: 0.6714\n"
          ]
        },
        {
          "output_type": "stream",
          "name": "stderr",
          "text": [
            "Epoch 8/40 [Training]: 100%|██████████| 11314/11314 [1:12:34<00:00,  2.60it/s]\n",
            "Epoch 8/40 [Validation]: 100%|██████████| 1415/1415 [03:11<00:00,  7.40it/s]\n"
          ]
        },
        {
          "output_type": "stream",
          "name": "stdout",
          "text": [
            "Epoch 8/40\n",
            "Train Loss: 0.7283, Train Accuracy: 0.7032\n",
            "Val Loss: 0.8845, Val Accuracy: 0.6850\n"
          ]
        },
        {
          "output_type": "stream",
          "name": "stderr",
          "text": [
            "Epoch 9/40 [Training]:  91%|█████████ | 10293/11314 [1:05:58<06:29,  2.62it/s]"
          ]
        }
      ]
    }
  ],
  "metadata": {
    "colab": {
      "machine_shape": "hm",
      "provenance": [],
      "gpuType": "A100",
      "include_colab_link": true
    },
    "kernelspec": {
      "display_name": "Python 3",
      "name": "python3"
    },
    "language_info": {
      "name": "python"
    },
    "widgets": {
      "application/vnd.jupyter.widget-state+json": {
        "406fffa88447455ab21d83b8a5477419": {
          "model_module": "@jupyter-widgets/controls",
          "model_name": "HBoxModel",
          "model_module_version": "1.5.0",
          "state": {
            "_dom_classes": [],
            "_model_module": "@jupyter-widgets/controls",
            "_model_module_version": "1.5.0",
            "_model_name": "HBoxModel",
            "_view_count": null,
            "_view_module": "@jupyter-widgets/controls",
            "_view_module_version": "1.5.0",
            "_view_name": "HBoxView",
            "box_style": "",
            "children": [
              "IPY_MODEL_da7d7d14099e4dc28b8dd47a9f137e6a",
              "IPY_MODEL_7854fbbfe3234fee84e957208a139154",
              "IPY_MODEL_dab994d1b6c14c9187e109572c544039"
            ],
            "layout": "IPY_MODEL_37747213b17e49608158746bb51af344"
          }
        },
        "da7d7d14099e4dc28b8dd47a9f137e6a": {
          "model_module": "@jupyter-widgets/controls",
          "model_name": "HTMLModel",
          "model_module_version": "1.5.0",
          "state": {
            "_dom_classes": [],
            "_model_module": "@jupyter-widgets/controls",
            "_model_module_version": "1.5.0",
            "_model_name": "HTMLModel",
            "_view_count": null,
            "_view_module": "@jupyter-widgets/controls",
            "_view_module_version": "1.5.0",
            "_view_name": "HTMLView",
            "description": "",
            "description_tooltip": null,
            "layout": "IPY_MODEL_779fb2e2a79047fd969c95a7c174b209",
            "placeholder": "​",
            "style": "IPY_MODEL_efeefa0e84944400a0d2703eb88c73e5",
            "value": "config.json: 100%"
          }
        },
        "7854fbbfe3234fee84e957208a139154": {
          "model_module": "@jupyter-widgets/controls",
          "model_name": "FloatProgressModel",
          "model_module_version": "1.5.0",
          "state": {
            "_dom_classes": [],
            "_model_module": "@jupyter-widgets/controls",
            "_model_module_version": "1.5.0",
            "_model_name": "FloatProgressModel",
            "_view_count": null,
            "_view_module": "@jupyter-widgets/controls",
            "_view_module_version": "1.5.0",
            "_view_name": "ProgressView",
            "bar_style": "success",
            "description": "",
            "description_tooltip": null,
            "layout": "IPY_MODEL_69e2167d1e794c7b890f50bb371bcf93",
            "max": 535,
            "min": 0,
            "orientation": "horizontal",
            "style": "IPY_MODEL_d2d194e8e599476c942b82257af0f3e0",
            "value": 535
          }
        },
        "dab994d1b6c14c9187e109572c544039": {
          "model_module": "@jupyter-widgets/controls",
          "model_name": "HTMLModel",
          "model_module_version": "1.5.0",
          "state": {
            "_dom_classes": [],
            "_model_module": "@jupyter-widgets/controls",
            "_model_module_version": "1.5.0",
            "_model_name": "HTMLModel",
            "_view_count": null,
            "_view_module": "@jupyter-widgets/controls",
            "_view_module_version": "1.5.0",
            "_view_name": "HTMLView",
            "description": "",
            "description_tooltip": null,
            "layout": "IPY_MODEL_8705575d5a86467690d026bcff043ef5",
            "placeholder": "​",
            "style": "IPY_MODEL_bc0d79418b48418390760008362cc098",
            "value": " 535/535 [00:00&lt;00:00, 50.8kB/s]"
          }
        },
        "37747213b17e49608158746bb51af344": {
          "model_module": "@jupyter-widgets/base",
          "model_name": "LayoutModel",
          "model_module_version": "1.2.0",
          "state": {
            "_model_module": "@jupyter-widgets/base",
            "_model_module_version": "1.2.0",
            "_model_name": "LayoutModel",
            "_view_count": null,
            "_view_module": "@jupyter-widgets/base",
            "_view_module_version": "1.2.0",
            "_view_name": "LayoutView",
            "align_content": null,
            "align_items": null,
            "align_self": null,
            "border": null,
            "bottom": null,
            "display": null,
            "flex": null,
            "flex_flow": null,
            "grid_area": null,
            "grid_auto_columns": null,
            "grid_auto_flow": null,
            "grid_auto_rows": null,
            "grid_column": null,
            "grid_gap": null,
            "grid_row": null,
            "grid_template_areas": null,
            "grid_template_columns": null,
            "grid_template_rows": null,
            "height": null,
            "justify_content": null,
            "justify_items": null,
            "left": null,
            "margin": null,
            "max_height": null,
            "max_width": null,
            "min_height": null,
            "min_width": null,
            "object_fit": null,
            "object_position": null,
            "order": null,
            "overflow": null,
            "overflow_x": null,
            "overflow_y": null,
            "padding": null,
            "right": null,
            "top": null,
            "visibility": null,
            "width": null
          }
        },
        "779fb2e2a79047fd969c95a7c174b209": {
          "model_module": "@jupyter-widgets/base",
          "model_name": "LayoutModel",
          "model_module_version": "1.2.0",
          "state": {
            "_model_module": "@jupyter-widgets/base",
            "_model_module_version": "1.2.0",
            "_model_name": "LayoutModel",
            "_view_count": null,
            "_view_module": "@jupyter-widgets/base",
            "_view_module_version": "1.2.0",
            "_view_name": "LayoutView",
            "align_content": null,
            "align_items": null,
            "align_self": null,
            "border": null,
            "bottom": null,
            "display": null,
            "flex": null,
            "flex_flow": null,
            "grid_area": null,
            "grid_auto_columns": null,
            "grid_auto_flow": null,
            "grid_auto_rows": null,
            "grid_column": null,
            "grid_gap": null,
            "grid_row": null,
            "grid_template_areas": null,
            "grid_template_columns": null,
            "grid_template_rows": null,
            "height": null,
            "justify_content": null,
            "justify_items": null,
            "left": null,
            "margin": null,
            "max_height": null,
            "max_width": null,
            "min_height": null,
            "min_width": null,
            "object_fit": null,
            "object_position": null,
            "order": null,
            "overflow": null,
            "overflow_x": null,
            "overflow_y": null,
            "padding": null,
            "right": null,
            "top": null,
            "visibility": null,
            "width": null
          }
        },
        "efeefa0e84944400a0d2703eb88c73e5": {
          "model_module": "@jupyter-widgets/controls",
          "model_name": "DescriptionStyleModel",
          "model_module_version": "1.5.0",
          "state": {
            "_model_module": "@jupyter-widgets/controls",
            "_model_module_version": "1.5.0",
            "_model_name": "DescriptionStyleModel",
            "_view_count": null,
            "_view_module": "@jupyter-widgets/base",
            "_view_module_version": "1.2.0",
            "_view_name": "StyleView",
            "description_width": ""
          }
        },
        "69e2167d1e794c7b890f50bb371bcf93": {
          "model_module": "@jupyter-widgets/base",
          "model_name": "LayoutModel",
          "model_module_version": "1.2.0",
          "state": {
            "_model_module": "@jupyter-widgets/base",
            "_model_module_version": "1.2.0",
            "_model_name": "LayoutModel",
            "_view_count": null,
            "_view_module": "@jupyter-widgets/base",
            "_view_module_version": "1.2.0",
            "_view_name": "LayoutView",
            "align_content": null,
            "align_items": null,
            "align_self": null,
            "border": null,
            "bottom": null,
            "display": null,
            "flex": null,
            "flex_flow": null,
            "grid_area": null,
            "grid_auto_columns": null,
            "grid_auto_flow": null,
            "grid_auto_rows": null,
            "grid_column": null,
            "grid_gap": null,
            "grid_row": null,
            "grid_template_areas": null,
            "grid_template_columns": null,
            "grid_template_rows": null,
            "height": null,
            "justify_content": null,
            "justify_items": null,
            "left": null,
            "margin": null,
            "max_height": null,
            "max_width": null,
            "min_height": null,
            "min_width": null,
            "object_fit": null,
            "object_position": null,
            "order": null,
            "overflow": null,
            "overflow_x": null,
            "overflow_y": null,
            "padding": null,
            "right": null,
            "top": null,
            "visibility": null,
            "width": null
          }
        },
        "d2d194e8e599476c942b82257af0f3e0": {
          "model_module": "@jupyter-widgets/controls",
          "model_name": "ProgressStyleModel",
          "model_module_version": "1.5.0",
          "state": {
            "_model_module": "@jupyter-widgets/controls",
            "_model_module_version": "1.5.0",
            "_model_name": "ProgressStyleModel",
            "_view_count": null,
            "_view_module": "@jupyter-widgets/base",
            "_view_module_version": "1.2.0",
            "_view_name": "StyleView",
            "bar_color": null,
            "description_width": ""
          }
        },
        "8705575d5a86467690d026bcff043ef5": {
          "model_module": "@jupyter-widgets/base",
          "model_name": "LayoutModel",
          "model_module_version": "1.2.0",
          "state": {
            "_model_module": "@jupyter-widgets/base",
            "_model_module_version": "1.2.0",
            "_model_name": "LayoutModel",
            "_view_count": null,
            "_view_module": "@jupyter-widgets/base",
            "_view_module_version": "1.2.0",
            "_view_name": "LayoutView",
            "align_content": null,
            "align_items": null,
            "align_self": null,
            "border": null,
            "bottom": null,
            "display": null,
            "flex": null,
            "flex_flow": null,
            "grid_area": null,
            "grid_auto_columns": null,
            "grid_auto_flow": null,
            "grid_auto_rows": null,
            "grid_column": null,
            "grid_gap": null,
            "grid_row": null,
            "grid_template_areas": null,
            "grid_template_columns": null,
            "grid_template_rows": null,
            "height": null,
            "justify_content": null,
            "justify_items": null,
            "left": null,
            "margin": null,
            "max_height": null,
            "max_width": null,
            "min_height": null,
            "min_width": null,
            "object_fit": null,
            "object_position": null,
            "order": null,
            "overflow": null,
            "overflow_x": null,
            "overflow_y": null,
            "padding": null,
            "right": null,
            "top": null,
            "visibility": null,
            "width": null
          }
        },
        "bc0d79418b48418390760008362cc098": {
          "model_module": "@jupyter-widgets/controls",
          "model_name": "DescriptionStyleModel",
          "model_module_version": "1.5.0",
          "state": {
            "_model_module": "@jupyter-widgets/controls",
            "_model_module_version": "1.5.0",
            "_model_name": "DescriptionStyleModel",
            "_view_count": null,
            "_view_module": "@jupyter-widgets/base",
            "_view_module_version": "1.2.0",
            "_view_name": "StyleView",
            "description_width": ""
          }
        },
        "0a6771c98ad7407490fc0ec5cb29dab6": {
          "model_module": "@jupyter-widgets/controls",
          "model_name": "HBoxModel",
          "model_module_version": "1.5.0",
          "state": {
            "_dom_classes": [],
            "_model_module": "@jupyter-widgets/controls",
            "_model_module_version": "1.5.0",
            "_model_name": "HBoxModel",
            "_view_count": null,
            "_view_module": "@jupyter-widgets/controls",
            "_view_module_version": "1.5.0",
            "_view_name": "HBoxView",
            "box_style": "",
            "children": [
              "IPY_MODEL_68c2cf0b70e64b5dae3437d958d6a7b1",
              "IPY_MODEL_a9129c8f0b704e2497b5b6eff8721ef1",
              "IPY_MODEL_c74546c1d86644b9af5c4056331082fa"
            ],
            "layout": "IPY_MODEL_4b467666ba094f5bb9c9e6c45ced9806"
          }
        },
        "68c2cf0b70e64b5dae3437d958d6a7b1": {
          "model_module": "@jupyter-widgets/controls",
          "model_name": "HTMLModel",
          "model_module_version": "1.5.0",
          "state": {
            "_dom_classes": [],
            "_model_module": "@jupyter-widgets/controls",
            "_model_module_version": "1.5.0",
            "_model_name": "HTMLModel",
            "_view_count": null,
            "_view_module": "@jupyter-widgets/controls",
            "_view_module_version": "1.5.0",
            "_view_name": "HTMLView",
            "description": "",
            "description_tooltip": null,
            "layout": "IPY_MODEL_469dec2a1f4a41dd8397046244595221",
            "placeholder": "​",
            "style": "IPY_MODEL_21ae51812a6b4a51b555f76edf72ec30",
            "value": "pytorch_model.bin: 100%"
          }
        },
        "a9129c8f0b704e2497b5b6eff8721ef1": {
          "model_module": "@jupyter-widgets/controls",
          "model_name": "FloatProgressModel",
          "model_module_version": "1.5.0",
          "state": {
            "_dom_classes": [],
            "_model_module": "@jupyter-widgets/controls",
            "_model_module_version": "1.5.0",
            "_model_name": "FloatProgressModel",
            "_view_count": null,
            "_view_module": "@jupyter-widgets/controls",
            "_view_module_version": "1.5.0",
            "_view_name": "ProgressView",
            "bar_style": "success",
            "description": "",
            "description_tooltip": null,
            "layout": "IPY_MODEL_42849e994d874b4a97e615e5e2a3ffab",
            "max": 368792544,
            "min": 0,
            "orientation": "horizontal",
            "style": "IPY_MODEL_54cce018016d408a9428ddc37af24602",
            "value": 368792544
          }
        },
        "c74546c1d86644b9af5c4056331082fa": {
          "model_module": "@jupyter-widgets/controls",
          "model_name": "HTMLModel",
          "model_module_version": "1.5.0",
          "state": {
            "_dom_classes": [],
            "_model_module": "@jupyter-widgets/controls",
            "_model_module_version": "1.5.0",
            "_model_name": "HTMLModel",
            "_view_count": null,
            "_view_module": "@jupyter-widgets/controls",
            "_view_module_version": "1.5.0",
            "_view_name": "HTMLView",
            "description": "",
            "description_tooltip": null,
            "layout": "IPY_MODEL_8ed8e47bb7d340bc928eda405ec23045",
            "placeholder": "​",
            "style": "IPY_MODEL_044b0bfc775f40b8be3a2cf08cdae928",
            "value": " 369M/369M [00:01&lt;00:00, 240MB/s]"
          }
        },
        "4b467666ba094f5bb9c9e6c45ced9806": {
          "model_module": "@jupyter-widgets/base",
          "model_name": "LayoutModel",
          "model_module_version": "1.2.0",
          "state": {
            "_model_module": "@jupyter-widgets/base",
            "_model_module_version": "1.2.0",
            "_model_name": "LayoutModel",
            "_view_count": null,
            "_view_module": "@jupyter-widgets/base",
            "_view_module_version": "1.2.0",
            "_view_name": "LayoutView",
            "align_content": null,
            "align_items": null,
            "align_self": null,
            "border": null,
            "bottom": null,
            "display": null,
            "flex": null,
            "flex_flow": null,
            "grid_area": null,
            "grid_auto_columns": null,
            "grid_auto_flow": null,
            "grid_auto_rows": null,
            "grid_column": null,
            "grid_gap": null,
            "grid_row": null,
            "grid_template_areas": null,
            "grid_template_columns": null,
            "grid_template_rows": null,
            "height": null,
            "justify_content": null,
            "justify_items": null,
            "left": null,
            "margin": null,
            "max_height": null,
            "max_width": null,
            "min_height": null,
            "min_width": null,
            "object_fit": null,
            "object_position": null,
            "order": null,
            "overflow": null,
            "overflow_x": null,
            "overflow_y": null,
            "padding": null,
            "right": null,
            "top": null,
            "visibility": null,
            "width": null
          }
        },
        "469dec2a1f4a41dd8397046244595221": {
          "model_module": "@jupyter-widgets/base",
          "model_name": "LayoutModel",
          "model_module_version": "1.2.0",
          "state": {
            "_model_module": "@jupyter-widgets/base",
            "_model_module_version": "1.2.0",
            "_model_name": "LayoutModel",
            "_view_count": null,
            "_view_module": "@jupyter-widgets/base",
            "_view_module_version": "1.2.0",
            "_view_name": "LayoutView",
            "align_content": null,
            "align_items": null,
            "align_self": null,
            "border": null,
            "bottom": null,
            "display": null,
            "flex": null,
            "flex_flow": null,
            "grid_area": null,
            "grid_auto_columns": null,
            "grid_auto_flow": null,
            "grid_auto_rows": null,
            "grid_column": null,
            "grid_gap": null,
            "grid_row": null,
            "grid_template_areas": null,
            "grid_template_columns": null,
            "grid_template_rows": null,
            "height": null,
            "justify_content": null,
            "justify_items": null,
            "left": null,
            "margin": null,
            "max_height": null,
            "max_width": null,
            "min_height": null,
            "min_width": null,
            "object_fit": null,
            "object_position": null,
            "order": null,
            "overflow": null,
            "overflow_x": null,
            "overflow_y": null,
            "padding": null,
            "right": null,
            "top": null,
            "visibility": null,
            "width": null
          }
        },
        "21ae51812a6b4a51b555f76edf72ec30": {
          "model_module": "@jupyter-widgets/controls",
          "model_name": "DescriptionStyleModel",
          "model_module_version": "1.5.0",
          "state": {
            "_model_module": "@jupyter-widgets/controls",
            "_model_module_version": "1.5.0",
            "_model_name": "DescriptionStyleModel",
            "_view_count": null,
            "_view_module": "@jupyter-widgets/base",
            "_view_module_version": "1.2.0",
            "_view_name": "StyleView",
            "description_width": ""
          }
        },
        "42849e994d874b4a97e615e5e2a3ffab": {
          "model_module": "@jupyter-widgets/base",
          "model_name": "LayoutModel",
          "model_module_version": "1.2.0",
          "state": {
            "_model_module": "@jupyter-widgets/base",
            "_model_module_version": "1.2.0",
            "_model_name": "LayoutModel",
            "_view_count": null,
            "_view_module": "@jupyter-widgets/base",
            "_view_module_version": "1.2.0",
            "_view_name": "LayoutView",
            "align_content": null,
            "align_items": null,
            "align_self": null,
            "border": null,
            "bottom": null,
            "display": null,
            "flex": null,
            "flex_flow": null,
            "grid_area": null,
            "grid_auto_columns": null,
            "grid_auto_flow": null,
            "grid_auto_rows": null,
            "grid_column": null,
            "grid_gap": null,
            "grid_row": null,
            "grid_template_areas": null,
            "grid_template_columns": null,
            "grid_template_rows": null,
            "height": null,
            "justify_content": null,
            "justify_items": null,
            "left": null,
            "margin": null,
            "max_height": null,
            "max_width": null,
            "min_height": null,
            "min_width": null,
            "object_fit": null,
            "object_position": null,
            "order": null,
            "overflow": null,
            "overflow_x": null,
            "overflow_y": null,
            "padding": null,
            "right": null,
            "top": null,
            "visibility": null,
            "width": null
          }
        },
        "54cce018016d408a9428ddc37af24602": {
          "model_module": "@jupyter-widgets/controls",
          "model_name": "ProgressStyleModel",
          "model_module_version": "1.5.0",
          "state": {
            "_model_module": "@jupyter-widgets/controls",
            "_model_module_version": "1.5.0",
            "_model_name": "ProgressStyleModel",
            "_view_count": null,
            "_view_module": "@jupyter-widgets/base",
            "_view_module_version": "1.2.0",
            "_view_name": "StyleView",
            "bar_color": null,
            "description_width": ""
          }
        },
        "8ed8e47bb7d340bc928eda405ec23045": {
          "model_module": "@jupyter-widgets/base",
          "model_name": "LayoutModel",
          "model_module_version": "1.2.0",
          "state": {
            "_model_module": "@jupyter-widgets/base",
            "_model_module_version": "1.2.0",
            "_model_name": "LayoutModel",
            "_view_count": null,
            "_view_module": "@jupyter-widgets/base",
            "_view_module_version": "1.2.0",
            "_view_name": "LayoutView",
            "align_content": null,
            "align_items": null,
            "align_self": null,
            "border": null,
            "bottom": null,
            "display": null,
            "flex": null,
            "flex_flow": null,
            "grid_area": null,
            "grid_auto_columns": null,
            "grid_auto_flow": null,
            "grid_auto_rows": null,
            "grid_column": null,
            "grid_gap": null,
            "grid_row": null,
            "grid_template_areas": null,
            "grid_template_columns": null,
            "grid_template_rows": null,
            "height": null,
            "justify_content": null,
            "justify_items": null,
            "left": null,
            "margin": null,
            "max_height": null,
            "max_width": null,
            "min_height": null,
            "min_width": null,
            "object_fit": null,
            "object_position": null,
            "order": null,
            "overflow": null,
            "overflow_x": null,
            "overflow_y": null,
            "padding": null,
            "right": null,
            "top": null,
            "visibility": null,
            "width": null
          }
        },
        "044b0bfc775f40b8be3a2cf08cdae928": {
          "model_module": "@jupyter-widgets/controls",
          "model_name": "DescriptionStyleModel",
          "model_module_version": "1.5.0",
          "state": {
            "_model_module": "@jupyter-widgets/controls",
            "_model_module_version": "1.5.0",
            "_model_name": "DescriptionStyleModel",
            "_view_count": null,
            "_view_module": "@jupyter-widgets/base",
            "_view_module_version": "1.2.0",
            "_view_name": "StyleView",
            "description_width": ""
          }
        },
        "6b898dae7e83425ca29fa41360c7d745": {
          "model_module": "@jupyter-widgets/controls",
          "model_name": "HBoxModel",
          "model_module_version": "1.5.0",
          "state": {
            "_dom_classes": [],
            "_model_module": "@jupyter-widgets/controls",
            "_model_module_version": "1.5.0",
            "_model_name": "HBoxModel",
            "_view_count": null,
            "_view_module": "@jupyter-widgets/controls",
            "_view_module_version": "1.5.0",
            "_view_name": "HBoxView",
            "box_style": "",
            "children": [
              "IPY_MODEL_466c6aac6a474198aa567121a7657a20",
              "IPY_MODEL_78ec45969f2c40c8bb64ab5e6f7b9ac6",
              "IPY_MODEL_a7a763f456144b59beaee753c14736ac"
            ],
            "layout": "IPY_MODEL_90afc36ebe7d421d80151bd653cd89b9"
          }
        },
        "466c6aac6a474198aa567121a7657a20": {
          "model_module": "@jupyter-widgets/controls",
          "model_name": "HTMLModel",
          "model_module_version": "1.5.0",
          "state": {
            "_dom_classes": [],
            "_model_module": "@jupyter-widgets/controls",
            "_model_module_version": "1.5.0",
            "_model_name": "HTMLModel",
            "_view_count": null,
            "_view_module": "@jupyter-widgets/controls",
            "_view_module_version": "1.5.0",
            "_view_name": "HTMLView",
            "description": "",
            "description_tooltip": null,
            "layout": "IPY_MODEL_b1276379ebce482390bcd5173faa9b26",
            "placeholder": "​",
            "style": "IPY_MODEL_bba6f1b75d1f474d8563ae48119f9278",
            "value": "tokenizer_config.json: 100%"
          }
        },
        "78ec45969f2c40c8bb64ab5e6f7b9ac6": {
          "model_module": "@jupyter-widgets/controls",
          "model_name": "FloatProgressModel",
          "model_module_version": "1.5.0",
          "state": {
            "_dom_classes": [],
            "_model_module": "@jupyter-widgets/controls",
            "_model_module_version": "1.5.0",
            "_model_name": "FloatProgressModel",
            "_view_count": null,
            "_view_module": "@jupyter-widgets/controls",
            "_view_module_version": "1.5.0",
            "_view_name": "ProgressView",
            "bar_style": "success",
            "description": "",
            "description_tooltip": null,
            "layout": "IPY_MODEL_a30fd0838819484d8e913db2c8008740",
            "max": 432,
            "min": 0,
            "orientation": "horizontal",
            "style": "IPY_MODEL_312b6a78a2354cf78aed6b48f6b87399",
            "value": 432
          }
        },
        "a7a763f456144b59beaee753c14736ac": {
          "model_module": "@jupyter-widgets/controls",
          "model_name": "HTMLModel",
          "model_module_version": "1.5.0",
          "state": {
            "_dom_classes": [],
            "_model_module": "@jupyter-widgets/controls",
            "_model_module_version": "1.5.0",
            "_model_name": "HTMLModel",
            "_view_count": null,
            "_view_module": "@jupyter-widgets/controls",
            "_view_module_version": "1.5.0",
            "_view_name": "HTMLView",
            "description": "",
            "description_tooltip": null,
            "layout": "IPY_MODEL_c2d5d53af5144012a7fd067325f321b6",
            "placeholder": "​",
            "style": "IPY_MODEL_4b33c4f1785b4010be67f651526bab85",
            "value": " 432/432 [00:00&lt;00:00, 43.4kB/s]"
          }
        },
        "90afc36ebe7d421d80151bd653cd89b9": {
          "model_module": "@jupyter-widgets/base",
          "model_name": "LayoutModel",
          "model_module_version": "1.2.0",
          "state": {
            "_model_module": "@jupyter-widgets/base",
            "_model_module_version": "1.2.0",
            "_model_name": "LayoutModel",
            "_view_count": null,
            "_view_module": "@jupyter-widgets/base",
            "_view_module_version": "1.2.0",
            "_view_name": "LayoutView",
            "align_content": null,
            "align_items": null,
            "align_self": null,
            "border": null,
            "bottom": null,
            "display": null,
            "flex": null,
            "flex_flow": null,
            "grid_area": null,
            "grid_auto_columns": null,
            "grid_auto_flow": null,
            "grid_auto_rows": null,
            "grid_column": null,
            "grid_gap": null,
            "grid_row": null,
            "grid_template_areas": null,
            "grid_template_columns": null,
            "grid_template_rows": null,
            "height": null,
            "justify_content": null,
            "justify_items": null,
            "left": null,
            "margin": null,
            "max_height": null,
            "max_width": null,
            "min_height": null,
            "min_width": null,
            "object_fit": null,
            "object_position": null,
            "order": null,
            "overflow": null,
            "overflow_x": null,
            "overflow_y": null,
            "padding": null,
            "right": null,
            "top": null,
            "visibility": null,
            "width": null
          }
        },
        "b1276379ebce482390bcd5173faa9b26": {
          "model_module": "@jupyter-widgets/base",
          "model_name": "LayoutModel",
          "model_module_version": "1.2.0",
          "state": {
            "_model_module": "@jupyter-widgets/base",
            "_model_module_version": "1.2.0",
            "_model_name": "LayoutModel",
            "_view_count": null,
            "_view_module": "@jupyter-widgets/base",
            "_view_module_version": "1.2.0",
            "_view_name": "LayoutView",
            "align_content": null,
            "align_items": null,
            "align_self": null,
            "border": null,
            "bottom": null,
            "display": null,
            "flex": null,
            "flex_flow": null,
            "grid_area": null,
            "grid_auto_columns": null,
            "grid_auto_flow": null,
            "grid_auto_rows": null,
            "grid_column": null,
            "grid_gap": null,
            "grid_row": null,
            "grid_template_areas": null,
            "grid_template_columns": null,
            "grid_template_rows": null,
            "height": null,
            "justify_content": null,
            "justify_items": null,
            "left": null,
            "margin": null,
            "max_height": null,
            "max_width": null,
            "min_height": null,
            "min_width": null,
            "object_fit": null,
            "object_position": null,
            "order": null,
            "overflow": null,
            "overflow_x": null,
            "overflow_y": null,
            "padding": null,
            "right": null,
            "top": null,
            "visibility": null,
            "width": null
          }
        },
        "bba6f1b75d1f474d8563ae48119f9278": {
          "model_module": "@jupyter-widgets/controls",
          "model_name": "DescriptionStyleModel",
          "model_module_version": "1.5.0",
          "state": {
            "_model_module": "@jupyter-widgets/controls",
            "_model_module_version": "1.5.0",
            "_model_name": "DescriptionStyleModel",
            "_view_count": null,
            "_view_module": "@jupyter-widgets/base",
            "_view_module_version": "1.2.0",
            "_view_name": "StyleView",
            "description_width": ""
          }
        },
        "a30fd0838819484d8e913db2c8008740": {
          "model_module": "@jupyter-widgets/base",
          "model_name": "LayoutModel",
          "model_module_version": "1.2.0",
          "state": {
            "_model_module": "@jupyter-widgets/base",
            "_model_module_version": "1.2.0",
            "_model_name": "LayoutModel",
            "_view_count": null,
            "_view_module": "@jupyter-widgets/base",
            "_view_module_version": "1.2.0",
            "_view_name": "LayoutView",
            "align_content": null,
            "align_items": null,
            "align_self": null,
            "border": null,
            "bottom": null,
            "display": null,
            "flex": null,
            "flex_flow": null,
            "grid_area": null,
            "grid_auto_columns": null,
            "grid_auto_flow": null,
            "grid_auto_rows": null,
            "grid_column": null,
            "grid_gap": null,
            "grid_row": null,
            "grid_template_areas": null,
            "grid_template_columns": null,
            "grid_template_rows": null,
            "height": null,
            "justify_content": null,
            "justify_items": null,
            "left": null,
            "margin": null,
            "max_height": null,
            "max_width": null,
            "min_height": null,
            "min_width": null,
            "object_fit": null,
            "object_position": null,
            "order": null,
            "overflow": null,
            "overflow_x": null,
            "overflow_y": null,
            "padding": null,
            "right": null,
            "top": null,
            "visibility": null,
            "width": null
          }
        },
        "312b6a78a2354cf78aed6b48f6b87399": {
          "model_module": "@jupyter-widgets/controls",
          "model_name": "ProgressStyleModel",
          "model_module_version": "1.5.0",
          "state": {
            "_model_module": "@jupyter-widgets/controls",
            "_model_module_version": "1.5.0",
            "_model_name": "ProgressStyleModel",
            "_view_count": null,
            "_view_module": "@jupyter-widgets/base",
            "_view_module_version": "1.2.0",
            "_view_name": "StyleView",
            "bar_color": null,
            "description_width": ""
          }
        },
        "c2d5d53af5144012a7fd067325f321b6": {
          "model_module": "@jupyter-widgets/base",
          "model_name": "LayoutModel",
          "model_module_version": "1.2.0",
          "state": {
            "_model_module": "@jupyter-widgets/base",
            "_model_module_version": "1.2.0",
            "_model_name": "LayoutModel",
            "_view_count": null,
            "_view_module": "@jupyter-widgets/base",
            "_view_module_version": "1.2.0",
            "_view_name": "LayoutView",
            "align_content": null,
            "align_items": null,
            "align_self": null,
            "border": null,
            "bottom": null,
            "display": null,
            "flex": null,
            "flex_flow": null,
            "grid_area": null,
            "grid_auto_columns": null,
            "grid_auto_flow": null,
            "grid_auto_rows": null,
            "grid_column": null,
            "grid_gap": null,
            "grid_row": null,
            "grid_template_areas": null,
            "grid_template_columns": null,
            "grid_template_rows": null,
            "height": null,
            "justify_content": null,
            "justify_items": null,
            "left": null,
            "margin": null,
            "max_height": null,
            "max_width": null,
            "min_height": null,
            "min_width": null,
            "object_fit": null,
            "object_position": null,
            "order": null,
            "overflow": null,
            "overflow_x": null,
            "overflow_y": null,
            "padding": null,
            "right": null,
            "top": null,
            "visibility": null,
            "width": null
          }
        },
        "4b33c4f1785b4010be67f651526bab85": {
          "model_module": "@jupyter-widgets/controls",
          "model_name": "DescriptionStyleModel",
          "model_module_version": "1.5.0",
          "state": {
            "_model_module": "@jupyter-widgets/controls",
            "_model_module_version": "1.5.0",
            "_model_name": "DescriptionStyleModel",
            "_view_count": null,
            "_view_module": "@jupyter-widgets/base",
            "_view_module_version": "1.2.0",
            "_view_name": "StyleView",
            "description_width": ""
          }
        },
        "4071b8dd6ad143339d267209ce004603": {
          "model_module": "@jupyter-widgets/controls",
          "model_name": "HBoxModel",
          "model_module_version": "1.5.0",
          "state": {
            "_dom_classes": [],
            "_model_module": "@jupyter-widgets/controls",
            "_model_module_version": "1.5.0",
            "_model_name": "HBoxModel",
            "_view_count": null,
            "_view_module": "@jupyter-widgets/controls",
            "_view_module_version": "1.5.0",
            "_view_name": "HBoxView",
            "box_style": "",
            "children": [
              "IPY_MODEL_45a5d922cded43b69195530678b6ef78",
              "IPY_MODEL_31a705446fbf4a7ab1f4c50483e84163",
              "IPY_MODEL_49dea6be2693436aaffa489be372ea6f"
            ],
            "layout": "IPY_MODEL_7cd436937e734e0e94f3a46b8fab5e13"
          }
        },
        "45a5d922cded43b69195530678b6ef78": {
          "model_module": "@jupyter-widgets/controls",
          "model_name": "HTMLModel",
          "model_module_version": "1.5.0",
          "state": {
            "_dom_classes": [],
            "_model_module": "@jupyter-widgets/controls",
            "_model_module_version": "1.5.0",
            "_model_name": "HTMLModel",
            "_view_count": null,
            "_view_module": "@jupyter-widgets/controls",
            "_view_module_version": "1.5.0",
            "_view_name": "HTMLView",
            "description": "",
            "description_tooltip": null,
            "layout": "IPY_MODEL_0adfc25b8fab4f7a8a759e31af54f80a",
            "placeholder": "​",
            "style": "IPY_MODEL_969d624fb78e462690d1f7f1f889b116",
            "value": "spiece.model: 100%"
          }
        },
        "31a705446fbf4a7ab1f4c50483e84163": {
          "model_module": "@jupyter-widgets/controls",
          "model_name": "FloatProgressModel",
          "model_module_version": "1.5.0",
          "state": {
            "_dom_classes": [],
            "_model_module": "@jupyter-widgets/controls",
            "_model_module_version": "1.5.0",
            "_model_name": "FloatProgressModel",
            "_view_count": null,
            "_view_module": "@jupyter-widgets/controls",
            "_view_module_version": "1.5.0",
            "_view_name": "ProgressView",
            "bar_style": "success",
            "description": "",
            "description_tooltip": null,
            "layout": "IPY_MODEL_445197ab59ed4637993e75c287cc9249",
            "max": 371427,
            "min": 0,
            "orientation": "horizontal",
            "style": "IPY_MODEL_3318905479744bd2a4ed093b89ae31e5",
            "value": 371427
          }
        },
        "49dea6be2693436aaffa489be372ea6f": {
          "model_module": "@jupyter-widgets/controls",
          "model_name": "HTMLModel",
          "model_module_version": "1.5.0",
          "state": {
            "_dom_classes": [],
            "_model_module": "@jupyter-widgets/controls",
            "_model_module_version": "1.5.0",
            "_model_name": "HTMLModel",
            "_view_count": null,
            "_view_module": "@jupyter-widgets/controls",
            "_view_module_version": "1.5.0",
            "_view_name": "HTMLView",
            "description": "",
            "description_tooltip": null,
            "layout": "IPY_MODEL_e6e81c8735de4babace160d0ee189fb0",
            "placeholder": "​",
            "style": "IPY_MODEL_624efd8f0ab74d4db69b9ddf36f8db8d",
            "value": " 371k/371k [00:00&lt;00:00, 3.68MB/s]"
          }
        },
        "7cd436937e734e0e94f3a46b8fab5e13": {
          "model_module": "@jupyter-widgets/base",
          "model_name": "LayoutModel",
          "model_module_version": "1.2.0",
          "state": {
            "_model_module": "@jupyter-widgets/base",
            "_model_module_version": "1.2.0",
            "_model_name": "LayoutModel",
            "_view_count": null,
            "_view_module": "@jupyter-widgets/base",
            "_view_module_version": "1.2.0",
            "_view_name": "LayoutView",
            "align_content": null,
            "align_items": null,
            "align_self": null,
            "border": null,
            "bottom": null,
            "display": null,
            "flex": null,
            "flex_flow": null,
            "grid_area": null,
            "grid_auto_columns": null,
            "grid_auto_flow": null,
            "grid_auto_rows": null,
            "grid_column": null,
            "grid_gap": null,
            "grid_row": null,
            "grid_template_areas": null,
            "grid_template_columns": null,
            "grid_template_rows": null,
            "height": null,
            "justify_content": null,
            "justify_items": null,
            "left": null,
            "margin": null,
            "max_height": null,
            "max_width": null,
            "min_height": null,
            "min_width": null,
            "object_fit": null,
            "object_position": null,
            "order": null,
            "overflow": null,
            "overflow_x": null,
            "overflow_y": null,
            "padding": null,
            "right": null,
            "top": null,
            "visibility": null,
            "width": null
          }
        },
        "0adfc25b8fab4f7a8a759e31af54f80a": {
          "model_module": "@jupyter-widgets/base",
          "model_name": "LayoutModel",
          "model_module_version": "1.2.0",
          "state": {
            "_model_module": "@jupyter-widgets/base",
            "_model_module_version": "1.2.0",
            "_model_name": "LayoutModel",
            "_view_count": null,
            "_view_module": "@jupyter-widgets/base",
            "_view_module_version": "1.2.0",
            "_view_name": "LayoutView",
            "align_content": null,
            "align_items": null,
            "align_self": null,
            "border": null,
            "bottom": null,
            "display": null,
            "flex": null,
            "flex_flow": null,
            "grid_area": null,
            "grid_auto_columns": null,
            "grid_auto_flow": null,
            "grid_auto_rows": null,
            "grid_column": null,
            "grid_gap": null,
            "grid_row": null,
            "grid_template_areas": null,
            "grid_template_columns": null,
            "grid_template_rows": null,
            "height": null,
            "justify_content": null,
            "justify_items": null,
            "left": null,
            "margin": null,
            "max_height": null,
            "max_width": null,
            "min_height": null,
            "min_width": null,
            "object_fit": null,
            "object_position": null,
            "order": null,
            "overflow": null,
            "overflow_x": null,
            "overflow_y": null,
            "padding": null,
            "right": null,
            "top": null,
            "visibility": null,
            "width": null
          }
        },
        "969d624fb78e462690d1f7f1f889b116": {
          "model_module": "@jupyter-widgets/controls",
          "model_name": "DescriptionStyleModel",
          "model_module_version": "1.5.0",
          "state": {
            "_model_module": "@jupyter-widgets/controls",
            "_model_module_version": "1.5.0",
            "_model_name": "DescriptionStyleModel",
            "_view_count": null,
            "_view_module": "@jupyter-widgets/base",
            "_view_module_version": "1.2.0",
            "_view_name": "StyleView",
            "description_width": ""
          }
        },
        "445197ab59ed4637993e75c287cc9249": {
          "model_module": "@jupyter-widgets/base",
          "model_name": "LayoutModel",
          "model_module_version": "1.2.0",
          "state": {
            "_model_module": "@jupyter-widgets/base",
            "_model_module_version": "1.2.0",
            "_model_name": "LayoutModel",
            "_view_count": null,
            "_view_module": "@jupyter-widgets/base",
            "_view_module_version": "1.2.0",
            "_view_name": "LayoutView",
            "align_content": null,
            "align_items": null,
            "align_self": null,
            "border": null,
            "bottom": null,
            "display": null,
            "flex": null,
            "flex_flow": null,
            "grid_area": null,
            "grid_auto_columns": null,
            "grid_auto_flow": null,
            "grid_auto_rows": null,
            "grid_column": null,
            "grid_gap": null,
            "grid_row": null,
            "grid_template_areas": null,
            "grid_template_columns": null,
            "grid_template_rows": null,
            "height": null,
            "justify_content": null,
            "justify_items": null,
            "left": null,
            "margin": null,
            "max_height": null,
            "max_width": null,
            "min_height": null,
            "min_width": null,
            "object_fit": null,
            "object_position": null,
            "order": null,
            "overflow": null,
            "overflow_x": null,
            "overflow_y": null,
            "padding": null,
            "right": null,
            "top": null,
            "visibility": null,
            "width": null
          }
        },
        "3318905479744bd2a4ed093b89ae31e5": {
          "model_module": "@jupyter-widgets/controls",
          "model_name": "ProgressStyleModel",
          "model_module_version": "1.5.0",
          "state": {
            "_model_module": "@jupyter-widgets/controls",
            "_model_module_version": "1.5.0",
            "_model_name": "ProgressStyleModel",
            "_view_count": null,
            "_view_module": "@jupyter-widgets/base",
            "_view_module_version": "1.2.0",
            "_view_name": "StyleView",
            "bar_color": null,
            "description_width": ""
          }
        },
        "e6e81c8735de4babace160d0ee189fb0": {
          "model_module": "@jupyter-widgets/base",
          "model_name": "LayoutModel",
          "model_module_version": "1.2.0",
          "state": {
            "_model_module": "@jupyter-widgets/base",
            "_model_module_version": "1.2.0",
            "_model_name": "LayoutModel",
            "_view_count": null,
            "_view_module": "@jupyter-widgets/base",
            "_view_module_version": "1.2.0",
            "_view_name": "LayoutView",
            "align_content": null,
            "align_items": null,
            "align_self": null,
            "border": null,
            "bottom": null,
            "display": null,
            "flex": null,
            "flex_flow": null,
            "grid_area": null,
            "grid_auto_columns": null,
            "grid_auto_flow": null,
            "grid_auto_rows": null,
            "grid_column": null,
            "grid_gap": null,
            "grid_row": null,
            "grid_template_areas": null,
            "grid_template_columns": null,
            "grid_template_rows": null,
            "height": null,
            "justify_content": null,
            "justify_items": null,
            "left": null,
            "margin": null,
            "max_height": null,
            "max_width": null,
            "min_height": null,
            "min_width": null,
            "object_fit": null,
            "object_position": null,
            "order": null,
            "overflow": null,
            "overflow_x": null,
            "overflow_y": null,
            "padding": null,
            "right": null,
            "top": null,
            "visibility": null,
            "width": null
          }
        },
        "624efd8f0ab74d4db69b9ddf36f8db8d": {
          "model_module": "@jupyter-widgets/controls",
          "model_name": "DescriptionStyleModel",
          "model_module_version": "1.5.0",
          "state": {
            "_model_module": "@jupyter-widgets/controls",
            "_model_module_version": "1.5.0",
            "_model_name": "DescriptionStyleModel",
            "_view_count": null,
            "_view_module": "@jupyter-widgets/base",
            "_view_module_version": "1.2.0",
            "_view_name": "StyleView",
            "description_width": ""
          }
        },
        "2494521927c949699c42f6284677f7a2": {
          "model_module": "@jupyter-widgets/controls",
          "model_name": "HBoxModel",
          "model_module_version": "1.5.0",
          "state": {
            "_dom_classes": [],
            "_model_module": "@jupyter-widgets/controls",
            "_model_module_version": "1.5.0",
            "_model_name": "HBoxModel",
            "_view_count": null,
            "_view_module": "@jupyter-widgets/controls",
            "_view_module_version": "1.5.0",
            "_view_name": "HBoxView",
            "box_style": "",
            "children": [
              "IPY_MODEL_da6133dc8b744cb8af2caa1bded38906",
              "IPY_MODEL_68fd8b160acc4b00ac86c8093519240f",
              "IPY_MODEL_5413c0ffb8614de59fef2e6e5d17d199"
            ],
            "layout": "IPY_MODEL_078b49c7c9834c65a3438709ddc3c33a"
          }
        },
        "da6133dc8b744cb8af2caa1bded38906": {
          "model_module": "@jupyter-widgets/controls",
          "model_name": "HTMLModel",
          "model_module_version": "1.5.0",
          "state": {
            "_dom_classes": [],
            "_model_module": "@jupyter-widgets/controls",
            "_model_module_version": "1.5.0",
            "_model_name": "HTMLModel",
            "_view_count": null,
            "_view_module": "@jupyter-widgets/controls",
            "_view_module_version": "1.5.0",
            "_view_name": "HTMLView",
            "description": "",
            "description_tooltip": null,
            "layout": "IPY_MODEL_8a10df70c7a34bc99c5f6da17ef01f29",
            "placeholder": "​",
            "style": "IPY_MODEL_d68854e9ee8b47008218298e507fb1e0",
            "value": "special_tokens_map.json: 100%"
          }
        },
        "68fd8b160acc4b00ac86c8093519240f": {
          "model_module": "@jupyter-widgets/controls",
          "model_name": "FloatProgressModel",
          "model_module_version": "1.5.0",
          "state": {
            "_dom_classes": [],
            "_model_module": "@jupyter-widgets/controls",
            "_model_module_version": "1.5.0",
            "_model_name": "FloatProgressModel",
            "_view_count": null,
            "_view_module": "@jupyter-widgets/controls",
            "_view_module_version": "1.5.0",
            "_view_name": "ProgressView",
            "bar_style": "success",
            "description": "",
            "description_tooltip": null,
            "layout": "IPY_MODEL_965d63bd3cf94690a889504be60a41f6",
            "max": 244,
            "min": 0,
            "orientation": "horizontal",
            "style": "IPY_MODEL_a28b33e759f743018ce0adb75ed3dab4",
            "value": 244
          }
        },
        "5413c0ffb8614de59fef2e6e5d17d199": {
          "model_module": "@jupyter-widgets/controls",
          "model_name": "HTMLModel",
          "model_module_version": "1.5.0",
          "state": {
            "_dom_classes": [],
            "_model_module": "@jupyter-widgets/controls",
            "_model_module_version": "1.5.0",
            "_model_name": "HTMLModel",
            "_view_count": null,
            "_view_module": "@jupyter-widgets/controls",
            "_view_module_version": "1.5.0",
            "_view_name": "HTMLView",
            "description": "",
            "description_tooltip": null,
            "layout": "IPY_MODEL_5ba64a96561d437f8a8b5197372a7e18",
            "placeholder": "​",
            "style": "IPY_MODEL_6431146e8964446cb46d8917d9b7f906",
            "value": " 244/244 [00:00&lt;00:00, 28.1kB/s]"
          }
        },
        "078b49c7c9834c65a3438709ddc3c33a": {
          "model_module": "@jupyter-widgets/base",
          "model_name": "LayoutModel",
          "model_module_version": "1.2.0",
          "state": {
            "_model_module": "@jupyter-widgets/base",
            "_model_module_version": "1.2.0",
            "_model_name": "LayoutModel",
            "_view_count": null,
            "_view_module": "@jupyter-widgets/base",
            "_view_module_version": "1.2.0",
            "_view_name": "LayoutView",
            "align_content": null,
            "align_items": null,
            "align_self": null,
            "border": null,
            "bottom": null,
            "display": null,
            "flex": null,
            "flex_flow": null,
            "grid_area": null,
            "grid_auto_columns": null,
            "grid_auto_flow": null,
            "grid_auto_rows": null,
            "grid_column": null,
            "grid_gap": null,
            "grid_row": null,
            "grid_template_areas": null,
            "grid_template_columns": null,
            "grid_template_rows": null,
            "height": null,
            "justify_content": null,
            "justify_items": null,
            "left": null,
            "margin": null,
            "max_height": null,
            "max_width": null,
            "min_height": null,
            "min_width": null,
            "object_fit": null,
            "object_position": null,
            "order": null,
            "overflow": null,
            "overflow_x": null,
            "overflow_y": null,
            "padding": null,
            "right": null,
            "top": null,
            "visibility": null,
            "width": null
          }
        },
        "8a10df70c7a34bc99c5f6da17ef01f29": {
          "model_module": "@jupyter-widgets/base",
          "model_name": "LayoutModel",
          "model_module_version": "1.2.0",
          "state": {
            "_model_module": "@jupyter-widgets/base",
            "_model_module_version": "1.2.0",
            "_model_name": "LayoutModel",
            "_view_count": null,
            "_view_module": "@jupyter-widgets/base",
            "_view_module_version": "1.2.0",
            "_view_name": "LayoutView",
            "align_content": null,
            "align_items": null,
            "align_self": null,
            "border": null,
            "bottom": null,
            "display": null,
            "flex": null,
            "flex_flow": null,
            "grid_area": null,
            "grid_auto_columns": null,
            "grid_auto_flow": null,
            "grid_auto_rows": null,
            "grid_column": null,
            "grid_gap": null,
            "grid_row": null,
            "grid_template_areas": null,
            "grid_template_columns": null,
            "grid_template_rows": null,
            "height": null,
            "justify_content": null,
            "justify_items": null,
            "left": null,
            "margin": null,
            "max_height": null,
            "max_width": null,
            "min_height": null,
            "min_width": null,
            "object_fit": null,
            "object_position": null,
            "order": null,
            "overflow": null,
            "overflow_x": null,
            "overflow_y": null,
            "padding": null,
            "right": null,
            "top": null,
            "visibility": null,
            "width": null
          }
        },
        "d68854e9ee8b47008218298e507fb1e0": {
          "model_module": "@jupyter-widgets/controls",
          "model_name": "DescriptionStyleModel",
          "model_module_version": "1.5.0",
          "state": {
            "_model_module": "@jupyter-widgets/controls",
            "_model_module_version": "1.5.0",
            "_model_name": "DescriptionStyleModel",
            "_view_count": null,
            "_view_module": "@jupyter-widgets/base",
            "_view_module_version": "1.2.0",
            "_view_name": "StyleView",
            "description_width": ""
          }
        },
        "965d63bd3cf94690a889504be60a41f6": {
          "model_module": "@jupyter-widgets/base",
          "model_name": "LayoutModel",
          "model_module_version": "1.2.0",
          "state": {
            "_model_module": "@jupyter-widgets/base",
            "_model_module_version": "1.2.0",
            "_model_name": "LayoutModel",
            "_view_count": null,
            "_view_module": "@jupyter-widgets/base",
            "_view_module_version": "1.2.0",
            "_view_name": "LayoutView",
            "align_content": null,
            "align_items": null,
            "align_self": null,
            "border": null,
            "bottom": null,
            "display": null,
            "flex": null,
            "flex_flow": null,
            "grid_area": null,
            "grid_auto_columns": null,
            "grid_auto_flow": null,
            "grid_auto_rows": null,
            "grid_column": null,
            "grid_gap": null,
            "grid_row": null,
            "grid_template_areas": null,
            "grid_template_columns": null,
            "grid_template_rows": null,
            "height": null,
            "justify_content": null,
            "justify_items": null,
            "left": null,
            "margin": null,
            "max_height": null,
            "max_width": null,
            "min_height": null,
            "min_width": null,
            "object_fit": null,
            "object_position": null,
            "order": null,
            "overflow": null,
            "overflow_x": null,
            "overflow_y": null,
            "padding": null,
            "right": null,
            "top": null,
            "visibility": null,
            "width": null
          }
        },
        "a28b33e759f743018ce0adb75ed3dab4": {
          "model_module": "@jupyter-widgets/controls",
          "model_name": "ProgressStyleModel",
          "model_module_version": "1.5.0",
          "state": {
            "_model_module": "@jupyter-widgets/controls",
            "_model_module_version": "1.5.0",
            "_model_name": "ProgressStyleModel",
            "_view_count": null,
            "_view_module": "@jupyter-widgets/base",
            "_view_module_version": "1.2.0",
            "_view_name": "StyleView",
            "bar_color": null,
            "description_width": ""
          }
        },
        "5ba64a96561d437f8a8b5197372a7e18": {
          "model_module": "@jupyter-widgets/base",
          "model_name": "LayoutModel",
          "model_module_version": "1.2.0",
          "state": {
            "_model_module": "@jupyter-widgets/base",
            "_model_module_version": "1.2.0",
            "_model_name": "LayoutModel",
            "_view_count": null,
            "_view_module": "@jupyter-widgets/base",
            "_view_module_version": "1.2.0",
            "_view_name": "LayoutView",
            "align_content": null,
            "align_items": null,
            "align_self": null,
            "border": null,
            "bottom": null,
            "display": null,
            "flex": null,
            "flex_flow": null,
            "grid_area": null,
            "grid_auto_columns": null,
            "grid_auto_flow": null,
            "grid_auto_rows": null,
            "grid_column": null,
            "grid_gap": null,
            "grid_row": null,
            "grid_template_areas": null,
            "grid_template_columns": null,
            "grid_template_rows": null,
            "height": null,
            "justify_content": null,
            "justify_items": null,
            "left": null,
            "margin": null,
            "max_height": null,
            "max_width": null,
            "min_height": null,
            "min_width": null,
            "object_fit": null,
            "object_position": null,
            "order": null,
            "overflow": null,
            "overflow_x": null,
            "overflow_y": null,
            "padding": null,
            "right": null,
            "top": null,
            "visibility": null,
            "width": null
          }
        },
        "6431146e8964446cb46d8917d9b7f906": {
          "model_module": "@jupyter-widgets/controls",
          "model_name": "DescriptionStyleModel",
          "model_module_version": "1.5.0",
          "state": {
            "_model_module": "@jupyter-widgets/controls",
            "_model_module_version": "1.5.0",
            "_model_name": "DescriptionStyleModel",
            "_view_count": null,
            "_view_module": "@jupyter-widgets/base",
            "_view_module_version": "1.2.0",
            "_view_name": "StyleView",
            "description_width": ""
          }
        },
        "d9ab54543b174052b13bcf4a7f26918b": {
          "model_module": "@jupyter-widgets/controls",
          "model_name": "HBoxModel",
          "model_module_version": "1.5.0",
          "state": {
            "_dom_classes": [],
            "_model_module": "@jupyter-widgets/controls",
            "_model_module_version": "1.5.0",
            "_model_name": "HBoxModel",
            "_view_count": null,
            "_view_module": "@jupyter-widgets/controls",
            "_view_module_version": "1.5.0",
            "_view_name": "HBoxView",
            "box_style": "",
            "children": [
              "IPY_MODEL_fdeb31bb6a1b4c9996b964dfa1090f49",
              "IPY_MODEL_6654ae59ffc74e3ca6c0bf7676f1e2bf",
              "IPY_MODEL_381f008e02e744dc88677a260705e033"
            ],
            "layout": "IPY_MODEL_7df23d2432de435494cc4d5df94c1df4"
          }
        },
        "fdeb31bb6a1b4c9996b964dfa1090f49": {
          "model_module": "@jupyter-widgets/controls",
          "model_name": "HTMLModel",
          "model_module_version": "1.5.0",
          "state": {
            "_dom_classes": [],
            "_model_module": "@jupyter-widgets/controls",
            "_model_module_version": "1.5.0",
            "_model_name": "HTMLModel",
            "_view_count": null,
            "_view_module": "@jupyter-widgets/controls",
            "_view_module_version": "1.5.0",
            "_view_name": "HTMLView",
            "description": "",
            "description_tooltip": null,
            "layout": "IPY_MODEL_41d2d80f783741978f88e83ad39a39a9",
            "placeholder": "​",
            "style": "IPY_MODEL_18585471108f46a4aef69b3918f48167",
            "value": "config.json: 100%"
          }
        },
        "6654ae59ffc74e3ca6c0bf7676f1e2bf": {
          "model_module": "@jupyter-widgets/controls",
          "model_name": "FloatProgressModel",
          "model_module_version": "1.5.0",
          "state": {
            "_dom_classes": [],
            "_model_module": "@jupyter-widgets/controls",
            "_model_module_version": "1.5.0",
            "_model_name": "FloatProgressModel",
            "_view_count": null,
            "_view_module": "@jupyter-widgets/controls",
            "_view_module_version": "1.5.0",
            "_view_name": "ProgressView",
            "bar_style": "success",
            "description": "",
            "description_tooltip": null,
            "layout": "IPY_MODEL_12ec4505cb274a9783309d6f50f33f93",
            "max": 535,
            "min": 0,
            "orientation": "horizontal",
            "style": "IPY_MODEL_5bd8fd211611418387efb505c0982dc5",
            "value": 535
          }
        },
        "381f008e02e744dc88677a260705e033": {
          "model_module": "@jupyter-widgets/controls",
          "model_name": "HTMLModel",
          "model_module_version": "1.5.0",
          "state": {
            "_dom_classes": [],
            "_model_module": "@jupyter-widgets/controls",
            "_model_module_version": "1.5.0",
            "_model_name": "HTMLModel",
            "_view_count": null,
            "_view_module": "@jupyter-widgets/controls",
            "_view_module_version": "1.5.0",
            "_view_name": "HTMLView",
            "description": "",
            "description_tooltip": null,
            "layout": "IPY_MODEL_9f306062df8a4b0885acabf997d60280",
            "placeholder": "​",
            "style": "IPY_MODEL_d5b19b74075e43cdb7e21020dfb9ff4a",
            "value": " 535/535 [00:00&lt;00:00, 60.9kB/s]"
          }
        },
        "7df23d2432de435494cc4d5df94c1df4": {
          "model_module": "@jupyter-widgets/base",
          "model_name": "LayoutModel",
          "model_module_version": "1.2.0",
          "state": {
            "_model_module": "@jupyter-widgets/base",
            "_model_module_version": "1.2.0",
            "_model_name": "LayoutModel",
            "_view_count": null,
            "_view_module": "@jupyter-widgets/base",
            "_view_module_version": "1.2.0",
            "_view_name": "LayoutView",
            "align_content": null,
            "align_items": null,
            "align_self": null,
            "border": null,
            "bottom": null,
            "display": null,
            "flex": null,
            "flex_flow": null,
            "grid_area": null,
            "grid_auto_columns": null,
            "grid_auto_flow": null,
            "grid_auto_rows": null,
            "grid_column": null,
            "grid_gap": null,
            "grid_row": null,
            "grid_template_areas": null,
            "grid_template_columns": null,
            "grid_template_rows": null,
            "height": null,
            "justify_content": null,
            "justify_items": null,
            "left": null,
            "margin": null,
            "max_height": null,
            "max_width": null,
            "min_height": null,
            "min_width": null,
            "object_fit": null,
            "object_position": null,
            "order": null,
            "overflow": null,
            "overflow_x": null,
            "overflow_y": null,
            "padding": null,
            "right": null,
            "top": null,
            "visibility": null,
            "width": null
          }
        },
        "41d2d80f783741978f88e83ad39a39a9": {
          "model_module": "@jupyter-widgets/base",
          "model_name": "LayoutModel",
          "model_module_version": "1.2.0",
          "state": {
            "_model_module": "@jupyter-widgets/base",
            "_model_module_version": "1.2.0",
            "_model_name": "LayoutModel",
            "_view_count": null,
            "_view_module": "@jupyter-widgets/base",
            "_view_module_version": "1.2.0",
            "_view_name": "LayoutView",
            "align_content": null,
            "align_items": null,
            "align_self": null,
            "border": null,
            "bottom": null,
            "display": null,
            "flex": null,
            "flex_flow": null,
            "grid_area": null,
            "grid_auto_columns": null,
            "grid_auto_flow": null,
            "grid_auto_rows": null,
            "grid_column": null,
            "grid_gap": null,
            "grid_row": null,
            "grid_template_areas": null,
            "grid_template_columns": null,
            "grid_template_rows": null,
            "height": null,
            "justify_content": null,
            "justify_items": null,
            "left": null,
            "margin": null,
            "max_height": null,
            "max_width": null,
            "min_height": null,
            "min_width": null,
            "object_fit": null,
            "object_position": null,
            "order": null,
            "overflow": null,
            "overflow_x": null,
            "overflow_y": null,
            "padding": null,
            "right": null,
            "top": null,
            "visibility": null,
            "width": null
          }
        },
        "18585471108f46a4aef69b3918f48167": {
          "model_module": "@jupyter-widgets/controls",
          "model_name": "DescriptionStyleModel",
          "model_module_version": "1.5.0",
          "state": {
            "_model_module": "@jupyter-widgets/controls",
            "_model_module_version": "1.5.0",
            "_model_name": "DescriptionStyleModel",
            "_view_count": null,
            "_view_module": "@jupyter-widgets/base",
            "_view_module_version": "1.2.0",
            "_view_name": "StyleView",
            "description_width": ""
          }
        },
        "12ec4505cb274a9783309d6f50f33f93": {
          "model_module": "@jupyter-widgets/base",
          "model_name": "LayoutModel",
          "model_module_version": "1.2.0",
          "state": {
            "_model_module": "@jupyter-widgets/base",
            "_model_module_version": "1.2.0",
            "_model_name": "LayoutModel",
            "_view_count": null,
            "_view_module": "@jupyter-widgets/base",
            "_view_module_version": "1.2.0",
            "_view_name": "LayoutView",
            "align_content": null,
            "align_items": null,
            "align_self": null,
            "border": null,
            "bottom": null,
            "display": null,
            "flex": null,
            "flex_flow": null,
            "grid_area": null,
            "grid_auto_columns": null,
            "grid_auto_flow": null,
            "grid_auto_rows": null,
            "grid_column": null,
            "grid_gap": null,
            "grid_row": null,
            "grid_template_areas": null,
            "grid_template_columns": null,
            "grid_template_rows": null,
            "height": null,
            "justify_content": null,
            "justify_items": null,
            "left": null,
            "margin": null,
            "max_height": null,
            "max_width": null,
            "min_height": null,
            "min_width": null,
            "object_fit": null,
            "object_position": null,
            "order": null,
            "overflow": null,
            "overflow_x": null,
            "overflow_y": null,
            "padding": null,
            "right": null,
            "top": null,
            "visibility": null,
            "width": null
          }
        },
        "5bd8fd211611418387efb505c0982dc5": {
          "model_module": "@jupyter-widgets/controls",
          "model_name": "ProgressStyleModel",
          "model_module_version": "1.5.0",
          "state": {
            "_model_module": "@jupyter-widgets/controls",
            "_model_module_version": "1.5.0",
            "_model_name": "ProgressStyleModel",
            "_view_count": null,
            "_view_module": "@jupyter-widgets/base",
            "_view_module_version": "1.2.0",
            "_view_name": "StyleView",
            "bar_color": null,
            "description_width": ""
          }
        },
        "9f306062df8a4b0885acabf997d60280": {
          "model_module": "@jupyter-widgets/base",
          "model_name": "LayoutModel",
          "model_module_version": "1.2.0",
          "state": {
            "_model_module": "@jupyter-widgets/base",
            "_model_module_version": "1.2.0",
            "_model_name": "LayoutModel",
            "_view_count": null,
            "_view_module": "@jupyter-widgets/base",
            "_view_module_version": "1.2.0",
            "_view_name": "LayoutView",
            "align_content": null,
            "align_items": null,
            "align_self": null,
            "border": null,
            "bottom": null,
            "display": null,
            "flex": null,
            "flex_flow": null,
            "grid_area": null,
            "grid_auto_columns": null,
            "grid_auto_flow": null,
            "grid_auto_rows": null,
            "grid_column": null,
            "grid_gap": null,
            "grid_row": null,
            "grid_template_areas": null,
            "grid_template_columns": null,
            "grid_template_rows": null,
            "height": null,
            "justify_content": null,
            "justify_items": null,
            "left": null,
            "margin": null,
            "max_height": null,
            "max_width": null,
            "min_height": null,
            "min_width": null,
            "object_fit": null,
            "object_position": null,
            "order": null,
            "overflow": null,
            "overflow_x": null,
            "overflow_y": null,
            "padding": null,
            "right": null,
            "top": null,
            "visibility": null,
            "width": null
          }
        },
        "d5b19b74075e43cdb7e21020dfb9ff4a": {
          "model_module": "@jupyter-widgets/controls",
          "model_name": "DescriptionStyleModel",
          "model_module_version": "1.5.0",
          "state": {
            "_model_module": "@jupyter-widgets/controls",
            "_model_module_version": "1.5.0",
            "_model_name": "DescriptionStyleModel",
            "_view_count": null,
            "_view_module": "@jupyter-widgets/base",
            "_view_module_version": "1.2.0",
            "_view_name": "StyleView",
            "description_width": ""
          }
        },
        "f492de8b62164f93aec56240d17d841d": {
          "model_module": "@jupyter-widgets/controls",
          "model_name": "HBoxModel",
          "model_module_version": "1.5.0",
          "state": {
            "_dom_classes": [],
            "_model_module": "@jupyter-widgets/controls",
            "_model_module_version": "1.5.0",
            "_model_name": "HBoxModel",
            "_view_count": null,
            "_view_module": "@jupyter-widgets/controls",
            "_view_module_version": "1.5.0",
            "_view_name": "HBoxView",
            "box_style": "",
            "children": [
              "IPY_MODEL_ba82b521c8064ea4af23eaa2c2037884",
              "IPY_MODEL_34ca2b9cb1774e7284f0bd02aa2f5863",
              "IPY_MODEL_aa1da11a48bb481d87d178585f931398"
            ],
            "layout": "IPY_MODEL_a830034f8eaa45cdb55bffe7500b1ed2"
          }
        },
        "ba82b521c8064ea4af23eaa2c2037884": {
          "model_module": "@jupyter-widgets/controls",
          "model_name": "HTMLModel",
          "model_module_version": "1.5.0",
          "state": {
            "_dom_classes": [],
            "_model_module": "@jupyter-widgets/controls",
            "_model_module_version": "1.5.0",
            "_model_name": "HTMLModel",
            "_view_count": null,
            "_view_module": "@jupyter-widgets/controls",
            "_view_module_version": "1.5.0",
            "_view_name": "HTMLView",
            "description": "",
            "description_tooltip": null,
            "layout": "IPY_MODEL_60b6f468fc824fbabba2f5b69ff3f526",
            "placeholder": "​",
            "style": "IPY_MODEL_e6e33d6f23d94d1e9e93ca85f377186a",
            "value": "model.safetensors: 100%"
          }
        },
        "34ca2b9cb1774e7284f0bd02aa2f5863": {
          "model_module": "@jupyter-widgets/controls",
          "model_name": "FloatProgressModel",
          "model_module_version": "1.5.0",
          "state": {
            "_dom_classes": [],
            "_model_module": "@jupyter-widgets/controls",
            "_model_module_version": "1.5.0",
            "_model_name": "FloatProgressModel",
            "_view_count": null,
            "_view_module": "@jupyter-widgets/controls",
            "_view_module_version": "1.5.0",
            "_view_name": "ProgressView",
            "bar_style": "success",
            "description": "",
            "description_tooltip": null,
            "layout": "IPY_MODEL_2189ca36f5e043c9a631224a7549e7f1",
            "max": 368769808,
            "min": 0,
            "orientation": "horizontal",
            "style": "IPY_MODEL_5fba562b89444a17b1d8b243d590e394",
            "value": 368769808
          }
        },
        "aa1da11a48bb481d87d178585f931398": {
          "model_module": "@jupyter-widgets/controls",
          "model_name": "HTMLModel",
          "model_module_version": "1.5.0",
          "state": {
            "_dom_classes": [],
            "_model_module": "@jupyter-widgets/controls",
            "_model_module_version": "1.5.0",
            "_model_name": "HTMLModel",
            "_view_count": null,
            "_view_module": "@jupyter-widgets/controls",
            "_view_module_version": "1.5.0",
            "_view_name": "HTMLView",
            "description": "",
            "description_tooltip": null,
            "layout": "IPY_MODEL_11d54c79754845efa57df24e78ba95be",
            "placeholder": "​",
            "style": "IPY_MODEL_8af7cc6f66c54c118272094e02f376fd",
            "value": " 369M/369M [00:02&lt;00:00, 135MB/s]"
          }
        },
        "a830034f8eaa45cdb55bffe7500b1ed2": {
          "model_module": "@jupyter-widgets/base",
          "model_name": "LayoutModel",
          "model_module_version": "1.2.0",
          "state": {
            "_model_module": "@jupyter-widgets/base",
            "_model_module_version": "1.2.0",
            "_model_name": "LayoutModel",
            "_view_count": null,
            "_view_module": "@jupyter-widgets/base",
            "_view_module_version": "1.2.0",
            "_view_name": "LayoutView",
            "align_content": null,
            "align_items": null,
            "align_self": null,
            "border": null,
            "bottom": null,
            "display": null,
            "flex": null,
            "flex_flow": null,
            "grid_area": null,
            "grid_auto_columns": null,
            "grid_auto_flow": null,
            "grid_auto_rows": null,
            "grid_column": null,
            "grid_gap": null,
            "grid_row": null,
            "grid_template_areas": null,
            "grid_template_columns": null,
            "grid_template_rows": null,
            "height": null,
            "justify_content": null,
            "justify_items": null,
            "left": null,
            "margin": null,
            "max_height": null,
            "max_width": null,
            "min_height": null,
            "min_width": null,
            "object_fit": null,
            "object_position": null,
            "order": null,
            "overflow": null,
            "overflow_x": null,
            "overflow_y": null,
            "padding": null,
            "right": null,
            "top": null,
            "visibility": null,
            "width": null
          }
        },
        "60b6f468fc824fbabba2f5b69ff3f526": {
          "model_module": "@jupyter-widgets/base",
          "model_name": "LayoutModel",
          "model_module_version": "1.2.0",
          "state": {
            "_model_module": "@jupyter-widgets/base",
            "_model_module_version": "1.2.0",
            "_model_name": "LayoutModel",
            "_view_count": null,
            "_view_module": "@jupyter-widgets/base",
            "_view_module_version": "1.2.0",
            "_view_name": "LayoutView",
            "align_content": null,
            "align_items": null,
            "align_self": null,
            "border": null,
            "bottom": null,
            "display": null,
            "flex": null,
            "flex_flow": null,
            "grid_area": null,
            "grid_auto_columns": null,
            "grid_auto_flow": null,
            "grid_auto_rows": null,
            "grid_column": null,
            "grid_gap": null,
            "grid_row": null,
            "grid_template_areas": null,
            "grid_template_columns": null,
            "grid_template_rows": null,
            "height": null,
            "justify_content": null,
            "justify_items": null,
            "left": null,
            "margin": null,
            "max_height": null,
            "max_width": null,
            "min_height": null,
            "min_width": null,
            "object_fit": null,
            "object_position": null,
            "order": null,
            "overflow": null,
            "overflow_x": null,
            "overflow_y": null,
            "padding": null,
            "right": null,
            "top": null,
            "visibility": null,
            "width": null
          }
        },
        "e6e33d6f23d94d1e9e93ca85f377186a": {
          "model_module": "@jupyter-widgets/controls",
          "model_name": "DescriptionStyleModel",
          "model_module_version": "1.5.0",
          "state": {
            "_model_module": "@jupyter-widgets/controls",
            "_model_module_version": "1.5.0",
            "_model_name": "DescriptionStyleModel",
            "_view_count": null,
            "_view_module": "@jupyter-widgets/base",
            "_view_module_version": "1.2.0",
            "_view_name": "StyleView",
            "description_width": ""
          }
        },
        "2189ca36f5e043c9a631224a7549e7f1": {
          "model_module": "@jupyter-widgets/base",
          "model_name": "LayoutModel",
          "model_module_version": "1.2.0",
          "state": {
            "_model_module": "@jupyter-widgets/base",
            "_model_module_version": "1.2.0",
            "_model_name": "LayoutModel",
            "_view_count": null,
            "_view_module": "@jupyter-widgets/base",
            "_view_module_version": "1.2.0",
            "_view_name": "LayoutView",
            "align_content": null,
            "align_items": null,
            "align_self": null,
            "border": null,
            "bottom": null,
            "display": null,
            "flex": null,
            "flex_flow": null,
            "grid_area": null,
            "grid_auto_columns": null,
            "grid_auto_flow": null,
            "grid_auto_rows": null,
            "grid_column": null,
            "grid_gap": null,
            "grid_row": null,
            "grid_template_areas": null,
            "grid_template_columns": null,
            "grid_template_rows": null,
            "height": null,
            "justify_content": null,
            "justify_items": null,
            "left": null,
            "margin": null,
            "max_height": null,
            "max_width": null,
            "min_height": null,
            "min_width": null,
            "object_fit": null,
            "object_position": null,
            "order": null,
            "overflow": null,
            "overflow_x": null,
            "overflow_y": null,
            "padding": null,
            "right": null,
            "top": null,
            "visibility": null,
            "width": null
          }
        },
        "5fba562b89444a17b1d8b243d590e394": {
          "model_module": "@jupyter-widgets/controls",
          "model_name": "ProgressStyleModel",
          "model_module_version": "1.5.0",
          "state": {
            "_model_module": "@jupyter-widgets/controls",
            "_model_module_version": "1.5.0",
            "_model_name": "ProgressStyleModel",
            "_view_count": null,
            "_view_module": "@jupyter-widgets/base",
            "_view_module_version": "1.2.0",
            "_view_name": "StyleView",
            "bar_color": null,
            "description_width": ""
          }
        },
        "11d54c79754845efa57df24e78ba95be": {
          "model_module": "@jupyter-widgets/base",
          "model_name": "LayoutModel",
          "model_module_version": "1.2.0",
          "state": {
            "_model_module": "@jupyter-widgets/base",
            "_model_module_version": "1.2.0",
            "_model_name": "LayoutModel",
            "_view_count": null,
            "_view_module": "@jupyter-widgets/base",
            "_view_module_version": "1.2.0",
            "_view_name": "LayoutView",
            "align_content": null,
            "align_items": null,
            "align_self": null,
            "border": null,
            "bottom": null,
            "display": null,
            "flex": null,
            "flex_flow": null,
            "grid_area": null,
            "grid_auto_columns": null,
            "grid_auto_flow": null,
            "grid_auto_rows": null,
            "grid_column": null,
            "grid_gap": null,
            "grid_row": null,
            "grid_template_areas": null,
            "grid_template_columns": null,
            "grid_template_rows": null,
            "height": null,
            "justify_content": null,
            "justify_items": null,
            "left": null,
            "margin": null,
            "max_height": null,
            "max_width": null,
            "min_height": null,
            "min_width": null,
            "object_fit": null,
            "object_position": null,
            "order": null,
            "overflow": null,
            "overflow_x": null,
            "overflow_y": null,
            "padding": null,
            "right": null,
            "top": null,
            "visibility": null,
            "width": null
          }
        },
        "8af7cc6f66c54c118272094e02f376fd": {
          "model_module": "@jupyter-widgets/controls",
          "model_name": "DescriptionStyleModel",
          "model_module_version": "1.5.0",
          "state": {
            "_model_module": "@jupyter-widgets/controls",
            "_model_module_version": "1.5.0",
            "_model_name": "DescriptionStyleModel",
            "_view_count": null,
            "_view_module": "@jupyter-widgets/base",
            "_view_module_version": "1.2.0",
            "_view_name": "StyleView",
            "description_width": ""
          }
        }
      }
    },
    "accelerator": "GPU"
  },
  "nbformat": 4,
  "nbformat_minor": 0
}
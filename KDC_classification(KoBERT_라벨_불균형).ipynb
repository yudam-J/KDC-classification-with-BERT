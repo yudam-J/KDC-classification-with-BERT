{
  "cells": [
    {
      "cell_type": "markdown",
      "metadata": {
        "id": "view-in-github",
        "colab_type": "text"
      },
      "source": [
        "<a href=\"https://colab.research.google.com/github/yudam-J/KDC-classification-with-BERT/blob/main/KDC_classification(KoBERT_%EB%9D%BC%EB%B2%A8_%EB%B6%88%EA%B7%A0%ED%98%95).ipynb\" target=\"_parent\"><img src=\"https://colab.research.google.com/assets/colab-badge.svg\" alt=\"Open In Colab\"/></a>"
      ]
    },
    {
      "cell_type": "markdown",
      "metadata": {
        "id": "Mu9IBgSsebW4"
      },
      "source": [
        "# 0. Functions & Module Import"
      ]
    },
    {
      "cell_type": "code",
      "execution_count": null,
      "metadata": {
        "colab": {
          "base_uri": "https://localhost:8080/"
        },
        "id": "u_wqE4EtdUB3",
        "outputId": "5658f7cf-abd7-49b5-fb9d-e7e4f3d95c7a"
      },
      "outputs": [
        {
          "name": "stdout",
          "output_type": "stream",
          "text": [
            "Mounted at /content/drive/\n"
          ]
        }
      ],
      "source": [
        "import pandas as pd\n",
        "import os\n",
        "import sys\n",
        "import urllib.request\n",
        "import json\n",
        "import re\n",
        "import numpy as np\n",
        "from google.colab import drive\n",
        "from glob import glob\n",
        "\n",
        "drive.mount('/content/drive/')\n",
        "os.chdir('/content/drive/MyDrive/work_dir')\n",
        "\n",
        "pd.set_option('display.float_format', '{:.0f}'.format)"
      ]
    },
    {
      "cell_type": "code",
      "execution_count": null,
      "metadata": {
        "id": "a_uyBHhvd1sK"
      },
      "outputs": [],
      "source": [
        "def get_book_descriptions(df, isbn_column, client_id, client_secret):\n",
        "    \"\"\"\n",
        "    네이버 책 API를 통해 ISBN 번호를 바탕으로 책 설명을 가져오는 함수.\n",
        "\n",
        "    Parameters:\n",
        "    - df (pd.DataFrame): ISBN 번호가 있는 데이터프레임\n",
        "    - isbn_column (str): ISBN 번호가 포함된 열의 이름\n",
        "    - client_id (str): 네이버 API 클라이언트 ID\n",
        "    - client_secret (str): 네이버 API 클라이언트 시크릿\n",
        "\n",
        "    Returns:\n",
        "    - pd.DataFrame: description 열이 추가된 데이터프레임\n",
        "    \"\"\"\n",
        "    descriptions = []\n",
        "\n",
        "    for isbn in df[isbn_column]:\n",
        "        query = urllib.parse.quote(isbn)\n",
        "\n",
        "        # 네이버 API URL\n",
        "        url = f\"https://openapi.naver.com/v1/search/book_adv?d_isbn={query}&display=1&start=1&sort=sim\"\n",
        "\n",
        "        # 요청 헤더 설정\n",
        "        request = urllib.request.Request(url)\n",
        "        request.add_header(\"X-Naver-Client-Id\", client_id)\n",
        "        request.add_header(\"X-Naver-Client-Secret\", client_secret)\n",
        "\n",
        "        try:\n",
        "            # API 요청 보내기\n",
        "            response = urllib.request.urlopen(request)\n",
        "            rescode = response.getcode()\n",
        "\n",
        "            if rescode == 200:\n",
        "                # 응답 본문 읽기\n",
        "                response_body = response.read()\n",
        "                items = json.loads(response_body.decode('utf-8')).get(\"items\", [])\n",
        "\n",
        "                # HTML 태그 제거용 정규 표현식\n",
        "                remove_tag = re.compile('<.*?>')\n",
        "\n",
        "                # 책의 description 가져오기 (첫 번째 검색 결과)\n",
        "                description = re.sub(remove_tag, '', items[0]['description']) if items else \"No description available\"\n",
        "                descriptions.append(description)\n",
        "            else:\n",
        "                print(f\"Error Code: {rescode}\")\n",
        "                descriptions.append(\"Error in fetching description\")\n",
        "\n",
        "        except urllib.error.HTTPError as e:\n",
        "            print(f\"HTTP Error: {e.code}\")\n",
        "            descriptions.append(\"HTTP Error\")\n",
        "        except urllib.error.URLError as e:\n",
        "            print(f\"URL Error: {e.reason}\")\n",
        "            descriptions.append(\"URL Error\")\n",
        "        except Exception as e:\n",
        "            print(f\"General Error: {str(e)}\")\n",
        "            descriptions.append(\"General Error\")\n",
        "\n",
        "    # DataFrame에 descriptions 열 추가\n",
        "    df['description'] = descriptions\n",
        "\n",
        "    return df"
      ]
    },
    {
      "cell_type": "markdown",
      "metadata": {
        "id": "npJT05PkeYim"
      },
      "source": [
        "#Data Preprocessing"
      ]
    },
    {
      "cell_type": "markdown",
      "metadata": {
        "id": "OXl0KLBWfOAL"
      },
      "source": [
        "## (1) Data Load and Combine"
      ]
    },
    {
      "cell_type": "code",
      "execution_count": null,
      "metadata": {
        "colab": {
          "base_uri": "https://localhost:8080/"
        },
        "id": "blC7faRF9jNe",
        "outputId": "02a1f5df-4b48-4a80-c857-46f1c16ffb0f"
      },
      "outputs": [
        {
          "name": "stderr",
          "output_type": "stream",
          "text": [
            "<ipython-input-7-15d402cc761f>:9: DtypeWarning: Columns (6,11,17) have mixed types. Specify dtype option on import or set low_memory=False.\n",
            "  df = pd.read_csv(file)\n",
            "<ipython-input-7-15d402cc761f>:9: DtypeWarning: Columns (7,11) have mixed types. Specify dtype option on import or set low_memory=False.\n",
            "  df = pd.read_csv(file)\n",
            "<ipython-input-7-15d402cc761f>:9: DtypeWarning: Columns (6,17) have mixed types. Specify dtype option on import or set low_memory=False.\n",
            "  df = pd.read_csv(file)\n",
            "<ipython-input-7-15d402cc761f>:9: DtypeWarning: Columns (11,17) have mixed types. Specify dtype option on import or set low_memory=False.\n",
            "  df = pd.read_csv(file)\n",
            "<ipython-input-7-15d402cc761f>:9: DtypeWarning: Columns (1,6,7,9,10,11,12,13,14,17) have mixed types. Specify dtype option on import or set low_memory=False.\n",
            "  df = pd.read_csv(file)\n",
            "<ipython-input-7-15d402cc761f>:9: DtypeWarning: Columns (1,7,10,11,12,13,17) have mixed types. Specify dtype option on import or set low_memory=False.\n",
            "  df = pd.read_csv(file)\n",
            "<ipython-input-7-15d402cc761f>:9: DtypeWarning: Columns (6,7,11,17) have mixed types. Specify dtype option on import or set low_memory=False.\n",
            "  df = pd.read_csv(file)\n",
            "<ipython-input-7-15d402cc761f>:9: DtypeWarning: Columns (6,7,11,17) have mixed types. Specify dtype option on import or set low_memory=False.\n",
            "  df = pd.read_csv(file)\n",
            "<ipython-input-7-15d402cc761f>:9: DtypeWarning: Columns (11) have mixed types. Specify dtype option on import or set low_memory=False.\n",
            "  df = pd.read_csv(file)\n",
            "<ipython-input-7-15d402cc761f>:9: DtypeWarning: Columns (2,6,7,9,10,11,14,17) have mixed types. Specify dtype option on import or set low_memory=False.\n",
            "  df = pd.read_csv(file)\n",
            "<ipython-input-7-15d402cc761f>:9: DtypeWarning: Columns (7,17) have mixed types. Specify dtype option on import or set low_memory=False.\n",
            "  df = pd.read_csv(file)\n",
            "<ipython-input-7-15d402cc761f>:9: DtypeWarning: Columns (7) have mixed types. Specify dtype option on import or set low_memory=False.\n",
            "  df = pd.read_csv(file)\n"
          ]
        }
      ],
      "source": [
        "\"\"\"\n",
        "지정된 경로의 파일을 불러와 하나의 데이터프레임으로 병합합니다.\n",
        "\"\"\"\n",
        "csv_files = glob(os.path.join('/content/drive/MyDrive/work_dir', \"NL_BO_SPECIES_MASTER_NEW*.csv\"))\n",
        "\n",
        "# 각 파일을 읽고 리스트에 추가하여 병합\n",
        "dataframes = []\n",
        "for file in csv_files:\n",
        "    df = pd.read_csv(file)\n",
        "    dataframes.append(df)\n",
        "\n",
        "# 모든 데이터를 하나의 데이터프레임으로 결합\n",
        "df_2 = pd.concat(dataframes, ignore_index=True)"
      ]
    },
    {
      "cell_type": "code",
      "execution_count": null,
      "metadata": {
        "colab": {
          "base_uri": "https://localhost:8080/"
        },
        "id": "Ta-2G18M_Sfg",
        "outputId": "53e4c0ad-a808-4575-8585-690ed471da78"
      },
      "outputs": [
        {
          "data": {
            "text/plain": [
              "Index(['SEQ_NO', 'ISBN_THIRTEEN_NO', 'VLM_NM', 'TITLE_NM', 'AUTHR_NM',\n",
              "       'PUBLISHER_NM', 'PBLICTE_DE', 'ADTION_SMBL_NM', 'PRC_VALUE',\n",
              "       'IMAGE_URL', 'BOOK_INTRCN_CN', 'KDC_NM', 'TITLE_SBST_NM',\n",
              "       'AUTHR_SBST_NM', 'TWO_PBLICTE_DE', 'INTNT_BOOKST_BOOK_EXST_AT',\n",
              "       'PORTAL_SITE_BOOK_EXST_AT', 'ISBN_NO'],\n",
              "      dtype='object')"
            ]
          },
          "execution_count": 8,
          "metadata": {},
          "output_type": "execute_result"
        }
      ],
      "source": [
        "df_2.columns"
      ]
    },
    {
      "cell_type": "code",
      "execution_count": null,
      "metadata": {
        "id": "0KTEh97AAdz_"
      },
      "outputs": [],
      "source": [
        "df_2 = df_2[[\"TITLE_NM\", \"ISBN_THIRTEEN_NO\", \"BOOK_INTRCN_CN\", \"KDC_NM\"]]"
      ]
    },
    {
      "cell_type": "code",
      "execution_count": null,
      "metadata": {
        "colab": {
          "base_uri": "https://localhost:8080/"
        },
        "id": "06uYMduLAlbD",
        "outputId": "4baaf0cd-be06-453d-f0d5-efb91aa7b4ba"
      },
      "outputs": [
        {
          "name": "stdout",
          "output_type": "stream",
          "text": [
            "TITLE_NM                  0\n",
            "ISBN_THIRTEEN_NO          0\n",
            "BOOK_INTRCN_CN      1392396\n",
            "KDC_NM                    0\n",
            "dtype: int64\n"
          ]
        }
      ],
      "source": [
        "df_2 = df_2.dropna(subset=['KDC_NM'])\n",
        "nan_count_per_column = df_2.isna().sum()\n",
        "print(nan_count_per_column)"
      ]
    },
    {
      "cell_type": "code",
      "execution_count": null,
      "metadata": {
        "colab": {
          "base_uri": "https://localhost:8080/"
        },
        "id": "gK-RK0FIAxaY",
        "outputId": "77f6a34d-625d-44e3-86ba-ea99a0e8d951"
      },
      "outputs": [
        {
          "name": "stdout",
          "output_type": "stream",
          "text": [
            "TITLE_NM            0\n",
            "ISBN_THIRTEEN_NO    0\n",
            "BOOK_INTRCN_CN      0\n",
            "KDC_NM              0\n",
            "dtype: int64\n"
          ]
        }
      ],
      "source": [
        "df_2 = df_2.dropna(subset=['BOOK_INTRCN_CN'])\n",
        "nan_count_per_column = df_2.isna().sum()\n",
        "print(nan_count_per_column)"
      ]
    },
    {
      "cell_type": "code",
      "execution_count": null,
      "metadata": {
        "colab": {
          "base_uri": "https://localhost:8080/"
        },
        "id": "vzwQuAzfA1ur",
        "outputId": "ba82af02-dda8-4901-819a-d5a1ecffc964"
      },
      "outputs": [
        {
          "data": {
            "text/plain": [
              "(1050904, 4)"
            ]
          },
          "execution_count": 12,
          "metadata": {},
          "output_type": "execute_result"
        }
      ],
      "source": [
        "df_2.shape"
      ]
    },
    {
      "cell_type": "code",
      "execution_count": null,
      "metadata": {
        "colab": {
          "base_uri": "https://localhost:8080/"
        },
        "id": "VSASYbSCBYqS",
        "outputId": "6b05d142-f808-4d90-a3be-cd23f99e0c43"
      },
      "outputs": [
        {
          "data": {
            "text/plain": [
              "(860476, 4)"
            ]
          },
          "execution_count": 13,
          "metadata": {},
          "output_type": "execute_result"
        }
      ],
      "source": [
        "df_2 = df_2.drop_duplicates(subset=['ISBN_THIRTEEN_NO'])\n",
        "df_2.shape"
      ]
    },
    {
      "cell_type": "code",
      "execution_count": null,
      "metadata": {
        "colab": {
          "base_uri": "https://localhost:8080/"
        },
        "id": "3btFl_oBBooI",
        "outputId": "64dc7826-8690-40ec-ed4b-c69c69435c92"
      },
      "outputs": [
        {
          "name": "stdout",
          "output_type": "stream",
          "text": [
            "BOOK_INTRCN_CN\n",
            "[해외주문원서] 고객님의 요청으로 수입 주문하는 도서이므로, 주문취소 및 반품이 불가합니다. (단, 재고부족인 경우는 가능)                                                                                                                           4966\n",
            "이 책은 해당 분야 전공자들을 위한 교재 겸 전문서이다.                                                                                                                                                                  255\n",
            "▶ 이 책은 영어로 구성되어 있습니다.                                                                                                                                                                            208\n",
            "어린이들을 위한 음악교재이다. 어린이들이 쉽게 따라할 수 있도록 구성되어 있다.                                                                                                                                                     199\n",
            "명문대 선정 세계문학 시리즈. 우리 나라의 대표적인 아동문학가들이 초등학교 아이들이 읽기에 알맞은 작품을 선정, 다듬어 실었다. 또 책 뒤에는 명문대학 국문과 교수들이 해설한 작가의 작품론과 철학과 교수들이 출제한 논술 길잡이를 수록했다.                                                            142\n",
            "                                                                                                                                                                                                ... \n",
            "가장 기본적인 인사하기에서부터 감정 표하기, 화술, 여행, 비즈니스 등 일상생활에서 자주 사용하는 표현들을 주제별로 정리하였다. 중국어 표현, 병음, 한글 발음으로 구성되어 있어서 학습자 개개인의 요구를 만족시킬 수 있을 것이다. 체계적으로 일상 회화를 배우고 싶은 학습자는 처음부터 끝까지 읽어보면 상당한 도움을 받을 수 있을 것이다.       2\n",
            "캘리그라피 시작에서부터 끝까지 독학으로 공부하고자 하는 분들을 위한 유익한 자습 교재이다. 캘리그라피의 기초와 이론을 체계적으로 요약하여 알기 쉽게 정리하였고 많은 연습을 위해 다양한 글씨 예문을 많이 수록하였다.                                                                            2\n",
            "&lt;생활 주역&gt, &lt;기문둔갑정해&gt;, &lt;명리학정해&gt; 등을 펴낸 저자가 사주의 산출에 꼭 필요한 내용만을, 여러 관계 기관과 수많은 석학들의 도움으로 정확성에 주안점을 두어 만들었다. 누구나 쉽게 활용할 수 있는 책이다.                                                          2\n",
            "K팝스타5 준우승, 유희열이 극찬한 싱어송라이터 안예은 데뷔 정규앨범!                                                                                                                                                            2\n",
            "똑똑하고 다정한 맥스터핀스와 장난감 친구들의 이야기를 통해, 아이들은 자연스럽게 건강의 소중함을 알고 친구들을 아끼는 마음을 배울 수 있다. 그림책을 읽고 더 깊게 생각해 볼 수 있는 건강 생활 정보와 아야야 공책 퀴즈가 들어 있다.                                                                 2\n",
            "Name: count, Length: 67071, dtype: int64\n"
          ]
        }
      ],
      "source": [
        "duplicate_counts = df_2['BOOK_INTRCN_CN'].value_counts()\n",
        "# 중복된 값만 필터링 (2번 이상 나타나는 값)\n",
        "duplicates = duplicate_counts[duplicate_counts > 1]\n",
        "\n",
        "print(duplicates)"
      ]
    },
    {
      "cell_type": "code",
      "execution_count": null,
      "metadata": {
        "colab": {
          "base_uri": "https://localhost:8080/"
        },
        "id": "vCbpGc-QFdem",
        "outputId": "adf5ccf5-ed63-4ae5-9cbb-21b73a266f38"
      },
      "outputs": [
        {
          "data": {
            "text/plain": [
              "(855510, 4)"
            ]
          },
          "execution_count": 15,
          "metadata": {},
          "output_type": "execute_result"
        }
      ],
      "source": [
        "# 삭제할 행을 찾기 위한 조건 설정\n",
        "df_2 = df_2[df_2['BOOK_INTRCN_CN'] != \"[해외주문원서] 고객님의 요청으로 수입 주문하는 도서이므로, 주문취소 및 반품이 불가합니다. (단, 재고부족인 경우는 가능)\"]\n",
        "df_2.shape"
      ]
    },
    {
      "cell_type": "code",
      "execution_count": null,
      "metadata": {
        "colab": {
          "base_uri": "https://localhost:8080/"
        },
        "id": "Q3C_cGgFGW54",
        "outputId": "f184fa6c-c646-4f1b-e2fc-f3a63b1512e2"
      },
      "outputs": [
        {
          "name": "stderr",
          "output_type": "stream",
          "text": [
            "<ipython-input-16-64fb631bd86b>:1: SettingWithCopyWarning: \n",
            "A value is trying to be set on a copy of a slice from a DataFrame\n",
            "\n",
            "See the caveats in the documentation: https://pandas.pydata.org/pandas-docs/stable/user_guide/indexing.html#returning-a-view-versus-a-copy\n",
            "  df_2.rename(columns={\"BOOK_INTRCN_CN\": \"description\"}, inplace=True)\n"
          ]
        }
      ],
      "source": [
        "df_2.rename(columns={\"BOOK_INTRCN_CN\": \"description\"}, inplace=True)"
      ]
    },
    {
      "cell_type": "code",
      "execution_count": null,
      "metadata": {
        "colab": {
          "base_uri": "https://localhost:8080/"
        },
        "id": "u6kzhenzFJv6",
        "outputId": "3c76bd22-ab5e-4409-8a99-c908fc8320d4"
      },
      "outputs": [
        {
          "data": {
            "text/plain": [
              "Index(['TITLE_NM', 'ISBN_THIRTEEN_NO', 'description', 'KDC_NM'], dtype='object')"
            ]
          },
          "execution_count": 17,
          "metadata": {},
          "output_type": "execute_result"
        }
      ],
      "source": [
        "df_2.columns"
      ]
    },
    {
      "cell_type": "code",
      "execution_count": null,
      "metadata": {
        "colab": {
          "base_uri": "https://localhost:8080/"
        },
        "id": "0YX2yhOWFQPA",
        "outputId": "b0453e0d-8404-4f21-afb9-92de28fee167"
      },
      "outputs": [
        {
          "data": {
            "text/plain": [
              "Index(['SEQ_NO', 'ISBN_THIRTEEN_NO', 'VLM_NM', 'TITLE_NM', 'AUTHR_NM',\n",
              "       'PUBLISHER_NM', 'PBLICTE_DE', 'ADTION_SMBL_NM', 'PRC_VALUE',\n",
              "       'IMAGE_URL', 'BOOK_INTRCN_CN', 'KDC_NM', 'TITLE_SBST_NM',\n",
              "       'AUTHR_SBST_NM', 'TWO_PBLICTE_DE', 'INTNT_BOOKST_BOOK_EXST_AT',\n",
              "       'PORTAL_SITE_BOOK_EXST_AT', 'ISBN_NO'],\n",
              "      dtype='object')"
            ]
          },
          "execution_count": 18,
          "metadata": {},
          "output_type": "execute_result"
        }
      ],
      "source": [
        "df.columns"
      ]
    },
    {
      "cell_type": "code",
      "execution_count": null,
      "metadata": {
        "colab": {
          "base_uri": "https://localhost:8080/"
        },
        "id": "NxT2mCbibWzN",
        "outputId": "be66c5e5-02a2-4731-e228-a7f2bea3b955"
      },
      "outputs": [
        {
          "name": "stdout",
          "output_type": "stream",
          "text": [
            "Requirement already satisfied: transformers in /usr/local/lib/python3.11/dist-packages (4.48.2)\n",
            "Requirement already satisfied: torch in /usr/local/lib/python3.11/dist-packages (2.5.1+cu124)\n",
            "Requirement already satisfied: filelock in /usr/local/lib/python3.11/dist-packages (from transformers) (3.17.0)\n",
            "Requirement already satisfied: huggingface-hub<1.0,>=0.24.0 in /usr/local/lib/python3.11/dist-packages (from transformers) (0.28.1)\n",
            "Requirement already satisfied: numpy>=1.17 in /usr/local/lib/python3.11/dist-packages (from transformers) (1.26.4)\n",
            "Requirement already satisfied: packaging>=20.0 in /usr/local/lib/python3.11/dist-packages (from transformers) (24.2)\n",
            "Requirement already satisfied: pyyaml>=5.1 in /usr/local/lib/python3.11/dist-packages (from transformers) (6.0.2)\n",
            "Requirement already satisfied: regex!=2019.12.17 in /usr/local/lib/python3.11/dist-packages (from transformers) (2024.11.6)\n",
            "Requirement already satisfied: requests in /usr/local/lib/python3.11/dist-packages (from transformers) (2.32.3)\n",
            "Requirement already satisfied: tokenizers<0.22,>=0.21 in /usr/local/lib/python3.11/dist-packages (from transformers) (0.21.0)\n",
            "Requirement already satisfied: safetensors>=0.4.1 in /usr/local/lib/python3.11/dist-packages (from transformers) (0.5.2)\n",
            "Requirement already satisfied: tqdm>=4.27 in /usr/local/lib/python3.11/dist-packages (from transformers) (4.67.1)\n",
            "Requirement already satisfied: typing-extensions>=4.8.0 in /usr/local/lib/python3.11/dist-packages (from torch) (4.12.2)\n",
            "Requirement already satisfied: networkx in /usr/local/lib/python3.11/dist-packages (from torch) (3.4.2)\n",
            "Requirement already satisfied: jinja2 in /usr/local/lib/python3.11/dist-packages (from torch) (3.1.5)\n",
            "Requirement already satisfied: fsspec in /usr/local/lib/python3.11/dist-packages (from torch) (2024.10.0)\n",
            "Collecting nvidia-cuda-nvrtc-cu12==12.4.127 (from torch)\n",
            "  Downloading nvidia_cuda_nvrtc_cu12-12.4.127-py3-none-manylinux2014_x86_64.whl.metadata (1.5 kB)\n",
            "Collecting nvidia-cuda-runtime-cu12==12.4.127 (from torch)\n",
            "  Downloading nvidia_cuda_runtime_cu12-12.4.127-py3-none-manylinux2014_x86_64.whl.metadata (1.5 kB)\n",
            "Collecting nvidia-cuda-cupti-cu12==12.4.127 (from torch)\n",
            "  Downloading nvidia_cuda_cupti_cu12-12.4.127-py3-none-manylinux2014_x86_64.whl.metadata (1.6 kB)\n",
            "Collecting nvidia-cudnn-cu12==9.1.0.70 (from torch)\n",
            "  Downloading nvidia_cudnn_cu12-9.1.0.70-py3-none-manylinux2014_x86_64.whl.metadata (1.6 kB)\n",
            "Collecting nvidia-cublas-cu12==12.4.5.8 (from torch)\n",
            "  Downloading nvidia_cublas_cu12-12.4.5.8-py3-none-manylinux2014_x86_64.whl.metadata (1.5 kB)\n",
            "Collecting nvidia-cufft-cu12==11.2.1.3 (from torch)\n",
            "  Downloading nvidia_cufft_cu12-11.2.1.3-py3-none-manylinux2014_x86_64.whl.metadata (1.5 kB)\n",
            "Collecting nvidia-curand-cu12==10.3.5.147 (from torch)\n",
            "  Downloading nvidia_curand_cu12-10.3.5.147-py3-none-manylinux2014_x86_64.whl.metadata (1.5 kB)\n",
            "Collecting nvidia-cusolver-cu12==11.6.1.9 (from torch)\n",
            "  Downloading nvidia_cusolver_cu12-11.6.1.9-py3-none-manylinux2014_x86_64.whl.metadata (1.6 kB)\n",
            "Collecting nvidia-cusparse-cu12==12.3.1.170 (from torch)\n",
            "  Downloading nvidia_cusparse_cu12-12.3.1.170-py3-none-manylinux2014_x86_64.whl.metadata (1.6 kB)\n",
            "Requirement already satisfied: nvidia-nccl-cu12==2.21.5 in /usr/local/lib/python3.11/dist-packages (from torch) (2.21.5)\n",
            "Requirement already satisfied: nvidia-nvtx-cu12==12.4.127 in /usr/local/lib/python3.11/dist-packages (from torch) (12.4.127)\n",
            "Collecting nvidia-nvjitlink-cu12==12.4.127 (from torch)\n",
            "  Downloading nvidia_nvjitlink_cu12-12.4.127-py3-none-manylinux2014_x86_64.whl.metadata (1.5 kB)\n",
            "Requirement already satisfied: triton==3.1.0 in /usr/local/lib/python3.11/dist-packages (from torch) (3.1.0)\n",
            "Requirement already satisfied: sympy==1.13.1 in /usr/local/lib/python3.11/dist-packages (from torch) (1.13.1)\n",
            "Requirement already satisfied: mpmath<1.4,>=1.1.0 in /usr/local/lib/python3.11/dist-packages (from sympy==1.13.1->torch) (1.3.0)\n",
            "Requirement already satisfied: MarkupSafe>=2.0 in /usr/local/lib/python3.11/dist-packages (from jinja2->torch) (3.0.2)\n",
            "Requirement already satisfied: charset-normalizer<4,>=2 in /usr/local/lib/python3.11/dist-packages (from requests->transformers) (3.4.1)\n",
            "Requirement already satisfied: idna<4,>=2.5 in /usr/local/lib/python3.11/dist-packages (from requests->transformers) (3.10)\n",
            "Requirement already satisfied: urllib3<3,>=1.21.1 in /usr/local/lib/python3.11/dist-packages (from requests->transformers) (2.3.0)\n",
            "Requirement already satisfied: certifi>=2017.4.17 in /usr/local/lib/python3.11/dist-packages (from requests->transformers) (2025.1.31)\n",
            "Downloading nvidia_cublas_cu12-12.4.5.8-py3-none-manylinux2014_x86_64.whl (363.4 MB)\n",
            "\u001b[2K   \u001b[90m━━━━━━━━━━━━━━━━━━━━━━━━━━━━━━━━━━━━━━━━\u001b[0m \u001b[32m363.4/363.4 MB\u001b[0m \u001b[31m3.0 MB/s\u001b[0m eta \u001b[36m0:00:00\u001b[0m\n",
            "\u001b[?25hDownloading nvidia_cuda_cupti_cu12-12.4.127-py3-none-manylinux2014_x86_64.whl (13.8 MB)\n",
            "\u001b[2K   \u001b[90m━━━━━━━━━━━━━━━━━━━━━━━━━━━━━━━━━━━━━━━━\u001b[0m \u001b[32m13.8/13.8 MB\u001b[0m \u001b[31m98.5 MB/s\u001b[0m eta \u001b[36m0:00:00\u001b[0m\n",
            "\u001b[?25hDownloading nvidia_cuda_nvrtc_cu12-12.4.127-py3-none-manylinux2014_x86_64.whl (24.6 MB)\n",
            "\u001b[2K   \u001b[90m━━━━━━━━━━━━━━━━━━━━━━━━━━━━━━━━━━━━━━━━\u001b[0m \u001b[32m24.6/24.6 MB\u001b[0m \u001b[31m80.5 MB/s\u001b[0m eta \u001b[36m0:00:00\u001b[0m\n",
            "\u001b[?25hDownloading nvidia_cuda_runtime_cu12-12.4.127-py3-none-manylinux2014_x86_64.whl (883 kB)\n",
            "\u001b[2K   \u001b[90m━━━━━━━━━━━━━━━━━━━━━━━━━━━━━━━━━━━━━━━━\u001b[0m \u001b[32m883.7/883.7 kB\u001b[0m \u001b[31m45.0 MB/s\u001b[0m eta \u001b[36m0:00:00\u001b[0m\n",
            "\u001b[?25hDownloading nvidia_cudnn_cu12-9.1.0.70-py3-none-manylinux2014_x86_64.whl (664.8 MB)\n",
            "\u001b[2K   \u001b[90m━━━━━━━━━━━━━━━━━━━━━━━━━━━━━━━━━━━━━━━━\u001b[0m \u001b[32m664.8/664.8 MB\u001b[0m \u001b[31m2.3 MB/s\u001b[0m eta \u001b[36m0:00:00\u001b[0m\n",
            "\u001b[?25hDownloading nvidia_cufft_cu12-11.2.1.3-py3-none-manylinux2014_x86_64.whl (211.5 MB)\n",
            "\u001b[2K   \u001b[90m━━━━━━━━━━━━━━━━━━━━━━━━━━━━━━━━━━━━━━━━\u001b[0m \u001b[32m211.5/211.5 MB\u001b[0m \u001b[31m4.6 MB/s\u001b[0m eta \u001b[36m0:00:00\u001b[0m\n",
            "\u001b[?25hDownloading nvidia_curand_cu12-10.3.5.147-py3-none-manylinux2014_x86_64.whl (56.3 MB)\n",
            "\u001b[2K   \u001b[90m━━━━━━━━━━━━━━━━━━━━━━━━━━━━━━━━━━━━━━━━\u001b[0m \u001b[32m56.3/56.3 MB\u001b[0m \u001b[31m42.3 MB/s\u001b[0m eta \u001b[36m0:00:00\u001b[0m\n",
            "\u001b[?25hDownloading nvidia_cusolver_cu12-11.6.1.9-py3-none-manylinux2014_x86_64.whl (127.9 MB)\n",
            "\u001b[2K   \u001b[90m━━━━━━━━━━━━━━━━━━━━━━━━━━━━━━━━━━━━━━━━\u001b[0m \u001b[32m127.9/127.9 MB\u001b[0m \u001b[31m18.8 MB/s\u001b[0m eta \u001b[36m0:00:00\u001b[0m\n",
            "\u001b[?25hDownloading nvidia_cusparse_cu12-12.3.1.170-py3-none-manylinux2014_x86_64.whl (207.5 MB)\n",
            "\u001b[2K   \u001b[90m━━━━━━━━━━━━━━━━━━━━━━━━━━━━━━━━━━━━━━━━\u001b[0m \u001b[32m207.5/207.5 MB\u001b[0m \u001b[31m4.1 MB/s\u001b[0m eta \u001b[36m0:00:00\u001b[0m\n",
            "\u001b[?25hDownloading nvidia_nvjitlink_cu12-12.4.127-py3-none-manylinux2014_x86_64.whl (21.1 MB)\n",
            "\u001b[2K   \u001b[90m━━━━━━━━━━━━━━━━━━━━━━━━━━━━━━━━━━━━━━━━\u001b[0m \u001b[32m21.1/21.1 MB\u001b[0m \u001b[31m98.8 MB/s\u001b[0m eta \u001b[36m0:00:00\u001b[0m\n",
            "\u001b[?25hInstalling collected packages: nvidia-nvjitlink-cu12, nvidia-curand-cu12, nvidia-cufft-cu12, nvidia-cuda-runtime-cu12, nvidia-cuda-nvrtc-cu12, nvidia-cuda-cupti-cu12, nvidia-cublas-cu12, nvidia-cusparse-cu12, nvidia-cudnn-cu12, nvidia-cusolver-cu12\n",
            "  Attempting uninstall: nvidia-nvjitlink-cu12\n",
            "    Found existing installation: nvidia-nvjitlink-cu12 12.5.82\n",
            "    Uninstalling nvidia-nvjitlink-cu12-12.5.82:\n",
            "      Successfully uninstalled nvidia-nvjitlink-cu12-12.5.82\n",
            "  Attempting uninstall: nvidia-curand-cu12\n",
            "    Found existing installation: nvidia-curand-cu12 10.3.6.82\n",
            "    Uninstalling nvidia-curand-cu12-10.3.6.82:\n",
            "      Successfully uninstalled nvidia-curand-cu12-10.3.6.82\n",
            "  Attempting uninstall: nvidia-cufft-cu12\n",
            "    Found existing installation: nvidia-cufft-cu12 11.2.3.61\n",
            "    Uninstalling nvidia-cufft-cu12-11.2.3.61:\n",
            "      Successfully uninstalled nvidia-cufft-cu12-11.2.3.61\n",
            "  Attempting uninstall: nvidia-cuda-runtime-cu12\n",
            "    Found existing installation: nvidia-cuda-runtime-cu12 12.5.82\n",
            "    Uninstalling nvidia-cuda-runtime-cu12-12.5.82:\n",
            "      Successfully uninstalled nvidia-cuda-runtime-cu12-12.5.82\n",
            "  Attempting uninstall: nvidia-cuda-nvrtc-cu12\n",
            "    Found existing installation: nvidia-cuda-nvrtc-cu12 12.5.82\n",
            "    Uninstalling nvidia-cuda-nvrtc-cu12-12.5.82:\n",
            "      Successfully uninstalled nvidia-cuda-nvrtc-cu12-12.5.82\n",
            "  Attempting uninstall: nvidia-cuda-cupti-cu12\n",
            "    Found existing installation: nvidia-cuda-cupti-cu12 12.5.82\n",
            "    Uninstalling nvidia-cuda-cupti-cu12-12.5.82:\n",
            "      Successfully uninstalled nvidia-cuda-cupti-cu12-12.5.82\n",
            "  Attempting uninstall: nvidia-cublas-cu12\n",
            "    Found existing installation: nvidia-cublas-cu12 12.5.3.2\n",
            "    Uninstalling nvidia-cublas-cu12-12.5.3.2:\n",
            "      Successfully uninstalled nvidia-cublas-cu12-12.5.3.2\n",
            "  Attempting uninstall: nvidia-cusparse-cu12\n",
            "    Found existing installation: nvidia-cusparse-cu12 12.5.1.3\n",
            "    Uninstalling nvidia-cusparse-cu12-12.5.1.3:\n",
            "      Successfully uninstalled nvidia-cusparse-cu12-12.5.1.3\n",
            "  Attempting uninstall: nvidia-cudnn-cu12\n",
            "    Found existing installation: nvidia-cudnn-cu12 9.3.0.75\n",
            "    Uninstalling nvidia-cudnn-cu12-9.3.0.75:\n",
            "      Successfully uninstalled nvidia-cudnn-cu12-9.3.0.75\n",
            "  Attempting uninstall: nvidia-cusolver-cu12\n",
            "    Found existing installation: nvidia-cusolver-cu12 11.6.3.83\n",
            "    Uninstalling nvidia-cusolver-cu12-11.6.3.83:\n",
            "      Successfully uninstalled nvidia-cusolver-cu12-11.6.3.83\n",
            "Successfully installed nvidia-cublas-cu12-12.4.5.8 nvidia-cuda-cupti-cu12-12.4.127 nvidia-cuda-nvrtc-cu12-12.4.127 nvidia-cuda-runtime-cu12-12.4.127 nvidia-cudnn-cu12-9.1.0.70 nvidia-cufft-cu12-11.2.1.3 nvidia-curand-cu12-10.3.5.147 nvidia-cusolver-cu12-11.6.1.9 nvidia-cusparse-cu12-12.3.1.170 nvidia-nvjitlink-cu12-12.4.127\n"
          ]
        }
      ],
      "source": [
        "!pip install transformers torch"
      ]
    },
    {
      "cell_type": "code",
      "execution_count": null,
      "metadata": {
        "id": "pTwvoM_3cbvM"
      },
      "outputs": [],
      "source": [
        "def load_and_combine_csv(directory_path):\n",
        "    \"\"\"\n",
        "    지정된 경로의 chunk*.csv 파일을 불러와 하나의 데이터프레임으로 병합합니다.\n",
        "    \"\"\"\n",
        "    csv_files = glob(os.path.join(directory_path, \"chunk*.csv\"))\n",
        "\n",
        "    # 각 파일을 읽고 리스트에 추가하여 병합\n",
        "    dataframes = []\n",
        "    for file in csv_files:\n",
        "        df = pd.read_csv(file)\n",
        "        dataframes.append(df)\n",
        "\n",
        "    # 모든 데이터를 하나의 데이터프레임으로 결합\n",
        "    combined_df = pd.concat(dataframes, ignore_index=True)\n",
        "    return combined_df"
      ]
    },
    {
      "cell_type": "code",
      "execution_count": null,
      "metadata": {
        "colab": {
          "base_uri": "https://localhost:8080/",
          "height": 423
        },
        "collapsed": true,
        "id": "y-vbPvArpI6E",
        "outputId": "980de494-0bbf-440d-aa73-87496b2e1fb4"
      },
      "outputs": [
        {
          "data": {
            "application/vnd.google.colaboratory.intrinsic+json": {
              "type": "dataframe",
              "variable_name": "combined_df"
            },
            "text/html": [
              "\n",
              "  <div id=\"df-2b4b5e8e-7084-4c51-b42a-c8245e41a2a2\" class=\"colab-df-container\">\n",
              "    <div>\n",
              "<style scoped>\n",
              "    .dataframe tbody tr th:only-of-type {\n",
              "        vertical-align: middle;\n",
              "    }\n",
              "\n",
              "    .dataframe tbody tr th {\n",
              "        vertical-align: top;\n",
              "    }\n",
              "\n",
              "    .dataframe thead th {\n",
              "        text-align: right;\n",
              "    }\n",
              "</style>\n",
              "<table border=\"1\" class=\"dataframe\">\n",
              "  <thead>\n",
              "    <tr style=\"text-align: right;\">\n",
              "      <th></th>\n",
              "      <th>TITLE_NM</th>\n",
              "      <th>ISBN_THIRTEEN_NO</th>\n",
              "      <th>KDC_NM</th>\n",
              "      <th>description</th>\n",
              "    </tr>\n",
              "  </thead>\n",
              "  <tbody>\n",
              "    <tr>\n",
              "      <th>0</th>\n",
              "      <td>(청소년 지도사가 쓴)청소년복지론</td>\n",
              "      <td>9788991495227</td>\n",
              "      <td>338</td>\n",
              "      <td>No description available</td>\n",
              "    </tr>\n",
              "    <tr>\n",
              "      <th>1</th>\n",
              "      <td>펀드보다 안전한 가치 투자=:</td>\n",
              "      <td>9788957820285</td>\n",
              "      <td>328</td>\n",
              "      <td>No description available</td>\n",
              "    </tr>\n",
              "    <tr>\n",
              "      <th>2</th>\n",
              "      <td>지식의 발견=:</td>\n",
              "      <td>9788976829511</td>\n",
              "      <td>309</td>\n",
              "      <td>『지식의 발견』은 출판 담당 기자 출신의 저자가 한국의 대표적 지식인들이 근대성과 ...</td>\n",
              "    </tr>\n",
              "    <tr>\n",
              "      <th>3</th>\n",
              "      <td>육경과 공자 인학=(The)six books and Confucius jenlogy</td>\n",
              "      <td>9788976461742</td>\n",
              "      <td>152</td>\n",
              "      <td>이 책은 해당 분야 전공자들을 위한 교재 겸 전문서이다.</td>\n",
              "    </tr>\n",
              "    <tr>\n",
              "      <th>4</th>\n",
              "      <td>나노테크놀러지 최전선 기술</td>\n",
              "      <td>9788970442372</td>\n",
              "      <td>530</td>\n",
              "      <td>나노 과학과 기술에 관심이 있는 사람을 위해 나노과학의 첨단을 달리고 있는 일본의 ...</td>\n",
              "    </tr>\n",
              "    <tr>\n",
              "      <th>...</th>\n",
              "      <td>...</td>\n",
              "      <td>...</td>\n",
              "      <td>...</td>\n",
              "      <td>...</td>\n",
              "    </tr>\n",
              "    <tr>\n",
              "      <th>137695</th>\n",
              "      <td>생쥐 각시 시집가네</td>\n",
              "      <td>9788953515130</td>\n",
              "      <td>375</td>\n",
              "      <td>No description available</td>\n",
              "    </tr>\n",
              "    <tr>\n",
              "      <th>137696</th>\n",
              "      <td>산에 산에 가다가</td>\n",
              "      <td>9788953515154</td>\n",
              "      <td>375</td>\n",
              "      <td>No description available</td>\n",
              "    </tr>\n",
              "    <tr>\n",
              "      <th>137697</th>\n",
              "      <td>자장자장 잘도 잔다</td>\n",
              "      <td>9788953515161</td>\n",
              "      <td>375</td>\n",
              "      <td>No description available</td>\n",
              "    </tr>\n",
              "    <tr>\n",
              "      <th>137698</th>\n",
              "      <td>사또네 잔칫날</td>\n",
              "      <td>9788953515178</td>\n",
              "      <td>375</td>\n",
              "      <td>No description available</td>\n",
              "    </tr>\n",
              "    <tr>\n",
              "      <th>137699</th>\n",
              "      <td>리더십 바이러스=Leadership virus:</td>\n",
              "      <td>9788991319301</td>\n",
              "      <td>331</td>\n",
              "      <td>No description available</td>\n",
              "    </tr>\n",
              "  </tbody>\n",
              "</table>\n",
              "<p>137700 rows × 4 columns</p>\n",
              "</div>\n",
              "    <div class=\"colab-df-buttons\">\n",
              "\n",
              "  <div class=\"colab-df-container\">\n",
              "    <button class=\"colab-df-convert\" onclick=\"convertToInteractive('df-2b4b5e8e-7084-4c51-b42a-c8245e41a2a2')\"\n",
              "            title=\"Convert this dataframe to an interactive table.\"\n",
              "            style=\"display:none;\">\n",
              "\n",
              "  <svg xmlns=\"http://www.w3.org/2000/svg\" height=\"24px\" viewBox=\"0 -960 960 960\">\n",
              "    <path d=\"M120-120v-720h720v720H120Zm60-500h600v-160H180v160Zm220 220h160v-160H400v160Zm0 220h160v-160H400v160ZM180-400h160v-160H180v160Zm440 0h160v-160H620v160ZM180-180h160v-160H180v160Zm440 0h160v-160H620v160Z\"/>\n",
              "  </svg>\n",
              "    </button>\n",
              "\n",
              "  <style>\n",
              "    .colab-df-container {\n",
              "      display:flex;\n",
              "      gap: 12px;\n",
              "    }\n",
              "\n",
              "    .colab-df-convert {\n",
              "      background-color: #E8F0FE;\n",
              "      border: none;\n",
              "      border-radius: 50%;\n",
              "      cursor: pointer;\n",
              "      display: none;\n",
              "      fill: #1967D2;\n",
              "      height: 32px;\n",
              "      padding: 0 0 0 0;\n",
              "      width: 32px;\n",
              "    }\n",
              "\n",
              "    .colab-df-convert:hover {\n",
              "      background-color: #E2EBFA;\n",
              "      box-shadow: 0px 1px 2px rgba(60, 64, 67, 0.3), 0px 1px 3px 1px rgba(60, 64, 67, 0.15);\n",
              "      fill: #174EA6;\n",
              "    }\n",
              "\n",
              "    .colab-df-buttons div {\n",
              "      margin-bottom: 4px;\n",
              "    }\n",
              "\n",
              "    [theme=dark] .colab-df-convert {\n",
              "      background-color: #3B4455;\n",
              "      fill: #D2E3FC;\n",
              "    }\n",
              "\n",
              "    [theme=dark] .colab-df-convert:hover {\n",
              "      background-color: #434B5C;\n",
              "      box-shadow: 0px 1px 3px 1px rgba(0, 0, 0, 0.15);\n",
              "      filter: drop-shadow(0px 1px 2px rgba(0, 0, 0, 0.3));\n",
              "      fill: #FFFFFF;\n",
              "    }\n",
              "  </style>\n",
              "\n",
              "    <script>\n",
              "      const buttonEl =\n",
              "        document.querySelector('#df-2b4b5e8e-7084-4c51-b42a-c8245e41a2a2 button.colab-df-convert');\n",
              "      buttonEl.style.display =\n",
              "        google.colab.kernel.accessAllowed ? 'block' : 'none';\n",
              "\n",
              "      async function convertToInteractive(key) {\n",
              "        const element = document.querySelector('#df-2b4b5e8e-7084-4c51-b42a-c8245e41a2a2');\n",
              "        const dataTable =\n",
              "          await google.colab.kernel.invokeFunction('convertToInteractive',\n",
              "                                                    [key], {});\n",
              "        if (!dataTable) return;\n",
              "\n",
              "        const docLinkHtml = 'Like what you see? Visit the ' +\n",
              "          '<a target=\"_blank\" href=https://colab.research.google.com/notebooks/data_table.ipynb>data table notebook</a>'\n",
              "          + ' to learn more about interactive tables.';\n",
              "        element.innerHTML = '';\n",
              "        dataTable['output_type'] = 'display_data';\n",
              "        await google.colab.output.renderOutput(dataTable, element);\n",
              "        const docLink = document.createElement('div');\n",
              "        docLink.innerHTML = docLinkHtml;\n",
              "        element.appendChild(docLink);\n",
              "      }\n",
              "    </script>\n",
              "  </div>\n",
              "\n",
              "\n",
              "<div id=\"df-e8fc5df5-ac90-4b55-9b35-007d5dbc7538\">\n",
              "  <button class=\"colab-df-quickchart\" onclick=\"quickchart('df-e8fc5df5-ac90-4b55-9b35-007d5dbc7538')\"\n",
              "            title=\"Suggest charts\"\n",
              "            style=\"display:none;\">\n",
              "\n",
              "<svg xmlns=\"http://www.w3.org/2000/svg\" height=\"24px\"viewBox=\"0 0 24 24\"\n",
              "     width=\"24px\">\n",
              "    <g>\n",
              "        <path d=\"M19 3H5c-1.1 0-2 .9-2 2v14c0 1.1.9 2 2 2h14c1.1 0 2-.9 2-2V5c0-1.1-.9-2-2-2zM9 17H7v-7h2v7zm4 0h-2V7h2v10zm4 0h-2v-4h2v4z\"/>\n",
              "    </g>\n",
              "</svg>\n",
              "  </button>\n",
              "\n",
              "<style>\n",
              "  .colab-df-quickchart {\n",
              "      --bg-color: #E8F0FE;\n",
              "      --fill-color: #1967D2;\n",
              "      --hover-bg-color: #E2EBFA;\n",
              "      --hover-fill-color: #174EA6;\n",
              "      --disabled-fill-color: #AAA;\n",
              "      --disabled-bg-color: #DDD;\n",
              "  }\n",
              "\n",
              "  [theme=dark] .colab-df-quickchart {\n",
              "      --bg-color: #3B4455;\n",
              "      --fill-color: #D2E3FC;\n",
              "      --hover-bg-color: #434B5C;\n",
              "      --hover-fill-color: #FFFFFF;\n",
              "      --disabled-bg-color: #3B4455;\n",
              "      --disabled-fill-color: #666;\n",
              "  }\n",
              "\n",
              "  .colab-df-quickchart {\n",
              "    background-color: var(--bg-color);\n",
              "    border: none;\n",
              "    border-radius: 50%;\n",
              "    cursor: pointer;\n",
              "    display: none;\n",
              "    fill: var(--fill-color);\n",
              "    height: 32px;\n",
              "    padding: 0;\n",
              "    width: 32px;\n",
              "  }\n",
              "\n",
              "  .colab-df-quickchart:hover {\n",
              "    background-color: var(--hover-bg-color);\n",
              "    box-shadow: 0 1px 2px rgba(60, 64, 67, 0.3), 0 1px 3px 1px rgba(60, 64, 67, 0.15);\n",
              "    fill: var(--button-hover-fill-color);\n",
              "  }\n",
              "\n",
              "  .colab-df-quickchart-complete:disabled,\n",
              "  .colab-df-quickchart-complete:disabled:hover {\n",
              "    background-color: var(--disabled-bg-color);\n",
              "    fill: var(--disabled-fill-color);\n",
              "    box-shadow: none;\n",
              "  }\n",
              "\n",
              "  .colab-df-spinner {\n",
              "    border: 2px solid var(--fill-color);\n",
              "    border-color: transparent;\n",
              "    border-bottom-color: var(--fill-color);\n",
              "    animation:\n",
              "      spin 1s steps(1) infinite;\n",
              "  }\n",
              "\n",
              "  @keyframes spin {\n",
              "    0% {\n",
              "      border-color: transparent;\n",
              "      border-bottom-color: var(--fill-color);\n",
              "      border-left-color: var(--fill-color);\n",
              "    }\n",
              "    20% {\n",
              "      border-color: transparent;\n",
              "      border-left-color: var(--fill-color);\n",
              "      border-top-color: var(--fill-color);\n",
              "    }\n",
              "    30% {\n",
              "      border-color: transparent;\n",
              "      border-left-color: var(--fill-color);\n",
              "      border-top-color: var(--fill-color);\n",
              "      border-right-color: var(--fill-color);\n",
              "    }\n",
              "    40% {\n",
              "      border-color: transparent;\n",
              "      border-right-color: var(--fill-color);\n",
              "      border-top-color: var(--fill-color);\n",
              "    }\n",
              "    60% {\n",
              "      border-color: transparent;\n",
              "      border-right-color: var(--fill-color);\n",
              "    }\n",
              "    80% {\n",
              "      border-color: transparent;\n",
              "      border-right-color: var(--fill-color);\n",
              "      border-bottom-color: var(--fill-color);\n",
              "    }\n",
              "    90% {\n",
              "      border-color: transparent;\n",
              "      border-bottom-color: var(--fill-color);\n",
              "    }\n",
              "  }\n",
              "</style>\n",
              "\n",
              "  <script>\n",
              "    async function quickchart(key) {\n",
              "      const quickchartButtonEl =\n",
              "        document.querySelector('#' + key + ' button');\n",
              "      quickchartButtonEl.disabled = true;  // To prevent multiple clicks.\n",
              "      quickchartButtonEl.classList.add('colab-df-spinner');\n",
              "      try {\n",
              "        const charts = await google.colab.kernel.invokeFunction(\n",
              "            'suggestCharts', [key], {});\n",
              "      } catch (error) {\n",
              "        console.error('Error during call to suggestCharts:', error);\n",
              "      }\n",
              "      quickchartButtonEl.classList.remove('colab-df-spinner');\n",
              "      quickchartButtonEl.classList.add('colab-df-quickchart-complete');\n",
              "    }\n",
              "    (() => {\n",
              "      let quickchartButtonEl =\n",
              "        document.querySelector('#df-e8fc5df5-ac90-4b55-9b35-007d5dbc7538 button');\n",
              "      quickchartButtonEl.style.display =\n",
              "        google.colab.kernel.accessAllowed ? 'block' : 'none';\n",
              "    })();\n",
              "  </script>\n",
              "</div>\n",
              "\n",
              "  <div id=\"id_5190ce24-b2bd-48b0-ac8d-092449ba3640\">\n",
              "    <style>\n",
              "      .colab-df-generate {\n",
              "        background-color: #E8F0FE;\n",
              "        border: none;\n",
              "        border-radius: 50%;\n",
              "        cursor: pointer;\n",
              "        display: none;\n",
              "        fill: #1967D2;\n",
              "        height: 32px;\n",
              "        padding: 0 0 0 0;\n",
              "        width: 32px;\n",
              "      }\n",
              "\n",
              "      .colab-df-generate:hover {\n",
              "        background-color: #E2EBFA;\n",
              "        box-shadow: 0px 1px 2px rgba(60, 64, 67, 0.3), 0px 1px 3px 1px rgba(60, 64, 67, 0.15);\n",
              "        fill: #174EA6;\n",
              "      }\n",
              "\n",
              "      [theme=dark] .colab-df-generate {\n",
              "        background-color: #3B4455;\n",
              "        fill: #D2E3FC;\n",
              "      }\n",
              "\n",
              "      [theme=dark] .colab-df-generate:hover {\n",
              "        background-color: #434B5C;\n",
              "        box-shadow: 0px 1px 3px 1px rgba(0, 0, 0, 0.15);\n",
              "        filter: drop-shadow(0px 1px 2px rgba(0, 0, 0, 0.3));\n",
              "        fill: #FFFFFF;\n",
              "      }\n",
              "    </style>\n",
              "    <button class=\"colab-df-generate\" onclick=\"generateWithVariable('combined_df')\"\n",
              "            title=\"Generate code using this dataframe.\"\n",
              "            style=\"display:none;\">\n",
              "\n",
              "  <svg xmlns=\"http://www.w3.org/2000/svg\" height=\"24px\"viewBox=\"0 0 24 24\"\n",
              "       width=\"24px\">\n",
              "    <path d=\"M7,19H8.4L18.45,9,17,7.55,7,17.6ZM5,21V16.75L18.45,3.32a2,2,0,0,1,2.83,0l1.4,1.43a1.91,1.91,0,0,1,.58,1.4,1.91,1.91,0,0,1-.58,1.4L9.25,21ZM18.45,9,17,7.55Zm-12,3A5.31,5.31,0,0,0,4.9,8.1,5.31,5.31,0,0,0,1,6.5,5.31,5.31,0,0,0,4.9,4.9,5.31,5.31,0,0,0,6.5,1,5.31,5.31,0,0,0,8.1,4.9,5.31,5.31,0,0,0,12,6.5,5.46,5.46,0,0,0,6.5,12Z\"/>\n",
              "  </svg>\n",
              "    </button>\n",
              "    <script>\n",
              "      (() => {\n",
              "      const buttonEl =\n",
              "        document.querySelector('#id_5190ce24-b2bd-48b0-ac8d-092449ba3640 button.colab-df-generate');\n",
              "      buttonEl.style.display =\n",
              "        google.colab.kernel.accessAllowed ? 'block' : 'none';\n",
              "\n",
              "      buttonEl.onclick = () => {\n",
              "        google.colab.notebook.generateWithVariable('combined_df');\n",
              "      }\n",
              "      })();\n",
              "    </script>\n",
              "  </div>\n",
              "\n",
              "    </div>\n",
              "  </div>\n"
            ],
            "text/plain": [
              "                                              TITLE_NM ISBN_THIRTEEN_NO  \\\n",
              "0                                   (청소년 지도사가 쓴)청소년복지론    9788991495227   \n",
              "1                                     펀드보다 안전한 가치 투자=:    9788957820285   \n",
              "2                                             지식의 발견=:    9788976829511   \n",
              "3       육경과 공자 인학=(The)six books and Confucius jenlogy    9788976461742   \n",
              "4                                       나노테크놀러지 최전선 기술    9788970442372   \n",
              "...                                                ...              ...   \n",
              "137695                                      생쥐 각시 시집가네    9788953515130   \n",
              "137696                                       산에 산에 가다가    9788953515154   \n",
              "137697                                      자장자장 잘도 잔다    9788953515161   \n",
              "137698                                         사또네 잔칫날    9788953515178   \n",
              "137699                      리더십 바이러스=Leadership virus:    9788991319301   \n",
              "\n",
              "       KDC_NM                                        description  \n",
              "0         338                           No description available  \n",
              "1         328                           No description available  \n",
              "2         309  『지식의 발견』은 출판 담당 기자 출신의 저자가 한국의 대표적 지식인들이 근대성과 ...  \n",
              "3         152                    이 책은 해당 분야 전공자들을 위한 교재 겸 전문서이다.  \n",
              "4         530  나노 과학과 기술에 관심이 있는 사람을 위해 나노과학의 첨단을 달리고 있는 일본의 ...  \n",
              "...       ...                                                ...  \n",
              "137695    375                           No description available  \n",
              "137696    375                           No description available  \n",
              "137697    375                           No description available  \n",
              "137698    375                           No description available  \n",
              "137699    331                           No description available  \n",
              "\n",
              "[137700 rows x 4 columns]"
            ]
          },
          "execution_count": 21,
          "metadata": {},
          "output_type": "execute_result"
        }
      ],
      "source": [
        "combined_df = load_and_combine_csv(\"/content/drive/MyDrive/work_dir\")\n",
        "combined_df"
      ]
    },
    {
      "cell_type": "code",
      "execution_count": null,
      "metadata": {
        "colab": {
          "base_uri": "https://localhost:8080/",
          "height": 423
        },
        "id": "SwB46xxTpXXn",
        "outputId": "2de1c82d-fbbd-489d-eb9d-1e34a532d37c"
      },
      "outputs": [
        {
          "data": {
            "application/vnd.google.colaboratory.intrinsic+json": {
              "summary": "{\n  \"name\": \"combined_df\",\n  \"rows\": 87998,\n  \"fields\": [\n    {\n      \"column\": \"TITLE_NM\",\n      \"properties\": {\n        \"dtype\": \"string\",\n        \"num_unique_values\": 80738,\n        \"samples\": [\n          \"\\ud5c8\\uc0bc\\uad00 \\ub9e4\\ud608\\uae30:\\uc704\\ud654 \\uc7a5\\ud3b8\\uc18c\\uc124\",\n          \"\\ud559\\uad50\\ub3c4\\uc11c\\uad00 \\ubb38\\ud654\\ub97c \\uafc8\\uafb8\\ub2e4\",\n          \"\\ud3ec\\ud1a0\\uc0f5\\uacfc \\uc77c\\ub7ec\\uc2a4\\ud2b8\\ub808\\uc774\\uc11c\\uac00 \\ub9cc\\ub0ac\\uc744\\ub54c:\"\n        ],\n        \"semantic_type\": \"\",\n        \"description\": \"\"\n      }\n    },\n    {\n      \"column\": \"ISBN_THIRTEEN_NO\",\n      \"properties\": {\n        \"dtype\": \"string\",\n        \"num_unique_values\": 87998,\n        \"samples\": [\n          9791138404341,\n          9788993985825,\n          9788966350292\n        ],\n        \"semantic_type\": \"\",\n        \"description\": \"\"\n      }\n    },\n    {\n      \"column\": \"KDC_NM\",\n      \"properties\": {\n        \"dtype\": \"category\",\n        \"num_unique_values\": 5645,\n        \"samples\": [\n          981.94,\n          512.0,\n          694.0\n        ],\n        \"semantic_type\": \"\",\n        \"description\": \"\"\n      }\n    },\n    {\n      \"column\": \"description\",\n      \"properties\": {\n        \"dtype\": \"string\",\n        \"num_unique_values\": 70361,\n        \"samples\": [\n          \"\\ubaa8\\ub4e0 \\uac83\\uc744 \\ub0b4\\ub824\\ub193\\uace0 \\uc0b6\\uc744 \\ud1b5\\ud574 \\uadf8\\ub9ac\\uc2a4\\ub3c4\\ub97c \\uc804\\ud55c \\n\\uc758\\uc0ac \\uc8fc\\ubcf4\\uc120\\uc744 \\uae30\\uc5b5\\ud558\\uba70 \\uae30\\ub85d\\ud558\\ub2e4!\\n\\n\\u201c\\uc774 \\ucc45\\uc740 \\ud3c9\\uc0dd \\uc18d\\uc774\\uc9c0 \\uc54a\\ub294 \\uac83\\uc5d0 \\uc18c\\ub9dd\\uc744 \\ub450\\uc5c8\\ub358 \\uadc0\\ud55c \\uc758\\ub8cc\\uc120\\uad50\\uc0ac\\uc758 \\uc0b6\\uc5d0 \\uad00\\ud55c \\uc774\\uc57c\\uae30\\ub2e4\\u201d \\n \\n\\uae40\\ucc3d\\ud658(\\uc778\\ud558\\ub300 \\uc758\\uacfc\\ub300\\ud559 \\uad50\\uc218), \\uae40\\ucca0\\uc2b9(\\uc608\\uc218\\ubcd1\\uc6d0 \\ubcd1\\uc6d0\\uc7a5), \\uc774\\ub300\\ud589(\\uc120\\uad50\\ud55c\\uad6d \\uc0ac\\ubb34\\ucd1d\\uc7a5), \\n\\uc870\\uacc4\\uc601(\\ud55c\\uad6d\\ub204\\uac00\\ud68c \\uc120\\uad50\\ubd80 \\uc0ac\\ubb34\\uad6d\\uc7a5), \\uc870\\uc0d8(\\uc778\\ud130\\uc11c\\ube0c\\ucf54\\ub9ac\\uc544 \\ub300\\ud45c), \\uc9c0\\uc131\\uadfc(\\uc77c\\uc0c1\\uc0dd\\ud65c\\uc0ac\\uc5ed\\uc5f0\\uad6c\\uc18c \\uc18c\\uc7a5) \\ucd94\\ucc9c!!\\n\\n\\uc774 \\ucc45\\uc740 \\uc6b0\\ub9ac\\uac00 \\uc798 \\uc54c\\uc9c0 \\ubabb\\ud558\\ub294 \\ud55c \\uc758\\ub8cc\\uc120\\uad50\\uc0ac\\uc758 \\uc0b6\\uacfc \\uc720\\uc0b0\\uc5d0 \\uad00\\ud55c \\uc774\\uc57c\\uae30\\ub2e4. \\uadf8\\uc758 \\uc774\\ub984\\uc740 \\uc8fc\\ubcf4\\uc120, \\uc911\\uad6d\\uc5d0\\uc11c \\ud0dc\\uc5b4\\ub098 \\ubbf8\\uad6d\\uc5d0\\uc11c \\uc758\\uc0ac\\uac00 \\ub418\\uc5c8\\uace0, 1967\\ub144\\ubd80\\ud130 1988\\ub144\\uae4c\\uc9c0 \\ud55c\\uad6d\\uc758 \\uc804\\uc8fc \\uc608\\uc218\\ubcd1\\uc6d0\\uc5d0\\uc11c \\uc120\\uad50\\uc758 \\uc0b6\\uc744 \\uc0b4\\uc558\\ub2e4. \\ub9ce\\uc740 \\uc138\\uc6d4\\uc774 \\ud750\\ub978 \\uc9c0\\uae08\\uae4c\\uc9c0 \\uadf8\\ub97c \\uae30\\uc5b5\\ud558\\ub294 \\uc81c\\uc790\\ub4e4\\uc774 \\uc788\\ub2e4. \\uadf8\\uc758 \\uc5b4\\ub5a4 \\ubaa8\\uc2b5\\uc774 \\uc81c\\uc790\\ub4e4\\uc758 \\uac00\\uc2b4\\uc5d0 \\uc794\\uc794\\ud558\\uba74\\uc11c\\ub3c4 \\ud3c9\\uc0dd \\uc9c0\\uc6cc\\uc9c0\\uc9c0 \\uc54a\\ub294 \\ud754\\uc801\\uc744 \\ub0a8\\uacbc\\uc744\\uae4c? \\uc774 \\ucc45\\uc740 \\uc8fc\\ubcf4\\uc120\\uc758 \\uc0b6\\uc758 \\uc870\\uac01\\ub4e4\\uc744 \\ucc3e\\uc544 \\ubaa8\\uc73c\\uace0 \\uc774\\uc5b4\\uc11c \\uadf8\\uc758 \\uc0dd\\uc560\\ub97c \\uadf8\\ub824 \\ubd04\\uc73c\\ub85c\\uc368, 1960\\ub144\\ub300 \\ud55c\\uad6d\\uc758 \\uc758\\ub8cc \\uc5ec\\uac74\\uc5d0 \\ub9de\\ucdb0 \\uac00\\ub974\\uce58\\uace0 \\uc804\\ud30c\\ud558\\uace0 \\uace0\\uce58\\ub294 \\uc77c\\uc744 \\ud558\\uba74\\uc11c \\u2018\\uc0b6\\uc73c\\ub85c\\uc11c\\uc758 \\uc120\\uad50\\u2019\\ub97c \\ubab8\\uc18c \\uc2e4\\ucc9c\\ud55c \\uadf8\\uc758 \\uc0b6\\uc744 \\ucd94\\ubaa8\\ud55c\\ub2e4.\\n\\u201c\\uac00\\uc2dc\\uc801 \\uc5c5\\uc801\\uc744 \\uc911\\uc2dc\\ud558\\uace0 \\uc601\\uc6c5\\uc801 \\uc120\\uad50\\ub97c \\uae30\\ub300\\ud558\\uba70 \\uc6b0\\ub7ec\\ub7ec\\ubcf4\\ub358 \\uc2dc\\ub300\\uc5d0 \\uc8fc\\ubcf4\\uc120\\uc740 \\uc544\\ubb34\\uac83\\ub3c4 \\ub0a8\\uae34 \\uac83\\uc774 \\uc5c6\\uc5b4 \\ubcf4\\uc600\\ub2e4. \\uadf8\\ub7ec\\ub098 \\uadf8\\ub294 \\uc774\\ubbf8 \\u2018\\uc0b6\\uc73c\\ub85c\\uc11c\\uc758 \\uc120\\uad50\\u2019 \\uac1c\\ub150\\uc774 \\ub4f1\\uc7a5\\ud55c \\ubbf8\\ub798\\ub97c \\uc0b4\\uc558\\ub358 \\uac83\\uc774\\ub2e4.\\u201d _\\uc11c\\ubb38\\uc5d0\\uc11c\",\n          \"\\ud06c\\ub9ac\\uc2a4\\ud2f0\\uc758 \\uc791\\ud488 \\uc911 \\uac00\\uc7a5 \\ub6f0\\uc5b4\\ub098\\ub2e4\\uace0 \\ud3c9\\uac00\\ubc1b\\ub294 \\uac78\\uc791!\\n\\n\\ucd94\\ub9ac\\uc18c\\uc124\\uc758 \\uc5ec\\uc655 \\uc560\\uac70\\uc11c \\ud06c\\ub9ac\\uc2a4\\ud2f0 \\uc7a5\\ud3b8\\uc18c\\uc124. \\ud06c\\ub9ac\\uc2a4\\ud2f0\\uc758 \\uc804\\uc791\\ud488 \\uc911\\uc5d0\\uc11c \\uc2a4\\ub9b4\\uacfc \\uc11c\\uc2a4\\ud39c\\uc2a4\\uac00 \\uac00\\uc7a5 \\ub6f0\\uc5b4\\ub098\\ub2e4\\uace0 \\uc778\\uc815\\ubc1b\\ub294 \\uac78\\uc791\\uc774\\ub2e4. \\uc774 \\uc791\\ud488\\uc740 \\uc601\\uad6d\\uc5d0\\uc11c\\ub294 \\u300a\\uc5f4 \\uac1c\\uc758 \\uc778\\ub514\\uc5b8 \\uc778\\ud615\\u300b\\uc73c\\ub85c \\ubc1c\\ud45c\\ub418\\uc5c8\\ub2e4. \\n\\n\\uc778\\ub514\\uc5b8 \\uc12c\\uc774\\ub77c\\ub294 \\ubb34\\uc778\\ub3c4\\uc5d0 \\uc5ec\\ub35f \\uba85\\uc758 \\ub0a8\\ub140\\uac00 \\uc815\\uccb4 \\ubd88\\uba85\\uc758 \\uc0ac\\ub78c\\uc5d0\\uac8c \\ucd08\\ub300\\ubc1b\\ub294\\ub2e4. \\uc5ec\\ub35f \\uba85\\uc758 \\uc190\\ub2d8\\uc774 \\uc12c\\uc5d0 \\uc640 \\ubcf4\\ub2c8 \\ucd08\\ub300\\ud55c \\uc0ac\\ub78c\\uc740 \\uc5c6\\uace0, \\ud558\\uc778 \\ubd80\\ubd80\\ub9cc\\uc774 \\uadf8\\ub4e4\\uc744 \\uae30\\ub2e4\\ub9ac\\uace0 \\uc788\\ub2e4. \\ub4a4\\uc774\\uc5b4 \\uc12c\\uc5d0 \\ubaa8\\uc778 \\uc5f4 \\uc0ac\\ub78c\\uc774 \\ucc28\\ub840\\ub85c \\uc8fd\\uc5b4\\uac04\\ub2e4. \\ud55c \\uc0ac\\ub78c\\uc774 \\uc8fd\\uc790, \\uc2dd\\ud0c1 \\uc704\\uc5d0 \\uc788\\ub358 \\uc5f4 \\uac1c\\uc758 \\uc778\\ub514\\uc5b8 \\uc778\\ud615 \\uc911\\uc5d0\\uc11c \\ud55c \\uac1c\\uac00 \\uc5c6\\uc5b4\\uc9c4\\ub2e4. \\uc778\\ub514\\uc5b8 \\ub3d9\\uc694\\uc758 \\uac00\\uc0ac\\uc5d0 \\ub9de\\ucdb0 \\ubb34\\uc778\\ub3c4\\uc5d0 \\uac07\\ud78c \\uc5f4 \\uc0ac\\ub78c\\uc740 \\ubaa8\\ub450 \\uc8fd\\uace0 \\ud55c \\uc0ac\\ub78c\\ub3c4 \\uc0b4\\uc544 \\ub0a8\\uc9c0 \\ubabb\\ud55c\\ub2e4. \\uc778\\ub514\\uc5b8 \\uc12c\\uc5d0\\ub294 \\uc774\\ub4e4 \\uc5f4 \\uba85 \\uc678\\uc5d4 \\uc544\\ubb34\\ub3c4 \\uc5c6\\ub2e4. \\uc12c\\uc5d0 \\uac07\\ud78c \\uc0ac\\ub78c\\uc774 \\ubaa8\\ub450 \\uc0b4\\ud574\\ub418\\uc5c8\\uc73c\\ub2c8 \\ubc94\\uc778\\uc740 \\ub3c4\\ub300\\uccb4 \\ub204\\uad6c\\uc77c\\uae4c?\\n\\n\\uc5f4 \\uba85\\uc758 \\uae30\\uc5b5 \\uc18d\\uc5d0 \\ubb3b\\ud600 \\uc788\\ub294 \\ubc94\\uc8c4\\uc758 \\uadf8\\ub9bc\\uc790, \\ub610 \\uadf8\\ub4e4\\uc758 \\ub2e4\\uc591\\ud55c \\uc9c1\\uc5c5\\uacfc \\uc131\\uaca9. \\uc560\\uac70\\uc11c \\ud06c\\ub9ac\\uc2a4\\ud2f0\\ub294 \\uc774\\ub7ec\\ud55c \\ubc30\\uacbd\\uc744 \\ud558\\ub098\\ub3c4 \\ub193\\uce58\\uc9c0 \\uc54a\\uace0 \\uce58\\ubc00\\ud558\\uac8c \\uc5f0\\uacb0\\uc2dc\\ucf1c\\uc11c \\uc5f4 \\uba85\\uc758 \\uc8fd\\uc74c\\uc744 \\uad50\\ubb18\\ud558\\uac8c \\uc774\\ub04c\\uc5b4 \\ub098\\uac04\\ub2e4. \\ud06c\\ub9ac\\uc2a4\\ud2f0 \\ud2b9\\uc720\\uc758 \\uc12c\\uc138\\ud558\\uace0 \\uce58\\ubc00\\ud55c \\uad6c\\uc131\\ub825\\uacfc \\ub300\\ub2f4\\ud55c \\ubb38\\uccb4\\uac00 \\ub3cb\\ubcf4\\uc774\\uba70, \\ub9c8\\uc9c0\\ub9c9 \\uba87 \\uc7a5\\uc744 \\ub118\\uae38 \\ub54c\\uae4c\\uc9c0 \\uae34\\uc7a5\\uc744 \\ub2a6\\ucd9c \\uc218 \\uc5c6\\ub294 \\uae30\\uad50 \\ub610\\ud55c \\ub3c5\\uc790\\ub4e4\\uc5d0\\uac8c \\ub180\\ub77c\\uc6c0\\uc744 \\uc804\\ud574 \\uc900\\ub2e4. \\ucc98\\uc74c\\ubd80\\ud130 \\ub05d\\uae4c\\uc9c0 \\uc0ac\\uac74\\uc744 \\ucad3\\uc544\\uac00\\ub2e4\\uac00 \\ubc94\\uc778\\uc744 \\uc54c\\uac8c \\ub418\\ub294 \\uc21c\\uac04 \\ub3c5\\uc790\\ub4e4\\uc740 \\ud53c\\uac00 \\uc5bc\\uc5b4\\ubd99\\ub294 \\ub4ef\\ud55c \\ub290\\ub08c\\uc744 \\ubc1b\\uac8c \\ub420 \\uac83\\uc774\\ub2e4.\",\n          \"\\uad6d\\ub0b4 \\ucd5c\\ucd08 \\uc644\\uacb0\\ud310 53\\ub144\\ub9cc\\uc758 \\ucd9c\\uac04!  \\ub3c5\\uc790\\ub4e4\\uc774 \\ubc88\\uc5ed\\uc744 \\uae30\\ub2e4\\ub824\\uc628 \\uadf8 \\uc18c\\uc124!\\n\\uc73c\\uc2a4\\ub7ec\\uc9c0\\ub294 \\uc778\\uac04\\uc131\\uc5d0 \\ub300\\ud55c \\ud5e4\\ubc0d\\uc6e8\\uc774\\uc758 \\ub728\\uac70\\uc6b4 \\uc9c8\\ubb38\\ub4e4!\\n\\n\\ud5e4\\ubbf8\\uc6e8\\uc774\\uc758 \\ub9c8\\uc9c0\\ub9c9 \\uc18c\\uc124 \\u3008\\ud574\\ub958\\uc18d\\uc758 \\uc12c\\ub4e4\\u3009\\uc740 1970\\ub144 \\ud55c\\uc790\\uac00 \\ub4a4 \\uc11e\\uc778 \\uc138\\ub85c\\uc77d\\uae30 \\ud310(\\ud604\\uc554\\uc0ac)\\uc73c\\ub85c \\ucd9c\\uac04\\ub41c \\uc774\\ud6c4, \\ubb34\\ub824 53\\ub144\\ub3d9\\uc548 \\ubc88\\uc5ed\\uc774 \\uc548\\ub41c \\ucc44 \\ubbf8\\ucd9c\\uac04 \\uc0c1\\ud0dc\\ub85c \\ub0a8\\uc544\\uc788\\uc5c8\\ub2e4. \\ud5e4\\ubc0d\\uc6e8\\uc774\\uc758 \\ub3c5\\uc790\\ub4e4\\uc774 \\uac00\\uc7a5 \\ubc88\\uc5ed\\uc744 \\uae30\\ub2e4\\ub824\\uc628 \\uadf8 \\uc791\\ud488\\uc774 \\u3008\\uace0\\uc720\\uba85\\uc0ac(\\ucd9c\\ud310\\uc0ac)\\u3009\\uc5d0\\uc11c \\uc644\\uacb0\\ubc88\\uc5ed \\ud615\\ud0dc\\ub85c \\ucd9c\\uac04\\ub418\\uc5c8\\ub2e4.\\n\\n\\ud5e4\\ubc0d\\uc6e8\\uc774\\uc758 \\uac00\\uc7a5 \\uc644\\uc219\\ud55c \\uc18c\\uc124. \\ub2e8\\uc5f0\\ucf54 \\uadf8\\uc758 \\ubb38\\ud559\\uc801 \\ucc9c\\uc7ac\\uc131\\uc744 \\uac00\\uc7a5 \\uc798 \\ubcf4\\uc5ec\\uc8fc\\ub294 \\uc791\\ud488!\\n\\u3008\\ud574\\ub958\\uc18d\\uc758 \\uc12c\\ub4e4\\u3009\\uc740 \\ud5e4\\ubc0d\\uc6e8\\uc774\\uc758 \\ubaa8\\ub4e0 \\ub3c5\\uc790\\ub4e4\\uc744 \\uc2e4\\ub9dd\\uc2dc\\ud0a4\\uc9c0 \\uc54a\\ub294\\ub2e4. \\ud5e4\\ubc0d\\uc6e8\\uc774\\uc758 \\ubaa8\\ub4e0 \\uc8fc\\uc778\\uacf5\\uc774 \\uadf8\\ub807\\ub4ef\\uc774 \\ud1a0\\ub9c8\\uc2a4 \\ud5c8\\ub4dc\\uc2a8\\uc740 \\uc774 \\uc18c\\uc124\\uc5d0\\uc11c\\ub3c4 \\ud328\\ubc30\\ud55c \\uc778\\uac04\\uc5d0 \\ub300\\ud55c \\ub728\\uac70\\uc6b4 \\uc9c8\\ubb38\\uc744 \\ub3c5\\uc790\\uc5d0\\uac8c \\ub358\\uc9c0\\uba70 \\uadf9\\ubcf5\\ud560 \\uc218 \\uc5c6\\ub294 \\ub3c4\\uc804\\uc744 \\uc548\\uace0 \\uae30\\uc5b4\\ucf54 \\uc2e4\\ud328\\ud55c\\ub2e4,\\n\\n\\u25a0 \\uc904\\uac70\\ub9ac\\n\\uc720\\uba85\\ud55c \\uc608\\uc220\\uac00\\uc778 \\ud1a0\\ub9c8\\uc2a4 \\ud5c8\\ub4dc\\uc2a8\\uc740 \\ud50c\\ub85c\\ub9ac\\ub2e4\\uc5d0\\uc11c 50\\ub9c8\\uc77c \\ub5a8\\uc5b4\\uc9c4 \\ubc14\\ud558\\ub9c8\\uc12c\\uc778 \\ube44\\ubbf8\\ub2c8\\uc5d0 \\uc0b4\\uace0 \\uc788\\ub2e4. \\ud5c8\\ub4dc\\uc2a8\\uc740 \\ub300\\ubd80\\ubd84\\uc758 \\uc0b6\\uc744 \\uce5c\\uad6c\\ub4e4\\uc778 \\uc5b4\\ubd80\\uc640 \\uc220\\uc744 \\ub9c8\\uc2dc\\uac70\\ub098 \\uace0\\uc591\\uc774\\uac00 \\ucda9\\ubd84\\ud788 \\uba39\\uace0 \\uc788\\ub294\\uc9c0\\ub97c \\uac71\\uc815\\ud558\\uba70 \\ubcf4\\ub0b8\\ub2e4. \\uacfc\\uac70\\uc5d4 \\ubc14\\ud558\\ub9c8\\uc5d0\\uc11c \\uac00\\uae4c\\uc6b4 \\ucfe0\\ubc14\\uc5d0\\uc11c \\uc218 \\uc2ed\\ub9c8\\ub9ac\\uc758 \\uace0\\uc591\\uc774\\ub97c \\uae30\\ub974\\uac70\\ub098 \\n\\uc790\\uc2e0\\uc758 \\ubcf4\\ud2b8\\ub97c \\ubbf8\\ud574\\uad70\\uc758 \\uce21\\ub7c9\\uc120\\ubc15\\uc73c\\ub85c \\uac1c\\uc870\\ud574 \\ub3c5\\uc77c U\\ubcf4\\ud2b8\\ub97c \\ucc3e\\uae30 \\uc704\\ud574 \\uce74\\ub9ac\\ube0c\\ud574 \\ud574\\uc548\\uc120\\uc744 \\ub4a4\\uc9c0\\uace0 \\ub2e4\\ub2c8\\uace4 \\ud588\\ub2e4. \\uadf8\\ub7ec\\ub358 \\uc911 \\uc5b4\\ub290\\ub0a0 \\uadf8\\uc758 \\uc544\\ub4e4\\ub4e4\\uc774 \\uac11\\uc790\\uae30 \\uadf8\\ub97c \\ucc3e\\uae30\\uc704\\ud574 \\ubc29\\ubb38\\ud558\\ub7ec \\uc628\\ub2e4\\ub294 \\uc18c\\uc2dd\\uc774 \\uc804\\ud574\\uc9c0\\uace0 \\ud1a0\\uba38\\uc2a4 \\ud5c8\\ub4dc\\uc2a8\\uc740 \\uc544\\ubc84\\uc9c0\\uc758 \\uc5ed\\ud560\\uacfc \\uac00\\uc871\\uc758 \\ub0af\\uc120\\uc694\\uad6c\\uc5d0 \\uace0\\ubbfc\\ud558\\uac8c \\ub41c\\ub2e4.\"\n        ],\n        \"semantic_type\": \"\",\n        \"description\": \"\"\n      }\n    }\n  ]\n}",
              "type": "dataframe",
              "variable_name": "combined_df"
            },
            "text/html": [
              "\n",
              "  <div id=\"df-69dad037-373e-4e45-a781-a3f278299a1f\" class=\"colab-df-container\">\n",
              "    <div>\n",
              "<style scoped>\n",
              "    .dataframe tbody tr th:only-of-type {\n",
              "        vertical-align: middle;\n",
              "    }\n",
              "\n",
              "    .dataframe tbody tr th {\n",
              "        vertical-align: top;\n",
              "    }\n",
              "\n",
              "    .dataframe thead th {\n",
              "        text-align: right;\n",
              "    }\n",
              "</style>\n",
              "<table border=\"1\" class=\"dataframe\">\n",
              "  <thead>\n",
              "    <tr style=\"text-align: right;\">\n",
              "      <th></th>\n",
              "      <th>TITLE_NM</th>\n",
              "      <th>ISBN_THIRTEEN_NO</th>\n",
              "      <th>KDC_NM</th>\n",
              "      <th>description</th>\n",
              "    </tr>\n",
              "  </thead>\n",
              "  <tbody>\n",
              "    <tr>\n",
              "      <th>2</th>\n",
              "      <td>지식의 발견=:</td>\n",
              "      <td>9788976829511</td>\n",
              "      <td>309</td>\n",
              "      <td>『지식의 발견』은 출판 담당 기자 출신의 저자가 한국의 대표적 지식인들이 근대성과 ...</td>\n",
              "    </tr>\n",
              "    <tr>\n",
              "      <th>3</th>\n",
              "      <td>육경과 공자 인학=(The)six books and Confucius jenlogy</td>\n",
              "      <td>9788976461742</td>\n",
              "      <td>152</td>\n",
              "      <td>이 책은 해당 분야 전공자들을 위한 교재 겸 전문서이다.</td>\n",
              "    </tr>\n",
              "    <tr>\n",
              "      <th>4</th>\n",
              "      <td>나노테크놀러지 최전선 기술</td>\n",
              "      <td>9788970442372</td>\n",
              "      <td>530</td>\n",
              "      <td>나노 과학과 기술에 관심이 있는 사람을 위해 나노과학의 첨단을 달리고 있는 일본의 ...</td>\n",
              "    </tr>\n",
              "    <tr>\n",
              "      <th>17</th>\n",
              "      <td>고분미술</td>\n",
              "      <td>9788981337414</td>\n",
              "      <td>609</td>\n",
              "      <td>인간의 죽음에 대하여 의미를 부여하고, 또 죽음을 애도하는 과정에서 생겨난 상장례와...</td>\n",
              "    </tr>\n",
              "    <tr>\n",
              "      <th>18</th>\n",
              "      <td>고분미술</td>\n",
              "      <td>9788981337421</td>\n",
              "      <td>609</td>\n",
              "      <td>옛 무덤에서 발견되는 유물은 단순한 유물이 아닌 당대의 문화의 산물입니다. 때문에 ...</td>\n",
              "    </tr>\n",
              "    <tr>\n",
              "      <th>...</th>\n",
              "      <td>...</td>\n",
              "      <td>...</td>\n",
              "      <td>...</td>\n",
              "      <td>...</td>\n",
              "    </tr>\n",
              "    <tr>\n",
              "      <th>137667</th>\n",
              "      <td>(피라미드에서 우주선까지)세계의 불가사의</td>\n",
              "      <td>9788952738349</td>\n",
              "      <td>31</td>\n",
              "      <td>바빌론의 공중 정원은 왜 만들어졌을까? 콜로서스의 로도스 상은 언제 무너졌을까? 알...</td>\n",
              "    </tr>\n",
              "    <tr>\n",
              "      <th>137671</th>\n",
              "      <td>달콤 쌉싸름한 초콜릿</td>\n",
              "      <td>9788937461088</td>\n",
              "      <td>873</td>\n",
              "      <td>22년동안 이어진 애절한 사랑 이야기!\\n\\n멕시코의 소설가 라우라 에스키벨의 첫 ...</td>\n",
              "    </tr>\n",
              "    <tr>\n",
              "      <th>137677</th>\n",
              "      <td>정부와 NGO</td>\n",
              "      <td>9788918021683</td>\n",
              "      <td>339</td>\n",
              "      <td>NaN</td>\n",
              "    </tr>\n",
              "    <tr>\n",
              "      <th>137680</th>\n",
              "      <td>응력해석 및 재료거동학</td>\n",
              "      <td>9788971416204</td>\n",
              "      <td>530</td>\n",
              "      <td>NaN</td>\n",
              "    </tr>\n",
              "    <tr>\n",
              "      <th>137681</th>\n",
              "      <td>십대들의 뇌에서는 무슨 일이 벌어지고 있나?</td>\n",
              "      <td>9788989799399</td>\n",
              "      <td>334</td>\n",
              "      <td>질풍노도의 시기를 통과하는 십대들의 예측불가능한 행동의 예를 들자면 한이 없다. 이...</td>\n",
              "    </tr>\n",
              "  </tbody>\n",
              "</table>\n",
              "<p>87998 rows × 4 columns</p>\n",
              "</div>\n",
              "    <div class=\"colab-df-buttons\">\n",
              "\n",
              "  <div class=\"colab-df-container\">\n",
              "    <button class=\"colab-df-convert\" onclick=\"convertToInteractive('df-69dad037-373e-4e45-a781-a3f278299a1f')\"\n",
              "            title=\"Convert this dataframe to an interactive table.\"\n",
              "            style=\"display:none;\">\n",
              "\n",
              "  <svg xmlns=\"http://www.w3.org/2000/svg\" height=\"24px\" viewBox=\"0 -960 960 960\">\n",
              "    <path d=\"M120-120v-720h720v720H120Zm60-500h600v-160H180v160Zm220 220h160v-160H400v160Zm0 220h160v-160H400v160ZM180-400h160v-160H180v160Zm440 0h160v-160H620v160ZM180-180h160v-160H180v160Zm440 0h160v-160H620v160Z\"/>\n",
              "  </svg>\n",
              "    </button>\n",
              "\n",
              "  <style>\n",
              "    .colab-df-container {\n",
              "      display:flex;\n",
              "      gap: 12px;\n",
              "    }\n",
              "\n",
              "    .colab-df-convert {\n",
              "      background-color: #E8F0FE;\n",
              "      border: none;\n",
              "      border-radius: 50%;\n",
              "      cursor: pointer;\n",
              "      display: none;\n",
              "      fill: #1967D2;\n",
              "      height: 32px;\n",
              "      padding: 0 0 0 0;\n",
              "      width: 32px;\n",
              "    }\n",
              "\n",
              "    .colab-df-convert:hover {\n",
              "      background-color: #E2EBFA;\n",
              "      box-shadow: 0px 1px 2px rgba(60, 64, 67, 0.3), 0px 1px 3px 1px rgba(60, 64, 67, 0.15);\n",
              "      fill: #174EA6;\n",
              "    }\n",
              "\n",
              "    .colab-df-buttons div {\n",
              "      margin-bottom: 4px;\n",
              "    }\n",
              "\n",
              "    [theme=dark] .colab-df-convert {\n",
              "      background-color: #3B4455;\n",
              "      fill: #D2E3FC;\n",
              "    }\n",
              "\n",
              "    [theme=dark] .colab-df-convert:hover {\n",
              "      background-color: #434B5C;\n",
              "      box-shadow: 0px 1px 3px 1px rgba(0, 0, 0, 0.15);\n",
              "      filter: drop-shadow(0px 1px 2px rgba(0, 0, 0, 0.3));\n",
              "      fill: #FFFFFF;\n",
              "    }\n",
              "  </style>\n",
              "\n",
              "    <script>\n",
              "      const buttonEl =\n",
              "        document.querySelector('#df-69dad037-373e-4e45-a781-a3f278299a1f button.colab-df-convert');\n",
              "      buttonEl.style.display =\n",
              "        google.colab.kernel.accessAllowed ? 'block' : 'none';\n",
              "\n",
              "      async function convertToInteractive(key) {\n",
              "        const element = document.querySelector('#df-69dad037-373e-4e45-a781-a3f278299a1f');\n",
              "        const dataTable =\n",
              "          await google.colab.kernel.invokeFunction('convertToInteractive',\n",
              "                                                    [key], {});\n",
              "        if (!dataTable) return;\n",
              "\n",
              "        const docLinkHtml = 'Like what you see? Visit the ' +\n",
              "          '<a target=\"_blank\" href=https://colab.research.google.com/notebooks/data_table.ipynb>data table notebook</a>'\n",
              "          + ' to learn more about interactive tables.';\n",
              "        element.innerHTML = '';\n",
              "        dataTable['output_type'] = 'display_data';\n",
              "        await google.colab.output.renderOutput(dataTable, element);\n",
              "        const docLink = document.createElement('div');\n",
              "        docLink.innerHTML = docLinkHtml;\n",
              "        element.appendChild(docLink);\n",
              "      }\n",
              "    </script>\n",
              "  </div>\n",
              "\n",
              "\n",
              "<div id=\"df-eef12c5c-9323-4dcf-b047-f0e4cf66b6d2\">\n",
              "  <button class=\"colab-df-quickchart\" onclick=\"quickchart('df-eef12c5c-9323-4dcf-b047-f0e4cf66b6d2')\"\n",
              "            title=\"Suggest charts\"\n",
              "            style=\"display:none;\">\n",
              "\n",
              "<svg xmlns=\"http://www.w3.org/2000/svg\" height=\"24px\"viewBox=\"0 0 24 24\"\n",
              "     width=\"24px\">\n",
              "    <g>\n",
              "        <path d=\"M19 3H5c-1.1 0-2 .9-2 2v14c0 1.1.9 2 2 2h14c1.1 0 2-.9 2-2V5c0-1.1-.9-2-2-2zM9 17H7v-7h2v7zm4 0h-2V7h2v10zm4 0h-2v-4h2v4z\"/>\n",
              "    </g>\n",
              "</svg>\n",
              "  </button>\n",
              "\n",
              "<style>\n",
              "  .colab-df-quickchart {\n",
              "      --bg-color: #E8F0FE;\n",
              "      --fill-color: #1967D2;\n",
              "      --hover-bg-color: #E2EBFA;\n",
              "      --hover-fill-color: #174EA6;\n",
              "      --disabled-fill-color: #AAA;\n",
              "      --disabled-bg-color: #DDD;\n",
              "  }\n",
              "\n",
              "  [theme=dark] .colab-df-quickchart {\n",
              "      --bg-color: #3B4455;\n",
              "      --fill-color: #D2E3FC;\n",
              "      --hover-bg-color: #434B5C;\n",
              "      --hover-fill-color: #FFFFFF;\n",
              "      --disabled-bg-color: #3B4455;\n",
              "      --disabled-fill-color: #666;\n",
              "  }\n",
              "\n",
              "  .colab-df-quickchart {\n",
              "    background-color: var(--bg-color);\n",
              "    border: none;\n",
              "    border-radius: 50%;\n",
              "    cursor: pointer;\n",
              "    display: none;\n",
              "    fill: var(--fill-color);\n",
              "    height: 32px;\n",
              "    padding: 0;\n",
              "    width: 32px;\n",
              "  }\n",
              "\n",
              "  .colab-df-quickchart:hover {\n",
              "    background-color: var(--hover-bg-color);\n",
              "    box-shadow: 0 1px 2px rgba(60, 64, 67, 0.3), 0 1px 3px 1px rgba(60, 64, 67, 0.15);\n",
              "    fill: var(--button-hover-fill-color);\n",
              "  }\n",
              "\n",
              "  .colab-df-quickchart-complete:disabled,\n",
              "  .colab-df-quickchart-complete:disabled:hover {\n",
              "    background-color: var(--disabled-bg-color);\n",
              "    fill: var(--disabled-fill-color);\n",
              "    box-shadow: none;\n",
              "  }\n",
              "\n",
              "  .colab-df-spinner {\n",
              "    border: 2px solid var(--fill-color);\n",
              "    border-color: transparent;\n",
              "    border-bottom-color: var(--fill-color);\n",
              "    animation:\n",
              "      spin 1s steps(1) infinite;\n",
              "  }\n",
              "\n",
              "  @keyframes spin {\n",
              "    0% {\n",
              "      border-color: transparent;\n",
              "      border-bottom-color: var(--fill-color);\n",
              "      border-left-color: var(--fill-color);\n",
              "    }\n",
              "    20% {\n",
              "      border-color: transparent;\n",
              "      border-left-color: var(--fill-color);\n",
              "      border-top-color: var(--fill-color);\n",
              "    }\n",
              "    30% {\n",
              "      border-color: transparent;\n",
              "      border-left-color: var(--fill-color);\n",
              "      border-top-color: var(--fill-color);\n",
              "      border-right-color: var(--fill-color);\n",
              "    }\n",
              "    40% {\n",
              "      border-color: transparent;\n",
              "      border-right-color: var(--fill-color);\n",
              "      border-top-color: var(--fill-color);\n",
              "    }\n",
              "    60% {\n",
              "      border-color: transparent;\n",
              "      border-right-color: var(--fill-color);\n",
              "    }\n",
              "    80% {\n",
              "      border-color: transparent;\n",
              "      border-right-color: var(--fill-color);\n",
              "      border-bottom-color: var(--fill-color);\n",
              "    }\n",
              "    90% {\n",
              "      border-color: transparent;\n",
              "      border-bottom-color: var(--fill-color);\n",
              "    }\n",
              "  }\n",
              "</style>\n",
              "\n",
              "  <script>\n",
              "    async function quickchart(key) {\n",
              "      const quickchartButtonEl =\n",
              "        document.querySelector('#' + key + ' button');\n",
              "      quickchartButtonEl.disabled = true;  // To prevent multiple clicks.\n",
              "      quickchartButtonEl.classList.add('colab-df-spinner');\n",
              "      try {\n",
              "        const charts = await google.colab.kernel.invokeFunction(\n",
              "            'suggestCharts', [key], {});\n",
              "      } catch (error) {\n",
              "        console.error('Error during call to suggestCharts:', error);\n",
              "      }\n",
              "      quickchartButtonEl.classList.remove('colab-df-spinner');\n",
              "      quickchartButtonEl.classList.add('colab-df-quickchart-complete');\n",
              "    }\n",
              "    (() => {\n",
              "      let quickchartButtonEl =\n",
              "        document.querySelector('#df-eef12c5c-9323-4dcf-b047-f0e4cf66b6d2 button');\n",
              "      quickchartButtonEl.style.display =\n",
              "        google.colab.kernel.accessAllowed ? 'block' : 'none';\n",
              "    })();\n",
              "  </script>\n",
              "</div>\n",
              "\n",
              "  <div id=\"id_9bb97602-c183-403d-aa83-c13e443adb39\">\n",
              "    <style>\n",
              "      .colab-df-generate {\n",
              "        background-color: #E8F0FE;\n",
              "        border: none;\n",
              "        border-radius: 50%;\n",
              "        cursor: pointer;\n",
              "        display: none;\n",
              "        fill: #1967D2;\n",
              "        height: 32px;\n",
              "        padding: 0 0 0 0;\n",
              "        width: 32px;\n",
              "      }\n",
              "\n",
              "      .colab-df-generate:hover {\n",
              "        background-color: #E2EBFA;\n",
              "        box-shadow: 0px 1px 2px rgba(60, 64, 67, 0.3), 0px 1px 3px 1px rgba(60, 64, 67, 0.15);\n",
              "        fill: #174EA6;\n",
              "      }\n",
              "\n",
              "      [theme=dark] .colab-df-generate {\n",
              "        background-color: #3B4455;\n",
              "        fill: #D2E3FC;\n",
              "      }\n",
              "\n",
              "      [theme=dark] .colab-df-generate:hover {\n",
              "        background-color: #434B5C;\n",
              "        box-shadow: 0px 1px 3px 1px rgba(0, 0, 0, 0.15);\n",
              "        filter: drop-shadow(0px 1px 2px rgba(0, 0, 0, 0.3));\n",
              "        fill: #FFFFFF;\n",
              "      }\n",
              "    </style>\n",
              "    <button class=\"colab-df-generate\" onclick=\"generateWithVariable('combined_df')\"\n",
              "            title=\"Generate code using this dataframe.\"\n",
              "            style=\"display:none;\">\n",
              "\n",
              "  <svg xmlns=\"http://www.w3.org/2000/svg\" height=\"24px\"viewBox=\"0 0 24 24\"\n",
              "       width=\"24px\">\n",
              "    <path d=\"M7,19H8.4L18.45,9,17,7.55,7,17.6ZM5,21V16.75L18.45,3.32a2,2,0,0,1,2.83,0l1.4,1.43a1.91,1.91,0,0,1,.58,1.4,1.91,1.91,0,0,1-.58,1.4L9.25,21ZM18.45,9,17,7.55Zm-12,3A5.31,5.31,0,0,0,4.9,8.1,5.31,5.31,0,0,0,1,6.5,5.31,5.31,0,0,0,4.9,4.9,5.31,5.31,0,0,0,6.5,1,5.31,5.31,0,0,0,8.1,4.9,5.31,5.31,0,0,0,12,6.5,5.46,5.46,0,0,0,6.5,12Z\"/>\n",
              "  </svg>\n",
              "    </button>\n",
              "    <script>\n",
              "      (() => {\n",
              "      const buttonEl =\n",
              "        document.querySelector('#id_9bb97602-c183-403d-aa83-c13e443adb39 button.colab-df-generate');\n",
              "      buttonEl.style.display =\n",
              "        google.colab.kernel.accessAllowed ? 'block' : 'none';\n",
              "\n",
              "      buttonEl.onclick = () => {\n",
              "        google.colab.notebook.generateWithVariable('combined_df');\n",
              "      }\n",
              "      })();\n",
              "    </script>\n",
              "  </div>\n",
              "\n",
              "    </div>\n",
              "  </div>\n"
            ],
            "text/plain": [
              "                                              TITLE_NM ISBN_THIRTEEN_NO  \\\n",
              "2                                             지식의 발견=:    9788976829511   \n",
              "3       육경과 공자 인학=(The)six books and Confucius jenlogy    9788976461742   \n",
              "4                                       나노테크놀러지 최전선 기술    9788970442372   \n",
              "17                                                고분미술    9788981337414   \n",
              "18                                                고분미술    9788981337421   \n",
              "...                                                ...              ...   \n",
              "137667                          (피라미드에서 우주선까지)세계의 불가사의    9788952738349   \n",
              "137671                                     달콤 쌉싸름한 초콜릿    9788937461088   \n",
              "137677                                         정부와 NGO    9788918021683   \n",
              "137680                                    응력해석 및 재료거동학    9788971416204   \n",
              "137681                        십대들의 뇌에서는 무슨 일이 벌어지고 있나?    9788989799399   \n",
              "\n",
              "       KDC_NM                                        description  \n",
              "2         309  『지식의 발견』은 출판 담당 기자 출신의 저자가 한국의 대표적 지식인들이 근대성과 ...  \n",
              "3         152                    이 책은 해당 분야 전공자들을 위한 교재 겸 전문서이다.  \n",
              "4         530  나노 과학과 기술에 관심이 있는 사람을 위해 나노과학의 첨단을 달리고 있는 일본의 ...  \n",
              "17        609  인간의 죽음에 대하여 의미를 부여하고, 또 죽음을 애도하는 과정에서 생겨난 상장례와...  \n",
              "18        609  옛 무덤에서 발견되는 유물은 단순한 유물이 아닌 당대의 문화의 산물입니다. 때문에 ...  \n",
              "...       ...                                                ...  \n",
              "137667     31  바빌론의 공중 정원은 왜 만들어졌을까? 콜로서스의 로도스 상은 언제 무너졌을까? 알...  \n",
              "137671    873  22년동안 이어진 애절한 사랑 이야기!\\n\\n멕시코의 소설가 라우라 에스키벨의 첫 ...  \n",
              "137677    339                                                NaN  \n",
              "137680    530                                                NaN  \n",
              "137681    334  질풍노도의 시기를 통과하는 십대들의 예측불가능한 행동의 예를 들자면 한이 없다. 이...  \n",
              "\n",
              "[87998 rows x 4 columns]"
            ]
          },
          "execution_count": 22,
          "metadata": {},
          "output_type": "execute_result"
        }
      ],
      "source": [
        "combined_df = combined_df[combined_df['description'] != \"No description available\"]\n",
        "combined_df"
      ]
    },
    {
      "cell_type": "code",
      "execution_count": null,
      "metadata": {
        "id": "crU9D0z0GFAy"
      },
      "outputs": [],
      "source": [
        "# 기존 구축 데이터 병합\n",
        "combined_df = pd.concat([combined_df, df_2], ignore_index=True)"
      ]
    },
    {
      "cell_type": "code",
      "execution_count": null,
      "metadata": {
        "colab": {
          "base_uri": "https://localhost:8080/"
        },
        "id": "-y9yOnfAwG9B",
        "outputId": "6dfb0783-444a-45a5-e0a3-f0e3d745f0df"
      },
      "outputs": [
        {
          "data": {
            "text/plain": [
              "(943508, 4)"
            ]
          },
          "execution_count": 24,
          "metadata": {},
          "output_type": "execute_result"
        }
      ],
      "source": [
        "combined_df.shape"
      ]
    },
    {
      "cell_type": "code",
      "execution_count": null,
      "metadata": {
        "id": "lqWXByjev2-r"
      },
      "outputs": [],
      "source": [
        "combined_df = combined_df.drop_duplicates(subset='ISBN_THIRTEEN_NO', keep='first').reset_index(drop=True)"
      ]
    },
    {
      "cell_type": "code",
      "execution_count": null,
      "metadata": {
        "colab": {
          "base_uri": "https://localhost:8080/"
        },
        "id": "60Gwbp_1wNm0",
        "outputId": "444c5c9c-846e-4109-e80e-0441225a6145"
      },
      "outputs": [
        {
          "data": {
            "text/plain": [
              "(919595, 4)"
            ]
          },
          "execution_count": 26,
          "metadata": {},
          "output_type": "execute_result"
        }
      ],
      "source": [
        "combined_df.shape"
      ]
    },
    {
      "cell_type": "code",
      "execution_count": null,
      "metadata": {
        "colab": {
          "base_uri": "https://localhost:8080/",
          "height": 209
        },
        "id": "C7gKZ4icGoSK",
        "outputId": "eabc7d06-6f5b-4200-c596-1d165733522b"
      },
      "outputs": [
        {
          "data": {
            "text/html": [
              "<div>\n",
              "<style scoped>\n",
              "    .dataframe tbody tr th:only-of-type {\n",
              "        vertical-align: middle;\n",
              "    }\n",
              "\n",
              "    .dataframe tbody tr th {\n",
              "        vertical-align: top;\n",
              "    }\n",
              "\n",
              "    .dataframe thead th {\n",
              "        text-align: right;\n",
              "    }\n",
              "</style>\n",
              "<table border=\"1\" class=\"dataframe\">\n",
              "  <thead>\n",
              "    <tr style=\"text-align: right;\">\n",
              "      <th></th>\n",
              "      <th>0</th>\n",
              "    </tr>\n",
              "  </thead>\n",
              "  <tbody>\n",
              "    <tr>\n",
              "      <th>TITLE_NM</th>\n",
              "      <td>0</td>\n",
              "    </tr>\n",
              "    <tr>\n",
              "      <th>ISBN_THIRTEEN_NO</th>\n",
              "      <td>0</td>\n",
              "    </tr>\n",
              "    <tr>\n",
              "      <th>KDC_NM</th>\n",
              "      <td>0</td>\n",
              "    </tr>\n",
              "    <tr>\n",
              "      <th>description</th>\n",
              "      <td>2515</td>\n",
              "    </tr>\n",
              "  </tbody>\n",
              "</table>\n",
              "</div><br><label><b>dtype:</b> int64</label>"
            ],
            "text/plain": [
              "TITLE_NM               0\n",
              "ISBN_THIRTEEN_NO       0\n",
              "KDC_NM                 0\n",
              "description         2515\n",
              "dtype: int64"
            ]
          },
          "execution_count": 27,
          "metadata": {},
          "output_type": "execute_result"
        }
      ],
      "source": [
        "combined_df.isna().sum()"
      ]
    },
    {
      "cell_type": "code",
      "execution_count": null,
      "metadata": {
        "id": "fT7lfKVAZLsA"
      },
      "outputs": [],
      "source": [
        "combined_df = combined_df.dropna(subset=['description'])"
      ]
    },
    {
      "cell_type": "code",
      "execution_count": null,
      "metadata": {
        "colab": {
          "base_uri": "https://localhost:8080/",
          "height": 209
        },
        "id": "W7SnHUHOBCHZ",
        "outputId": "110252fd-0206-4457-b413-809d6891cdd4"
      },
      "outputs": [
        {
          "data": {
            "text/html": [
              "<div>\n",
              "<style scoped>\n",
              "    .dataframe tbody tr th:only-of-type {\n",
              "        vertical-align: middle;\n",
              "    }\n",
              "\n",
              "    .dataframe tbody tr th {\n",
              "        vertical-align: top;\n",
              "    }\n",
              "\n",
              "    .dataframe thead th {\n",
              "        text-align: right;\n",
              "    }\n",
              "</style>\n",
              "<table border=\"1\" class=\"dataframe\">\n",
              "  <thead>\n",
              "    <tr style=\"text-align: right;\">\n",
              "      <th></th>\n",
              "      <th>0</th>\n",
              "    </tr>\n",
              "  </thead>\n",
              "  <tbody>\n",
              "    <tr>\n",
              "      <th>TITLE_NM</th>\n",
              "      <td>object</td>\n",
              "    </tr>\n",
              "    <tr>\n",
              "      <th>ISBN_THIRTEEN_NO</th>\n",
              "      <td>object</td>\n",
              "    </tr>\n",
              "    <tr>\n",
              "      <th>KDC_NM</th>\n",
              "      <td>object</td>\n",
              "    </tr>\n",
              "    <tr>\n",
              "      <th>description</th>\n",
              "      <td>object</td>\n",
              "    </tr>\n",
              "  </tbody>\n",
              "</table>\n",
              "</div><br><label><b>dtype:</b> object</label>"
            ],
            "text/plain": [
              "TITLE_NM            object\n",
              "ISBN_THIRTEEN_NO    object\n",
              "KDC_NM              object\n",
              "description         object\n",
              "dtype: object"
            ]
          },
          "execution_count": 29,
          "metadata": {},
          "output_type": "execute_result"
        }
      ],
      "source": [
        "combined_df.dtypes"
      ]
    },
    {
      "cell_type": "markdown",
      "metadata": {
        "id": "MBLy9LGn0ufn"
      },
      "source": [
        "## (2) 라벨 불균형 해결"
      ]
    },
    {
      "cell_type": "code",
      "execution_count": null,
      "metadata": {
        "id": "F0gl4BMmkrwk"
      },
      "outputs": [],
      "source": [
        "combined_df['KDC_NM'] = combined_df['KDC_NM'].astype(str).str.strip().str.replace(\" \", \"\", regex=True)\n",
        "combined_df['KDC_NM'] = combined_df['KDC_NM'].astype(str)"
      ]
    },
    {
      "cell_type": "code",
      "execution_count": null,
      "metadata": {
        "id": "tBcRVJnqGKyy"
      },
      "outputs": [],
      "source": [
        "import matplotlib.pyplot as plt\n",
        "import numpy as np\n",
        "from collections import Counter\n",
        "\n",
        "def adjust_labels(label_counts, column, threshold):\n",
        "    \"\"\"\n",
        "    Args:\n",
        "    - label_counts (dict): 각 라벨 내 instance 개수를 담은 딕셔너리\n",
        "    - column (list or pd.Series): 바꾸고 싶은 DataFrame의 열 (list나 Series 형태 가능)\n",
        "    - threshold (int): 라벨 내 instance 개수의 임계값\n",
        "\n",
        "    Returns:\n",
        "    - pd.Series: 수정된 열\n",
        "    \"\"\"\n",
        "    # 리스트일 경우 Pandas Series로 변환\n",
        "    if isinstance(column, list):\n",
        "        column = pd.Series(column)\n",
        "\n",
        "    def modify_value(label):\n",
        "        # 값이 문자열이 아닌 경우 문자열로 변환\n",
        "        if not isinstance(label, str):\n",
        "            label = str(label)\n",
        "\n",
        "        # 조건 1: 라벨 내 instance 개수가 threshold를 넘지 못함\n",
        "        # 조건 2: 라벨이 '.'으로 끝나지 않음\n",
        "        if label_counts.get(label, 0) < threshold and not label.endswith('.'):\n",
        "            return label[:-1]  # 맨 마지막 character 삭제\n",
        "        return label\n",
        "\n",
        "    # 열(column)에 대해 조건을 적용\n",
        "    return column.apply(modify_value)\n",
        "\n",
        "def clean_kdc_nm_column(column):\n",
        "    \"\"\"\n",
        "    KDC_NM 컬럼의 값을 정리합니다. 마지막에 '.'이 있다면 삭제하고, 공백이 포함되어 있다면 제거합니다.\n",
        "\n",
        "    Args:\n",
        "        column (list): 데이터프레임의 KDC_NM 컬럼 값 리스트.\n",
        "\n",
        "    Returns:\n",
        "        list: 정리된 KDC_NM 값 리스트.\n",
        "    \"\"\"\n",
        "    cleaned_column = []\n",
        "\n",
        "    for value in column:\n",
        "        if isinstance(value, str):\n",
        "            # 공백 제거\n",
        "            value = value.replace(\" \", \"\")\n",
        "            # 마지막 문자가 '.'이면 제거\n",
        "            if value.endswith(\".\"):\n",
        "                value = value[:-1]\n",
        "        cleaned_column.append(value)\n",
        "\n",
        "    return cleaned_column\n",
        "\n",
        "import pandas as pd\n",
        "\n",
        "# 변환 불가 값 확인 및 삭제\n",
        "def drop_invalid(df, column_name):\n",
        "    \"\"\"\n",
        "    Args:\n",
        "    - df (pd.DataFrame): 데이터프레임\n",
        "    - column_name (str): 검사할 열 이름\n",
        "\n",
        "    Returns:\n",
        "    - pd.DataFrame: 변환 불가능한 값이 제거된 데이터프레임\n",
        "    \"\"\"\n",
        "    def is_valid(value):\n",
        "        try:\n",
        "            float(value)  # float 변환 시도\n",
        "            return True\n",
        "        except ValueError:\n",
        "            return False\n",
        "\n",
        "    # 변환 가능한 값만 필터링\n",
        "    valid_df = df[df[column_name].apply(is_valid)].reset_index(drop=True)\n",
        "    return valid_df\n",
        "\n",
        "def convert_column_decimals(df, column_name, decimals=2):\n",
        "    \"\"\"\n",
        "    Args:\n",
        "    - df (pd.DataFrame): 데이터프레임\n",
        "    - column_name (str): 소수점 자리수를 변환할 컬럼 이름\n",
        "    - decimals (int): 변환할 소수점 자리수 (기본값: 2)\n",
        "\n",
        "    Returns:\n",
        "    - pd.DataFrame: 변환된 데이터프레임\n",
        "    \"\"\"\n",
        "    if column_name in df.columns:\n",
        "        format_string = f\"{{:.{decimals}f}}\"  # 소수점 자리수 설정\n",
        "        df[column_name] = df[column_name].apply(\n",
        "            lambda x: format_string.format(float(x)) if pd.notnull(x) else x\n",
        "        )\n",
        "    else:\n",
        "        raise ValueError(f\"Column '{column_name}' not found in the DataFrame.\")\n",
        "\n",
        "    return df"
      ]
    },
    {
      "cell_type": "code",
      "execution_count": null,
      "metadata": {
        "id": "kiD2s4AlBvZr"
      },
      "outputs": [],
      "source": [
        "combined_df['KDC_NM'] = clean_kdc_nm_column(combined_df['KDC_NM'])"
      ]
    },
    {
      "cell_type": "code",
      "execution_count": null,
      "metadata": {
        "id": "BdEQHeydGXOA"
      },
      "outputs": [],
      "source": [
        "combined_df = drop_invalid(combined_df, 'KDC_NM')"
      ]
    },
    {
      "cell_type": "code",
      "execution_count": null,
      "metadata": {
        "colab": {
          "base_uri": "https://localhost:8080/",
          "height": 607
        },
        "id": "SE2_f_Mt1RxR",
        "outputId": "14d5ab2b-9714-4b16-bf58-9ddc7d9ea5dc"
      },
      "outputs": [
        {
          "data": {
            "image/png": "[encoded data removed]",
            "text/plain": [
              "<Figure size 1200x600 with 1 Axes>"
            ]
          },
          "metadata": {},
          "output_type": "display_data"
        }
      ],
      "source": [
        "# 각 라벨의 빈도수 계산\n",
        "label_counts = Counter(combined_df['KDC_NM'])\n",
        "\n",
        "# 라벨의 빈도수 (x축에 해당)\n",
        "label_frequencies = list(label_counts.values())\n",
        "\n",
        "# 적절한 bin 개수 결정 (빈도수의 분포를 기준으로)\n",
        "n_bins = int(np.sqrt(len(label_frequencies)))  # 빈도수에 대해 제곱근 법칙 적용\n",
        "\n",
        "# 라벨 빈도수로 히스토그램 구간 설정\n",
        "plt.figure(figsize=(12, 6))\n",
        "\n",
        "# 히스토그램 그리기\n",
        "plt.hist(\n",
        "    label_frequencies,  # 라벨 빈도수 사용\n",
        "    bins=n_bins,  # 동적으로 계산된 bin 개수\n",
        "    edgecolor='black',\n",
        "    alpha=0.7\n",
        ")\n",
        "\n",
        "# x축 최대값을 label_frequencies의 최댓값으로 설정\n",
        "plt.xlim(0, max(label_frequencies))\n",
        "plt.ylim(0, 200)\n",
        "\n",
        "# 그래프 설정\n",
        "plt.title('Label Frequency Distribution')\n",
        "plt.xlabel('Number of Instances per Label (x-axis)')\n",
        "plt.ylabel('Number of Labels (y-axis)')\n",
        "\n",
        "# x축에 라벨 빈도수 표시, y축에는 레이블 개수 표시\n",
        "plt.grid(axis='y', linestyle='--', alpha=0.7)\n",
        "plt.tight_layout()  # 레이아웃 조정\n",
        "plt.show()"
      ]
    },
    {
      "cell_type": "code",
      "execution_count": null,
      "metadata": {
        "id": "iVgtp1eDq0-D"
      },
      "outputs": [],
      "source": [
        "combined_df_1 = convert_column_decimals(combined_df, 'KDC_NM', decimals = 1)"
      ]
    },
    {
      "cell_type": "code",
      "execution_count": null,
      "metadata": {
        "colab": {
          "base_uri": "https://localhost:8080/",
          "height": 607
        },
        "id": "AiGRkgcfrC5W",
        "outputId": "0a24126a-d0e5-4d51-c3b3-0a9fad27531d"
      },
      "outputs": [
        {
          "data": {
            "image/png": "[encoded data removed]",
            "text/plain": [
              "<Figure size 1200x600 with 1 Axes>"
            ]
          },
          "metadata": {},
          "output_type": "display_data"
        }
      ],
      "source": [
        "# 각 라벨의 빈도수 계산\n",
        "label_counts = Counter(combined_df_1['KDC_NM'])\n",
        "\n",
        "# 라벨의 빈도수 (x축에 해당)\n",
        "label_frequencies = list(label_counts.values())\n",
        "\n",
        "# 적절한 bin 개수 결정 (빈도수의 분포를 기준으로)\n",
        "n_bins = int(np.sqrt(len(label_frequencies)))  # 빈도수에 대해 제곱근 법칙 적용\n",
        "\n",
        "# 라벨 빈도수로 히스토그램 구간 설정\n",
        "plt.figure(figsize=(12, 6))\n",
        "\n",
        "# 히스토그램 그리기\n",
        "plt.hist(\n",
        "    label_frequencies,  # 라벨 빈도수 사용\n",
        "    bins=n_bins,  # 동적으로 계산된 bin 개수\n",
        "    edgecolor='black',\n",
        "    alpha=0.7\n",
        ")\n",
        "\n",
        "# x축 최대값을 label_frequencies의 최댓값으로 설정\n",
        "plt.xlim(0, max(label_frequencies))\n",
        "plt.ylim(0, 200)\n",
        "\n",
        "# 그래프 설정\n",
        "plt.title('Label Frequency Distribution')\n",
        "plt.xlabel('Number of Instances per Label (x-axis)')\n",
        "plt.ylabel('Number of Labels (y-axis)')\n",
        "\n",
        "# x축에 라벨 빈도수 표시, y축에는 레이블 개수 표시\n",
        "plt.grid(axis='y', linestyle='--', alpha=0.7)\n",
        "plt.tight_layout()  # 레이아웃 조정\n",
        "plt.show()"
      ]
    },
    {
      "cell_type": "code",
      "execution_count": null,
      "metadata": {
        "colab": {
          "base_uri": "https://localhost:8080/"
        },
        "id": "_KxESvhY5ynH",
        "outputId": "7a6e8587-c76f-4f81-fbf2-28c958707e36"
      },
      "outputs": [
        {
          "name": "stdout",
          "output_type": "stream",
          "text": [
            "라벨 개수의 평균: 210.91858325666973\n",
            "라벨 개수의 최대값: 56712\n",
            "라벨 개수의 최소값: 1\n",
            "라벨 개수의 중간값: 13.0\n"
          ]
        }
      ],
      "source": [
        "# 각 고유 라벨의 개수 세기\n",
        "label_counts = combined_df_1['KDC_NM'].value_counts()\n",
        "\n",
        "# 평균, 최대, 최소, 중간값 구하기\n",
        "mean_count = label_counts.mean()\n",
        "max_count = label_counts.max()\n",
        "min_count = label_counts.min()\n",
        "median_count = label_counts.median()  # 중간값 계산\n",
        "\n",
        "# 결과 출력\n",
        "print(f\"라벨 개수의 평균: {mean_count}\")\n",
        "print(f\"라벨 개수의 최대값: {max_count}\")\n",
        "print(f\"라벨 개수의 최소값: {min_count}\")\n",
        "print(f\"라벨 개수의 중간값: {median_count}\")"
      ]
    },
    {
      "cell_type": "code",
      "execution_count": null,
      "metadata": {
        "id": "psk4kfQWMxS7"
      },
      "outputs": [],
      "source": [
        "combined_df_210 = combined_df[combined_df['KDC_NM'].isin(label_counts[label_counts >= 210].index)]"
      ]
    },
    {
      "cell_type": "code",
      "execution_count": null,
      "metadata": {
        "colab": {
          "base_uri": "https://localhost:8080/"
        },
        "id": "oStCZNph0t89",
        "outputId": "d9300a3f-f353-48a0-b0f3-fc82abae072a"
      },
      "outputs": [
        {
          "data": {
            "text/plain": [
              "(807902, 4)"
            ]
          },
          "execution_count": 39,
          "metadata": {},
          "output_type": "execute_result"
        }
      ],
      "source": [
        "combined_df_210.shape"
      ]
    },
    {
      "cell_type": "code",
      "execution_count": null,
      "metadata": {
        "colab": {
          "base_uri": "https://localhost:8080/"
        },
        "id": "FAXxm8qr2iw-",
        "outputId": "13e76166-b414-48c4-e5ae-a29912a48ff4"
      },
      "outputs": [
        {
          "name": "stdout",
          "output_type": "stream",
          "text": [
            "라벨 개수의 평균: 1233.4381679389312\n",
            "라벨 개수의 최대값: 56712\n",
            "라벨 개수의 최소값: 210\n",
            "라벨 개수의 중간값: 503.0\n"
          ]
        }
      ],
      "source": [
        "# 각 고유 라벨의 개수 세기\n",
        "label_counts = combined_df_210['KDC_NM'].value_counts()\n",
        "\n",
        "# 평균, 최대, 최소, 중간값 구하기\n",
        "mean_count = label_counts.mean()\n",
        "max_count = label_counts.max()\n",
        "min_count = label_counts.min()\n",
        "median_count = label_counts.median()  # 중간값 계산\n",
        "\n",
        "# 결과 출력\n",
        "print(f\"라벨 개수의 평균: {mean_count}\")\n",
        "print(f\"라벨 개수의 최대값: {max_count}\")\n",
        "print(f\"라벨 개수의 최소값: {min_count}\")\n",
        "print(f\"라벨 개수의 중간값: {median_count}\")"
      ]
    },
    {
      "cell_type": "code",
      "execution_count": null,
      "metadata": {
        "colab": {
          "base_uri": "https://localhost:8080/",
          "height": 607
        },
        "id": "DP28w8ne29eN",
        "outputId": "c9fb1e0a-5098-4e25-9b7a-25c271bef5ce"
      },
      "outputs": [
        {
          "data": {
            "image/png": "[encoded data removed]",
            "text/plain": [
              "<Figure size 1200x600 with 1 Axes>"
            ]
          },
          "metadata": {},
          "output_type": "display_data"
        }
      ],
      "source": [
        "# 각 라벨의 빈도수 계산\n",
        "label_counts = Counter(combined_df_210['KDC_NM'])\n",
        "\n",
        "# 라벨의 빈도수 (x축에 해당)\n",
        "label_frequencies = list(label_counts.values())\n",
        "\n",
        "# 적절한 bin 개수 결정 (빈도수의 분포를 기준으로)\n",
        "n_bins = int(np.sqrt(len(label_frequencies)))  # 빈도수에 대해 제곱근 법칙 적용\n",
        "\n",
        "# 라벨 빈도수로 히스토그램 구간 설정\n",
        "plt.figure(figsize=(12, 6))\n",
        "\n",
        "# 히스토그램 그리기\n",
        "plt.hist(\n",
        "    label_frequencies,  # 라벨 빈도수 사용\n",
        "    bins=n_bins,  # 동적으로 계산된 bin 개수\n",
        "    edgecolor='black',\n",
        "    alpha=0.7\n",
        ")\n",
        "\n",
        "# x축 최대값을 label_frequencies의 최댓값으로 설정\n",
        "plt.xlim(0, max(label_frequencies))\n",
        "plt.ylim(0, 200)\n",
        "\n",
        "# 그래프 설정\n",
        "plt.title('Label Frequency Distribution')\n",
        "plt.xlabel('Number of Instances per Label (x-axis)')\n",
        "plt.ylabel('Number of Labels (y-axis)')\n",
        "\n",
        "# x축에 라벨 빈도수 표시, y축에는 레이블 개수 표시\n",
        "plt.grid(axis='y', linestyle='--', alpha=0.7)\n",
        "plt.tight_layout()  # 레이아웃 조정\n",
        "plt.show()"
      ]
    },
    {
      "cell_type": "markdown",
      "metadata": {
        "id": "etXJYSUrxhZJ"
      },
      "source": [
        "### Data Augmentation"
      ]
    },
    {
      "cell_type": "code",
      "execution_count": null,
      "metadata": {
        "colab": {
          "base_uri": "https://localhost:8080/"
        },
        "id": "HR3iOlwaxgb-",
        "outputId": "8ee62129-5d4e-4f50-9fe5-70f883c6b586"
      },
      "outputs": [
        {
          "name": "stdout",
          "output_type": "stream",
          "text": [
            "Requirement already satisfied: nltk in /usr/local/lib/python3.11/dist-packages (3.9.1)\n",
            "Requirement already satisfied: click in /usr/local/lib/python3.11/dist-packages (from nltk) (8.1.8)\n",
            "Requirement already satisfied: joblib in /usr/local/lib/python3.11/dist-packages (from nltk) (1.4.2)\n",
            "Requirement already satisfied: regex>=2021.8.3 in /usr/local/lib/python3.11/dist-packages (from nltk) (2024.11.6)\n",
            "Requirement already satisfied: tqdm in /usr/local/lib/python3.11/dist-packages (from nltk) (4.67.1)\n"
          ]
        },
        {
          "name": "stderr",
          "output_type": "stream",
          "text": [
            "[nltk_data] Downloading package punkt_tab to /root/nltk_data...\n",
            "[nltk_data]   Unzipping tokenizers/punkt_tab.zip.\n",
            "[nltk_data] Downloading package wordnet to /root/nltk_data...\n",
            "[nltk_data] Downloading package omw-1.4 to /root/nltk_data...\n"
          ]
        }
      ],
      "source": [
        "!pip install nltk\n",
        "import nltk\n",
        "nltk.download('punkt_tab')\n",
        "nltk.download('wordnet')\n",
        "nltk.download('omw-1.4')\n",
        "import random\n",
        "import pickle\n",
        "import re"
      ]
    },
    {
      "cell_type": "code",
      "execution_count": null,
      "metadata": {
        "id": "oUirigquwzK0"
      },
      "outputs": [],
      "source": [
        "# 한글만 남기고 나머지는 삭제\n",
        "def get_only_hangul(line):\n",
        "\tparseText= re.compile('/ ^[ㄱ-ㅎㅏ-ㅣ가-힣]*$/').sub('',line)\n",
        "\n",
        "\treturn parseText\n",
        "\n",
        "########################################################################\n",
        "# Synonym replacement\n",
        "# Replace n words in the sentence with synonyms from wordnet\n",
        "########################################################################\n",
        "\n",
        "def synonym_replacement(words, n):\n",
        "\tnew_words = words.copy()\n",
        "\trandom_word_list = list(set([word for word in words]))\n",
        "\trandom.shuffle(random_word_list)\n",
        "\tnum_replaced = 0\n",
        "\tfor random_word in random_word_list:\n",
        "\t\tsynonyms = get_synonyms(random_word)\n",
        "\t\tif len(synonyms) >= 1:\n",
        "\t\t\tsynonym = random.choice(list(synonyms))\n",
        "\t\t\tnew_words = [synonym if word == random_word else word for word in new_words]\n",
        "\t\t\tnum_replaced += 1\n",
        "\t\tif num_replaced >= n:\n",
        "\t\t\tbreak\n",
        "\n",
        "\tif len(new_words) != 0:\n",
        "\t\tsentence = ' '.join(new_words)\n",
        "\t\tnew_words = sentence.split(\" \")\n",
        "\n",
        "\telse:\n",
        "\t\tnew_words = \"\"\n",
        "\n",
        "\treturn new_words\n",
        "\n",
        "def get_synonyms(word):\n",
        "\tsynomyms = []\n",
        "\n",
        "\ttry:\n",
        "\t\tfor syn in wordnet[word]:\n",
        "\t\t\tfor s in syn:\n",
        "\t\t\t\tsynomyms.append(s)\n",
        "\texcept:\n",
        "\t\tpass\n",
        "\n",
        "\treturn synomyms\n",
        "\n",
        "########################################################################\n",
        "# Random deletion\n",
        "# Randomly delete words from the sentence with probability p\n",
        "########################################################################\n",
        "def random_deletion(words, p):\n",
        "\tif len(words) == 1:\n",
        "\t\treturn words\n",
        "\n",
        "\tnew_words = []\n",
        "\tfor word in words:\n",
        "\t\tr = random.uniform(0, 1)\n",
        "\t\tif r > p:\n",
        "\t\t\tnew_words.append(word)\n",
        "\n",
        "\tif len(new_words) == 0:\n",
        "\t\trand_int = random.randint(0, len(words)-1)\n",
        "\t\treturn [words[rand_int]]\n",
        "\n",
        "\treturn new_words\n",
        "\n",
        "########################################################################\n",
        "# Random swap\n",
        "# Randomly swap two words in the sentence n times\n",
        "########################################################################\n",
        "def random_swap(words, n):\n",
        "\tnew_words = words.copy()\n",
        "\tfor _ in range(n):\n",
        "\t\tnew_words = swap_word(new_words)\n",
        "\n",
        "\treturn new_words\n",
        "\n",
        "def swap_word(new_words):\n",
        "\trandom_idx_1 = random.randint(0, len(new_words)-1)\n",
        "\trandom_idx_2 = random_idx_1\n",
        "\tcounter = 0\n",
        "\n",
        "\twhile random_idx_2 == random_idx_1:\n",
        "\t\trandom_idx_2 = random.randint(0, len(new_words)-1)\n",
        "\t\tcounter += 1\n",
        "\t\tif counter > 3:\n",
        "\t\t\treturn new_words\n",
        "\n",
        "\tnew_words[random_idx_1], new_words[random_idx_2] = new_words[random_idx_2], new_words[random_idx_1]\n",
        "\treturn new_words\n",
        "\n",
        "########################################################################\n",
        "# Random insertion\n",
        "# Randomly insert n words into the sentence\n",
        "########################################################################\n",
        "def random_insertion(words, n):\n",
        "\tnew_words = words.copy()\n",
        "\tfor _ in range(n):\n",
        "\t\tadd_word(new_words)\n",
        "\n",
        "\treturn new_words\n",
        "\n",
        "def add_word(new_words):\n",
        "\tsynonyms = []\n",
        "\tcounter = 0\n",
        "\twhile len(synonyms) < 1:\n",
        "\t\tif len(new_words) >= 1:\n",
        "\t\t\trandom_word = new_words[random.randint(0, len(new_words)-1)]\n",
        "\t\t\tsynonyms = get_synonyms(random_word)\n",
        "\t\t\tcounter += 1\n",
        "\t\telse:\n",
        "\t\t\trandom_word = \"\"\n",
        "\n",
        "\t\tif counter >= 10:\n",
        "\t\t\treturn\n",
        "\n",
        "\trandom_synonym = synonyms[0]\n",
        "\trandom_idx = random.randint(0, len(new_words)-1)\n",
        "\tnew_words.insert(random_idx, random_synonym)"
      ]
    },
    {
      "cell_type": "code",
      "execution_count": null,
      "metadata": {
        "id": "QUjf3farzmpv"
      },
      "outputs": [],
      "source": [
        "def augment_data(data, label_column, text_column, target_count):\n",
        "    \"\"\"\n",
        "    Args:\n",
        "        data (pd.DataFrame): 원본 데이터프레임\n",
        "        label_column (str): 라벨 컬럼명\n",
        "        text_column (str): 텍스트 컬럼명\n",
        "        target_count (int): 라벨별 최소 인스턴스 수\n",
        "\n",
        "    Returns:\n",
        "        pd.DataFrame: 증강된 데이터프레임\n",
        "    \"\"\"\n",
        "    augmented_data = []\n",
        "    label_counts = Counter(data[label_column])\n",
        "\n",
        "    for label, count in label_counts.items():\n",
        "        label_data = data[data[label_column] == label]\n",
        "        texts = label_data[text_column].tolist()\n",
        "\n",
        "        # 증강 대상 라벨 처리\n",
        "        if count < target_count:\n",
        "            needed = target_count - count\n",
        "\n",
        "            for _ in range(needed):\n",
        "                # 원본 데이터 중 하나 선택\n",
        "                original_text = random.choice(texts)\n",
        "                original_text = str(original_text)\n",
        "                words = original_text.split()\n",
        "\n",
        "                # 랜덤으로 증강 기법 선택\n",
        "                augmentation_methods = [\n",
        "                    lambda w: \" \".join(random_deletion(w, p=0.1)),\n",
        "                    lambda w: \" \".join(random_swap(w, n=2)),\n",
        "                    lambda w: \" \".join(random_insertion(w, n=2)),\n",
        "                    lambda w: \" \".join(synonym_replacement(w, n=2))\n",
        "                ]\n",
        "\n",
        "                augmented_text = random.choice(augmentation_methods)(words)\n",
        "\n",
        "                # 증강된 텍스트와 라벨 저장, 나머지 열은 원본에서 가져옴\n",
        "                augmented_row = {label_column: label, text_column: augmented_text}\n",
        "                for column in data.columns:\n",
        "                    if column not in [label_column, text_column]:\n",
        "                        augmented_row[column] = label_data[column].iloc[0]\n",
        "\n",
        "                augmented_data.append(augmented_row)\n",
        "\n",
        "    # 증강 데이터와 원본 데이터 병합\n",
        "    augmented_df = pd.DataFrame(augmented_data)\n",
        "    final_data = pd.concat([data, augmented_df], ignore_index=True)\n",
        "    return final_data"
      ]
    },
    {
      "cell_type": "code",
      "execution_count": null,
      "metadata": {
        "id": "8_JfuFfcz4F7"
      },
      "outputs": [],
      "source": [
        "augmented_df = augment_data(combined_df_210, \"KDC_NM\", \"description\", 498)"
      ]
    },
    {
      "cell_type": "code",
      "execution_count": null,
      "metadata": {
        "colab": {
          "base_uri": "https://localhost:8080/",
          "height": 607
        },
        "id": "KUTa9K396D_I",
        "outputId": "c5081b4d-df46-491f-ddf3-3fbe6d250be3"
      },
      "outputs": [
        {
          "data": {
            "image/png": "[encoded data removed]",
            "text/plain": [
              "<Figure size 1200x600 with 1 Axes>"
            ]
          },
          "metadata": {},
          "output_type": "display_data"
        }
      ],
      "source": [
        "# 각 라벨의 빈도수 계산\n",
        "label_counts = Counter(augmented_df['KDC_NM'])\n",
        "\n",
        "# 라벨의 빈도수 (x축에 해당)\n",
        "label_frequencies = list(label_counts.values())\n",
        "\n",
        "# 적절한 bin 개수 결정 (빈도수의 분포를 기준으로)\n",
        "n_bins = int(np.sqrt(len(label_frequencies)))  # 빈도수에 대해 제곱근 법칙 적용\n",
        "\n",
        "# 라벨 빈도수로 히스토그램 구간 설정\n",
        "plt.figure(figsize=(12, 6))\n",
        "\n",
        "# 히스토그램 그리기\n",
        "plt.hist(\n",
        "    label_frequencies,  # 라벨 빈도수 사용\n",
        "    bins=n_bins,  # 동적으로 계산된 bin 개수\n",
        "    edgecolor='black',\n",
        "    alpha=0.7\n",
        ")\n",
        "\n",
        "# x축 최대값을 label_frequencies의 최댓값으로 설정\n",
        "plt.xlim(0, max(label_frequencies))\n",
        "plt.ylim(0, 200)\n",
        "\n",
        "# 그래프 설정\n",
        "plt.title('Label Frequency Distribution')\n",
        "plt.xlabel('Number of Instances per Label (x-axis)')\n",
        "plt.ylabel('Number of Labels (y-axis)')\n",
        "\n",
        "# x축에 라벨 빈도수 표시, y축에는 레이블 개수 표시\n",
        "plt.grid(axis='y', linestyle='--', alpha=0.7)\n",
        "plt.tight_layout()  # 레이아웃 조정\n",
        "plt.show()"
      ]
    },
    {
      "cell_type": "code",
      "execution_count": null,
      "metadata": {
        "colab": {
          "base_uri": "https://localhost:8080/"
        },
        "id": "i-HoVirg6LkU",
        "outputId": "e4a60a05-1ac0-4114-899c-3ddf4059f166"
      },
      "outputs": [
        {
          "name": "stdout",
          "output_type": "stream",
          "text": [
            "라벨 개수의 평균: 1318.0152671755725\n",
            "라벨 개수의 최대값: 56712\n",
            "라벨 개수의 최소값: 498\n",
            "라벨 개수의 중간값: 503.0\n"
          ]
        }
      ],
      "source": [
        "# 각 고유 라벨의 개수 세기\n",
        "label_counts = augmented_df['KDC_NM'].value_counts()\n",
        "\n",
        "# 평균, 최대, 최소, 중간값 구하기\n",
        "mean_count = label_counts.mean()\n",
        "max_count = label_counts.max()\n",
        "min_count = label_counts.min()\n",
        "median_count = label_counts.median()  # 중간값 계산\n",
        "\n",
        "# 결과 출력\n",
        "print(f\"라벨 개수의 평균: {mean_count}\")\n",
        "print(f\"라벨 개수의 최대값: {max_count}\")\n",
        "print(f\"라벨 개수의 최소값: {min_count}\")\n",
        "print(f\"라벨 개수의 중간값: {median_count}\")"
      ]
    },
    {
      "cell_type": "code",
      "execution_count": null,
      "metadata": {
        "colab": {
          "base_uri": "https://localhost:8080/"
        },
        "id": "mh-qO-wO22Vn",
        "outputId": "81a1dc3e-9f42-4a99-817f-354239ffa324"
      },
      "outputs": [
        {
          "data": {
            "text/plain": [
              "655"
            ]
          },
          "execution_count": 48,
          "metadata": {},
          "output_type": "execute_result"
        }
      ],
      "source": [
        "len(combined_df_210['KDC_NM'].unique())"
      ]
    },
    {
      "cell_type": "markdown",
      "metadata": {
        "id": "bBkKli2i7Y9c"
      },
      "source": [
        "### Random Under Sampling"
      ]
    },
    {
      "cell_type": "code",
      "execution_count": null,
      "metadata": {
        "id": "HGlzUh066r4U"
      },
      "outputs": [],
      "source": [
        "from sklearn.utils import resample\n",
        "\n",
        "def random_undersample(data, label_column, target_count):\n",
        "    \"\"\"\n",
        "    지정된 target_count보다 많은 라벨의 데이터를 랜덤하게 줄이는 함수.\n",
        "\n",
        "    Args:\n",
        "        data (pd.DataFrame): 원본 데이터프레임\n",
        "        label_column (str): 라벨 컬럼명\n",
        "        target_count (int): 목표 라벨의 최소 인스턴스 수\n",
        "\n",
        "    Returns:\n",
        "        pd.DataFrame: 랜덤 언더샘플링 후의 데이터프레임\n",
        "    \"\"\"\n",
        "    undersampled_data = []\n",
        "\n",
        "    # 각 라벨별 인스턴스 개수 세기\n",
        "    label_counts = data[label_column].value_counts()\n",
        "\n",
        "    for label, count in label_counts.items():\n",
        "        label_data = data[data[label_column] == label]\n",
        "\n",
        "        # 라벨의 개수가 target_count보다 많을 경우 랜덤하게 줄이기\n",
        "        if count > target_count:\n",
        "            # target_count로 샘플링\n",
        "            label_data = resample(label_data,\n",
        "                                  replace=False,  # 샘플링은 중복 없이\n",
        "                                  n_samples=target_count,  # 지정된 개수만큼\n",
        "                                  random_state=42)\n",
        "\n",
        "        # 언더샘플링된 데이터 저장\n",
        "        undersampled_data.append(label_data)\n",
        "\n",
        "    # 리스트로 저장된 모든 데이터를 하나로 합침\n",
        "    final_data = pd.concat(undersampled_data, ignore_index=True)\n",
        "\n",
        "    return final_data"
      ]
    },
    {
      "cell_type": "code",
      "execution_count": null,
      "metadata": {
        "id": "k31c1erO7nbY"
      },
      "outputs": [],
      "source": [
        "final_df = random_undersample(augmented_df, \"KDC_NM\", 1317)"
      ]
    },
    {
      "cell_type": "code",
      "execution_count": null,
      "metadata": {
        "colab": {
          "base_uri": "https://localhost:8080/"
        },
        "id": "fW4lH7Ms72t8",
        "outputId": "08812831-780d-4c65-d585-9e1997295029"
      },
      "outputs": [
        {
          "data": {
            "text/plain": [
              "(478101, 4)"
            ]
          },
          "execution_count": 51,
          "metadata": {},
          "output_type": "execute_result"
        }
      ],
      "source": [
        "final_df.shape"
      ]
    },
    {
      "cell_type": "code",
      "execution_count": null,
      "metadata": {
        "colab": {
          "base_uri": "https://localhost:8080/",
          "height": 209
        },
        "id": "i0_aEBIOWHmo",
        "outputId": "6aee5254-60d1-4a81-8ff3-64918b306451"
      },
      "outputs": [
        {
          "data": {
            "text/html": [
              "<div>\n",
              "<style scoped>\n",
              "    .dataframe tbody tr th:only-of-type {\n",
              "        vertical-align: middle;\n",
              "    }\n",
              "\n",
              "    .dataframe tbody tr th {\n",
              "        vertical-align: top;\n",
              "    }\n",
              "\n",
              "    .dataframe thead th {\n",
              "        text-align: right;\n",
              "    }\n",
              "</style>\n",
              "<table border=\"1\" class=\"dataframe\">\n",
              "  <thead>\n",
              "    <tr style=\"text-align: right;\">\n",
              "      <th></th>\n",
              "      <th>0</th>\n",
              "    </tr>\n",
              "  </thead>\n",
              "  <tbody>\n",
              "    <tr>\n",
              "      <th>TITLE_NM</th>\n",
              "      <td>0</td>\n",
              "    </tr>\n",
              "    <tr>\n",
              "      <th>ISBN_THIRTEEN_NO</th>\n",
              "      <td>0</td>\n",
              "    </tr>\n",
              "    <tr>\n",
              "      <th>KDC_NM</th>\n",
              "      <td>0</td>\n",
              "    </tr>\n",
              "    <tr>\n",
              "      <th>description</th>\n",
              "      <td>0</td>\n",
              "    </tr>\n",
              "  </tbody>\n",
              "</table>\n",
              "</div><br><label><b>dtype:</b> int64</label>"
            ],
            "text/plain": [
              "TITLE_NM            0\n",
              "ISBN_THIRTEEN_NO    0\n",
              "KDC_NM              0\n",
              "description         0\n",
              "dtype: int64"
            ]
          },
          "execution_count": 52,
          "metadata": {},
          "output_type": "execute_result"
        }
      ],
      "source": [
        "final_df.isna().sum()"
      ]
    },
    {
      "cell_type": "code",
      "execution_count": null,
      "metadata": {
        "id": "J-Ojbz2tXW9n"
      },
      "outputs": [],
      "source": [
        "final_df = final_df.dropna(subset=['description'])"
      ]
    },
    {
      "cell_type": "code",
      "execution_count": null,
      "metadata": {
        "colab": {
          "base_uri": "https://localhost:8080/",
          "height": 607
        },
        "id": "Jv6Zd7r28DQA",
        "outputId": "f5c46d6b-71e6-4aac-a049-c67366e19a72"
      },
      "outputs": [
        {
          "data": {
            "image/png": "[encoded data removed]",
            "text/plain": [
              "<Figure size 1200x600 with 1 Axes>"
            ]
          },
          "metadata": {},
          "output_type": "display_data"
        }
      ],
      "source": [
        "# 각 라벨의 빈도수 계산\n",
        "label_counts = Counter(final_df['KDC_NM'])\n",
        "\n",
        "# 라벨의 빈도수 (x축에 해당)\n",
        "label_frequencies = list(label_counts.values())\n",
        "\n",
        "# 적절한 bin 개수 결정 (빈도수의 분포를 기준으로)\n",
        "n_bins = int(np.sqrt(len(label_frequencies)))  # 빈도수에 대해 제곱근 법칙 적용\n",
        "\n",
        "# 라벨 빈도수로 히스토그램 구간 설정\n",
        "plt.figure(figsize=(12, 6))\n",
        "\n",
        "# 히스토그램 그리기\n",
        "plt.hist(\n",
        "    label_frequencies,  # 라벨 빈도수 사용\n",
        "    bins=n_bins,  # 동적으로 계산된 bin 개수\n",
        "    edgecolor='black',\n",
        "    alpha=0.7\n",
        ")\n",
        "\n",
        "# 그래프 설정\n",
        "plt.title('Label Frequency Distribution')\n",
        "plt.xlabel('Number of Instances per Label (x-axis)')\n",
        "plt.ylabel('Number of Labels (y-axis)')\n",
        "\n",
        "# x축에 라벨 빈도수 표시, y축에는 레이블 개수 표시\n",
        "plt.grid(axis='y', linestyle='--', alpha=0.7)\n",
        "plt.tight_layout()  # 레이아웃 조정\n",
        "plt.show()"
      ]
    },
    {
      "cell_type": "code",
      "execution_count": null,
      "metadata": {
        "colab": {
          "base_uri": "https://localhost:8080/"
        },
        "id": "pfWZHEYJ4Ddb",
        "outputId": "4a6d43df-3eb6-4669-9aec-ca9e4d9b0582"
      },
      "outputs": [
        {
          "name": "stdout",
          "output_type": "stream",
          "text": [
            "라벨 개수의 평균: 729.9251908396947\n",
            "라벨 개수의 최대값: 1317\n",
            "라벨 개수의 최소값: 498\n",
            "라벨 개수의 중간값: 503.0\n"
          ]
        }
      ],
      "source": [
        "# 각 고유 라벨의 개수 세기\n",
        "label_counts = final_df['KDC_NM'].value_counts()\n",
        "\n",
        "# 평균, 최대, 최소, 중간값 구하기\n",
        "mean_count = label_counts.mean()\n",
        "max_count = label_counts.max()\n",
        "min_count = label_counts.min()\n",
        "median_count = label_counts.median()  # 중간값 계산\n",
        "\n",
        "# 결과 출력\n",
        "print(f\"라벨 개수의 평균: {mean_count}\")\n",
        "print(f\"라벨 개수의 최대값: {max_count}\")\n",
        "print(f\"라벨 개수의 최소값: {min_count}\")\n",
        "print(f\"라벨 개수의 중간값: {median_count}\")"
      ]
    },
    {
      "cell_type": "code",
      "execution_count": null,
      "metadata": {
        "colab": {
          "base_uri": "https://localhost:8080/"
        },
        "id": "oF7m7dm895wC",
        "outputId": "4bdf40ed-0565-4a2b-c139-1d34bec267a2"
      },
      "outputs": [
        {
          "data": {
            "text/plain": [
              "655"
            ]
          },
          "execution_count": 56,
          "metadata": {},
          "output_type": "execute_result"
        }
      ],
      "source": [
        "len(final_df['KDC_NM'].unique())"
      ]
    },
    {
      "cell_type": "markdown",
      "metadata": {
        "id": "6F__cBzWc4tb"
      },
      "source": [
        "## (3) 토큰 수 managing"
      ]
    },
    {
      "cell_type": "code",
      "execution_count": null,
      "metadata": {
        "colab": {
          "base_uri": "https://localhost:8080/"
        },
        "id": "kdIWiFEOiPDx",
        "outputId": "f55b4201-1220-49b0-baf8-1596677a5c76"
      },
      "outputs": [
        {
          "name": "stdout",
          "output_type": "stream",
          "text": [
            "Requirement already satisfied: sentencepiece in /usr/local/lib/python3.11/dist-packages (0.2.0)\n",
            "Requirement already satisfied: transformers in /usr/local/lib/python3.11/dist-packages (4.48.2)\n",
            "Requirement already satisfied: filelock in /usr/local/lib/python3.11/dist-packages (from transformers) (3.17.0)\n",
            "Requirement already satisfied: huggingface-hub<1.0,>=0.24.0 in /usr/local/lib/python3.11/dist-packages (from transformers) (0.28.1)\n",
            "Requirement already satisfied: numpy>=1.17 in /usr/local/lib/python3.11/dist-packages (from transformers) (1.26.4)\n",
            "Requirement already satisfied: packaging>=20.0 in /usr/local/lib/python3.11/dist-packages (from transformers) (24.2)\n",
            "Requirement already satisfied: pyyaml>=5.1 in /usr/local/lib/python3.11/dist-packages (from transformers) (6.0.2)\n",
            "Requirement already satisfied: regex!=2019.12.17 in /usr/local/lib/python3.11/dist-packages (from transformers) (2024.11.6)\n",
            "Requirement already satisfied: requests in /usr/local/lib/python3.11/dist-packages (from transformers) (2.32.3)\n",
            "Requirement already satisfied: tokenizers<0.22,>=0.21 in /usr/local/lib/python3.11/dist-packages (from transformers) (0.21.0)\n",
            "Requirement already satisfied: safetensors>=0.4.1 in /usr/local/lib/python3.11/dist-packages (from transformers) (0.5.2)\n",
            "Requirement already satisfied: tqdm>=4.27 in /usr/local/lib/python3.11/dist-packages (from transformers) (4.67.1)\n",
            "Requirement already satisfied: fsspec>=2023.5.0 in /usr/local/lib/python3.11/dist-packages (from huggingface-hub<1.0,>=0.24.0->transformers) (2024.10.0)\n",
            "Requirement already satisfied: typing-extensions>=3.7.4.3 in /usr/local/lib/python3.11/dist-packages (from huggingface-hub<1.0,>=0.24.0->transformers) (4.12.2)\n",
            "Requirement already satisfied: charset-normalizer<4,>=2 in /usr/local/lib/python3.11/dist-packages (from requests->transformers) (3.4.1)\n",
            "Requirement already satisfied: idna<4,>=2.5 in /usr/local/lib/python3.11/dist-packages (from requests->transformers) (3.10)\n",
            "Requirement already satisfied: urllib3<3,>=1.21.1 in /usr/local/lib/python3.11/dist-packages (from requests->transformers) (2.3.0)\n",
            "Requirement already satisfied: certifi>=2017.4.17 in /usr/local/lib/python3.11/dist-packages (from requests->transformers) (2025.1.31)\n",
            "Requirement already satisfied: torch in /usr/local/lib/python3.11/dist-packages (2.5.1+cu124)\n",
            "Requirement already satisfied: filelock in /usr/local/lib/python3.11/dist-packages (from torch) (3.17.0)\n",
            "Requirement already satisfied: typing-extensions>=4.8.0 in /usr/local/lib/python3.11/dist-packages (from torch) (4.12.2)\n",
            "Requirement already satisfied: networkx in /usr/local/lib/python3.11/dist-packages (from torch) (3.4.2)\n",
            "Requirement already satisfied: jinja2 in /usr/local/lib/python3.11/dist-packages (from torch) (3.1.5)\n",
            "Requirement already satisfied: fsspec in /usr/local/lib/python3.11/dist-packages (from torch) (2024.10.0)\n",
            "Requirement already satisfied: nvidia-cuda-nvrtc-cu12==12.4.127 in /usr/local/lib/python3.11/dist-packages (from torch) (12.4.127)\n",
            "Requirement already satisfied: nvidia-cuda-runtime-cu12==12.4.127 in /usr/local/lib/python3.11/dist-packages (from torch) (12.4.127)\n",
            "Requirement already satisfied: nvidia-cuda-cupti-cu12==12.4.127 in /usr/local/lib/python3.11/dist-packages (from torch) (12.4.127)\n",
            "Requirement already satisfied: nvidia-cudnn-cu12==9.1.0.70 in /usr/local/lib/python3.11/dist-packages (from torch) (9.1.0.70)\n",
            "Requirement already satisfied: nvidia-cublas-cu12==12.4.5.8 in /usr/local/lib/python3.11/dist-packages (from torch) (12.4.5.8)\n",
            "Requirement already satisfied: nvidia-cufft-cu12==11.2.1.3 in /usr/local/lib/python3.11/dist-packages (from torch) (11.2.1.3)\n",
            "Requirement already satisfied: nvidia-curand-cu12==10.3.5.147 in /usr/local/lib/python3.11/dist-packages (from torch) (10.3.5.147)\n",
            "Requirement already satisfied: nvidia-cusolver-cu12==11.6.1.9 in /usr/local/lib/python3.11/dist-packages (from torch) (11.6.1.9)\n",
            "Requirement already satisfied: nvidia-cusparse-cu12==12.3.1.170 in /usr/local/lib/python3.11/dist-packages (from torch) (12.3.1.170)\n",
            "Requirement already satisfied: nvidia-nccl-cu12==2.21.5 in /usr/local/lib/python3.11/dist-packages (from torch) (2.21.5)\n",
            "Requirement already satisfied: nvidia-nvtx-cu12==12.4.127 in /usr/local/lib/python3.11/dist-packages (from torch) (12.4.127)\n",
            "Requirement already satisfied: nvidia-nvjitlink-cu12==12.4.127 in /usr/local/lib/python3.11/dist-packages (from torch) (12.4.127)\n",
            "Requirement already satisfied: triton==3.1.0 in /usr/local/lib/python3.11/dist-packages (from torch) (3.1.0)\n",
            "Requirement already satisfied: sympy==1.13.1 in /usr/local/lib/python3.11/dist-packages (from torch) (1.13.1)\n",
            "Requirement already satisfied: mpmath<1.4,>=1.1.0 in /usr/local/lib/python3.11/dist-packages (from sympy==1.13.1->torch) (1.3.0)\n",
            "Requirement already satisfied: MarkupSafe>=2.0 in /usr/local/lib/python3.11/dist-packages (from jinja2->torch) (3.0.2)\n",
            "Collecting kobert_tokenizer\n",
            "  Cloning https://github.com/SKTBrain/KoBERT.git to /tmp/pip-install-6motycm_/kobert-tokenizer_2b83250d787d4238a2065ec6b8abfd54\n",
            "  Running command git clone --filter=blob:none --quiet https://github.com/SKTBrain/KoBERT.git /tmp/pip-install-6motycm_/kobert-tokenizer_2b83250d787d4238a2065ec6b8abfd54\n",
            "  Resolved https://github.com/SKTBrain/KoBERT.git to commit 5c46b1c68e4755b54879431bd302db621f4d2f47\n",
            "  Preparing metadata (setup.py) ... \u001b[?25l\u001b[?25hdone\n",
            "Building wheels for collected packages: kobert_tokenizer\n",
            "  Building wheel for kobert_tokenizer (setup.py) ... \u001b[?25l\u001b[?25hdone\n",
            "  Created wheel for kobert_tokenizer: filename=kobert_tokenizer-0.1-py3-none-any.whl size=4633 sha256=3a59ae38b229271f261f851828c818e45dd769b9903fe12315981ad84afe602d\n",
            "  Stored in directory: /tmp/pip-ephem-wheel-cache-k6m9wflu/wheels/b7/95/7c/3f38b039ae9422cc4a51702b37e352d0585442cbe60285f1f2\n",
            "Successfully built kobert_tokenizer\n",
            "Installing collected packages: kobert_tokenizer\n",
            "Successfully installed kobert_tokenizer-0.1\n"
          ]
        }
      ],
      "source": [
        "!pip install sentencepiece\n",
        "!pip install transformers\n",
        "!pip install torch\n",
        "!pip install 'git+https://github.com/SKTBrain/KoBERT.git#egg=kobert_tokenizer&subdirectory=kobert_hf'"
      ]
    },
    {
      "cell_type": "code",
      "execution_count": null,
      "metadata": {
        "colab": {
          "background_save": true,
          "base_uri": "https://localhost:8080/",
          "height": 297,
          "referenced_widgets": [
            "fff15ecdd22a4f6ea86574e001e3f005",
            "dc158856590f474d8b9bf88fa8174fd2",
            "32c911610c4a46a0b6a9b1018bf2ecd4",
            "d78866c562424da09db6fc02399f8896",
            "d63406735b924bbea64a121507a3117e",
            "c2fd85f3c5af4c9e82761a985dd3e016",
            "e23132d842f9437dbecc862e91e4b62a",
            "e1d6810d1f9c46c5939400ca2bdc61b6",
            "ffcc667d1c3b408ebe685599728d9069",
            "acdd5713e7674132963520abf9791ec2",
            "008da5b447bc433a97945931176974a3",
            "60d0b80de6f04f58af79c4c23a35f389",
            "e8e7bebfec794ff2baf7d9faf456b05f",
            "1cbed476ca354df3a1440868db73baaa",
            "ba57f66edec543c7b599690ab4e6f3d9",
            "3e486998cd65447e9173fdf3afb34359",
            "efa9c029b0794e839fae948b89a6e0c1",
            "848765e1d9aa43c2abfb9719d36a123f",
            "3d6ae9e99db14485a84b73f40ba107c2",
            "775fb68f923448968b94dccfdb61754b",
            "6eeafa59c8004b52b9bf2c9f3a44c125",
            "43fb0456ea644f9998670eb67c86f51a",
            "d42da761e73b4aeab405fb5fbd78374c",
            "5f648c37a4f143d1ac1699760e6eca44",
            "cd22847395014163b6a0c6cbbca78782",
            "a4d56ea307944093b00ec4eaa0e882e1",
            "eca22506c6e6488d8437b297bc838c0c",
            "6c560a6a2c4b4a7e87aa9a4d4e402037",
            "3f71e78f41b64a23bd44bf9aee675704",
            "50ca50547faf4311873303ffa0c423f6",
            "487bd16782294d8daccd7f68f7e207ae",
            "c20ce99aa51d4b08bbf2af545f270c22",
            "bb3c7023815d4e5d9712322a19ddb301"
          ]
        },
        "id": "gZXdcT2VdCnO",
        "outputId": "4f76add2-91ac-402e-c391-def52053c572"
      },
      "outputs": [
        {
          "name": "stderr",
          "output_type": "stream",
          "text": [
            "/usr/local/lib/python3.11/dist-packages/huggingface_hub/utils/_auth.py:94: UserWarning: \n",
            "The secret `HF_TOKEN` does not exist in your Colab secrets.\n",
            "To authenticate with the Hugging Face Hub, create a token in your settings tab (https://huggingface.co/settings/tokens), set it as secret in your Google Colab and restart your session.\n",
            "You will be able to reuse this secret in all of your notebooks.\n",
            "Please note that authentication is recommended but still optional to access public models or datasets.\n",
            "  warnings.warn(\n"
          ]
        },
        {
          "data": {
            "application/vnd.jupyter.widget-view+json": {
              "model_id": "fff15ecdd22a4f6ea86574e001e3f005",
              "version_major": 2,
              "version_minor": 0
            },
            "text/plain": [
              "tokenizer_config.json:   0%|          | 0.00/432 [00:00<?, ?B/s]"
            ]
          },
          "metadata": {},
          "output_type": "display_data"
        },
        {
          "data": {
            "application/vnd.jupyter.widget-view+json": {
              "model_id": "60d0b80de6f04f58af79c4c23a35f389",
              "version_major": 2,
              "version_minor": 0
            },
            "text/plain": [
              "spiece.model:   0%|          | 0.00/371k [00:00<?, ?B/s]"
            ]
          },
          "metadata": {},
          "output_type": "display_data"
        },
        {
          "data": {
            "application/vnd.jupyter.widget-view+json": {
              "model_id": "d42da761e73b4aeab405fb5fbd78374c",
              "version_major": 2,
              "version_minor": 0
            },
            "text/plain": [
              "special_tokens_map.json:   0%|          | 0.00/244 [00:00<?, ?B/s]"
            ]
          },
          "metadata": {},
          "output_type": "display_data"
        },
        {
          "name": "stderr",
          "output_type": "stream",
          "text": [
            "The tokenizer class you load from this checkpoint is not the same type as the class this function is called from. It may result in unexpected tokenization. \n",
            "The tokenizer class you load from this checkpoint is 'XLNetTokenizer'. \n",
            "The class this function is called from is 'KoBERTTokenizer'.\n"
          ]
        },
        {
          "name": "stdout",
          "output_type": "stream",
          "text": [
            "평균 토큰 수: 90.60166366520882\n",
            "최대 토큰 수: 11873\n",
            "최소 토큰 수: 1\n"
          ]
        },
        {
          "data": {
            "image/png": "[encoded data removed]",
            "text/plain": [
              "<Figure size 640x480 with 1 Axes>"
            ]
          },
          "metadata": {},
          "output_type": "display_data"
        }
      ],
      "source": [
        "import matplotlib.pyplot as plt\n",
        "from kobert_tokenizer import KoBERTTokenizer\n",
        "from transformers import BertTokenizer\n",
        "\n",
        "# KoBERT 토크나이저 로드\n",
        "tokenizer = KoBERTTokenizer.from_pretrained('skt/kobert-base-v1')\n",
        "\n",
        "# 텍스트 데이터를 토큰화하고 각 텍스트의 토큰 수를 계산\n",
        "token_lengths = final_df[\"description\"].astype(str).apply(lambda x: len(tokenizer.tokenize(x)))\n",
        "\n",
        "# 평균, 최대, 최소값 계산\n",
        "average_length = token_lengths.mean()\n",
        "max_length = token_lengths.max()\n",
        "min_length = token_lengths.min()\n",
        "\n",
        "print(f\"평균 토큰 수: {average_length}\")\n",
        "print(f\"최대 토큰 수: {max_length}\")\n",
        "print(f\"최소 토큰 수: {min_length}\")\n",
        "\n",
        "# 히스토그램 시각화\n",
        "plt.hist(token_lengths, bins=[0, 10, 20, 30, 40, 50, 60, 70, 80, 90, 100], color='skyblue', edgecolor='black')\n",
        "plt.xlim(left=0,right=80)  # xlim(right=값)으로 최대값을 설정\n",
        "plt.title(\"Token Length Distribution\")\n",
        "plt.xlabel(\"Token Length\")\n",
        "plt.ylabel(\"Frequency\")\n",
        "plt.grid(axis=\"y\", alpha=0.75)\n",
        "plt.show()"
      ]
    },
    {
      "cell_type": "code",
      "execution_count": null,
      "metadata": {
        "colab": {
          "base_uri": "https://localhost:8080/"
        },
        "id": "nqPvJkoJjKSX",
        "outputId": "48cff33a-102c-4834-bcae-53b1e40fe88a"
      },
      "outputs": [
        {
          "name": "stdout",
          "output_type": "stream",
          "text": [
            "90% 백분위수: 117.0\n",
            "95% 백분위수: 201.0\n"
          ]
        }
      ],
      "source": [
        "# 90%, 95% 백분위수 계산\n",
        "percentile_90 = np.percentile(token_lengths, 90)\n",
        "percentile_95 = np.percentile(token_lengths, 95)\n",
        "\n",
        "print(f\"90% 백분위수: {percentile_90}\")\n",
        "print(f\"95% 백분위수: {percentile_95}\")"
      ]
    },
    {
      "cell_type": "code",
      "execution_count": null,
      "metadata": {
        "colab": {
          "base_uri": "https://localhost:8080/"
        },
        "id": "uOdGb-Ywkw3J",
        "outputId": "620e3e7f-b056-4fcd-d3f9-27ec262ae57e"
      },
      "outputs": [
        {
          "name": "stdout",
          "output_type": "stream",
          "text": [
            "토큰 개수가 187개 이상인 행의 개수: 27544\n"
          ]
        }
      ],
      "source": [
        "count_over_187 = (token_lengths >= 187).sum()\n",
        "print(f\"토큰 개수가 187개 이상인 행의 개수: {count_over_187}\")"
      ]
    },
    {
      "cell_type": "code",
      "execution_count": null,
      "metadata": {
        "colab": {
          "base_uri": "https://localhost:8080/"
        },
        "id": "zumJnfnIEpua",
        "outputId": "6bb4e468-b7ce-4432-ab0b-ad3a59094623"
      },
      "outputs": [
        {
          "name": "stderr",
          "output_type": "stream",
          "text": [
            "The tokenizer class you load from this checkpoint is not the same type as the class this function is called from. It may result in unexpected tokenization. \n",
            "The tokenizer class you load from this checkpoint is 'XLNetTokenizer'. \n",
            "The class this function is called from is 'KoBERTTokenizer'.\n"
          ]
        }
      ],
      "source": [
        "import pandas as pd\n",
        "from sklearn.feature_extraction.text import TfidfVectorizer\n",
        "import numpy as np\n",
        "from kobert_tokenizer import KoBERTTokenizer\n",
        "from transformers import BertTokenizer\n",
        "from nltk.tokenize import sent_tokenize  # 문장 분리를 위해 NLTK 사용\n",
        "\n",
        "# KoBERT Tokenizer\n",
        "tokenizer = KoBERTTokenizer.from_pretrained('skt/kobert-base-v1')\n",
        "\n",
        "# 한국어 불용어 목록\n",
        "stopwords = [\n",
        "    '이', '그', '저', '것', '수', '등', '들', '이다', '가', '이', '그렇다', '의', '에', '에서', '를', '으로',\n",
        "    '고', '한', '과', '도', '만', '보다', '다', '좀', '자'\n",
        "]\n",
        "\n",
        "def summarize_by_tfidf(df, column_name, token_limit, top_n=3):\n",
        "    # 토큰 수 계산 함수\n",
        "    def token_count(text):\n",
        "        return len(tokenizer.tokenize(text))\n",
        "\n",
        "    # 새로운 열에 토큰 수 추가\n",
        "    df['token_count'] = df[column_name].apply(token_count)\n",
        "\n",
        "    # 토큰 수가 일정 이상인 데이터만 추출\n",
        "    df_to_summarize = df[df['token_count'] >= token_limit]\n",
        "\n",
        "    # 문장 단위 TF-IDF 요약 함수\n",
        "    def summarize_tfidf_sentences(text, ngram_range=(1, 1), top_n=3):\n",
        "        # 텍스트를 문장 단위로 분리\n",
        "        sentences = sent_tokenize(text)\n",
        "\n",
        "        if len(sentences) <= top_n:\n",
        "            return text  # 문장이 적으면 전체 반환\n",
        "\n",
        "        # TF-IDF 벡터라이저 생성\n",
        "        vectorizer = TfidfVectorizer(stop_words=stopwords, ngram_range=ngram_range)\n",
        "        tfidf_matrix = vectorizer.fit_transform(sentences)\n",
        "\n",
        "        # TF-IDF 점수를 합산하여 중요한 문장을 찾음\n",
        "        scores = np.array(tfidf_matrix.sum(axis=1)).flatten()\n",
        "\n",
        "        # 상위 N개의 점수를 가진 문장 선택\n",
        "        top_indices = scores.argsort()[-top_n:][::-1]  # 중요도 높은 인덱스 정렬\n",
        "\n",
        "        # 인덱스를 정수 리스트로 변환\n",
        "        top_indices = top_indices.tolist()\n",
        "\n",
        "        # 중요한 문장만 반환\n",
        "        important_sentences = [sentences[i] for i in top_indices]\n",
        "        return ' '.join(important_sentences)\n",
        "\n",
        "    # 각 텍스트에 대해 TF-IDF로 중요한 문장 추출\n",
        "    df_to_summarize[column_name] = df_to_summarize[column_name].apply(\n",
        "        lambda text: summarize_tfidf_sentences(text, top_n=top_n)\n",
        "    )\n",
        "\n",
        "    # 원본 데이터프레임에 요약된 텍스트 대체\n",
        "    df.update(df_to_summarize)\n",
        "\n",
        "    # 불필요한 열 제거\n",
        "    df.drop(columns=['token_count'], inplace=True)\n",
        "\n",
        "    return df"
      ]
    },
    {
      "cell_type": "code",
      "execution_count": null,
      "metadata": {
        "colab": {
          "base_uri": "https://localhost:8080/"
        },
        "id": "QnYQT6pLNKRt",
        "outputId": "dce7135e-a51d-4eb8-9da2-2c2387b6faea"
      },
      "outputs": [
        {
          "name": "stdout",
          "output_type": "stream",
          "text": [
            "Collecting sumy\n",
            "  Downloading sumy-0.11.0-py2.py3-none-any.whl.metadata (7.5 kB)\n",
            "Collecting docopt<0.7,>=0.6.1 (from sumy)\n",
            "  Downloading docopt-0.6.2.tar.gz (25 kB)\n",
            "  Preparing metadata (setup.py) ... \u001b[?25l\u001b[?25hdone\n",
            "Collecting breadability>=0.1.20 (from sumy)\n",
            "  Downloading breadability-0.1.20.tar.gz (32 kB)\n",
            "  Preparing metadata (setup.py) ... \u001b[?25l\u001b[?25hdone\n",
            "Requirement already satisfied: requests>=2.7.0 in /usr/local/lib/python3.11/dist-packages (from sumy) (2.32.3)\n",
            "Collecting pycountry>=18.2.23 (from sumy)\n",
            "  Downloading pycountry-24.6.1-py3-none-any.whl.metadata (12 kB)\n",
            "Requirement already satisfied: nltk>=3.0.2 in /usr/local/lib/python3.11/dist-packages (from sumy) (3.9.1)\n",
            "Requirement already satisfied: chardet in /usr/local/lib/python3.11/dist-packages (from breadability>=0.1.20->sumy) (5.2.0)\n",
            "Requirement already satisfied: lxml>=2.0 in /usr/local/lib/python3.11/dist-packages (from breadability>=0.1.20->sumy) (5.3.0)\n",
            "Requirement already satisfied: click in /usr/local/lib/python3.11/dist-packages (from nltk>=3.0.2->sumy) (8.1.8)\n",
            "Requirement already satisfied: joblib in /usr/local/lib/python3.11/dist-packages (from nltk>=3.0.2->sumy) (1.4.2)\n",
            "Requirement already satisfied: regex>=2021.8.3 in /usr/local/lib/python3.11/dist-packages (from nltk>=3.0.2->sumy) (2024.11.6)\n",
            "Requirement already satisfied: tqdm in /usr/local/lib/python3.11/dist-packages (from nltk>=3.0.2->sumy) (4.67.1)\n",
            "Requirement already satisfied: charset-normalizer<4,>=2 in /usr/local/lib/python3.11/dist-packages (from requests>=2.7.0->sumy) (3.4.1)\n",
            "Requirement already satisfied: idna<4,>=2.5 in /usr/local/lib/python3.11/dist-packages (from requests>=2.7.0->sumy) (3.10)\n",
            "Requirement already satisfied: urllib3<3,>=1.21.1 in /usr/local/lib/python3.11/dist-packages (from requests>=2.7.0->sumy) (2.3.0)\n",
            "Requirement already satisfied: certifi>=2017.4.17 in /usr/local/lib/python3.11/dist-packages (from requests>=2.7.0->sumy) (2025.1.31)\n",
            "Downloading sumy-0.11.0-py2.py3-none-any.whl (97 kB)\n",
            "\u001b[2K   \u001b[90m━━━━━━━━━━━━━━━━━━━━━━━━━━━━━━━━━━━━━━━━\u001b[0m \u001b[32m97.3/97.3 kB\u001b[0m \u001b[31m6.4 MB/s\u001b[0m eta \u001b[36m0:00:00\u001b[0m\n",
            "\u001b[?25hDownloading pycountry-24.6.1-py3-none-any.whl (6.3 MB)\n",
            "\u001b[2K   \u001b[90m━━━━━━━━━━━━━━━━━━━━━━━━━━━━━━━━━━━━━━━━\u001b[0m \u001b[32m6.3/6.3 MB\u001b[0m \u001b[31m90.4 MB/s\u001b[0m eta \u001b[36m0:00:00\u001b[0m\n",
            "\u001b[?25hBuilding wheels for collected packages: breadability, docopt\n",
            "  Building wheel for breadability (setup.py) ... \u001b[?25l\u001b[?25hdone\n",
            "  Created wheel for breadability: filename=breadability-0.1.20-py2.py3-none-any.whl size=21691 sha256=f5ca8f352ef5deca506e9ebd832a4f27bcdd628e5547a022928d8159ff507699\n",
            "  Stored in directory: /root/.cache/pip/wheels/4d/57/58/7e3d7fedf51fe248b7fcee3df6945ae28638e22cddf01eb92b\n",
            "  Building wheel for docopt (setup.py) ... \u001b[?25l\u001b[?25hdone\n",
            "  Created wheel for docopt: filename=docopt-0.6.2-py2.py3-none-any.whl size=13706 sha256=b74e14ebf2c258e5b6923601c2a8216b1b09725a3b3c3fa5a387756c09f1c27a\n",
            "  Stored in directory: /root/.cache/pip/wheels/1a/b0/8c/4b75c4116c31f83c8f9f047231251e13cc74481cca4a78a9ce\n",
            "Successfully built breadability docopt\n",
            "Installing collected packages: docopt, pycountry, breadability, sumy\n",
            "Successfully installed breadability-0.1.20 docopt-0.6.2 pycountry-24.6.1 sumy-0.11.0\n"
          ]
        }
      ],
      "source": [
        "!pip install sumy"
      ]
    },
    {
      "cell_type": "code",
      "execution_count": null,
      "metadata": {
        "colab": {
          "base_uri": "https://localhost:8080/"
        },
        "id": "54M3FQoZHQmv",
        "outputId": "4bfe1097-9f86-4e0b-cf2c-98649908baa5"
      },
      "outputs": [
        {
          "name": "stdout",
          "output_type": "stream",
          "text": [
            "                                                text\n",
            "0  정홍 작가의 후속작인 아빠를 위한 동화와 '아기에게 읽어주는 짧은 태교 동화'가 함...\n",
            "1  33만 구독자가 신뢰하는 '미주은'의 미국 주식 투자 교과서에는 왜 미국 주식이어야...\n",
            "2                       KoBERT는 한국어에 특화된 BERT 모델입니다.\n",
            "3                                             짧은 문장.\n"
          ]
        }
      ],
      "source": [
        "# 예시 데이터프레임\n",
        "data = {\n",
        "    'text': [\n",
        "        '<하루 5분 엄마 목소리〉로 태교 동화에 새로운 방향을 제시한 정홍 작가의 후속작 〈하루 5분 아빠 목소리〉가 출간된다. 전편이 엄마를 위한 책이었다면, 이번은 아빠를 위한 창작 동화 10편으로 구성되어 있다. 많은 독자들로부터 사랑 받은 〈하루 5분 엄마 목소리〉와 같은 구성으로, ‘아빠를 위한 동화’와 ‘아기에게 읽어주는 짧은 태교 동화’가 함께 수록되어 있다. 그리고 동화를 읽고 난 후 아빠의 생각을 정리해 아이에게 전달해주는 ‘아빠의 생각보따리’로 덧붙여 있다. 특히 전편에서 동화를 통해 아기에게 사랑을 듬뿍 전해줄 수 있었다면, 이번 아빠의 태교 동화는 삶을 살아갈 때 힘이 되어줄 지혜를 키우는 이야기들로 구성되어 있다.',\n",
        "        '사면 오르는 미국 주식, 이제 당신도 찾을 수 있습니다. 33만 구독자가 신뢰하는 ‘미주은’의 미국 주식 투자 교과서 주가가 오르면 따라가고, 떨어지면 불안해하며 팔아버리는 악순환. 수익이 났다가도 금세 사라지고, 종목을 고를 때마다 불안과 초조함이 앞서는 경험은 누구에게나 낯설지 않다. 『미국 주식 투자의 정석』은 바로 이런 고민에 빠진 개인 투자자들을 위해 탄생한 책이다. 저자 미주은은 지난 5년간 매일 10시간 이상을 주식과 씨름하며 실전 경험과 방대한 지식을 쌓아왔다. 그는 ‘투자에서 실패하는 가장 큰 이유는 명확한 투자 기준이 없기 때문’이라고 강조한다. 감정에 휘둘리는 투자에서 벗어나 논리적이고 체계적인 기준을 세워야만, 시장의 오르내림에 흔들리지 않고 꾸준히 성공적인 투자를 이어갈 수 있다. 이 책은 왜 미국 주식이어야 하는지부터 시작해, 실패를 줄이고 성공 확률을 높이는 방법, 그리고 데이터에 기반한 확실한 투자 전략까지를 총망라했다. 특히, 매크로 경제와 시장 심리 분석, 종목 선정 기준, 차트를 활용한 실전 투자법까지 아우르며 개인 투자자에게 실질적인 도움을 제공한다. 어떤 종목을 사야 할지, 언제 사고팔아야 할지 몰라 막막했던 개인 투자자들에게 『미국 주식 투자의 정석』은 명확한 투자 방향을 제시한다. 초보 투자자는 물론, 기존 투자에서 실패를 경험했거나 재도약하려는 중급 투자자까지 폭넓게 적용할 수 있다. 이 책이 특별한 이유 왜 미국 주식이어야 하는가: 글로벌 시장에서 미국 주식이 주는 기회 실패를 줄이는 투자 원칙: 흔히 빠지는 함정을 극복하는 법 종목 선택의 비밀: 미래를 이끄는 최고의 성장주 찾는 법 경제 흐름 읽기: 연준의 금리와 경제 지표 활용법 성공적인 투자 심리 관리: FOMO(놓칠 것 같은 두려움) 극복과 논리적 사고의 중요성 이제 더 이상 주가의 오르내림에 흔들릴 필요 없다. 『미국 주식 투자의 정석』과 함께라면 반복되는 투자 실패와 불안은 사라지고, 그 자리를 확신과 자신감이 채울 것이다. 명확한 투자 전략으로 흔들리지 않는 당신만의 포트폴리오를 설계해 보자.',\n",
        "        'KoBERT는 한국어에 특화된 BERT 모델입니다.',\n",
        "        '짧은 문장.'\n",
        "    ]\n",
        "}\n",
        "\n",
        "df = pd.DataFrame(data)\n",
        "\n",
        "# TF-IDF 요약 수행\n",
        "summarized_df = summarize_with_kobart(df, 'text', 10, 50, 50)\n",
        "\n",
        "# 결과 출력\n",
        "print(summarized_df)"
      ]
    },
    {
      "cell_type": "code",
      "execution_count": null,
      "metadata": {
        "colab": {
          "base_uri": "https://localhost:8080/"
        },
        "id": "VE0ptrNl8P14",
        "outputId": "a69b8906-293e-4002-bfa3-46a6dc5f6932"
      },
      "outputs": [
        {
          "name": "stderr",
          "output_type": "stream",
          "text": [
            "<ipython-input-64-b7c10c7ff5ad>:54: SettingWithCopyWarning: \n",
            "A value is trying to be set on a copy of a slice from a DataFrame.\n",
            "Try using .loc[row_indexer,col_indexer] = value instead\n",
            "\n",
            "See the caveats in the documentation: https://pandas.pydata.org/pandas-docs/stable/user_guide/indexing.html#returning-a-view-versus-a-copy\n",
            "  df_to_summarize[column_name] = df_to_summarize[column_name].apply(\n"
          ]
        }
      ],
      "source": [
        "final_df = summarize_by_tfidf(final_df, 'description', 201)"
      ]
    },
    {
      "cell_type": "markdown",
      "metadata": {
        "id": "3uI4Shc0FItO"
      },
      "source": [
        "# KoBERT Model"
      ]
    },
    {
      "cell_type": "code",
      "execution_count": null,
      "metadata": {
        "colab": {
          "base_uri": "https://localhost:8080/"
        },
        "id": "FVhaY3DGfs3y",
        "outputId": "0203bd22-4947-4a60-e1ed-e2f97f4ca62a"
      },
      "outputs": [
        {
          "name": "stdout",
          "output_type": "stream",
          "text": [
            "Collecting mxnet\n",
            "  Downloading mxnet-1.9.1-py3-none-manylinux2014_x86_64.whl.metadata (3.4 kB)\n",
            "Requirement already satisfied: numpy<2.0.0,>1.16.0 in /usr/local/lib/python3.11/dist-packages (from mxnet) (1.26.4)\n",
            "Requirement already satisfied: requests<3,>=2.20.0 in /usr/local/lib/python3.11/dist-packages (from mxnet) (2.32.3)\n",
            "Collecting graphviz<0.9.0,>=0.8.1 (from mxnet)\n",
            "  Downloading graphviz-0.8.4-py2.py3-none-any.whl.metadata (6.4 kB)\n",
            "Requirement already satisfied: charset-normalizer<4,>=2 in /usr/local/lib/python3.11/dist-packages (from requests<3,>=2.20.0->mxnet) (3.4.1)\n",
            "Requirement already satisfied: idna<4,>=2.5 in /usr/local/lib/python3.11/dist-packages (from requests<3,>=2.20.0->mxnet) (3.10)\n",
            "Requirement already satisfied: urllib3<3,>=1.21.1 in /usr/local/lib/python3.11/dist-packages (from requests<3,>=2.20.0->mxnet) (2.3.0)\n",
            "Requirement already satisfied: certifi>=2017.4.17 in /usr/local/lib/python3.11/dist-packages (from requests<3,>=2.20.0->mxnet) (2025.1.31)\n",
            "Downloading mxnet-1.9.1-py3-none-manylinux2014_x86_64.whl (49.1 MB)\n",
            "\u001b[2K   \u001b[90m━━━━━━━━━━━━━━━━━━━━━━━━━━━━━━━━━━━━━━━━\u001b[0m \u001b[32m49.1/49.1 MB\u001b[0m \u001b[31m47.3 MB/s\u001b[0m eta \u001b[36m0:00:00\u001b[0m\n",
            "\u001b[?25hDownloading graphviz-0.8.4-py2.py3-none-any.whl (16 kB)\n",
            "Installing collected packages: graphviz, mxnet\n",
            "  Attempting uninstall: graphviz\n",
            "    Found existing installation: graphviz 0.20.3\n",
            "    Uninstalling graphviz-0.20.3:\n",
            "      Successfully uninstalled graphviz-0.20.3\n",
            "Successfully installed graphviz-0.8.4 mxnet-1.9.1\n",
            "Collecting gluonnlp\n",
            "  Downloading gluonnlp-0.10.0.tar.gz (344 kB)\n",
            "\u001b[2K     \u001b[90m━━━━━━━━━━━━━━━━━━━━━━━━━━━━━━━━━━━━━━━━\u001b[0m \u001b[32m344.5/344.5 kB\u001b[0m \u001b[31m11.6 MB/s\u001b[0m eta \u001b[36m0:00:00\u001b[0m\n",
            "\u001b[?25h  Preparing metadata (setup.py) ... \u001b[?25l\u001b[?25hdone\n",
            "Requirement already satisfied: pandas in /usr/local/lib/python3.11/dist-packages (2.2.2)\n",
            "Requirement already satisfied: tqdm in /usr/local/lib/python3.11/dist-packages (4.67.1)\n",
            "Requirement already satisfied: numpy>=1.16.0 in /usr/local/lib/python3.11/dist-packages (from gluonnlp) (1.26.4)\n",
            "Requirement already satisfied: cython in /usr/local/lib/python3.11/dist-packages (from gluonnlp) (3.0.11)\n",
            "Requirement already satisfied: packaging in /usr/local/lib/python3.11/dist-packages (from gluonnlp) (24.2)\n",
            "Requirement already satisfied: python-dateutil>=2.8.2 in /usr/local/lib/python3.11/dist-packages (from pandas) (2.8.2)\n",
            "Requirement already satisfied: pytz>=2020.1 in /usr/local/lib/python3.11/dist-packages (from pandas) (2025.1)\n",
            "Requirement already satisfied: tzdata>=2022.7 in /usr/local/lib/python3.11/dist-packages (from pandas) (2025.1)\n",
            "Requirement already satisfied: six>=1.5 in /usr/local/lib/python3.11/dist-packages (from python-dateutil>=2.8.2->pandas) (1.17.0)\n",
            "Building wheels for collected packages: gluonnlp\n",
            "  Building wheel for gluonnlp (setup.py) ... \u001b[?25l\u001b[?25hdone\n",
            "  Created wheel for gluonnlp: filename=gluonnlp-0.10.0-cp311-cp311-linux_x86_64.whl size=679480 sha256=cf0bc2c9cc6a987b187ee2edc53a046f7083344c6894cffb9089f9f02ca6a420\n",
            "  Stored in directory: /root/.cache/pip/wheels/29/64/e3/047328bfc4a551696adc4a82dba3c980a1dad62198b8a3bb83\n",
            "Successfully built gluonnlp\n",
            "Installing collected packages: gluonnlp\n",
            "Successfully installed gluonnlp-0.10.0\n"
          ]
        }
      ],
      "source": [
        "!pip install mxnet\n",
        "!pip install gluonnlp pandas tqdm"
      ]
    },
    {
      "cell_type": "code",
      "execution_count": null,
      "metadata": {
        "colab": {
          "base_uri": "https://localhost:8080/",
          "height": 480
        },
        "collapsed": true,
        "id": "UaK5J-C_8yBI",
        "outputId": "9ab73065-0b09-4563-a8dd-c851207f6864"
      },
      "outputs": [
        {
          "name": "stderr",
          "output_type": "stream",
          "text": [
            "The tokenizer class you load from this checkpoint is not the same type as the class this function is called from. It may result in unexpected tokenization. \n",
            "The tokenizer class you load from this checkpoint is 'XLNetTokenizer'. \n",
            "The class this function is called from is 'KoBERTTokenizer'.\n"
          ]
        },
        {
          "data": {
            "image/png": "[encoded data removed]",
            "text/plain": [
              "<Figure size 1200x400 with 3 Axes>"
            ]
          },
          "metadata": {},
          "output_type": "display_data"
        },
        {
          "name": "stdout",
          "output_type": "stream",
          "text": [
            "655\n"
          ]
        }
      ],
      "source": [
        "import torch\n",
        "from torch import nn\n",
        "import torch.nn.functional as F\n",
        "import torch.optim as optim\n",
        "from tqdm import tqdm, tqdm_notebook\n",
        "from kobert_tokenizer import KoBERTTokenizer\n",
        "from torch.utils.data import Dataset, DataLoader, Subset\n",
        "from transformers import BertTokenizer, BertModel, AdamW, get_scheduler\n",
        "from sklearn.model_selection import train_test_split\n",
        "from torch.cuda.amp import GradScaler, autocast\n",
        "\n",
        "# 데이터셋 정의\n",
        "class BookDataset(Dataset):\n",
        "    def __init__(self, data, tokenizer, max_length):\n",
        "        self.data = data\n",
        "        self.tokenizer = tokenizer\n",
        "        self.max_length = max_length\n",
        "        self.label_to_index = {label: idx for idx, label in enumerate(sorted(data['KDC_NM'].dropna().astype(str).unique()))}\n",
        "\n",
        "    def __len__(self):\n",
        "        return len(self.data)\n",
        "\n",
        "    def __getitem__(self, idx):\n",
        "        item = self.data.iloc[idx]\n",
        "        title = item['TITLE_NM']\n",
        "        description = item['description']\n",
        "        label = str(item['KDC_NM'])\n",
        "\n",
        "        label_idx = self.label_to_index[label]\n",
        "\n",
        "        input_text = title + \" \" + description\n",
        "        encoding = self.tokenizer(\n",
        "            input_text,\n",
        "            max_length=self.max_length,\n",
        "            padding='max_length',\n",
        "            truncation=True,\n",
        "            return_tensors=\"pt\"\n",
        "        )\n",
        "\n",
        "        return {\n",
        "            'input_ids': encoding['input_ids'].squeeze(0),\n",
        "            'attention_mask': encoding['attention_mask'].squeeze(0),\n",
        "            'label': label_idx\n",
        "        }\n",
        "\n",
        "# 모델 정의\n",
        "class BERTClassifier(nn.Module):\n",
        "    def __init__(self, bert_model, num_classes):\n",
        "        super(BERTClassifier, self).__init__()\n",
        "        self.bert = bert_model\n",
        "        self.classifier = nn.Linear(self.bert.config.hidden_size, num_classes)\n",
        "\n",
        "        for param in self.bert.parameters():\n",
        "            param.requires_grad = True\n",
        "\n",
        "    def forward(self, input_ids, attention_mask):\n",
        "        outputs = self.bert(input_ids=input_ids, attention_mask=attention_mask)\n",
        "        cls_output = outputs.last_hidden_state[:, 0, :]\n",
        "        logits = self.classifier(cls_output)\n",
        "        return logits\n",
        "\n",
        "# 하이퍼파라미터\n",
        "MAX_LENGTH = 187\n",
        "BATCH_SIZE = 32\n",
        "LEARNING_RATE = 2e-5\n",
        "EPOCHS = 10\n",
        "GRAD_ACCUMULATION_STEPS = 4\n",
        "\n",
        "# 데이터 준비\n",
        "final_df['KDC_NM'] = final_df['KDC_NM'].astype(str)\n",
        "tokenizer = KoBERTTokenizer.from_pretrained('skt/kobert-base-v1')\n",
        "dataset = BookDataset(final_df, tokenizer, MAX_LENGTH)\n",
        "\n",
        "# 데이터셋 나누기\n",
        "labels = final_df['KDC_NM'].astype(str).values\n",
        "indices = list(range(len(final_df)))\n",
        "\n",
        "train_indices, temp_indices = train_test_split(\n",
        "    indices, test_size=0.2, stratify=labels, random_state=42\n",
        ")\n",
        "val_indices, test_indices = train_test_split(\n",
        "    temp_indices, test_size=0.5, stratify=[labels[i] for i in temp_indices], random_state=42\n",
        ")\n",
        "\n",
        "train_dataset = Subset(dataset, train_indices)\n",
        "val_dataset = Subset(dataset, val_indices)\n",
        "test_dataset = Subset(dataset, test_indices)\n",
        "\n",
        "# DataLoader 생성\n",
        "train_loader = DataLoader(train_dataset, batch_size=BATCH_SIZE, shuffle=True, num_workers=4, pin_memory=True, prefetch_factor=2)\n",
        "val_loader = DataLoader(val_dataset, batch_size=BATCH_SIZE, shuffle=False, num_workers=4, pin_memory=True, prefetch_factor=2)\n",
        "test_loader = DataLoader(test_dataset, batch_size=BATCH_SIZE, shuffle=False, num_workers=4, pin_memory=True, prefetch_factor=2)\n",
        "\n",
        "# 데이터셋에서 라벨 추출\n",
        "train_labels = [sample['label'] for sample in train_dataset]\n",
        "val_labels = [sample['label'] for sample in val_dataset]\n",
        "test_labels = [sample['label'] for sample in test_dataset]\n",
        "\n",
        "# 라벨 분포 시각화\n",
        "plt.figure(figsize=(12, 4))\n",
        "\n",
        "# Train 데이터셋 라벨 분포\n",
        "plt.subplot(1, 3, 1)\n",
        "plt.hist(train_labels, bins=np.arange(min(train_labels), max(train_labels)+1, 1), edgecolor='black', alpha=0.7)\n",
        "plt.title('Train Label Distribution')\n",
        "plt.xlabel('Label')\n",
        "plt.ylabel('Frequency')\n",
        "\n",
        "# Validation 데이터셋 라벨 분포\n",
        "plt.subplot(1, 3, 2)\n",
        "plt.hist(val_labels, bins=np.arange(min(val_labels), max(val_labels)+1, 1), edgecolor='black', alpha=0.7)\n",
        "plt.title('Validation Label Distribution')\n",
        "plt.xlabel('Label')\n",
        "plt.ylabel('Frequency')\n",
        "\n",
        "# Test 데이터셋 라벨 분포\n",
        "plt.subplot(1, 3, 3)\n",
        "plt.hist(test_labels, bins=np.arange(min(test_labels), max(test_labels)+1, 1), edgecolor='black', alpha=0.7)\n",
        "plt.title('Test Label Distribution')\n",
        "plt.xlabel('Label')\n",
        "plt.ylabel('Frequency')\n",
        "\n",
        "plt.tight_layout()\n",
        "plt.show()\n",
        "\n",
        "# 데이터셋에서 레이블별 샘플 개수 계산\n",
        "from collections import Counter\n",
        "\n",
        "# Extract labels from the dataset's data attribute\n",
        "labels = dataset.data['KDC_NM'].astype(str).tolist()\n",
        "label_counts = Counter([dataset.label_to_index[label] for label in labels])\n",
        "\n",
        "# 클래스 가중치 계산: 전체 샘플 수 / (클래스 수 * 해당 클래스 샘플 수)\n",
        "device = torch.device(\"cuda\" if torch.cuda.is_available() else \"cpu\")\n",
        "num_classes = len(dataset.label_to_index)  # Replace with your model's actual number of output classes\n",
        "total_samples = sum(label_counts.values())\n",
        "print(num_classes)\n",
        "\n",
        "# 가중치 리스트 초기화\n",
        "class_weights = [total_samples / (num_classes * label_counts.get(i, 1)) for i in range(num_classes)]\n",
        "\n",
        "# 가중치를 텐서로 변환\n",
        "class_weights_tensor = torch.tensor(class_weights, dtype=torch.float).to(device)"
      ]
    },
    {
      "cell_type": "code",
      "execution_count": null,
      "metadata": {
        "colab": {
          "base_uri": "https://localhost:8080/"
        },
        "id": "6Z80nuua6Sy3",
        "outputId": "05e1001b-1356-41b6-f401-c626f0e931fa"
      },
      "outputs": [
        {
          "name": "stdout",
          "output_type": "stream",
          "text": [
            "데이터셋 고유 라벨 개수: 652\n",
            "매핑 테이블 크기: 652\n",
            "모든 라벨이 매핑되었습니다.\n"
          ]
        }
      ],
      "source": [
        "# 'KDC_NM' 열을 문자열로 변환\n",
        "final_df['KDC_NM'] = final_df['KDC_NM'].astype(str)\n",
        "\n",
        "# 데이터셋의 고유 라벨 확인\n",
        "unique_labels = final_df['KDC_NM'].unique()\n",
        "print(f\"데이터셋 고유 라벨 개수: {len(unique_labels)}\")  # 652 출력 예상\n",
        "\n",
        "# 매핑 테이블 확인\n",
        "print(f\"매핑 테이블 크기: {len(dataset.label_to_index)}\")  # 18141 출력 예상\n",
        "\n",
        "# 매핑 테이블에 데이터셋의 고유 라벨이 모두 포함되어 있는지 확인\n",
        "missing_labels = [label for label in unique_labels if label not in dataset.label_to_index]\n",
        "if missing_labels:\n",
        "    print(f\"매핑되지 않은 라벨: {missing_labels}\")\n",
        "else:\n",
        "    print(\"모든 라벨이 매핑되었습니다.\")"
      ]
    },
    {
      "cell_type": "code",
      "execution_count": null,
      "metadata": {
        "colab": {
          "base_uri": "https://localhost:8080/"
        },
        "id": "5Idwudb5f00_",
        "outputId": "238ebd9d-97d4-4187-9de5-5c3fd09a68bb"
      },
      "outputs": [
        {
          "name": "stderr",
          "output_type": "stream",
          "text": [
            "/usr/local/lib/python3.11/dist-packages/transformers/optimization.py:591: FutureWarning: This implementation of AdamW is deprecated and will be removed in a future version. Use the PyTorch implementation torch.optim.AdamW instead, or set `no_deprecation_warning=True` to disable this warning\n",
            "  warnings.warn(\n",
            "<ipython-input-65-d06f99ceb094>:10: FutureWarning: `torch.cuda.amp.GradScaler(args...)` is deprecated. Please use `torch.amp.GradScaler('cuda', args...)` instead.\n",
            "  scaler = GradScaler()\n",
            "Epoch 1/10 [Training]:   0%|          | 0/11886 [00:00<?, ?it/s]<ipython-input-65-d06f99ceb094>:31: FutureWarning: `torch.cuda.amp.autocast(args...)` is deprecated. Please use `torch.amp.autocast('cuda', args...)` instead.\n",
            "  with autocast():\n",
            "Epoch 1/10 [Training]: 100%|██████████| 11886/11886 [09:29<00:00, 20.88it/s]\n",
            "Epoch 1/10 [Validation]:   0%|          | 0/1486 [00:00<?, ?it/s]<ipython-input-65-d06f99ceb094>:60: FutureWarning: `torch.cuda.amp.autocast(args...)` is deprecated. Please use `torch.amp.autocast('cuda', args...)` instead.\n",
            "  with autocast():\n",
            "Epoch 1/10 [Validation]: 100%|██████████| 1486/1486 [00:23<00:00, 62.08it/s]\n"
          ]
        },
        {
          "name": "stdout",
          "output_type": "stream",
          "text": [
            "Epoch 1/10 -> Train Loss: 4.8670, Train Acc: 0.3043, Val Loss: 3.3577, Val Acc: 0.4735\n"
          ]
        },
        {
          "name": "stderr",
          "output_type": "stream",
          "text": [
            "Epoch 2/10 [Training]: 100%|██████████| 11886/11886 [09:28<00:00, 20.91it/s]\n",
            "Epoch 2/10 [Validation]: 100%|██████████| 1486/1486 [00:23<00:00, 64.28it/s]\n"
          ]
        },
        {
          "name": "stdout",
          "output_type": "stream",
          "text": [
            "Epoch 2/10 -> Train Loss: 2.7520, Train Acc: 0.5247, Val Loss: 2.0378, Val Acc: 0.5690\n"
          ]
        },
        {
          "name": "stderr",
          "output_type": "stream",
          "text": [
            "Epoch 3/10 [Training]: 100%|██████████| 11886/11886 [09:29<00:00, 20.86it/s]\n",
            "Epoch 3/10 [Validation]: 100%|██████████| 1486/1486 [00:23<00:00, 64.59it/s]\n"
          ]
        },
        {
          "name": "stdout",
          "output_type": "stream",
          "text": [
            "Epoch 3/10 -> Train Loss: 1.8523, Train Acc: 0.5953, Val Loss: 1.5850, Val Acc: 0.6142\n"
          ]
        },
        {
          "name": "stderr",
          "output_type": "stream",
          "text": [
            "Epoch 4/10 [Training]: 100%|██████████| 11886/11886 [09:31<00:00, 20.80it/s]\n",
            "Epoch 4/10 [Validation]: 100%|██████████| 1486/1486 [00:23<00:00, 64.13it/s]\n"
          ]
        },
        {
          "name": "stdout",
          "output_type": "stream",
          "text": [
            "Epoch 4/10 -> Train Loss: 1.4975, Train Acc: 0.6334, Val Loss: 1.4217, Val Acc: 0.6345\n"
          ]
        },
        {
          "name": "stderr",
          "output_type": "stream",
          "text": [
            "Epoch 5/10 [Training]: 100%|██████████| 11886/11886 [09:30<00:00, 20.82it/s]\n",
            "Epoch 5/10 [Validation]: 100%|██████████| 1486/1486 [00:24<00:00, 61.11it/s]\n"
          ]
        },
        {
          "name": "stdout",
          "output_type": "stream",
          "text": [
            "Epoch 5/10 -> Train Loss: 1.3186, Train Acc: 0.6587, Val Loss: 1.3434, Val Acc: 0.6496\n"
          ]
        },
        {
          "name": "stderr",
          "output_type": "stream",
          "text": [
            "Epoch 6/10 [Training]: 100%|██████████| 11886/11886 [09:30<00:00, 20.84it/s]\n",
            "Epoch 6/10 [Validation]: 100%|██████████| 1486/1486 [00:23<00:00, 63.96it/s]\n"
          ]
        },
        {
          "name": "stdout",
          "output_type": "stream",
          "text": [
            "Epoch 6/10 -> Train Loss: 1.2062, Train Acc: 0.6775, Val Loss: 1.2820, Val Acc: 0.6609\n"
          ]
        },
        {
          "name": "stderr",
          "output_type": "stream",
          "text": [
            "Epoch 7/10 [Training]: 100%|██████████| 11886/11886 [09:29<00:00, 20.86it/s]\n",
            "Epoch 7/10 [Validation]: 100%|██████████| 1486/1486 [00:23<00:00, 62.90it/s]\n"
          ]
        },
        {
          "name": "stdout",
          "output_type": "stream",
          "text": [
            "Epoch 7/10 -> Train Loss: 1.1156, Train Acc: 0.6952, Val Loss: 1.2384, Val Acc: 0.6715\n"
          ]
        },
        {
          "name": "stderr",
          "output_type": "stream",
          "text": [
            "Epoch 8/10 [Training]: 100%|██████████| 11886/11886 [09:30<00:00, 20.85it/s]\n",
            "Epoch 8/10 [Validation]: 100%|██████████| 1486/1486 [00:23<00:00, 64.16it/s]\n"
          ]
        },
        {
          "name": "stdout",
          "output_type": "stream",
          "text": [
            "Epoch 8/10 -> Train Loss: 1.0450, Train Acc: 0.7086, Val Loss: 1.2228, Val Acc: 0.6766\n"
          ]
        },
        {
          "name": "stderr",
          "output_type": "stream",
          "text": [
            "Epoch 9/10 [Training]: 100%|██████████| 11886/11886 [09:31<00:00, 20.80it/s]\n",
            "Epoch 9/10 [Validation]: 100%|██████████| 1486/1486 [00:23<00:00, 63.77it/s]\n"
          ]
        },
        {
          "name": "stdout",
          "output_type": "stream",
          "text": [
            "Epoch 9/10 -> Train Loss: 0.9852, Train Acc: 0.7219, Val Loss: 1.1942, Val Acc: 0.6863\n"
          ]
        },
        {
          "name": "stderr",
          "output_type": "stream",
          "text": [
            "Epoch 10/10 [Training]: 100%|██████████| 11886/11886 [09:31<00:00, 20.80it/s]\n",
            "Epoch 10/10 [Validation]: 100%|██████████| 1486/1486 [00:23<00:00, 64.28it/s]\n"
          ]
        },
        {
          "name": "stdout",
          "output_type": "stream",
          "text": [
            "Epoch 10/10 -> Train Loss: 0.9305, Train Acc: 0.7343, Val Loss: 1.1709, Val Acc: 0.6921\n"
          ]
        },
        {
          "name": "stderr",
          "output_type": "stream",
          "text": [
            "Testing:   0%|          | 0/1486 [00:00<?, ?it/s]<ipython-input-65-d06f99ceb094>:83: FutureWarning: `torch.cuda.amp.autocast(args...)` is deprecated. Please use `torch.amp.autocast('cuda', args...)` instead.\n",
            "  with autocast():\n",
            "Testing: 100%|██████████| 1486/1486 [00:23<00:00, 64.04it/s]\n"
          ]
        },
        {
          "name": "stdout",
          "output_type": "stream",
          "text": [
            "Test Loss: 1.1931, Test Acc: 0.6874\n",
            "모델 학습 완료 및 저장 완료.\n"
          ]
        }
      ],
      "source": [
        "# 모델 준비\n",
        "bert_model = BertModel.from_pretrained('skt/kobert-base-v1', return_dict=True)\n",
        "model = BERTClassifier(bert_model, len(dataset.label_to_index))\n",
        "model.to(device)\n",
        "\n",
        "# 옵티마이저 및 스케줄러\n",
        "optimizer = AdamW(model.parameters(), lr=LEARNING_RATE)\n",
        "scheduler = get_scheduler(\"linear\", optimizer=optimizer, num_warmup_steps=0, num_training_steps=len(train_loader) * EPOCHS)\n",
        "criterion = nn.CrossEntropyLoss(weight=class_weights_tensor)\n",
        "scaler = GradScaler()\n",
        "\n",
        "# 정확도 계산 함수\n",
        "def calculate_accuracy(logits, labels):\n",
        "    preds = torch.argmax(logits, dim=1)\n",
        "    correct = (preds == labels).sum().item()\n",
        "    return correct / len(labels)\n",
        "\n",
        "# 학습 및 검증 루프\n",
        "for epoch in range(EPOCHS):\n",
        "    model.train()\n",
        "    total_loss = 0\n",
        "    total_acc = 0\n",
        "\n",
        "    for i, batch in enumerate(tqdm(train_loader, desc=f\"Epoch {epoch + 1}/{EPOCHS} [Training]\")):\n",
        "        input_ids = batch['input_ids'].to(device)\n",
        "        attention_mask = batch['attention_mask'].to(device)\n",
        "        labels = batch['label'].to(device)\n",
        "\n",
        "        optimizer.zero_grad()\n",
        "\n",
        "        with autocast():\n",
        "            logits = model(input_ids, attention_mask)\n",
        "            loss = criterion(logits, labels) / GRAD_ACCUMULATION_STEPS\n",
        "\n",
        "        scaler.scale(loss).backward()\n",
        "\n",
        "        if (i + 1) % GRAD_ACCUMULATION_STEPS == 0 or (i + 1) == len(train_loader):\n",
        "            scaler.step(optimizer)\n",
        "            scaler.update()\n",
        "            scheduler.step()\n",
        "            optimizer.zero_grad()\n",
        "\n",
        "        total_loss += loss.item() * GRAD_ACCUMULATION_STEPS\n",
        "        total_acc += calculate_accuracy(logits, labels)\n",
        "\n",
        "    avg_train_loss = total_loss / len(train_loader)\n",
        "    avg_train_acc = total_acc / len(train_loader)\n",
        "\n",
        "    # 검증 루프\n",
        "    model.eval()\n",
        "    val_loss = 0\n",
        "    val_acc = 0\n",
        "\n",
        "    with torch.no_grad():\n",
        "        for batch in tqdm(val_loader, desc=f\"Epoch {epoch + 1}/{EPOCHS} [Validation]\"):\n",
        "            input_ids = batch['input_ids'].to(device)\n",
        "            attention_mask = batch['attention_mask'].to(device)\n",
        "            labels = batch['label'].to(device)\n",
        "\n",
        "            with autocast():\n",
        "                logits = model(input_ids, attention_mask)\n",
        "                loss = criterion(logits, labels)\n",
        "\n",
        "            val_loss += loss.item()\n",
        "            val_acc += calculate_accuracy(logits, labels)\n",
        "\n",
        "    avg_val_loss = val_loss / len(val_loader)\n",
        "    avg_val_acc = val_acc / len(val_loader)\n",
        "\n",
        "    print(f\"Epoch {epoch + 1}/{EPOCHS} -> Train Loss: {avg_train_loss:.4f}, Train Acc: {avg_train_acc:.4f}, Val Loss: {avg_val_loss:.4f}, Val Acc: {avg_val_acc:.4f}\")\n",
        "\n",
        "# 테스트 루프\n",
        "model.eval()\n",
        "test_loss = 0\n",
        "test_acc = 0\n",
        "\n",
        "with torch.no_grad():\n",
        "    for batch in tqdm(test_loader, desc=\"Testing\"):\n",
        "        input_ids = batch['input_ids'].to(device)\n",
        "        attention_mask = batch['attention_mask'].to(device)\n",
        "        labels = batch['label'].to(device)\n",
        "\n",
        "        with autocast():\n",
        "            logits = model(input_ids, attention_mask)\n",
        "            loss = criterion(logits, labels)\n",
        "\n",
        "        test_loss += loss.item()\n",
        "        test_acc += calculate_accuracy(logits, labels)\n",
        "\n",
        "avg_test_loss = test_loss / len(test_loader)\n",
        "avg_test_acc = test_acc / len(test_loader)\n",
        "\n",
        "print(f\"Test Loss: {avg_test_loss:.4f}, Test Acc: {avg_test_acc:.4f}\")\n",
        "\n",
        "# 모델 저장\n",
        "torch.save(model.state_dict(), \"kobert_classifier.pth\")\n",
        "print(\"모델 학습 완료 및 저장 완료.\")"
      ]
    },
    {
      "cell_type": "code",
      "execution_count": null,
      "metadata": {
        "colab": {
          "base_uri": "https://localhost:8080/"
        },
        "id": "oYE3Aan33MM4",
        "outputId": "2db41b68-220f-45ee-9a6b-307449726034"
      },
      "outputs": [
        {
          "name": "stderr",
          "output_type": "stream",
          "text": [
            "<ipython-input-65-b86a34db0a09>:4: FutureWarning: You are using `torch.load` with `weights_only=False` (the current default value), which uses the default pickle module implicitly. It is possible to construct malicious pickle data which will execute arbitrary code during unpickling (See https://github.com/pytorch/pytorch/blob/main/SECURITY.md#untrusted-models for more details). In a future release, the default value for `weights_only` will be flipped to `True`. This limits the functions that could be executed during unpickling. Arbitrary objects will no longer be allowed to be loaded via this mode unless they are explicitly allowlisted by the user via `torch.serialization.add_safe_globals`. We recommend you start setting `weights_only=True` for any use case where you don't have full control of the loaded file. Please open an issue on GitHub for any issues related to this experimental feature.\n",
            "  model.load_state_dict(torch.load(\"kobert_classifier_updated.pth\"))\n",
            "<ipython-input-65-b86a34db0a09>:11: FutureWarning: `torch.cuda.amp.GradScaler(args...)` is deprecated. Please use `torch.amp.GradScaler('cuda', args...)` instead.\n",
            "  scaler = GradScaler()\n",
            "Epoch 21/40 [Training]:   0%|          | 0/11886 [00:00<?, ?it/s]<ipython-input-65-b86a34db0a09>:36: FutureWarning: `torch.cuda.amp.autocast(args...)` is deprecated. Please use `torch.amp.autocast('cuda', args...)` instead.\n",
            "  with autocast():\n",
            "Epoch 21/40 [Training]: 100%|██████████| 11886/11886 [09:29<00:00, 20.87it/s]\n",
            "Epoch 21/40 [Validation]:   0%|          | 0/1486 [00:00<?, ?it/s]<ipython-input-65-b86a34db0a09>:65: FutureWarning: `torch.cuda.amp.autocast(args...)` is deprecated. Please use `torch.amp.autocast('cuda', args...)` instead.\n",
            "  with autocast():\n",
            "Epoch 21/40 [Validation]: 100%|██████████| 1486/1486 [00:23<00:00, 63.68it/s]\n"
          ]
        },
        {
          "name": "stdout",
          "output_type": "stream",
          "text": [
            "Epoch 21/40 -> Train Loss: 0.6012, Train Acc: 0.8129, Val Loss: 1.1609, Val Acc: 0.7180\n"
          ]
        },
        {
          "name": "stderr",
          "output_type": "stream",
          "text": [
            "Epoch 22/40 [Training]: 100%|██████████| 11886/11886 [09:32<00:00, 20.77it/s]\n",
            "Epoch 22/40 [Validation]: 100%|██████████| 1486/1486 [00:23<00:00, 63.06it/s]\n"
          ]
        },
        {
          "name": "stdout",
          "output_type": "stream",
          "text": [
            "Epoch 22/40 -> Train Loss: 0.5858, Train Acc: 0.8175, Val Loss: 1.1771, Val Acc: 0.7155\n"
          ]
        },
        {
          "name": "stderr",
          "output_type": "stream",
          "text": [
            "Epoch 23/40 [Training]: 100%|██████████| 11886/11886 [09:33<00:00, 20.72it/s]\n",
            "Epoch 23/40 [Validation]: 100%|██████████| 1486/1486 [00:23<00:00, 63.23it/s]\n"
          ]
        },
        {
          "name": "stdout",
          "output_type": "stream",
          "text": [
            "Epoch 23/40 -> Train Loss: 0.5589, Train Acc: 0.8240, Val Loss: 1.1639, Val Acc: 0.7195\n"
          ]
        },
        {
          "name": "stderr",
          "output_type": "stream",
          "text": [
            "Epoch 24/40 [Training]: 100%|██████████| 11886/11886 [09:36<00:00, 20.62it/s]\n",
            "Epoch 24/40 [Validation]: 100%|██████████| 1486/1486 [00:23<00:00, 63.00it/s]\n"
          ]
        },
        {
          "name": "stdout",
          "output_type": "stream",
          "text": [
            "Epoch 24/40 -> Train Loss: 0.5320, Train Acc: 0.8322, Val Loss: 1.1694, Val Acc: 0.7172\n"
          ]
        },
        {
          "name": "stderr",
          "output_type": "stream",
          "text": [
            "Epoch 25/40 [Training]: 100%|██████████| 11886/11886 [09:35<00:00, 20.66it/s]\n",
            "Epoch 25/40 [Validation]: 100%|██████████| 1486/1486 [00:23<00:00, 63.10it/s]\n"
          ]
        },
        {
          "name": "stdout",
          "output_type": "stream",
          "text": [
            "Epoch 25/40 -> Train Loss: 0.5049, Train Acc: 0.8392, Val Loss: 1.1807, Val Acc: 0.7217\n"
          ]
        },
        {
          "name": "stderr",
          "output_type": "stream",
          "text": [
            "Epoch 26/40 [Training]: 100%|██████████| 11886/11886 [09:36<00:00, 20.60it/s]\n",
            "Epoch 26/40 [Validation]: 100%|██████████| 1486/1486 [00:23<00:00, 63.11it/s]\n"
          ]
        },
        {
          "name": "stdout",
          "output_type": "stream",
          "text": [
            "Epoch 26/40 -> Train Loss: 0.4762, Train Acc: 0.8470, Val Loss: 1.1837, Val Acc: 0.7237\n"
          ]
        },
        {
          "name": "stderr",
          "output_type": "stream",
          "text": [
            "Epoch 27/40 [Training]: 100%|██████████| 11886/11886 [09:36<00:00, 20.61it/s]\n",
            "Epoch 27/40 [Validation]: 100%|██████████| 1486/1486 [00:23<00:00, 62.16it/s]\n"
          ]
        },
        {
          "name": "stdout",
          "output_type": "stream",
          "text": [
            "Epoch 27/40 -> Train Loss: 0.4500, Train Acc: 0.8547, Val Loss: 1.1740, Val Acc: 0.7238\n"
          ]
        },
        {
          "name": "stderr",
          "output_type": "stream",
          "text": [
            "Epoch 28/40 [Training]: 100%|██████████| 11886/11886 [09:36<00:00, 20.63it/s]\n",
            "Epoch 28/40 [Validation]: 100%|██████████| 1486/1486 [00:23<00:00, 63.04it/s]\n"
          ]
        },
        {
          "name": "stdout",
          "output_type": "stream",
          "text": [
            "Epoch 28/40 -> Train Loss: 0.4270, Train Acc: 0.8614, Val Loss: 1.1920, Val Acc: 0.7258\n"
          ]
        },
        {
          "name": "stderr",
          "output_type": "stream",
          "text": [
            "Epoch 29/40 [Training]: 100%|██████████| 11886/11886 [09:38<00:00, 20.55it/s]\n",
            "Epoch 29/40 [Validation]: 100%|██████████| 1486/1486 [00:23<00:00, 62.31it/s]\n"
          ]
        },
        {
          "name": "stdout",
          "output_type": "stream",
          "text": [
            "Epoch 29/40 -> Train Loss: 0.4000, Train Acc: 0.8681, Val Loss: 1.1938, Val Acc: 0.7302\n"
          ]
        },
        {
          "name": "stderr",
          "output_type": "stream",
          "text": [
            "Epoch 30/40 [Training]: 100%|██████████| 11886/11886 [09:36<00:00, 20.60it/s]\n",
            "Epoch 30/40 [Validation]: 100%|██████████| 1486/1486 [00:23<00:00, 63.02it/s]\n"
          ]
        },
        {
          "name": "stdout",
          "output_type": "stream",
          "text": [
            "Epoch 30/40 -> Train Loss: 0.3795, Train Acc: 0.8744, Val Loss: 1.2000, Val Acc: 0.7291\n"
          ]
        },
        {
          "name": "stderr",
          "output_type": "stream",
          "text": [
            "Epoch 31/40 [Training]: 100%|██████████| 11886/11886 [09:34<00:00, 20.69it/s]\n",
            "Epoch 31/40 [Validation]: 100%|██████████| 1486/1486 [00:23<00:00, 62.92it/s]\n"
          ]
        },
        {
          "name": "stdout",
          "output_type": "stream",
          "text": [
            "Epoch 31/40 -> Train Loss: 0.3580, Train Acc: 0.8812, Val Loss: 1.2217, Val Acc: 0.7273\n"
          ]
        },
        {
          "name": "stderr",
          "output_type": "stream",
          "text": [
            "Epoch 32/40 [Training]: 100%|██████████| 11886/11886 [09:33<00:00, 20.71it/s]\n",
            "Epoch 32/40 [Validation]: 100%|██████████| 1486/1486 [00:23<00:00, 62.66it/s]\n"
          ]
        },
        {
          "name": "stdout",
          "output_type": "stream",
          "text": [
            "Epoch 32/40 -> Train Loss: 0.3349, Train Acc: 0.8878, Val Loss: 1.2314, Val Acc: 0.7288\n"
          ]
        },
        {
          "name": "stderr",
          "output_type": "stream",
          "text": [
            "Epoch 33/40 [Training]: 100%|██████████| 11886/11886 [09:33<00:00, 20.71it/s]\n",
            "Epoch 33/40 [Validation]: 100%|██████████| 1486/1486 [00:23<00:00, 64.14it/s]\n"
          ]
        },
        {
          "name": "stdout",
          "output_type": "stream",
          "text": [
            "Epoch 33/40 -> Train Loss: 0.3154, Train Acc: 0.8934, Val Loss: 1.2306, Val Acc: 0.7301\n"
          ]
        },
        {
          "name": "stderr",
          "output_type": "stream",
          "text": [
            "Epoch 34/40 [Training]: 100%|██████████| 11886/11886 [09:34<00:00, 20.67it/s]\n",
            "Epoch 34/40 [Validation]: 100%|██████████| 1486/1486 [00:23<00:00, 63.76it/s]\n"
          ]
        },
        {
          "name": "stdout",
          "output_type": "stream",
          "text": [
            "Epoch 34/40 -> Train Loss: 0.2941, Train Acc: 0.9005, Val Loss: 1.2233, Val Acc: 0.7338\n"
          ]
        },
        {
          "name": "stderr",
          "output_type": "stream",
          "text": [
            "Epoch 35/40 [Training]: 100%|██████████| 11886/11886 [09:33<00:00, 20.71it/s]\n",
            "Epoch 35/40 [Validation]: 100%|██████████| 1486/1486 [00:23<00:00, 62.42it/s]\n"
          ]
        },
        {
          "name": "stdout",
          "output_type": "stream",
          "text": [
            "Epoch 35/40 -> Train Loss: 0.2751, Train Acc: 0.9059, Val Loss: 1.2437, Val Acc: 0.7349\n"
          ]
        },
        {
          "name": "stderr",
          "output_type": "stream",
          "text": [
            "Epoch 36/40 [Training]: 100%|██████████| 11886/11886 [09:33<00:00, 20.71it/s]\n",
            "Epoch 36/40 [Validation]: 100%|██████████| 1486/1486 [00:23<00:00, 63.05it/s]\n"
          ]
        },
        {
          "name": "stdout",
          "output_type": "stream",
          "text": [
            "Epoch 36/40 -> Train Loss: 0.2589, Train Acc: 0.9110, Val Loss: 1.2584, Val Acc: 0.7340\n"
          ]
        },
        {
          "name": "stderr",
          "output_type": "stream",
          "text": [
            "Epoch 37/40 [Training]: 100%|██████████| 11886/11886 [09:32<00:00, 20.75it/s]\n",
            "Epoch 37/40 [Validation]: 100%|██████████| 1486/1486 [00:23<00:00, 63.47it/s]\n"
          ]
        },
        {
          "name": "stdout",
          "output_type": "stream",
          "text": [
            "Epoch 37/40 -> Train Loss: 0.2442, Train Acc: 0.9159, Val Loss: 1.2778, Val Acc: 0.7334\n"
          ]
        },
        {
          "name": "stderr",
          "output_type": "stream",
          "text": [
            "Epoch 38/40 [Training]: 100%|██████████| 11886/11886 [09:31<00:00, 20.80it/s]\n",
            "Epoch 38/40 [Validation]: 100%|██████████| 1486/1486 [00:23<00:00, 64.03it/s]\n"
          ]
        },
        {
          "name": "stdout",
          "output_type": "stream",
          "text": [
            "Epoch 38/40 -> Train Loss: 0.2268, Train Acc: 0.9211, Val Loss: 1.2851, Val Acc: 0.7335\n"
          ]
        },
        {
          "name": "stderr",
          "output_type": "stream",
          "text": [
            "Epoch 39/40 [Training]: 100%|██████████| 11886/11886 [09:31<00:00, 20.80it/s]\n",
            "Epoch 39/40 [Validation]: 100%|██████████| 1486/1486 [00:23<00:00, 62.73it/s]\n"
          ]
        },
        {
          "name": "stdout",
          "output_type": "stream",
          "text": [
            "Epoch 39/40 -> Train Loss: 0.2133, Train Acc: 0.9254, Val Loss: 1.3013, Val Acc: 0.7382\n"
          ]
        },
        {
          "name": "stderr",
          "output_type": "stream",
          "text": [
            "Epoch 40/40 [Training]: 100%|██████████| 11886/11886 [09:34<00:00, 20.69it/s]\n",
            "Epoch 40/40 [Validation]: 100%|██████████| 1486/1486 [00:23<00:00, 62.05it/s]\n"
          ]
        },
        {
          "name": "stdout",
          "output_type": "stream",
          "text": [
            "Epoch 40/40 -> Train Loss: 0.1986, Train Acc: 0.9305, Val Loss: 1.2939, Val Acc: 0.7367\n"
          ]
        },
        {
          "name": "stderr",
          "output_type": "stream",
          "text": [
            "Testing:   0%|          | 0/1486 [00:00<?, ?it/s]<ipython-input-65-b86a34db0a09>:88: FutureWarning: `torch.cuda.amp.autocast(args...)` is deprecated. Please use `torch.amp.autocast('cuda', args...)` instead.\n",
            "  with autocast():\n",
            "Testing: 100%|██████████| 1486/1486 [00:23<00:00, 63.44it/s]\n"
          ]
        },
        {
          "name": "stdout",
          "output_type": "stream",
          "text": [
            "Test Loss: 1.3271, Test Acc: 0.7348\n",
            "추가 학습 완료 및 모델 저장 완료.\n"
          ]
        }
      ],
      "source": [
        "# 저장된 모델 불러오기\n",
        "bert_model = BertModel.from_pretrained('skt/kobert-base-v1', return_dict=True)\n",
        "model = BERTClassifier(bert_model, len(dataset.label_to_index))\n",
        "model.load_state_dict(torch.load(\"kobert_classifier_updated.pth\"))\n",
        "model.to(device)\n",
        "\n",
        "# 옵티마이저 및 스케줄러\n",
        "optimizer = AdamW(model.parameters(), lr=LEARNING_RATE)\n",
        "scheduler = get_scheduler(\"linear\", optimizer=optimizer, num_warmup_steps=0, num_training_steps=len(train_loader) * EPOCHS)\n",
        "criterion = nn.CrossEntropyLoss(weight=class_weights_tensor)\n",
        "scaler = GradScaler()\n",
        "\n",
        "EPOCHS = 20\n",
        "\n",
        "# 정확도 계산 함수\n",
        "def calculate_accuracy(logits, labels):\n",
        "    preds = torch.argmax(logits, dim=1)\n",
        "    correct = (preds == labels).sum().item()\n",
        "    return correct / len(labels)\n",
        "\n",
        "# 추가 학습 설정\n",
        "ADDITIONAL_EPOCHS = 20\n",
        "\n",
        "for epoch in range(EPOCHS, EPOCHS + ADDITIONAL_EPOCHS):\n",
        "    model.train()\n",
        "    total_loss = 0\n",
        "    total_acc = 0\n",
        "\n",
        "    for i, batch in enumerate(tqdm(train_loader, desc=f\"Epoch {epoch + 1}/{EPOCHS + ADDITIONAL_EPOCHS} [Training]\")):\n",
        "        input_ids = batch['input_ids'].to(device)\n",
        "        attention_mask = batch['attention_mask'].to(device)\n",
        "        labels = batch['label'].to(device)\n",
        "\n",
        "        optimizer.zero_grad()\n",
        "\n",
        "        with autocast():\n",
        "            logits = model(input_ids, attention_mask)\n",
        "            loss = criterion(logits, labels) / GRAD_ACCUMULATION_STEPS\n",
        "\n",
        "        scaler.scale(loss).backward()\n",
        "\n",
        "        if (i + 1) % GRAD_ACCUMULATION_STEPS == 0 or (i + 1) == len(train_loader):\n",
        "            scaler.step(optimizer)\n",
        "            scaler.update()\n",
        "            scheduler.step()\n",
        "            optimizer.zero_grad()\n",
        "\n",
        "        total_loss += loss.item() * GRAD_ACCUMULATION_STEPS\n",
        "        total_acc += calculate_accuracy(logits, labels)\n",
        "\n",
        "    avg_train_loss = total_loss / len(train_loader)\n",
        "    avg_train_acc = total_acc / len(train_loader)\n",
        "\n",
        "    # 검증 루프\n",
        "    model.eval()\n",
        "    val_loss = 0\n",
        "    val_acc = 0\n",
        "\n",
        "    with torch.no_grad():\n",
        "        for batch in tqdm(val_loader, desc=f\"Epoch {epoch + 1}/{EPOCHS + ADDITIONAL_EPOCHS} [Validation]\"):\n",
        "            input_ids = batch['input_ids'].to(device)\n",
        "            attention_mask = batch['attention_mask'].to(device)\n",
        "            labels = batch['label'].to(device)\n",
        "\n",
        "            with autocast():\n",
        "                logits = model(input_ids, attention_mask)\n",
        "                loss = criterion(logits, labels)\n",
        "\n",
        "            val_loss += loss.item()\n",
        "            val_acc += calculate_accuracy(logits, labels)\n",
        "\n",
        "    avg_val_loss = val_loss / len(val_loader)\n",
        "    avg_val_acc = val_acc / len(val_loader)\n",
        "\n",
        "    print(f\"Epoch {epoch + 1}/{EPOCHS + ADDITIONAL_EPOCHS} -> Train Loss: {avg_train_loss:.4f}, Train Acc: {avg_train_acc:.4f}, Val Loss: {avg_val_loss:.4f}, Val Acc: {avg_val_acc:.4f}\")\n",
        "\n",
        "# 테스트 루프\n",
        "model.eval()\n",
        "test_loss = 0\n",
        "test_acc = 0\n",
        "\n",
        "with torch.no_grad():\n",
        "    for batch in tqdm(test_loader, desc=\"Testing\"):\n",
        "        input_ids = batch['input_ids'].to(device)\n",
        "        attention_mask = batch['attention_mask'].to(device)\n",
        "        labels = batch['label'].to(device)\n",
        "\n",
        "        with autocast():\n",
        "            logits = model(input_ids, attention_mask)\n",
        "            loss = criterion(logits, labels)\n",
        "\n",
        "        test_loss += loss.item()\n",
        "        test_acc += calculate_accuracy(logits, labels)\n",
        "\n",
        "avg_test_loss = test_loss / len(test_loader)\n",
        "avg_test_acc = test_acc / len(test_loader)\n",
        "\n",
        "print(f\"Test Loss: {avg_test_loss:.4f}, Test Acc: {avg_test_acc:.4f}\")\n",
        "\n",
        "# 최종 모델 저장\n",
        "torch.save(model.state_dict(), \"kobert_classifier_updated.pth\")\n",
        "print(\"추가 학습 완료 및 모델 저장 완료.\")"
      ]
    },
    {
      "cell_type": "code",
      "execution_count": null,
      "metadata": {
        "colab": {
          "base_uri": "https://localhost:8080/",
          "height": 547
        },
        "id": "QgUmjHcs_HlY",
        "outputId": "72196f9d-0ec1-4ab3-ebcd-9ed75f383407"
      },
      "outputs": [
        {
          "name": "stderr",
          "output_type": "stream",
          "text": [
            "Testing for Confusion Matrix:   0%|          | 0/1486 [00:00<?, ?it/s]<ipython-input-66-4d4aa0fd7672>:16: FutureWarning: `torch.cuda.amp.autocast(args...)` is deprecated. Please use `torch.amp.autocast('cuda', args...)` instead.\n",
            "  with autocast():\n",
            "Testing for Confusion Matrix: 100%|██████████| 1486/1486 [00:24<00:00, 61.52it/s]\n"
          ]
        },
        {
          "data": {
            "image/png": "[encoded data removed]",
            "text/plain": [
              "<Figure size 640x480 with 2 Axes>"
            ]
          },
          "metadata": {},
          "output_type": "display_data"
        }
      ],
      "source": [
        "from sklearn.metrics import confusion_matrix, ConfusionMatrixDisplay\n",
        "import matplotlib.pyplot as plt\n",
        "import numpy as np\n",
        "\n",
        "# Confusion Matrix 계산 및 시각화\n",
        "all_labels = []\n",
        "all_preds = []\n",
        "\n",
        "model.eval()\n",
        "with torch.no_grad():\n",
        "    for batch in tqdm(test_loader, desc=\"Testing for Confusion Matrix\"):\n",
        "        input_ids = batch['input_ids'].to(device)\n",
        "        attention_mask = batch['attention_mask'].to(device)\n",
        "        labels = batch['label'].to(device)\n",
        "\n",
        "        with autocast():\n",
        "            logits = model(input_ids, attention_mask)\n",
        "\n",
        "        preds = torch.argmax(logits, dim=1)\n",
        "        all_labels.extend(labels.cpu().numpy())\n",
        "        all_preds.extend(preds.cpu().numpy())\n",
        "\n",
        "# Confusion Matrix 생성\n",
        "conf_matrix = confusion_matrix(all_labels, all_preds)\n",
        "\n",
        "# 클래스 이름 (라벨) 추출\n",
        "class_names = [key for key, _ in sorted(dataset.label_to_index.items(), key=lambda x: x[1])]\n",
        "\n",
        "# Confusion Matrix 시각화\n",
        "disp = ConfusionMatrixDisplay(confusion_matrix=conf_matrix, display_labels=class_names)\n",
        "disp.plot(cmap=plt.cm.Blues, values_format='d')\n",
        "plt.title(\"Confusion Matrix\")\n",
        "plt.show()"
      ]
    },
    {
      "cell_type": "code",
      "execution_count": null,
      "metadata": {
        "colab": {
          "base_uri": "https://localhost:8080/"
        },
        "id": "JKgVYhuYBQbD",
        "outputId": "ca82d7b9-9ce7-4657-acfc-0f7ec7d107ec"
      },
      "outputs": [
        {
          "name": "stdout",
          "output_type": "stream",
          "text": [
            "True: 350.1, Predicted: 351.1, Count: 18\n",
            "True: 325.1, Predicted: 325.0, Count: 19\n",
            "True: 833.6, Predicted: 830.0, Count: 20\n",
            "True: 833.8, Predicted: 808.9, Count: 20\n",
            "True: 234.8, Predicted: 234.3, Count: 21\n",
            "True: 688.0, Predicted: 688.1, Count: 21\n",
            "True: 811.6, Predicted: 811.7, Count: 22\n",
            "True: 813.8, Predicted: 808.9, Count: 23\n",
            "True: 362.1, Predicted: 362.0, Count: 25\n",
            "True: 711.4, Predicted: 711.5, Count: 29\n"
          ]
        }
      ],
      "source": [
        "# Confusion Matrix에서 가장 큰 오차를 가진 클래스 쌍 추출\n",
        "error_matrix = conf_matrix.copy()\n",
        "np.fill_diagonal(error_matrix, 0)  # 정확한 예측 제거\n",
        "top_misclassifications = np.unravel_index(np.argsort(error_matrix, axis=None)[-10:], error_matrix.shape)\n",
        "\n",
        "# 상위 혼동 클래스 출력\n",
        "for true_class, pred_class in zip(*top_misclassifications):\n",
        "    print(f\"True: {class_names[true_class]}, Predicted: {class_names[pred_class]}, Count: {error_matrix[true_class, pred_class]}\")"
      ]
    },
    {
      "cell_type": "markdown",
      "metadata": {
        "id": "68OoQNwTkWEE"
      },
      "source": [
        "## 코드 수정(25-02-03)"
      ]
    },
    {
      "cell_type": "code",
      "execution_count": null,
      "metadata": {
        "colab": {
          "base_uri": "https://localhost:8080/",
          "height": 1000,
          "referenced_widgets": [
            "5486403534ea442aae143eee951822f4",
            "01d3993c4d19492c93bfa22715bfa161",
            "8f9fdc149cce4ce582f33e97788211a8",
            "6a1349e69e664ba8a59d4beb51cccef3",
            "6bf2fe7bf6434332bf10da3bd9fd228f",
            "557bedf5743b4878994f7ae3c6f0f628",
            "3488bd9bc4794b098a0b557c9d52938c",
            "d2587d3a40e943f5bbae95d01fe837c2",
            "0535c13f5e8249e5aef932245c706956",
            "7894c39f8c344cb98c731bb90abf3e08",
            "dd0154b771594ddaa31f6c67829dc7e1",
            "7fad615768e94f15823996f5ed0104e9",
            "2e4d025ffb6b4e8e80ed16ed418701b8",
            "f2062c93eee04f5382a97181d86270f7",
            "4ea243f7b9f94b33af453b5d2e1d62ff",
            "5467e720aa0d45c4a831f321abfaebb4",
            "7ef3576f3b854963b0ccc0611e287426",
            "e4e2cbcc46664b569b12379fec83bd62",
            "e863664c384b45a6af02c3d291803571",
            "2401a653399c4285bbc7788fb6c39b86",
            "010c084151994d6c8590ae709061c1a8",
            "9bfc00396e1248fcb5aafaada3f86632",
            "e1611e94ca784698a7203b4740fda090",
            "75250805909f4309a688384c760a0d52",
            "5a157d97232c414abf0d23fcfeec39e0",
            "cc732b7ccd5149f8b33b4eec9e15de55",
            "97286c6ada8249078e9c15eab9cddc3c",
            "44390fe447c9490986f709e5f0fb9de2",
            "2508db4b9a87436488f848dd1f0bed60",
            "703414725e624dc6a2f3b29d1f371248",
            "b5574d072a4947f89f228d21a7e44d02",
            "22208ea4e9d64e36aefbe731916b7b94",
            "ef8526c65ac34726b0c99b45976159e5"
          ]
        },
        "id": "9o91PmSSkZg3",
        "outputId": "8fd97295-9fb2-4b5f-b239-42ddfcc16aa1"
      },
      "outputs": [
        {
          "data": {
            "application/vnd.jupyter.widget-view+json": {
              "model_id": "5486403534ea442aae143eee951822f4",
              "version_major": 2,
              "version_minor": 0
            },
            "text/plain": [
              "config.json:   0%|          | 0.00/535 [00:00<?, ?B/s]"
            ]
          },
          "metadata": {},
          "output_type": "display_data"
        },
        {
          "data": {
            "application/vnd.jupyter.widget-view+json": {
              "model_id": "7fad615768e94f15823996f5ed0104e9",
              "version_major": 2,
              "version_minor": 0
            },
            "text/plain": [
              "pytorch_model.bin:   0%|          | 0.00/369M [00:00<?, ?B/s]"
            ]
          },
          "metadata": {},
          "output_type": "display_data"
        },
        {
          "name": "stderr",
          "output_type": "stream",
          "text": [
            "/usr/local/lib/python3.11/dist-packages/transformers/optimization.py:591: FutureWarning: This implementation of AdamW is deprecated and will be removed in a future version. Use the PyTorch implementation torch.optim.AdamW instead, or set `no_deprecation_warning=True` to disable this warning\n",
            "  warnings.warn(\n",
            "<ipython-input-69-d19b40fc9b48>:13: FutureWarning: `torch.cuda.amp.GradScaler(args...)` is deprecated. Please use `torch.amp.GradScaler('cuda', args...)` instead.\n",
            "  scaler = GradScaler()\n",
            "Epoch 1/10 [Training]:   0%|          | 0/11953 [00:00<?, ?it/s]<ipython-input-69-d19b40fc9b48>:46: FutureWarning: `torch.cuda.amp.autocast(args...)` is deprecated. Please use `torch.amp.autocast('cuda', args...)` instead.\n",
            "  with autocast():\n"
          ]
        },
        {
          "data": {
            "application/vnd.jupyter.widget-view+json": {
              "model_id": "e1611e94ca784698a7203b4740fda090",
              "version_major": 2,
              "version_minor": 0
            },
            "text/plain": [
              "model.safetensors:   0%|          | 0.00/369M [00:00<?, ?B/s]"
            ]
          },
          "metadata": {},
          "output_type": "display_data"
        },
        {
          "name": "stderr",
          "output_type": "stream",
          "text": [
            "Epoch 1/10 [Training]: 100%|██████████| 11953/11953 [09:47<00:00, 20.36it/s]\n",
            "Epoch 1/10 [Validation]:   0%|          | 0/1495 [00:00<?, ?it/s]<ipython-input-69-d19b40fc9b48>:75: FutureWarning: `torch.cuda.amp.autocast(args...)` is deprecated. Please use `torch.amp.autocast('cuda', args...)` instead.\n",
            "  with autocast():\n",
            "Epoch 1/10 [Validation]: 100%|██████████| 1495/1495 [00:24<00:00, 60.97it/s]\n"
          ]
        },
        {
          "name": "stdout",
          "output_type": "stream",
          "text": [
            "Epoch 1/10\n",
            "Train Loss: 4.9113, Train Accuracy: 0.2924\n",
            "Val Loss: 3.4292, Val Accuracy: 0.4578\n"
          ]
        },
        {
          "name": "stderr",
          "output_type": "stream",
          "text": [
            "Epoch 2/10 [Training]: 100%|██████████| 11953/11953 [09:40<00:00, 20.59it/s]\n",
            "Epoch 2/10 [Validation]: 100%|██████████| 1495/1495 [00:24<00:00, 61.63it/s]\n"
          ]
        },
        {
          "name": "stdout",
          "output_type": "stream",
          "text": [
            "Epoch 2/10\n",
            "Train Loss: 2.8292, Train Accuracy: 0.5155\n",
            "Val Loss: 2.0766, Val Accuracy: 0.5619\n"
          ]
        },
        {
          "name": "stderr",
          "output_type": "stream",
          "text": [
            "Epoch 3/10 [Training]: 100%|██████████| 11953/11953 [09:36<00:00, 20.73it/s]\n",
            "Epoch 3/10 [Validation]: 100%|██████████| 1495/1495 [00:23<00:00, 62.76it/s]\n"
          ]
        },
        {
          "name": "stdout",
          "output_type": "stream",
          "text": [
            "Epoch 3/10\n",
            "Train Loss: 1.8940, Train Accuracy: 0.5905\n",
            "Val Loss: 1.6335, Val Accuracy: 0.6082\n"
          ]
        },
        {
          "name": "stderr",
          "output_type": "stream",
          "text": [
            "Epoch 4/10 [Training]: 100%|██████████| 11953/11953 [09:40<00:00, 20.58it/s]\n",
            "Epoch 4/10 [Validation]: 100%|██████████| 1495/1495 [00:24<00:00, 61.16it/s]\n"
          ]
        },
        {
          "name": "stdout",
          "output_type": "stream",
          "text": [
            "Epoch 4/10\n",
            "Train Loss: 1.5235, Train Accuracy: 0.6283\n",
            "Val Loss: 1.4552, Val Accuracy: 0.6305\n"
          ]
        },
        {
          "name": "stderr",
          "output_type": "stream",
          "text": [
            "Epoch 5/10 [Training]: 100%|██████████| 11953/11953 [09:39<00:00, 20.61it/s]\n",
            "Epoch 5/10 [Validation]: 100%|██████████| 1495/1495 [00:24<00:00, 61.61it/s]\n"
          ]
        },
        {
          "name": "stdout",
          "output_type": "stream",
          "text": [
            "Epoch 5/10\n",
            "Train Loss: 1.3354, Train Accuracy: 0.6549\n",
            "Val Loss: 1.3654, Val Accuracy: 0.6482\n"
          ]
        },
        {
          "name": "stderr",
          "output_type": "stream",
          "text": [
            "Epoch 6/10 [Training]: 100%|██████████| 11953/11953 [09:41<00:00, 20.56it/s]\n",
            "Epoch 6/10 [Validation]: 100%|██████████| 1495/1495 [00:24<00:00, 62.13it/s]\n"
          ]
        },
        {
          "name": "stdout",
          "output_type": "stream",
          "text": [
            "Epoch 6/10\n",
            "Train Loss: 1.2185, Train Accuracy: 0.6743\n",
            "Val Loss: 1.3076, Val Accuracy: 0.6598\n"
          ]
        },
        {
          "name": "stderr",
          "output_type": "stream",
          "text": [
            "Epoch 7/10 [Training]: 100%|██████████| 11953/11953 [09:41<00:00, 20.57it/s]\n",
            "Epoch 7/10 [Validation]: 100%|██████████| 1495/1495 [00:24<00:00, 60.19it/s]\n"
          ]
        },
        {
          "name": "stdout",
          "output_type": "stream",
          "text": [
            "Epoch 7/10\n",
            "Train Loss: 1.1318, Train Accuracy: 0.6907\n",
            "Val Loss: 1.2591, Val Accuracy: 0.6687\n"
          ]
        },
        {
          "name": "stderr",
          "output_type": "stream",
          "text": [
            "Epoch 8/10 [Training]: 100%|██████████| 11953/11953 [09:40<00:00, 20.59it/s]\n",
            "Epoch 8/10 [Validation]: 100%|██████████| 1495/1495 [00:24<00:00, 60.51it/s]\n"
          ]
        },
        {
          "name": "stdout",
          "output_type": "stream",
          "text": [
            "Epoch 8/10\n",
            "Train Loss: 1.0593, Train Accuracy: 0.7046\n",
            "Val Loss: 1.2315, Val Accuracy: 0.6771\n"
          ]
        },
        {
          "name": "stderr",
          "output_type": "stream",
          "text": [
            "Epoch 9/10 [Training]: 100%|██████████| 11953/11953 [09:47<00:00, 20.34it/s]\n",
            "Epoch 9/10 [Validation]: 100%|██████████| 1495/1495 [00:25<00:00, 59.16it/s]\n"
          ]
        },
        {
          "name": "stdout",
          "output_type": "stream",
          "text": [
            "Epoch 9/10\n",
            "Train Loss: 0.9961, Train Accuracy: 0.7199\n",
            "Val Loss: 1.2197, Val Accuracy: 0.6824\n"
          ]
        },
        {
          "name": "stderr",
          "output_type": "stream",
          "text": [
            "Epoch 10/10 [Training]: 100%|██████████| 11953/11953 [09:56<00:00, 20.06it/s]\n",
            "Epoch 10/10 [Validation]: 100%|██████████| 1495/1495 [00:24<00:00, 61.28it/s]\n"
          ]
        },
        {
          "name": "stdout",
          "output_type": "stream",
          "text": [
            "Epoch 10/10\n",
            "Train Loss: 0.9435, Train Accuracy: 0.7313\n",
            "Val Loss: 1.1952, Val Accuracy: 0.6911\n"
          ]
        },
        {
          "name": "stderr",
          "output_type": "stream",
          "text": [
            "<ipython-input-69-d19b40fc9b48>:109: FutureWarning: You are using `torch.load` with `weights_only=False` (the current default value), which uses the default pickle module implicitly. It is possible to construct malicious pickle data which will execute arbitrary code during unpickling (See https://github.com/pytorch/pytorch/blob/main/SECURITY.md#untrusted-models for more details). In a future release, the default value for `weights_only` will be flipped to `True`. This limits the functions that could be executed during unpickling. Arbitrary objects will no longer be allowed to be loaded via this mode unless they are explicitly allowlisted by the user via `torch.serialization.add_safe_globals`. We recommend you start setting `weights_only=True` for any use case where you don't have full control of the loaded file. Please open an issue on GitHub for any issues related to this experimental feature.\n",
            "  model.load_state_dict(torch.load(best_model_path))\n",
            "Testing:   0%|          | 0/1495 [00:00<?, ?it/s]\n"
          ]
        },
        {
          "ename": "NameError",
          "evalue": "name 'test_probabilities' is not defined",
          "output_type": "error",
          "traceback": [
            "\u001b[0;31m---------------------------------------------------------------------------\u001b[0m",
            "\u001b[0;31mNameError\u001b[0m                                 Traceback (most recent call last)",
            "\u001b[0;32m<ipython-input-69-d19b40fc9b48>\u001b[0m in \u001b[0;36m<cell line: 0>\u001b[0;34m()\u001b[0m\n\u001b[1;32m    129\u001b[0m         \u001b[0;31m# 확률값 저장 (softmax)\u001b[0m\u001b[0;34m\u001b[0m\u001b[0;34m\u001b[0m\u001b[0m\n\u001b[1;32m    130\u001b[0m         \u001b[0mprobabilities\u001b[0m \u001b[0;34m=\u001b[0m \u001b[0mF\u001b[0m\u001b[0;34m.\u001b[0m\u001b[0msoftmax\u001b[0m\u001b[0;34m(\u001b[0m\u001b[0mlogits\u001b[0m\u001b[0;34m,\u001b[0m \u001b[0mdim\u001b[0m\u001b[0;34m=\u001b[0m\u001b[0;36m1\u001b[0m\u001b[0;34m)\u001b[0m  \u001b[0;31m# 각 클래스에 대한 확률\u001b[0m\u001b[0;34m\u001b[0m\u001b[0;34m\u001b[0m\u001b[0m\n\u001b[0;32m--> 131\u001b[0;31m         \u001b[0mtest_probabilities\u001b[0m\u001b[0;34m.\u001b[0m\u001b[0mextend\u001b[0m\u001b[0;34m(\u001b[0m\u001b[0mprobabilities\u001b[0m\u001b[0;34m.\u001b[0m\u001b[0mcpu\u001b[0m\u001b[0;34m(\u001b[0m\u001b[0;34m)\u001b[0m\u001b[0;34m.\u001b[0m\u001b[0mnumpy\u001b[0m\u001b[0;34m(\u001b[0m\u001b[0;34m)\u001b[0m\u001b[0;34m)\u001b[0m\u001b[0;34m\u001b[0m\u001b[0;34m\u001b[0m\u001b[0m\n\u001b[0m\u001b[1;32m    132\u001b[0m \u001b[0;34m\u001b[0m\u001b[0m\n\u001b[1;32m    133\u001b[0m \u001b[0;31m# F1 Score, Recall, ROC AUC 계산 (테스트 세트에서)\u001b[0m\u001b[0;34m\u001b[0m\u001b[0;34m\u001b[0m\u001b[0m\n",
            "\u001b[0;31mNameError\u001b[0m: name 'test_probabilities' is not defined"
          ]
        }
      ],
      "source": [
        "from sklearn.metrics import precision_recall_fscore_support, roc_auc_score\n",
        "import numpy as np\n",
        "\n",
        "# 모델 준비\n",
        "bert_model = BertModel.from_pretrained('skt/kobert-base-v1', return_dict=True)\n",
        "model = BERTClassifier(bert_model, len(dataset.label_to_index))\n",
        "model.to(device)\n",
        "\n",
        "# 옵티마이저 및 스케줄러\n",
        "optimizer = AdamW(model.parameters(), lr=LEARNING_RATE)\n",
        "scheduler = get_scheduler(\"linear\", optimizer=optimizer, num_warmup_steps=0, num_training_steps=len(train_loader) * EPOCHS)\n",
        "criterion = nn.CrossEntropyLoss(weight=class_weights_tensor)\n",
        "scaler = GradScaler()\n",
        "\n",
        "# 정확도 계산 함수\n",
        "def calculate_accuracy(logits, labels):\n",
        "    preds = torch.argmax(logits, dim=1)\n",
        "    correct = (preds == labels).sum().item()\n",
        "    return correct / len(labels)\n",
        "\n",
        "# Early Stopping 설정\n",
        "best_val_loss = float('inf')\n",
        "patience = 3  # 성능 향상이 없는 epoch 수\n",
        "patience_counter = 0\n",
        "\n",
        "# 모델 저장 경로\n",
        "best_model_path = \"best_model.pth\"\n",
        "\n",
        "# 학습 및 검증 기록을 저장할 리스트\n",
        "train_losses, train_accuracies = [], []\n",
        "val_losses, val_accuracies = [], []\n",
        "\n",
        "# 학습 및 검증 루프\n",
        "for epoch in range(EPOCHS):\n",
        "    model.train()\n",
        "    total_loss = 0\n",
        "    total_acc = 0\n",
        "\n",
        "    for i, batch in enumerate(tqdm(train_loader, desc=f\"Epoch {epoch + 1}/{EPOCHS} [Training]\")):\n",
        "        input_ids = batch['input_ids'].to(device)\n",
        "        attention_mask = batch['attention_mask'].to(device)\n",
        "        labels = batch['label'].to(device)\n",
        "\n",
        "        optimizer.zero_grad()\n",
        "\n",
        "        with autocast():\n",
        "            logits = model(input_ids, attention_mask)\n",
        "            loss = criterion(logits, labels) / GRAD_ACCUMULATION_STEPS\n",
        "\n",
        "        scaler.scale(loss).backward()\n",
        "\n",
        "        if (i + 1) % GRAD_ACCUMULATION_STEPS == 0 or (i + 1) == len(train_loader):\n",
        "            scaler.step(optimizer)\n",
        "            scaler.update()\n",
        "            scheduler.step()\n",
        "            optimizer.zero_grad()\n",
        "\n",
        "        total_loss += loss.item() * GRAD_ACCUMULATION_STEPS\n",
        "        total_acc += calculate_accuracy(logits, labels)\n",
        "\n",
        "    avg_train_loss = total_loss / len(train_loader)\n",
        "    avg_train_acc = total_acc / len(train_loader)\n",
        "\n",
        "    # 검증 루프\n",
        "    model.eval()\n",
        "    val_loss = 0\n",
        "    val_acc = 0\n",
        "\n",
        "    with torch.no_grad():\n",
        "        for batch in tqdm(val_loader, desc=f\"Epoch {epoch + 1}/{EPOCHS} [Validation]\"):\n",
        "            input_ids = batch['input_ids'].to(device)\n",
        "            attention_mask = batch['attention_mask'].to(device)\n",
        "            labels = batch['label'].to(device)\n",
        "\n",
        "            with autocast():\n",
        "                logits = model(input_ids, attention_mask)\n",
        "                loss = criterion(logits, labels)\n",
        "\n",
        "            val_loss += loss.item()\n",
        "            val_acc += calculate_accuracy(logits, labels)\n",
        "\n",
        "    avg_val_loss = val_loss / len(val_loader)\n",
        "    avg_val_acc = val_acc / len(val_loader)\n",
        "\n",
        "    # 학습/검증 손실 및 정확도 출력\n",
        "    print(f\"Epoch {epoch + 1}/{EPOCHS}\")\n",
        "    print(f\"Train Loss: {avg_train_loss:.4f}, Train Accuracy: {avg_train_acc:.4f}\")\n",
        "    print(f\"Val Loss: {avg_val_loss:.4f}, Val Accuracy: {avg_val_acc:.4f}\")\n",
        "\n",
        "    # Early Stopping 체크\n",
        "    if avg_val_loss < best_val_loss:\n",
        "        best_val_loss = avg_val_loss\n",
        "        patience_counter = 0  # 성능 향상 시 카운터 초기화\n",
        "        torch.save(model.state_dict(), best_model_path)  # 가장 좋은 모델 저장\n",
        "    else:\n",
        "        patience_counter += 1\n",
        "\n",
        "    if patience_counter >= patience:\n",
        "        print(f\"Early stopping at epoch {epoch + 1} due to no improvement in validation loss.\")\n",
        "        break\n",
        "\n",
        "    # 리스트에 값 저장\n",
        "    train_losses.append(avg_train_loss)\n",
        "    train_accuracies.append(avg_train_acc)\n",
        "    val_losses.append(avg_val_loss)\n",
        "    val_accuracies.append(avg_val_acc)\n",
        "\n",
        "# 🔹 학습이 끝난 후, 가장 잘 나온 모델 불러오기\n",
        "model.load_state_dict(torch.load(best_model_path))\n",
        "\n",
        "# 🔹 학습이 끝난 후 테스트 세트에서 F1, Recall, ROC AUC 계산\n",
        "model.eval()\n",
        "test_preds = []\n",
        "test_labels = []\n",
        "\n",
        "with torch.no_grad():\n",
        "    for batch in tqdm(test_loader, desc=\"Testing\"):\n",
        "        input_ids = batch['input_ids'].to(device)\n",
        "        attention_mask = batch['attention_mask'].to(device)\n",
        "        labels = batch['label'].to(device)\n",
        "\n",
        "        logits = model(input_ids, attention_mask)\n",
        "\n",
        "        # 예측값 저장\n",
        "        preds = torch.argmax(logits, dim=1)\n",
        "        test_preds.extend(preds.cpu().numpy())\n",
        "        test_labels.extend(labels.cpu().numpy())\n",
        "\n",
        "        # 확률값 저장 (softmax)\n",
        "        probabilities = F.softmax(logits, dim=1)  # 각 클래스에 대한 확률\n",
        "        test_probabilities.extend(probabilities.cpu().numpy())\n",
        "\n",
        "# F1 Score, Recall, ROC AUC 계산 (테스트 세트에서)\n",
        "f1_micro = precision_recall_fscore_support(test_labels, test_preds, average=\"micro\")[2]\n",
        "f1_macro = precision_recall_fscore_support(test_labels, test_preds, average=\"macro\")[2]\n",
        "\n",
        "recall_micro = precision_recall_fscore_support(test_labels, test_preds, average=\"micro\")[1]\n",
        "recall_macro = precision_recall_fscore_support(test_labels, test_preds, average=\"macro\")[1]\n",
        "\n",
        "try:\n",
        "    roc_auc = roc_auc_score(test_labels, test_probabilities, multi_class=\"ovr\")\n",
        "except ValueError:\n",
        "    roc_auc = 0  # 예외 처리 (ROC AUC 계산 불가할 경우 0으로 설정)\n",
        "\n",
        "# Accuracy 계산\n",
        "test_accuracy = calculate_accuracy(np.array(test_preds), np.array(test_labels))\n",
        "\n",
        "# 테스트 세트 성능 출력\n",
        "print(f\"\\nTest Set Performance:\")\n",
        "print(f\"Accuracy: {test_accuracy:.4f}\")\n",
        "print(f\"F1 Micro: {f1_micro:.4f}, F1 Macro: {f1_macro:.4f}\")\n",
        "print(f\"Recall Micro: {recall_micro:.4f}, Recall Macro: {recall_macro:.4f}, ROC AUC: {roc_auc:.4f}\")\n",
        "\n",
        "# 🔹 학습이 끝난 후 결과 시각화\n",
        "epochs_range = range(1, len(train_losses) + 1)\n",
        "\n",
        "plt.figure(figsize=(15, 7))\n",
        "\n",
        "# Loss 그래프\n",
        "plt.subplot(2, 2, 1)\n",
        "plt.plot(epochs_range, train_losses, label=\"Train Loss\", marker='o')\n",
        "plt.plot(epochs_range, val_losses, label=\"Validation Loss\", marker='o')\n",
        "plt.xlabel(\"Epochs\")\n",
        "plt.ylabel(\"Loss\")\n",
        "plt.title(\"Training & Validation Loss\")\n",
        "plt.legend()\n",
        "plt.grid()\n",
        "\n",
        "# Accuracy 그래프\n",
        "plt.subplot(2, 2, 2)\n",
        "plt.plot(epochs_range, train_accuracies, label=\"Train Accuracy\", marker='o')\n",
        "plt.plot(epochs_range, val_accuracies, label=\"Validation Accuracy\", marker='o')\n",
        "plt.xlabel(\"Epochs\")\n",
        "plt.ylabel(\"Accuracy\")\n",
        "plt.title(\"Training & Validation Accuracy\")\n",
        "plt.legend()\n",
        "plt.grid()\n",
        "\n",
        "plt.tight_layout()\n",
        "plt.show()"
      ]
    },
    {
      "cell_type": "code",
      "execution_count": null,
      "metadata": {
        "id": "0shAwZSzdQGC"
      },
      "outputs": [],
      "source": [
        "from sklearn.metrics import precision_recall_fscore_support, roc_auc_score\n",
        "import numpy as np\n",
        "\n",
        "# 모델 준비\n",
        "bert_model = BertModel.from_pretrained('skt/kobert-base-v1', return_dict=True)\n",
        "model = BERTClassifier(bert_model, len(dataset.label_to_index))\n",
        "model.to(device)\n",
        "\n",
        "# 옵티마이저 및 스케줄러\n",
        "optimizer = AdamW(model.parameters(), lr=LEARNING_RATE)\n",
        "scheduler = get_scheduler(\"linear\", optimizer=optimizer, num_warmup_steps=0, num_training_steps=len(train_loader) * EPOCHS)\n",
        "criterion = nn.CrossEntropyLoss(weight=class_weights_tensor)\n",
        "scaler = GradScaler()\n",
        "\n",
        "# 정확도 계산 함수\n",
        "def calculate_accuracy(logits, labels):\n",
        "    preds = torch.argmax(logits, dim=1)\n",
        "    correct = (preds == labels).sum().item()\n",
        "    return correct / len(labels)\n",
        "\n",
        "# Early Stopping 설정\n",
        "best_val_loss = float('inf')\n",
        "patience = 3  # 성능 향상이 없는 epoch 수\n",
        "patience_counter = 0\n",
        "\n",
        "# 모델 저장 경로\n",
        "best_model_path = \"best_model.pth\"\n",
        "\n",
        "# 학습 및 검증 기록을 저장할 리스트\n",
        "train_losses, train_accuracies = [], []\n",
        "val_losses, val_accuracies = [], []\n",
        "\n",
        "# 학습 및 검증 루프\n",
        "for epoch in range(EPOCHS):\n",
        "    model.train()\n",
        "    total_loss = 0\n",
        "    total_acc = 0\n",
        "\n",
        "    for i, batch in enumerate(tqdm(train_loader, desc=f\"Epoch {epoch + 1}/{EPOCHS} [Training]\")):\n",
        "        input_ids = batch['input_ids'].to(device)\n",
        "        attention_mask = batch['attention_mask'].to(device)\n",
        "        labels = batch['label'].to(device)\n",
        "\n",
        "        optimizer.zero_grad()\n",
        "\n",
        "        with autocast():\n",
        "            logits = model(input_ids, attention_mask)\n",
        "            loss = criterion(logits, labels) / GRAD_ACCUMULATION_STEPS\n",
        "\n",
        "        scaler.scale(loss).backward()\n",
        "\n",
        "        if (i + 1) % GRAD_ACCUMULATION_STEPS == 0 or (i + 1) == len(train_loader):\n",
        "            scaler.step(optimizer)\n",
        "            scaler.update()\n",
        "            scheduler.step()\n",
        "            optimizer.zero_grad()\n",
        "\n",
        "        total_loss += loss.item() * GRAD_ACCUMULATION_STEPS\n",
        "        total_acc += calculate_accuracy(logits, labels)\n",
        "\n",
        "    avg_train_loss = total_loss / len(train_loader)\n",
        "    avg_train_acc = total_acc / len(train_loader)\n",
        "\n",
        "    # 검증 루프\n",
        "    model.eval()\n",
        "    val_loss = 0\n",
        "    val_acc = 0\n",
        "\n",
        "    with torch.no_grad():\n",
        "        for batch in tqdm(val_loader, desc=f\"Epoch {epoch + 1}/{EPOCHS} [Validation]\"):\n",
        "            input_ids = batch['input_ids'].to(device)\n",
        "            attention_mask = batch['attention_mask'].to(device)\n",
        "            labels = batch['label'].to(device)\n",
        "\n",
        "            with autocast():\n",
        "                logits = model(input_ids, attention_mask)\n",
        "                loss = criterion(logits, labels)\n",
        "\n",
        "            val_loss += loss.item()\n",
        "            val_acc += calculate_accuracy(logits, labels)\n",
        "\n",
        "    avg_val_loss = val_loss / len(val_loader)\n",
        "    avg_val_acc = val_acc / len(val_loader)\n",
        "\n",
        "    # 학습/검증 손실 및 정확도 출력\n",
        "    print(f\"Epoch {epoch + 1}/{EPOCHS}\")\n",
        "    print(f\"Train Loss: {avg_train_loss:.4f}, Train Accuracy: {avg_train_acc:.4f}\")\n",
        "    print(f\"Val Loss: {avg_val_loss:.4f}, Val Accuracy: {avg_val_acc:.4f}\")\n",
        "\n",
        "    # Early Stopping 체크\n",
        "    if avg_val_loss < best_val_loss:\n",
        "        best_val_loss = avg_val_loss\n",
        "        patience_counter = 0  # 성능 향상 시 카운터 초기화\n",
        "        torch.save(model.state_dict(), best_model_path)  # 가장 좋은 모델 저장\n",
        "    else:\n",
        "        patience_counter += 1\n",
        "\n",
        "    if patience_counter >= patience:\n",
        "        print(f\"Early stopping at epoch {epoch + 1} due to no improvement in validation loss.\")\n",
        "        break\n",
        "\n",
        "    # 리스트에 값 저장\n",
        "    train_losses.append(avg_train_loss)\n",
        "    train_accuracies.append(avg_train_acc)\n",
        "    val_losses.append(avg_val_loss)\n",
        "    val_accuracies.append(avg_val_acc)\n",
        "\n",
        "# 🔹 학습이 끝난 후, 가장 잘 나온 모델 불러오기\n",
        "model.load_state_dict(torch.load(best_model_path))\n",
        "\n",
        "# 🔹 학습이 끝난 후 테스트 세트에서 F1, Recall, ROC AUC 계산\n",
        "model.eval()\n",
        "test_preds = []\n",
        "test_labels = []\n",
        "\n",
        "with torch.no_grad():\n",
        "    for batch in tqdm(test_loader, desc=\"Testing\"):\n",
        "        input_ids = batch['input_ids'].to(device)\n",
        "        attention_mask = batch['attention_mask'].to(device)\n",
        "        labels = batch['label'].to(device)\n",
        "\n",
        "        logits = model(input_ids, attention_mask)\n",
        "\n",
        "        # 예측값 저장\n",
        "        preds = torch.argmax(logits, dim=1)\n",
        "        test_preds.extend(preds.cpu().numpy())\n",
        "        test_labels.extend(labels.cpu().numpy())\n",
        "\n",
        "        # 확률값 저장 (softmax)\n",
        "        probabilities = F.softmax(logits, dim=1)  # 각 클래스에 대한 확률\n",
        "        test_probabilities.extend(probabilities.cpu().numpy())\n",
        "\n",
        "# F1 Score, Recall, ROC AUC 계산 (테스트 세트에서)\n",
        "f1_micro = precision_recall_fscore_support(test_labels, test_preds, average=\"micro\")[2]\n",
        "f1_macro = precision_recall_fscore_support(test_labels, test_preds, average=\"macro\")[2]\n",
        "\n",
        "recall_micro = precision_recall_fscore_support(test_labels, test_preds, average=\"micro\")[1]\n",
        "recall_macro = precision_recall_fscore_support(test_labels, test_preds, average=\"macro\")[1]\n",
        "\n",
        "try:\n",
        "    roc_auc = roc_auc_score(test_labels, test_probabilities, multi_class=\"ovr\")\n",
        "except ValueError:\n",
        "    roc_auc = 0  # 예외 처리 (ROC AUC 계산 불가할 경우 0으로 설정)\n",
        "\n",
        "# Accuracy 계산\n",
        "test_accuracy = calculate_accuracy(np.array(test_preds), np.array(test_labels))\n",
        "\n",
        "# 테스트 세트 성능 출력\n",
        "print(f\"\\nTest Set Performance:\")\n",
        "print(f\"Accuracy: {test_accuracy:.4f}\")\n",
        "print(f\"F1 Micro: {f1_micro:.4f}, F1 Macro: {f1_macro:.4f}\")\n",
        "print(f\"Recall Micro: {recall_micro:.4f}, Recall Macro: {recall_macro:.4f}, ROC AUC: {roc_auc:.4f}\")\n",
        "\n",
        "# 🔹 학습이 끝난 후 결과 시각화\n",
        "epochs_range = range(1, len(train_losses) + 1)\n",
        "\n",
        "plt.figure(figsize=(15, 7))\n",
        "\n",
        "# Loss 그래프\n",
        "plt.subplot(2, 2, 1)\n",
        "plt.plot(epochs_range, train_losses, label=\"Train Loss\", marker='o')\n",
        "plt.plot(epochs_range, val_losses, label=\"Validation Loss\", marker='o')\n",
        "plt.xlabel(\"Epochs\")\n",
        "plt.ylabel(\"Loss\")\n",
        "plt.title(\"Training & Validation Loss\")\n",
        "plt.legend()\n",
        "plt.grid()\n",
        "\n",
        "# Accuracy 그래프\n",
        "plt.subplot(2, 2, 2)\n",
        "plt.plot(epochs_range, train_accuracies, label=\"Train Accuracy\", marker='o')\n",
        "plt.plot(epochs_range, val_accuracies, label=\"Validation Accuracy\", marker='o')\n",
        "plt.xlabel(\"Epochs\")\n",
        "plt.ylabel(\"Accuracy\")\n",
        "plt.title(\"Training & Validation Accuracy\")\n",
        "plt.legend()\n",
        "plt.grid()\n",
        "\n",
        "plt.tight_layout()\n",
        "plt.show()"
      ]
    }
  ],
  "metadata": {
    "accelerator": "GPU",
    "colab": {
      "gpuType": "T4",
      "machine_shape": "hm",
      "provenance": [],
      "toc_visible": true,
      "mount_file_id": "1D9bWbjSY_OcuAYOc3dxIQ1BpXRkTXueE",
      "authorship_tag": "ABX9TyMS59DgLjDayY/4pAC5s3vg",
      "include_colab_link": true
    },
    "kernelspec": {
      "display_name": "Python 3",
      "name": "python3"
    },
    "language_info": {
      "name": "python"
    },
    "widgets": {
      "application/vnd.jupyter.widget-state+json": {
        "008da5b447bc433a97945931176974a3": {
          "model_module": "@jupyter-widgets/controls",
          "model_module_version": "1.5.0",
          "model_name": "DescriptionStyleModel",
          "state": {
            "_model_module": "@jupyter-widgets/controls",
            "_model_module_version": "1.5.0",
            "_model_name": "DescriptionStyleModel",
            "_view_count": null,
            "_view_module": "@jupyter-widgets/base",
            "_view_module_version": "1.2.0",
            "_view_name": "StyleView",
            "description_width": ""
          }
        },
        "010c084151994d6c8590ae709061c1a8": {
          "model_module": "@jupyter-widgets/base",
          "model_module_version": "1.2.0",
          "model_name": "LayoutModel",
          "state": {
            "_model_module": "@jupyter-widgets/base",
            "_model_module_version": "1.2.0",
            "_model_name": "LayoutModel",
            "_view_count": null,
            "_view_module": "@jupyter-widgets/base",
            "_view_module_version": "1.2.0",
            "_view_name": "LayoutView",
            "align_content": null,
            "align_items": null,
            "align_self": null,
            "border": null,
            "bottom": null,
            "display": null,
            "flex": null,
            "flex_flow": null,
            "grid_area": null,
            "grid_auto_columns": null,
            "grid_auto_flow": null,
            "grid_auto_rows": null,
            "grid_column": null,
            "grid_gap": null,
            "grid_row": null,
            "grid_template_areas": null,
            "grid_template_columns": null,
            "grid_template_rows": null,
            "height": null,
            "justify_content": null,
            "justify_items": null,
            "left": null,
            "margin": null,
            "max_height": null,
            "max_width": null,
            "min_height": null,
            "min_width": null,
            "object_fit": null,
            "object_position": null,
            "order": null,
            "overflow": null,
            "overflow_x": null,
            "overflow_y": null,
            "padding": null,
            "right": null,
            "top": null,
            "visibility": null,
            "width": null
          }
        },
        "01d3993c4d19492c93bfa22715bfa161": {
          "model_module": "@jupyter-widgets/controls",
          "model_module_version": "1.5.0",
          "model_name": "HTMLModel",
          "state": {
            "_dom_classes": [],
            "_model_module": "@jupyter-widgets/controls",
            "_model_module_version": "1.5.0",
            "_model_name": "HTMLModel",
            "_view_count": null,
            "_view_module": "@jupyter-widgets/controls",
            "_view_module_version": "1.5.0",
            "_view_name": "HTMLView",
            "description": "",
            "description_tooltip": null,
            "layout": "IPY_MODEL_557bedf5743b4878994f7ae3c6f0f628",
            "placeholder": "​",
            "style": "IPY_MODEL_3488bd9bc4794b098a0b557c9d52938c",
            "value": "config.json: 100%"
          }
        },
        "0535c13f5e8249e5aef932245c706956": {
          "model_module": "@jupyter-widgets/controls",
          "model_module_version": "1.5.0",
          "model_name": "ProgressStyleModel",
          "state": {
            "_model_module": "@jupyter-widgets/controls",
            "_model_module_version": "1.5.0",
            "_model_name": "ProgressStyleModel",
            "_view_count": null,
            "_view_module": "@jupyter-widgets/base",
            "_view_module_version": "1.2.0",
            "_view_name": "StyleView",
            "bar_color": null,
            "description_width": ""
          }
        },
        "1cbed476ca354df3a1440868db73baaa": {
          "model_module": "@jupyter-widgets/controls",
          "model_module_version": "1.5.0",
          "model_name": "FloatProgressModel",
          "state": {
            "_dom_classes": [],
            "_model_module": "@jupyter-widgets/controls",
            "_model_module_version": "1.5.0",
            "_model_name": "FloatProgressModel",
            "_view_count": null,
            "_view_module": "@jupyter-widgets/controls",
            "_view_module_version": "1.5.0",
            "_view_name": "ProgressView",
            "bar_style": "success",
            "description": "",
            "description_tooltip": null,
            "layout": "IPY_MODEL_3d6ae9e99db14485a84b73f40ba107c2",
            "max": 371427,
            "min": 0,
            "orientation": "horizontal",
            "style": "IPY_MODEL_775fb68f923448968b94dccfdb61754b",
            "value": 371427
          }
        },
        "22208ea4e9d64e36aefbe731916b7b94": {
          "model_module": "@jupyter-widgets/base",
          "model_module_version": "1.2.0",
          "model_name": "LayoutModel",
          "state": {
            "_model_module": "@jupyter-widgets/base",
            "_model_module_version": "1.2.0",
            "_model_name": "LayoutModel",
            "_view_count": null,
            "_view_module": "@jupyter-widgets/base",
            "_view_module_version": "1.2.0",
            "_view_name": "LayoutView",
            "align_content": null,
            "align_items": null,
            "align_self": null,
            "border": null,
            "bottom": null,
            "display": null,
            "flex": null,
            "flex_flow": null,
            "grid_area": null,
            "grid_auto_columns": null,
            "grid_auto_flow": null,
            "grid_auto_rows": null,
            "grid_column": null,
            "grid_gap": null,
            "grid_row": null,
            "grid_template_areas": null,
            "grid_template_columns": null,
            "grid_template_rows": null,
            "height": null,
            "justify_content": null,
            "justify_items": null,
            "left": null,
            "margin": null,
            "max_height": null,
            "max_width": null,
            "min_height": null,
            "min_width": null,
            "object_fit": null,
            "object_position": null,
            "order": null,
            "overflow": null,
            "overflow_x": null,
            "overflow_y": null,
            "padding": null,
            "right": null,
            "top": null,
            "visibility": null,
            "width": null
          }
        },
        "2401a653399c4285bbc7788fb6c39b86": {
          "model_module": "@jupyter-widgets/controls",
          "model_module_version": "1.5.0",
          "model_name": "ProgressStyleModel",
          "state": {
            "_model_module": "@jupyter-widgets/controls",
            "_model_module_version": "1.5.0",
            "_model_name": "ProgressStyleModel",
            "_view_count": null,
            "_view_module": "@jupyter-widgets/base",
            "_view_module_version": "1.2.0",
            "_view_name": "StyleView",
            "bar_color": null,
            "description_width": ""
          }
        },
        "2508db4b9a87436488f848dd1f0bed60": {
          "model_module": "@jupyter-widgets/controls",
          "model_module_version": "1.5.0",
          "model_name": "DescriptionStyleModel",
          "state": {
            "_model_module": "@jupyter-widgets/controls",
            "_model_module_version": "1.5.0",
            "_model_name": "DescriptionStyleModel",
            "_view_count": null,
            "_view_module": "@jupyter-widgets/base",
            "_view_module_version": "1.2.0",
            "_view_name": "StyleView",
            "description_width": ""
          }
        },
        "2e4d025ffb6b4e8e80ed16ed418701b8": {
          "model_module": "@jupyter-widgets/controls",
          "model_module_version": "1.5.0",
          "model_name": "HTMLModel",
          "state": {
            "_dom_classes": [],
            "_model_module": "@jupyter-widgets/controls",
            "_model_module_version": "1.5.0",
            "_model_name": "HTMLModel",
            "_view_count": null,
            "_view_module": "@jupyter-widgets/controls",
            "_view_module_version": "1.5.0",
            "_view_name": "HTMLView",
            "description": "",
            "description_tooltip": null,
            "layout": "IPY_MODEL_7ef3576f3b854963b0ccc0611e287426",
            "placeholder": "​",
            "style": "IPY_MODEL_e4e2cbcc46664b569b12379fec83bd62",
            "value": "pytorch_model.bin: 100%"
          }
        },
        "32c911610c4a46a0b6a9b1018bf2ecd4": {
          "model_module": "@jupyter-widgets/controls",
          "model_module_version": "1.5.0",
          "model_name": "FloatProgressModel",
          "state": {
            "_dom_classes": [],
            "_model_module": "@jupyter-widgets/controls",
            "_model_module_version": "1.5.0",
            "_model_name": "FloatProgressModel",
            "_view_count": null,
            "_view_module": "@jupyter-widgets/controls",
            "_view_module_version": "1.5.0",
            "_view_name": "ProgressView",
            "bar_style": "success",
            "description": "",
            "description_tooltip": null,
            "layout": "IPY_MODEL_e1d6810d1f9c46c5939400ca2bdc61b6",
            "max": 432,
            "min": 0,
            "orientation": "horizontal",
            "style": "IPY_MODEL_ffcc667d1c3b408ebe685599728d9069",
            "value": 432
          }
        },
        "3488bd9bc4794b098a0b557c9d52938c": {
          "model_module": "@jupyter-widgets/controls",
          "model_module_version": "1.5.0",
          "model_name": "DescriptionStyleModel",
          "state": {
            "_model_module": "@jupyter-widgets/controls",
            "_model_module_version": "1.5.0",
            "_model_name": "DescriptionStyleModel",
            "_view_count": null,
            "_view_module": "@jupyter-widgets/base",
            "_view_module_version": "1.2.0",
            "_view_name": "StyleView",
            "description_width": ""
          }
        },
        "3d6ae9e99db14485a84b73f40ba107c2": {
          "model_module": "@jupyter-widgets/base",
          "model_module_version": "1.2.0",
          "model_name": "LayoutModel",
          "state": {
            "_model_module": "@jupyter-widgets/base",
            "_model_module_version": "1.2.0",
            "_model_name": "LayoutModel",
            "_view_count": null,
            "_view_module": "@jupyter-widgets/base",
            "_view_module_version": "1.2.0",
            "_view_name": "LayoutView",
            "align_content": null,
            "align_items": null,
            "align_self": null,
            "border": null,
            "bottom": null,
            "display": null,
            "flex": null,
            "flex_flow": null,
            "grid_area": null,
            "grid_auto_columns": null,
            "grid_auto_flow": null,
            "grid_auto_rows": null,
            "grid_column": null,
            "grid_gap": null,
            "grid_row": null,
            "grid_template_areas": null,
            "grid_template_columns": null,
            "grid_template_rows": null,
            "height": null,
            "justify_content": null,
            "justify_items": null,
            "left": null,
            "margin": null,
            "max_height": null,
            "max_width": null,
            "min_height": null,
            "min_width": null,
            "object_fit": null,
            "object_position": null,
            "order": null,
            "overflow": null,
            "overflow_x": null,
            "overflow_y": null,
            "padding": null,
            "right": null,
            "top": null,
            "visibility": null,
            "width": null
          }
        },
        "3e486998cd65447e9173fdf3afb34359": {
          "model_module": "@jupyter-widgets/base",
          "model_module_version": "1.2.0",
          "model_name": "LayoutModel",
          "state": {
            "_model_module": "@jupyter-widgets/base",
            "_model_module_version": "1.2.0",
            "_model_name": "LayoutModel",
            "_view_count": null,
            "_view_module": "@jupyter-widgets/base",
            "_view_module_version": "1.2.0",
            "_view_name": "LayoutView",
            "align_content": null,
            "align_items": null,
            "align_self": null,
            "border": null,
            "bottom": null,
            "display": null,
            "flex": null,
            "flex_flow": null,
            "grid_area": null,
            "grid_auto_columns": null,
            "grid_auto_flow": null,
            "grid_auto_rows": null,
            "grid_column": null,
            "grid_gap": null,
            "grid_row": null,
            "grid_template_areas": null,
            "grid_template_columns": null,
            "grid_template_rows": null,
            "height": null,
            "justify_content": null,
            "justify_items": null,
            "left": null,
            "margin": null,
            "max_height": null,
            "max_width": null,
            "min_height": null,
            "min_width": null,
            "object_fit": null,
            "object_position": null,
            "order": null,
            "overflow": null,
            "overflow_x": null,
            "overflow_y": null,
            "padding": null,
            "right": null,
            "top": null,
            "visibility": null,
            "width": null
          }
        },
        "3f71e78f41b64a23bd44bf9aee675704": {
          "model_module": "@jupyter-widgets/controls",
          "model_module_version": "1.5.0",
          "model_name": "DescriptionStyleModel",
          "state": {
            "_model_module": "@jupyter-widgets/controls",
            "_model_module_version": "1.5.0",
            "_model_name": "DescriptionStyleModel",
            "_view_count": null,
            "_view_module": "@jupyter-widgets/base",
            "_view_module_version": "1.2.0",
            "_view_name": "StyleView",
            "description_width": ""
          }
        },
        "43fb0456ea644f9998670eb67c86f51a": {
          "model_module": "@jupyter-widgets/controls",
          "model_module_version": "1.5.0",
          "model_name": "DescriptionStyleModel",
          "state": {
            "_model_module": "@jupyter-widgets/controls",
            "_model_module_version": "1.5.0",
            "_model_name": "DescriptionStyleModel",
            "_view_count": null,
            "_view_module": "@jupyter-widgets/base",
            "_view_module_version": "1.2.0",
            "_view_name": "StyleView",
            "description_width": ""
          }
        },
        "44390fe447c9490986f709e5f0fb9de2": {
          "model_module": "@jupyter-widgets/base",
          "model_module_version": "1.2.0",
          "model_name": "LayoutModel",
          "state": {
            "_model_module": "@jupyter-widgets/base",
            "_model_module_version": "1.2.0",
            "_model_name": "LayoutModel",
            "_view_count": null,
            "_view_module": "@jupyter-widgets/base",
            "_view_module_version": "1.2.0",
            "_view_name": "LayoutView",
            "align_content": null,
            "align_items": null,
            "align_self": null,
            "border": null,
            "bottom": null,
            "display": null,
            "flex": null,
            "flex_flow": null,
            "grid_area": null,
            "grid_auto_columns": null,
            "grid_auto_flow": null,
            "grid_auto_rows": null,
            "grid_column": null,
            "grid_gap": null,
            "grid_row": null,
            "grid_template_areas": null,
            "grid_template_columns": null,
            "grid_template_rows": null,
            "height": null,
            "justify_content": null,
            "justify_items": null,
            "left": null,
            "margin": null,
            "max_height": null,
            "max_width": null,
            "min_height": null,
            "min_width": null,
            "object_fit": null,
            "object_position": null,
            "order": null,
            "overflow": null,
            "overflow_x": null,
            "overflow_y": null,
            "padding": null,
            "right": null,
            "top": null,
            "visibility": null,
            "width": null
          }
        },
        "487bd16782294d8daccd7f68f7e207ae": {
          "model_module": "@jupyter-widgets/controls",
          "model_module_version": "1.5.0",
          "model_name": "ProgressStyleModel",
          "state": {
            "_model_module": "@jupyter-widgets/controls",
            "_model_module_version": "1.5.0",
            "_model_name": "ProgressStyleModel",
            "_view_count": null,
            "_view_module": "@jupyter-widgets/base",
            "_view_module_version": "1.2.0",
            "_view_name": "StyleView",
            "bar_color": null,
            "description_width": ""
          }
        },
        "4ea243f7b9f94b33af453b5d2e1d62ff": {
          "model_module": "@jupyter-widgets/controls",
          "model_module_version": "1.5.0",
          "model_name": "HTMLModel",
          "state": {
            "_dom_classes": [],
            "_model_module": "@jupyter-widgets/controls",
            "_model_module_version": "1.5.0",
            "_model_name": "HTMLModel",
            "_view_count": null,
            "_view_module": "@jupyter-widgets/controls",
            "_view_module_version": "1.5.0",
            "_view_name": "HTMLView",
            "description": "",
            "description_tooltip": null,
            "layout": "IPY_MODEL_010c084151994d6c8590ae709061c1a8",
            "placeholder": "​",
            "style": "IPY_MODEL_9bfc00396e1248fcb5aafaada3f86632",
            "value": " 369M/369M [00:01&lt;00:00, 246MB/s]"
          }
        },
        "50ca50547faf4311873303ffa0c423f6": {
          "model_module": "@jupyter-widgets/base",
          "model_module_version": "1.2.0",
          "model_name": "LayoutModel",
          "state": {
            "_model_module": "@jupyter-widgets/base",
            "_model_module_version": "1.2.0",
            "_model_name": "LayoutModel",
            "_view_count": null,
            "_view_module": "@jupyter-widgets/base",
            "_view_module_version": "1.2.0",
            "_view_name": "LayoutView",
            "align_content": null,
            "align_items": null,
            "align_self": null,
            "border": null,
            "bottom": null,
            "display": null,
            "flex": null,
            "flex_flow": null,
            "grid_area": null,
            "grid_auto_columns": null,
            "grid_auto_flow": null,
            "grid_auto_rows": null,
            "grid_column": null,
            "grid_gap": null,
            "grid_row": null,
            "grid_template_areas": null,
            "grid_template_columns": null,
            "grid_template_rows": null,
            "height": null,
            "justify_content": null,
            "justify_items": null,
            "left": null,
            "margin": null,
            "max_height": null,
            "max_width": null,
            "min_height": null,
            "min_width": null,
            "object_fit": null,
            "object_position": null,
            "order": null,
            "overflow": null,
            "overflow_x": null,
            "overflow_y": null,
            "padding": null,
            "right": null,
            "top": null,
            "visibility": null,
            "width": null
          }
        },
        "5467e720aa0d45c4a831f321abfaebb4": {
          "model_module": "@jupyter-widgets/base",
          "model_module_version": "1.2.0",
          "model_name": "LayoutModel",
          "state": {
            "_model_module": "@jupyter-widgets/base",
            "_model_module_version": "1.2.0",
            "_model_name": "LayoutModel",
            "_view_count": null,
            "_view_module": "@jupyter-widgets/base",
            "_view_module_version": "1.2.0",
            "_view_name": "LayoutView",
            "align_content": null,
            "align_items": null,
            "align_self": null,
            "border": null,
            "bottom": null,
            "display": null,
            "flex": null,
            "flex_flow": null,
            "grid_area": null,
            "grid_auto_columns": null,
            "grid_auto_flow": null,
            "grid_auto_rows": null,
            "grid_column": null,
            "grid_gap": null,
            "grid_row": null,
            "grid_template_areas": null,
            "grid_template_columns": null,
            "grid_template_rows": null,
            "height": null,
            "justify_content": null,
            "justify_items": null,
            "left": null,
            "margin": null,
            "max_height": null,
            "max_width": null,
            "min_height": null,
            "min_width": null,
            "object_fit": null,
            "object_position": null,
            "order": null,
            "overflow": null,
            "overflow_x": null,
            "overflow_y": null,
            "padding": null,
            "right": null,
            "top": null,
            "visibility": null,
            "width": null
          }
        },
        "5486403534ea442aae143eee951822f4": {
          "model_module": "@jupyter-widgets/controls",
          "model_module_version": "1.5.0",
          "model_name": "HBoxModel",
          "state": {
            "_dom_classes": [],
            "_model_module": "@jupyter-widgets/controls",
            "_model_module_version": "1.5.0",
            "_model_name": "HBoxModel",
            "_view_count": null,
            "_view_module": "@jupyter-widgets/controls",
            "_view_module_version": "1.5.0",
            "_view_name": "HBoxView",
            "box_style": "",
            "children": [
              "IPY_MODEL_01d3993c4d19492c93bfa22715bfa161",
              "IPY_MODEL_8f9fdc149cce4ce582f33e97788211a8",
              "IPY_MODEL_6a1349e69e664ba8a59d4beb51cccef3"
            ],
            "layout": "IPY_MODEL_6bf2fe7bf6434332bf10da3bd9fd228f"
          }
        },
        "557bedf5743b4878994f7ae3c6f0f628": {
          "model_module": "@jupyter-widgets/base",
          "model_module_version": "1.2.0",
          "model_name": "LayoutModel",
          "state": {
            "_model_module": "@jupyter-widgets/base",
            "_model_module_version": "1.2.0",
            "_model_name": "LayoutModel",
            "_view_count": null,
            "_view_module": "@jupyter-widgets/base",
            "_view_module_version": "1.2.0",
            "_view_name": "LayoutView",
            "align_content": null,
            "align_items": null,
            "align_self": null,
            "border": null,
            "bottom": null,
            "display": null,
            "flex": null,
            "flex_flow": null,
            "grid_area": null,
            "grid_auto_columns": null,
            "grid_auto_flow": null,
            "grid_auto_rows": null,
            "grid_column": null,
            "grid_gap": null,
            "grid_row": null,
            "grid_template_areas": null,
            "grid_template_columns": null,
            "grid_template_rows": null,
            "height": null,
            "justify_content": null,
            "justify_items": null,
            "left": null,
            "margin": null,
            "max_height": null,
            "max_width": null,
            "min_height": null,
            "min_width": null,
            "object_fit": null,
            "object_position": null,
            "order": null,
            "overflow": null,
            "overflow_x": null,
            "overflow_y": null,
            "padding": null,
            "right": null,
            "top": null,
            "visibility": null,
            "width": null
          }
        },
        "5a157d97232c414abf0d23fcfeec39e0": {
          "model_module": "@jupyter-widgets/controls",
          "model_module_version": "1.5.0",
          "model_name": "FloatProgressModel",
          "state": {
            "_dom_classes": [],
            "_model_module": "@jupyter-widgets/controls",
            "_model_module_version": "1.5.0",
            "_model_name": "FloatProgressModel",
            "_view_count": null,
            "_view_module": "@jupyter-widgets/controls",
            "_view_module_version": "1.5.0",
            "_view_name": "ProgressView",
            "bar_style": "success",
            "description": "",
            "description_tooltip": null,
            "layout": "IPY_MODEL_703414725e624dc6a2f3b29d1f371248",
            "max": 368769808,
            "min": 0,
            "orientation": "horizontal",
            "style": "IPY_MODEL_b5574d072a4947f89f228d21a7e44d02",
            "value": 368769808
          }
        },
        "5f648c37a4f143d1ac1699760e6eca44": {
          "model_module": "@jupyter-widgets/controls",
          "model_module_version": "1.5.0",
          "model_name": "HTMLModel",
          "state": {
            "_dom_classes": [],
            "_model_module": "@jupyter-widgets/controls",
            "_model_module_version": "1.5.0",
            "_model_name": "HTMLModel",
            "_view_count": null,
            "_view_module": "@jupyter-widgets/controls",
            "_view_module_version": "1.5.0",
            "_view_name": "HTMLView",
            "description": "",
            "description_tooltip": null,
            "layout": "IPY_MODEL_6c560a6a2c4b4a7e87aa9a4d4e402037",
            "placeholder": "​",
            "style": "IPY_MODEL_3f71e78f41b64a23bd44bf9aee675704",
            "value": "special_tokens_map.json: 100%"
          }
        },
        "60d0b80de6f04f58af79c4c23a35f389": {
          "model_module": "@jupyter-widgets/controls",
          "model_module_version": "1.5.0",
          "model_name": "HBoxModel",
          "state": {
            "_dom_classes": [],
            "_model_module": "@jupyter-widgets/controls",
            "_model_module_version": "1.5.0",
            "_model_name": "HBoxModel",
            "_view_count": null,
            "_view_module": "@jupyter-widgets/controls",
            "_view_module_version": "1.5.0",
            "_view_name": "HBoxView",
            "box_style": "",
            "children": [
              "IPY_MODEL_e8e7bebfec794ff2baf7d9faf456b05f",
              "IPY_MODEL_1cbed476ca354df3a1440868db73baaa",
              "IPY_MODEL_ba57f66edec543c7b599690ab4e6f3d9"
            ],
            "layout": "IPY_MODEL_3e486998cd65447e9173fdf3afb34359"
          }
        },
        "6a1349e69e664ba8a59d4beb51cccef3": {
          "model_module": "@jupyter-widgets/controls",
          "model_module_version": "1.5.0",
          "model_name": "HTMLModel",
          "state": {
            "_dom_classes": [],
            "_model_module": "@jupyter-widgets/controls",
            "_model_module_version": "1.5.0",
            "_model_name": "HTMLModel",
            "_view_count": null,
            "_view_module": "@jupyter-widgets/controls",
            "_view_module_version": "1.5.0",
            "_view_name": "HTMLView",
            "description": "",
            "description_tooltip": null,
            "layout": "IPY_MODEL_7894c39f8c344cb98c731bb90abf3e08",
            "placeholder": "​",
            "style": "IPY_MODEL_dd0154b771594ddaa31f6c67829dc7e1",
            "value": " 535/535 [00:00&lt;00:00, 51.6kB/s]"
          }
        },
        "6bf2fe7bf6434332bf10da3bd9fd228f": {
          "model_module": "@jupyter-widgets/base",
          "model_module_version": "1.2.0",
          "model_name": "LayoutModel",
          "state": {
            "_model_module": "@jupyter-widgets/base",
            "_model_module_version": "1.2.0",
            "_model_name": "LayoutModel",
            "_view_count": null,
            "_view_module": "@jupyter-widgets/base",
            "_view_module_version": "1.2.0",
            "_view_name": "LayoutView",
            "align_content": null,
            "align_items": null,
            "align_self": null,
            "border": null,
            "bottom": null,
            "display": null,
            "flex": null,
            "flex_flow": null,
            "grid_area": null,
            "grid_auto_columns": null,
            "grid_auto_flow": null,
            "grid_auto_rows": null,
            "grid_column": null,
            "grid_gap": null,
            "grid_row": null,
            "grid_template_areas": null,
            "grid_template_columns": null,
            "grid_template_rows": null,
            "height": null,
            "justify_content": null,
            "justify_items": null,
            "left": null,
            "margin": null,
            "max_height": null,
            "max_width": null,
            "min_height": null,
            "min_width": null,
            "object_fit": null,
            "object_position": null,
            "order": null,
            "overflow": null,
            "overflow_x": null,
            "overflow_y": null,
            "padding": null,
            "right": null,
            "top": null,
            "visibility": null,
            "width": null
          }
        },
        "6c560a6a2c4b4a7e87aa9a4d4e402037": {
          "model_module": "@jupyter-widgets/base",
          "model_module_version": "1.2.0",
          "model_name": "LayoutModel",
          "state": {
            "_model_module": "@jupyter-widgets/base",
            "_model_module_version": "1.2.0",
            "_model_name": "LayoutModel",
            "_view_count": null,
            "_view_module": "@jupyter-widgets/base",
            "_view_module_version": "1.2.0",
            "_view_name": "LayoutView",
            "align_content": null,
            "align_items": null,
            "align_self": null,
            "border": null,
            "bottom": null,
            "display": null,
            "flex": null,
            "flex_flow": null,
            "grid_area": null,
            "grid_auto_columns": null,
            "grid_auto_flow": null,
            "grid_auto_rows": null,
            "grid_column": null,
            "grid_gap": null,
            "grid_row": null,
            "grid_template_areas": null,
            "grid_template_columns": null,
            "grid_template_rows": null,
            "height": null,
            "justify_content": null,
            "justify_items": null,
            "left": null,
            "margin": null,
            "max_height": null,
            "max_width": null,
            "min_height": null,
            "min_width": null,
            "object_fit": null,
            "object_position": null,
            "order": null,
            "overflow": null,
            "overflow_x": null,
            "overflow_y": null,
            "padding": null,
            "right": null,
            "top": null,
            "visibility": null,
            "width": null
          }
        },
        "6eeafa59c8004b52b9bf2c9f3a44c125": {
          "model_module": "@jupyter-widgets/base",
          "model_module_version": "1.2.0",
          "model_name": "LayoutModel",
          "state": {
            "_model_module": "@jupyter-widgets/base",
            "_model_module_version": "1.2.0",
            "_model_name": "LayoutModel",
            "_view_count": null,
            "_view_module": "@jupyter-widgets/base",
            "_view_module_version": "1.2.0",
            "_view_name": "LayoutView",
            "align_content": null,
            "align_items": null,
            "align_self": null,
            "border": null,
            "bottom": null,
            "display": null,
            "flex": null,
            "flex_flow": null,
            "grid_area": null,
            "grid_auto_columns": null,
            "grid_auto_flow": null,
            "grid_auto_rows": null,
            "grid_column": null,
            "grid_gap": null,
            "grid_row": null,
            "grid_template_areas": null,
            "grid_template_columns": null,
            "grid_template_rows": null,
            "height": null,
            "justify_content": null,
            "justify_items": null,
            "left": null,
            "margin": null,
            "max_height": null,
            "max_width": null,
            "min_height": null,
            "min_width": null,
            "object_fit": null,
            "object_position": null,
            "order": null,
            "overflow": null,
            "overflow_x": null,
            "overflow_y": null,
            "padding": null,
            "right": null,
            "top": null,
            "visibility": null,
            "width": null
          }
        },
        "703414725e624dc6a2f3b29d1f371248": {
          "model_module": "@jupyter-widgets/base",
          "model_module_version": "1.2.0",
          "model_name": "LayoutModel",
          "state": {
            "_model_module": "@jupyter-widgets/base",
            "_model_module_version": "1.2.0",
            "_model_name": "LayoutModel",
            "_view_count": null,
            "_view_module": "@jupyter-widgets/base",
            "_view_module_version": "1.2.0",
            "_view_name": "LayoutView",
            "align_content": null,
            "align_items": null,
            "align_self": null,
            "border": null,
            "bottom": null,
            "display": null,
            "flex": null,
            "flex_flow": null,
            "grid_area": null,
            "grid_auto_columns": null,
            "grid_auto_flow": null,
            "grid_auto_rows": null,
            "grid_column": null,
            "grid_gap": null,
            "grid_row": null,
            "grid_template_areas": null,
            "grid_template_columns": null,
            "grid_template_rows": null,
            "height": null,
            "justify_content": null,
            "justify_items": null,
            "left": null,
            "margin": null,
            "max_height": null,
            "max_width": null,
            "min_height": null,
            "min_width": null,
            "object_fit": null,
            "object_position": null,
            "order": null,
            "overflow": null,
            "overflow_x": null,
            "overflow_y": null,
            "padding": null,
            "right": null,
            "top": null,
            "visibility": null,
            "width": null
          }
        },
        "75250805909f4309a688384c760a0d52": {
          "model_module": "@jupyter-widgets/controls",
          "model_module_version": "1.5.0",
          "model_name": "HTMLModel",
          "state": {
            "_dom_classes": [],
            "_model_module": "@jupyter-widgets/controls",
            "_model_module_version": "1.5.0",
            "_model_name": "HTMLModel",
            "_view_count": null,
            "_view_module": "@jupyter-widgets/controls",
            "_view_module_version": "1.5.0",
            "_view_name": "HTMLView",
            "description": "",
            "description_tooltip": null,
            "layout": "IPY_MODEL_44390fe447c9490986f709e5f0fb9de2",
            "placeholder": "​",
            "style": "IPY_MODEL_2508db4b9a87436488f848dd1f0bed60",
            "value": "model.safetensors: 100%"
          }
        },
        "775fb68f923448968b94dccfdb61754b": {
          "model_module": "@jupyter-widgets/controls",
          "model_module_version": "1.5.0",
          "model_name": "ProgressStyleModel",
          "state": {
            "_model_module": "@jupyter-widgets/controls",
            "_model_module_version": "1.5.0",
            "_model_name": "ProgressStyleModel",
            "_view_count": null,
            "_view_module": "@jupyter-widgets/base",
            "_view_module_version": "1.2.0",
            "_view_name": "StyleView",
            "bar_color": null,
            "description_width": ""
          }
        },
        "7894c39f8c344cb98c731bb90abf3e08": {
          "model_module": "@jupyter-widgets/base",
          "model_module_version": "1.2.0",
          "model_name": "LayoutModel",
          "state": {
            "_model_module": "@jupyter-widgets/base",
            "_model_module_version": "1.2.0",
            "_model_name": "LayoutModel",
            "_view_count": null,
            "_view_module": "@jupyter-widgets/base",
            "_view_module_version": "1.2.0",
            "_view_name": "LayoutView",
            "align_content": null,
            "align_items": null,
            "align_self": null,
            "border": null,
            "bottom": null,
            "display": null,
            "flex": null,
            "flex_flow": null,
            "grid_area": null,
            "grid_auto_columns": null,
            "grid_auto_flow": null,
            "grid_auto_rows": null,
            "grid_column": null,
            "grid_gap": null,
            "grid_row": null,
            "grid_template_areas": null,
            "grid_template_columns": null,
            "grid_template_rows": null,
            "height": null,
            "justify_content": null,
            "justify_items": null,
            "left": null,
            "margin": null,
            "max_height": null,
            "max_width": null,
            "min_height": null,
            "min_width": null,
            "object_fit": null,
            "object_position": null,
            "order": null,
            "overflow": null,
            "overflow_x": null,
            "overflow_y": null,
            "padding": null,
            "right": null,
            "top": null,
            "visibility": null,
            "width": null
          }
        },
        "7ef3576f3b854963b0ccc0611e287426": {
          "model_module": "@jupyter-widgets/base",
          "model_module_version": "1.2.0",
          "model_name": "LayoutModel",
          "state": {
            "_model_module": "@jupyter-widgets/base",
            "_model_module_version": "1.2.0",
            "_model_name": "LayoutModel",
            "_view_count": null,
            "_view_module": "@jupyter-widgets/base",
            "_view_module_version": "1.2.0",
            "_view_name": "LayoutView",
            "align_content": null,
            "align_items": null,
            "align_self": null,
            "border": null,
            "bottom": null,
            "display": null,
            "flex": null,
            "flex_flow": null,
            "grid_area": null,
            "grid_auto_columns": null,
            "grid_auto_flow": null,
            "grid_auto_rows": null,
            "grid_column": null,
            "grid_gap": null,
            "grid_row": null,
            "grid_template_areas": null,
            "grid_template_columns": null,
            "grid_template_rows": null,
            "height": null,
            "justify_content": null,
            "justify_items": null,
            "left": null,
            "margin": null,
            "max_height": null,
            "max_width": null,
            "min_height": null,
            "min_width": null,
            "object_fit": null,
            "object_position": null,
            "order": null,
            "overflow": null,
            "overflow_x": null,
            "overflow_y": null,
            "padding": null,
            "right": null,
            "top": null,
            "visibility": null,
            "width": null
          }
        },
        "7fad615768e94f15823996f5ed0104e9": {
          "model_module": "@jupyter-widgets/controls",
          "model_module_version": "1.5.0",
          "model_name": "HBoxModel",
          "state": {
            "_dom_classes": [],
            "_model_module": "@jupyter-widgets/controls",
            "_model_module_version": "1.5.0",
            "_model_name": "HBoxModel",
            "_view_count": null,
            "_view_module": "@jupyter-widgets/controls",
            "_view_module_version": "1.5.0",
            "_view_name": "HBoxView",
            "box_style": "",
            "children": [
              "IPY_MODEL_2e4d025ffb6b4e8e80ed16ed418701b8",
              "IPY_MODEL_f2062c93eee04f5382a97181d86270f7",
              "IPY_MODEL_4ea243f7b9f94b33af453b5d2e1d62ff"
            ],
            "layout": "IPY_MODEL_5467e720aa0d45c4a831f321abfaebb4"
          }
        },
        "848765e1d9aa43c2abfb9719d36a123f": {
          "model_module": "@jupyter-widgets/controls",
          "model_module_version": "1.5.0",
          "model_name": "DescriptionStyleModel",
          "state": {
            "_model_module": "@jupyter-widgets/controls",
            "_model_module_version": "1.5.0",
            "_model_name": "DescriptionStyleModel",
            "_view_count": null,
            "_view_module": "@jupyter-widgets/base",
            "_view_module_version": "1.2.0",
            "_view_name": "StyleView",
            "description_width": ""
          }
        },
        "8f9fdc149cce4ce582f33e97788211a8": {
          "model_module": "@jupyter-widgets/controls",
          "model_module_version": "1.5.0",
          "model_name": "FloatProgressModel",
          "state": {
            "_dom_classes": [],
            "_model_module": "@jupyter-widgets/controls",
            "_model_module_version": "1.5.0",
            "_model_name": "FloatProgressModel",
            "_view_count": null,
            "_view_module": "@jupyter-widgets/controls",
            "_view_module_version": "1.5.0",
            "_view_name": "ProgressView",
            "bar_style": "success",
            "description": "",
            "description_tooltip": null,
            "layout": "IPY_MODEL_d2587d3a40e943f5bbae95d01fe837c2",
            "max": 535,
            "min": 0,
            "orientation": "horizontal",
            "style": "IPY_MODEL_0535c13f5e8249e5aef932245c706956",
            "value": 535
          }
        },
        "97286c6ada8249078e9c15eab9cddc3c": {
          "model_module": "@jupyter-widgets/base",
          "model_module_version": "1.2.0",
          "model_name": "LayoutModel",
          "state": {
            "_model_module": "@jupyter-widgets/base",
            "_model_module_version": "1.2.0",
            "_model_name": "LayoutModel",
            "_view_count": null,
            "_view_module": "@jupyter-widgets/base",
            "_view_module_version": "1.2.0",
            "_view_name": "LayoutView",
            "align_content": null,
            "align_items": null,
            "align_self": null,
            "border": null,
            "bottom": null,
            "display": null,
            "flex": null,
            "flex_flow": null,
            "grid_area": null,
            "grid_auto_columns": null,
            "grid_auto_flow": null,
            "grid_auto_rows": null,
            "grid_column": null,
            "grid_gap": null,
            "grid_row": null,
            "grid_template_areas": null,
            "grid_template_columns": null,
            "grid_template_rows": null,
            "height": null,
            "justify_content": null,
            "justify_items": null,
            "left": null,
            "margin": null,
            "max_height": null,
            "max_width": null,
            "min_height": null,
            "min_width": null,
            "object_fit": null,
            "object_position": null,
            "order": null,
            "overflow": null,
            "overflow_x": null,
            "overflow_y": null,
            "padding": null,
            "right": null,
            "top": null,
            "visibility": null,
            "width": null
          }
        },
        "9bfc00396e1248fcb5aafaada3f86632": {
          "model_module": "@jupyter-widgets/controls",
          "model_module_version": "1.5.0",
          "model_name": "DescriptionStyleModel",
          "state": {
            "_model_module": "@jupyter-widgets/controls",
            "_model_module_version": "1.5.0",
            "_model_name": "DescriptionStyleModel",
            "_view_count": null,
            "_view_module": "@jupyter-widgets/base",
            "_view_module_version": "1.2.0",
            "_view_name": "StyleView",
            "description_width": ""
          }
        },
        "a4d56ea307944093b00ec4eaa0e882e1": {
          "model_module": "@jupyter-widgets/controls",
          "model_module_version": "1.5.0",
          "model_name": "HTMLModel",
          "state": {
            "_dom_classes": [],
            "_model_module": "@jupyter-widgets/controls",
            "_model_module_version": "1.5.0",
            "_model_name": "HTMLModel",
            "_view_count": null,
            "_view_module": "@jupyter-widgets/controls",
            "_view_module_version": "1.5.0",
            "_view_name": "HTMLView",
            "description": "",
            "description_tooltip": null,
            "layout": "IPY_MODEL_c20ce99aa51d4b08bbf2af545f270c22",
            "placeholder": "​",
            "style": "IPY_MODEL_bb3c7023815d4e5d9712322a19ddb301",
            "value": " 244/244 [00:00&lt;00:00, 24.7kB/s]"
          }
        },
        "acdd5713e7674132963520abf9791ec2": {
          "model_module": "@jupyter-widgets/base",
          "model_module_version": "1.2.0",
          "model_name": "LayoutModel",
          "state": {
            "_model_module": "@jupyter-widgets/base",
            "_model_module_version": "1.2.0",
            "_model_name": "LayoutModel",
            "_view_count": null,
            "_view_module": "@jupyter-widgets/base",
            "_view_module_version": "1.2.0",
            "_view_name": "LayoutView",
            "align_content": null,
            "align_items": null,
            "align_self": null,
            "border": null,
            "bottom": null,
            "display": null,
            "flex": null,
            "flex_flow": null,
            "grid_area": null,
            "grid_auto_columns": null,
            "grid_auto_flow": null,
            "grid_auto_rows": null,
            "grid_column": null,
            "grid_gap": null,
            "grid_row": null,
            "grid_template_areas": null,
            "grid_template_columns": null,
            "grid_template_rows": null,
            "height": null,
            "justify_content": null,
            "justify_items": null,
            "left": null,
            "margin": null,
            "max_height": null,
            "max_width": null,
            "min_height": null,
            "min_width": null,
            "object_fit": null,
            "object_position": null,
            "order": null,
            "overflow": null,
            "overflow_x": null,
            "overflow_y": null,
            "padding": null,
            "right": null,
            "top": null,
            "visibility": null,
            "width": null
          }
        },
        "b5574d072a4947f89f228d21a7e44d02": {
          "model_module": "@jupyter-widgets/controls",
          "model_module_version": "1.5.0",
          "model_name": "ProgressStyleModel",
          "state": {
            "_model_module": "@jupyter-widgets/controls",
            "_model_module_version": "1.5.0",
            "_model_name": "ProgressStyleModel",
            "_view_count": null,
            "_view_module": "@jupyter-widgets/base",
            "_view_module_version": "1.2.0",
            "_view_name": "StyleView",
            "bar_color": null,
            "description_width": ""
          }
        },
        "ba57f66edec543c7b599690ab4e6f3d9": {
          "model_module": "@jupyter-widgets/controls",
          "model_module_version": "1.5.0",
          "model_name": "HTMLModel",
          "state": {
            "_dom_classes": [],
            "_model_module": "@jupyter-widgets/controls",
            "_model_module_version": "1.5.0",
            "_model_name": "HTMLModel",
            "_view_count": null,
            "_view_module": "@jupyter-widgets/controls",
            "_view_module_version": "1.5.0",
            "_view_name": "HTMLView",
            "description": "",
            "description_tooltip": null,
            "layout": "IPY_MODEL_6eeafa59c8004b52b9bf2c9f3a44c125",
            "placeholder": "​",
            "style": "IPY_MODEL_43fb0456ea644f9998670eb67c86f51a",
            "value": " 371k/371k [00:00&lt;00:00, 876kB/s]"
          }
        },
        "bb3c7023815d4e5d9712322a19ddb301": {
          "model_module": "@jupyter-widgets/controls",
          "model_module_version": "1.5.0",
          "model_name": "DescriptionStyleModel",
          "state": {
            "_model_module": "@jupyter-widgets/controls",
            "_model_module_version": "1.5.0",
            "_model_name": "DescriptionStyleModel",
            "_view_count": null,
            "_view_module": "@jupyter-widgets/base",
            "_view_module_version": "1.2.0",
            "_view_name": "StyleView",
            "description_width": ""
          }
        },
        "c20ce99aa51d4b08bbf2af545f270c22": {
          "model_module": "@jupyter-widgets/base",
          "model_module_version": "1.2.0",
          "model_name": "LayoutModel",
          "state": {
            "_model_module": "@jupyter-widgets/base",
            "_model_module_version": "1.2.0",
            "_model_name": "LayoutModel",
            "_view_count": null,
            "_view_module": "@jupyter-widgets/base",
            "_view_module_version": "1.2.0",
            "_view_name": "LayoutView",
            "align_content": null,
            "align_items": null,
            "align_self": null,
            "border": null,
            "bottom": null,
            "display": null,
            "flex": null,
            "flex_flow": null,
            "grid_area": null,
            "grid_auto_columns": null,
            "grid_auto_flow": null,
            "grid_auto_rows": null,
            "grid_column": null,
            "grid_gap": null,
            "grid_row": null,
            "grid_template_areas": null,
            "grid_template_columns": null,
            "grid_template_rows": null,
            "height": null,
            "justify_content": null,
            "justify_items": null,
            "left": null,
            "margin": null,
            "max_height": null,
            "max_width": null,
            "min_height": null,
            "min_width": null,
            "object_fit": null,
            "object_position": null,
            "order": null,
            "overflow": null,
            "overflow_x": null,
            "overflow_y": null,
            "padding": null,
            "right": null,
            "top": null,
            "visibility": null,
            "width": null
          }
        },
        "c2fd85f3c5af4c9e82761a985dd3e016": {
          "model_module": "@jupyter-widgets/base",
          "model_module_version": "1.2.0",
          "model_name": "LayoutModel",
          "state": {
            "_model_module": "@jupyter-widgets/base",
            "_model_module_version": "1.2.0",
            "_model_name": "LayoutModel",
            "_view_count": null,
            "_view_module": "@jupyter-widgets/base",
            "_view_module_version": "1.2.0",
            "_view_name": "LayoutView",
            "align_content": null,
            "align_items": null,
            "align_self": null,
            "border": null,
            "bottom": null,
            "display": null,
            "flex": null,
            "flex_flow": null,
            "grid_area": null,
            "grid_auto_columns": null,
            "grid_auto_flow": null,
            "grid_auto_rows": null,
            "grid_column": null,
            "grid_gap": null,
            "grid_row": null,
            "grid_template_areas": null,
            "grid_template_columns": null,
            "grid_template_rows": null,
            "height": null,
            "justify_content": null,
            "justify_items": null,
            "left": null,
            "margin": null,
            "max_height": null,
            "max_width": null,
            "min_height": null,
            "min_width": null,
            "object_fit": null,
            "object_position": null,
            "order": null,
            "overflow": null,
            "overflow_x": null,
            "overflow_y": null,
            "padding": null,
            "right": null,
            "top": null,
            "visibility": null,
            "width": null
          }
        },
        "cc732b7ccd5149f8b33b4eec9e15de55": {
          "model_module": "@jupyter-widgets/controls",
          "model_module_version": "1.5.0",
          "model_name": "HTMLModel",
          "state": {
            "_dom_classes": [],
            "_model_module": "@jupyter-widgets/controls",
            "_model_module_version": "1.5.0",
            "_model_name": "HTMLModel",
            "_view_count": null,
            "_view_module": "@jupyter-widgets/controls",
            "_view_module_version": "1.5.0",
            "_view_name": "HTMLView",
            "description": "",
            "description_tooltip": null,
            "layout": "IPY_MODEL_22208ea4e9d64e36aefbe731916b7b94",
            "placeholder": "​",
            "style": "IPY_MODEL_ef8526c65ac34726b0c99b45976159e5",
            "value": " 369M/369M [00:01&lt;00:00, 249MB/s]"
          }
        },
        "cd22847395014163b6a0c6cbbca78782": {
          "model_module": "@jupyter-widgets/controls",
          "model_module_version": "1.5.0",
          "model_name": "FloatProgressModel",
          "state": {
            "_dom_classes": [],
            "_model_module": "@jupyter-widgets/controls",
            "_model_module_version": "1.5.0",
            "_model_name": "FloatProgressModel",
            "_view_count": null,
            "_view_module": "@jupyter-widgets/controls",
            "_view_module_version": "1.5.0",
            "_view_name": "ProgressView",
            "bar_style": "success",
            "description": "",
            "description_tooltip": null,
            "layout": "IPY_MODEL_50ca50547faf4311873303ffa0c423f6",
            "max": 244,
            "min": 0,
            "orientation": "horizontal",
            "style": "IPY_MODEL_487bd16782294d8daccd7f68f7e207ae",
            "value": 244
          }
        },
        "d2587d3a40e943f5bbae95d01fe837c2": {
          "model_module": "@jupyter-widgets/base",
          "model_module_version": "1.2.0",
          "model_name": "LayoutModel",
          "state": {
            "_model_module": "@jupyter-widgets/base",
            "_model_module_version": "1.2.0",
            "_model_name": "LayoutModel",
            "_view_count": null,
            "_view_module": "@jupyter-widgets/base",
            "_view_module_version": "1.2.0",
            "_view_name": "LayoutView",
            "align_content": null,
            "align_items": null,
            "align_self": null,
            "border": null,
            "bottom": null,
            "display": null,
            "flex": null,
            "flex_flow": null,
            "grid_area": null,
            "grid_auto_columns": null,
            "grid_auto_flow": null,
            "grid_auto_rows": null,
            "grid_column": null,
            "grid_gap": null,
            "grid_row": null,
            "grid_template_areas": null,
            "grid_template_columns": null,
            "grid_template_rows": null,
            "height": null,
            "justify_content": null,
            "justify_items": null,
            "left": null,
            "margin": null,
            "max_height": null,
            "max_width": null,
            "min_height": null,
            "min_width": null,
            "object_fit": null,
            "object_position": null,
            "order": null,
            "overflow": null,
            "overflow_x": null,
            "overflow_y": null,
            "padding": null,
            "right": null,
            "top": null,
            "visibility": null,
            "width": null
          }
        },
        "d42da761e73b4aeab405fb5fbd78374c": {
          "model_module": "@jupyter-widgets/controls",
          "model_module_version": "1.5.0",
          "model_name": "HBoxModel",
          "state": {
            "_dom_classes": [],
            "_model_module": "@jupyter-widgets/controls",
            "_model_module_version": "1.5.0",
            "_model_name": "HBoxModel",
            "_view_count": null,
            "_view_module": "@jupyter-widgets/controls",
            "_view_module_version": "1.5.0",
            "_view_name": "HBoxView",
            "box_style": "",
            "children": [
              "IPY_MODEL_5f648c37a4f143d1ac1699760e6eca44",
              "IPY_MODEL_cd22847395014163b6a0c6cbbca78782",
              "IPY_MODEL_a4d56ea307944093b00ec4eaa0e882e1"
            ],
            "layout": "IPY_MODEL_eca22506c6e6488d8437b297bc838c0c"
          }
        },
        "d63406735b924bbea64a121507a3117e": {
          "model_module": "@jupyter-widgets/base",
          "model_module_version": "1.2.0",
          "model_name": "LayoutModel",
          "state": {
            "_model_module": "@jupyter-widgets/base",
            "_model_module_version": "1.2.0",
            "_model_name": "LayoutModel",
            "_view_count": null,
            "_view_module": "@jupyter-widgets/base",
            "_view_module_version": "1.2.0",
            "_view_name": "LayoutView",
            "align_content": null,
            "align_items": null,
            "align_self": null,
            "border": null,
            "bottom": null,
            "display": null,
            "flex": null,
            "flex_flow": null,
            "grid_area": null,
            "grid_auto_columns": null,
            "grid_auto_flow": null,
            "grid_auto_rows": null,
            "grid_column": null,
            "grid_gap": null,
            "grid_row": null,
            "grid_template_areas": null,
            "grid_template_columns": null,
            "grid_template_rows": null,
            "height": null,
            "justify_content": null,
            "justify_items": null,
            "left": null,
            "margin": null,
            "max_height": null,
            "max_width": null,
            "min_height": null,
            "min_width": null,
            "object_fit": null,
            "object_position": null,
            "order": null,
            "overflow": null,
            "overflow_x": null,
            "overflow_y": null,
            "padding": null,
            "right": null,
            "top": null,
            "visibility": null,
            "width": null
          }
        },
        "d78866c562424da09db6fc02399f8896": {
          "model_module": "@jupyter-widgets/controls",
          "model_module_version": "1.5.0",
          "model_name": "HTMLModel",
          "state": {
            "_dom_classes": [],
            "_model_module": "@jupyter-widgets/controls",
            "_model_module_version": "1.5.0",
            "_model_name": "HTMLModel",
            "_view_count": null,
            "_view_module": "@jupyter-widgets/controls",
            "_view_module_version": "1.5.0",
            "_view_name": "HTMLView",
            "description": "",
            "description_tooltip": null,
            "layout": "IPY_MODEL_acdd5713e7674132963520abf9791ec2",
            "placeholder": "​",
            "style": "IPY_MODEL_008da5b447bc433a97945931176974a3",
            "value": " 432/432 [00:00&lt;00:00, 35.9kB/s]"
          }
        },
        "dc158856590f474d8b9bf88fa8174fd2": {
          "model_module": "@jupyter-widgets/controls",
          "model_module_version": "1.5.0",
          "model_name": "HTMLModel",
          "state": {
            "_dom_classes": [],
            "_model_module": "@jupyter-widgets/controls",
            "_model_module_version": "1.5.0",
            "_model_name": "HTMLModel",
            "_view_count": null,
            "_view_module": "@jupyter-widgets/controls",
            "_view_module_version": "1.5.0",
            "_view_name": "HTMLView",
            "description": "",
            "description_tooltip": null,
            "layout": "IPY_MODEL_c2fd85f3c5af4c9e82761a985dd3e016",
            "placeholder": "​",
            "style": "IPY_MODEL_e23132d842f9437dbecc862e91e4b62a",
            "value": "tokenizer_config.json: 100%"
          }
        },
        "dd0154b771594ddaa31f6c67829dc7e1": {
          "model_module": "@jupyter-widgets/controls",
          "model_module_version": "1.5.0",
          "model_name": "DescriptionStyleModel",
          "state": {
            "_model_module": "@jupyter-widgets/controls",
            "_model_module_version": "1.5.0",
            "_model_name": "DescriptionStyleModel",
            "_view_count": null,
            "_view_module": "@jupyter-widgets/base",
            "_view_module_version": "1.2.0",
            "_view_name": "StyleView",
            "description_width": ""
          }
        },
        "e1611e94ca784698a7203b4740fda090": {
          "model_module": "@jupyter-widgets/controls",
          "model_module_version": "1.5.0",
          "model_name": "HBoxModel",
          "state": {
            "_dom_classes": [],
            "_model_module": "@jupyter-widgets/controls",
            "_model_module_version": "1.5.0",
            "_model_name": "HBoxModel",
            "_view_count": null,
            "_view_module": "@jupyter-widgets/controls",
            "_view_module_version": "1.5.0",
            "_view_name": "HBoxView",
            "box_style": "",
            "children": [
              "IPY_MODEL_75250805909f4309a688384c760a0d52",
              "IPY_MODEL_5a157d97232c414abf0d23fcfeec39e0",
              "IPY_MODEL_cc732b7ccd5149f8b33b4eec9e15de55"
            ],
            "layout": "IPY_MODEL_97286c6ada8249078e9c15eab9cddc3c"
          }
        },
        "e1d6810d1f9c46c5939400ca2bdc61b6": {
          "model_module": "@jupyter-widgets/base",
          "model_module_version": "1.2.0",
          "model_name": "LayoutModel",
          "state": {
            "_model_module": "@jupyter-widgets/base",
            "_model_module_version": "1.2.0",
            "_model_name": "LayoutModel",
            "_view_count": null,
            "_view_module": "@jupyter-widgets/base",
            "_view_module_version": "1.2.0",
            "_view_name": "LayoutView",
            "align_content": null,
            "align_items": null,
            "align_self": null,
            "border": null,
            "bottom": null,
            "display": null,
            "flex": null,
            "flex_flow": null,
            "grid_area": null,
            "grid_auto_columns": null,
            "grid_auto_flow": null,
            "grid_auto_rows": null,
            "grid_column": null,
            "grid_gap": null,
            "grid_row": null,
            "grid_template_areas": null,
            "grid_template_columns": null,
            "grid_template_rows": null,
            "height": null,
            "justify_content": null,
            "justify_items": null,
            "left": null,
            "margin": null,
            "max_height": null,
            "max_width": null,
            "min_height": null,
            "min_width": null,
            "object_fit": null,
            "object_position": null,
            "order": null,
            "overflow": null,
            "overflow_x": null,
            "overflow_y": null,
            "padding": null,
            "right": null,
            "top": null,
            "visibility": null,
            "width": null
          }
        },
        "e23132d842f9437dbecc862e91e4b62a": {
          "model_module": "@jupyter-widgets/controls",
          "model_module_version": "1.5.0",
          "model_name": "DescriptionStyleModel",
          "state": {
            "_model_module": "@jupyter-widgets/controls",
            "_model_module_version": "1.5.0",
            "_model_name": "DescriptionStyleModel",
            "_view_count": null,
            "_view_module": "@jupyter-widgets/base",
            "_view_module_version": "1.2.0",
            "_view_name": "StyleView",
            "description_width": ""
          }
        },
        "e4e2cbcc46664b569b12379fec83bd62": {
          "model_module": "@jupyter-widgets/controls",
          "model_module_version": "1.5.0",
          "model_name": "DescriptionStyleModel",
          "state": {
            "_model_module": "@jupyter-widgets/controls",
            "_model_module_version": "1.5.0",
            "_model_name": "DescriptionStyleModel",
            "_view_count": null,
            "_view_module": "@jupyter-widgets/base",
            "_view_module_version": "1.2.0",
            "_view_name": "StyleView",
            "description_width": ""
          }
        },
        "e863664c384b45a6af02c3d291803571": {
          "model_module": "@jupyter-widgets/base",
          "model_module_version": "1.2.0",
          "model_name": "LayoutModel",
          "state": {
            "_model_module": "@jupyter-widgets/base",
            "_model_module_version": "1.2.0",
            "_model_name": "LayoutModel",
            "_view_count": null,
            "_view_module": "@jupyter-widgets/base",
            "_view_module_version": "1.2.0",
            "_view_name": "LayoutView",
            "align_content": null,
            "align_items": null,
            "align_self": null,
            "border": null,
            "bottom": null,
            "display": null,
            "flex": null,
            "flex_flow": null,
            "grid_area": null,
            "grid_auto_columns": null,
            "grid_auto_flow": null,
            "grid_auto_rows": null,
            "grid_column": null,
            "grid_gap": null,
            "grid_row": null,
            "grid_template_areas": null,
            "grid_template_columns": null,
            "grid_template_rows": null,
            "height": null,
            "justify_content": null,
            "justify_items": null,
            "left": null,
            "margin": null,
            "max_height": null,
            "max_width": null,
            "min_height": null,
            "min_width": null,
            "object_fit": null,
            "object_position": null,
            "order": null,
            "overflow": null,
            "overflow_x": null,
            "overflow_y": null,
            "padding": null,
            "right": null,
            "top": null,
            "visibility": null,
            "width": null
          }
        },
        "e8e7bebfec794ff2baf7d9faf456b05f": {
          "model_module": "@jupyter-widgets/controls",
          "model_module_version": "1.5.0",
          "model_name": "HTMLModel",
          "state": {
            "_dom_classes": [],
            "_model_module": "@jupyter-widgets/controls",
            "_model_module_version": "1.5.0",
            "_model_name": "HTMLModel",
            "_view_count": null,
            "_view_module": "@jupyter-widgets/controls",
            "_view_module_version": "1.5.0",
            "_view_name": "HTMLView",
            "description": "",
            "description_tooltip": null,
            "layout": "IPY_MODEL_efa9c029b0794e839fae948b89a6e0c1",
            "placeholder": "​",
            "style": "IPY_MODEL_848765e1d9aa43c2abfb9719d36a123f",
            "value": "spiece.model: 100%"
          }
        },
        "eca22506c6e6488d8437b297bc838c0c": {
          "model_module": "@jupyter-widgets/base",
          "model_module_version": "1.2.0",
          "model_name": "LayoutModel",
          "state": {
            "_model_module": "@jupyter-widgets/base",
            "_model_module_version": "1.2.0",
            "_model_name": "LayoutModel",
            "_view_count": null,
            "_view_module": "@jupyter-widgets/base",
            "_view_module_version": "1.2.0",
            "_view_name": "LayoutView",
            "align_content": null,
            "align_items": null,
            "align_self": null,
            "border": null,
            "bottom": null,
            "display": null,
            "flex": null,
            "flex_flow": null,
            "grid_area": null,
            "grid_auto_columns": null,
            "grid_auto_flow": null,
            "grid_auto_rows": null,
            "grid_column": null,
            "grid_gap": null,
            "grid_row": null,
            "grid_template_areas": null,
            "grid_template_columns": null,
            "grid_template_rows": null,
            "height": null,
            "justify_content": null,
            "justify_items": null,
            "left": null,
            "margin": null,
            "max_height": null,
            "max_width": null,
            "min_height": null,
            "min_width": null,
            "object_fit": null,
            "object_position": null,
            "order": null,
            "overflow": null,
            "overflow_x": null,
            "overflow_y": null,
            "padding": null,
            "right": null,
            "top": null,
            "visibility": null,
            "width": null
          }
        },
        "ef8526c65ac34726b0c99b45976159e5": {
          "model_module": "@jupyter-widgets/controls",
          "model_module_version": "1.5.0",
          "model_name": "DescriptionStyleModel",
          "state": {
            "_model_module": "@jupyter-widgets/controls",
            "_model_module_version": "1.5.0",
            "_model_name": "DescriptionStyleModel",
            "_view_count": null,
            "_view_module": "@jupyter-widgets/base",
            "_view_module_version": "1.2.0",
            "_view_name": "StyleView",
            "description_width": ""
          }
        },
        "efa9c029b0794e839fae948b89a6e0c1": {
          "model_module": "@jupyter-widgets/base",
          "model_module_version": "1.2.0",
          "model_name": "LayoutModel",
          "state": {
            "_model_module": "@jupyter-widgets/base",
            "_model_module_version": "1.2.0",
            "_model_name": "LayoutModel",
            "_view_count": null,
            "_view_module": "@jupyter-widgets/base",
            "_view_module_version": "1.2.0",
            "_view_name": "LayoutView",
            "align_content": null,
            "align_items": null,
            "align_self": null,
            "border": null,
            "bottom": null,
            "display": null,
            "flex": null,
            "flex_flow": null,
            "grid_area": null,
            "grid_auto_columns": null,
            "grid_auto_flow": null,
            "grid_auto_rows": null,
            "grid_column": null,
            "grid_gap": null,
            "grid_row": null,
            "grid_template_areas": null,
            "grid_template_columns": null,
            "grid_template_rows": null,
            "height": null,
            "justify_content": null,
            "justify_items": null,
            "left": null,
            "margin": null,
            "max_height": null,
            "max_width": null,
            "min_height": null,
            "min_width": null,
            "object_fit": null,
            "object_position": null,
            "order": null,
            "overflow": null,
            "overflow_x": null,
            "overflow_y": null,
            "padding": null,
            "right": null,
            "top": null,
            "visibility": null,
            "width": null
          }
        },
        "f2062c93eee04f5382a97181d86270f7": {
          "model_module": "@jupyter-widgets/controls",
          "model_module_version": "1.5.0",
          "model_name": "FloatProgressModel",
          "state": {
            "_dom_classes": [],
            "_model_module": "@jupyter-widgets/controls",
            "_model_module_version": "1.5.0",
            "_model_name": "FloatProgressModel",
            "_view_count": null,
            "_view_module": "@jupyter-widgets/controls",
            "_view_module_version": "1.5.0",
            "_view_name": "ProgressView",
            "bar_style": "success",
            "description": "",
            "description_tooltip": null,
            "layout": "IPY_MODEL_e863664c384b45a6af02c3d291803571",
            "max": 368792544,
            "min": 0,
            "orientation": "horizontal",
            "style": "IPY_MODEL_2401a653399c4285bbc7788fb6c39b86",
            "value": 368792544
          }
        },
        "ffcc667d1c3b408ebe685599728d9069": {
          "model_module": "@jupyter-widgets/controls",
          "model_module_version": "1.5.0",
          "model_name": "ProgressStyleModel",
          "state": {
            "_model_module": "@jupyter-widgets/controls",
            "_model_module_version": "1.5.0",
            "_model_name": "ProgressStyleModel",
            "_view_count": null,
            "_view_module": "@jupyter-widgets/base",
            "_view_module_version": "1.2.0",
            "_view_name": "StyleView",
            "bar_color": null,
            "description_width": ""
          }
        },
        "fff15ecdd22a4f6ea86574e001e3f005": {
          "model_module": "@jupyter-widgets/controls",
          "model_module_version": "1.5.0",
          "model_name": "HBoxModel",
          "state": {
            "_dom_classes": [],
            "_model_module": "@jupyter-widgets/controls",
            "_model_module_version": "1.5.0",
            "_model_name": "HBoxModel",
            "_view_count": null,
            "_view_module": "@jupyter-widgets/controls",
            "_view_module_version": "1.5.0",
            "_view_name": "HBoxView",
            "box_style": "",
            "children": [
              "IPY_MODEL_dc158856590f474d8b9bf88fa8174fd2",
              "IPY_MODEL_32c911610c4a46a0b6a9b1018bf2ecd4",
              "IPY_MODEL_d78866c562424da09db6fc02399f8896"
            ],
            "layout": "IPY_MODEL_d63406735b924bbea64a121507a3117e"
          }
        }
      }
    }
  },
  "nbformat": 4,
  "nbformat_minor": 0
}